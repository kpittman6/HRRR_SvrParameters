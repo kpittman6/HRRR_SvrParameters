{
 "cells": [
  {
   "cell_type": "code",
   "execution_count": 56,
   "id": "b8f54b2c",
   "metadata": {},
   "outputs": [],
   "source": [
    "import geopy.distance\n",
    "from geopy.distance import geodesic\n",
    "import s3fs\n",
    "import xarray as xr\n",
    "\n",
    "import os.path\n",
    "import os\n",
    "import sys\n",
    "\n",
    "from datetime import datetime, timedelta\n",
    "import dataclasses\n",
    "from siphon.cdmr import Dataset\n",
    "import numpy as np\n",
    "import numpy.ma as ma\n",
    "import netCDF4\n",
    "\n",
    "from siphon.catalog import TDSCatalog\n",
    "from siphon.ncss import NCSS\n",
    "\n",
    "from metpy.calc import (bunkers_storm_motion, bulk_shear, dewpoint, dewpoint_from_relative_humidity, dry_lapse, moist_lapse,\n",
    "                        vapor_pressure, saturation_vapor_pressure, wind_speed, wind_direction, pressure_to_height_std,\n",
    "                        mixing_ratio, cape_cin, wind_components, height_to_pressure_std, equivalent_potential_temperature,\n",
    "                        parcel_profile, precipitable_water, storm_relative_helicity, mean_pressure_weighted, \n",
    "                        most_unstable_cape_cin, most_unstable_parcel, supercell_composite, significant_tornado, get_layer,\n",
    "                        relative_humidity_from_dewpoint, surface_based_cape_cin, mixed_layer_cape_cin,\n",
    "                        surface_based_cape_cin, potential_temperature, wind_direction, add_pressure_to_height,\n",
    "                        add_height_to_pressure, divergence, vorticity, lat_lon_grid_deltas, mixed_parcel,\n",
    "                        most_unstable_parcel, lcl, lfc, mixing_ratio_from_relative_humidity, el,  cape_cin,\n",
    "                        height_to_pressure_std, dewpoint_from_relative_humidity, dewpoint_from_specific_humidity,\n",
    "                        relative_humidity_from_specific_humidity, first_derivative)\n",
    "import metpy.calc as mpcalc\n",
    "from metpy.units import units\n",
    "from metpy.plots import SkewT, Hodograph\n",
    "from metpy.interpolate import interpolate_1d as metinterp, log_interpolate_1d\n",
    "from metpy.calc.tools import get_layer, get_layer_heights\n",
    "\n",
    "import sharppy\n",
    "import sharppy.sharptab.profile as profile\n",
    "import sharppy.sharptab.interp as interp\n",
    "import sharppy.sharptab.winds as winds\n",
    "import sharppy.sharptab.utils as utils\n",
    "import sharppy.sharptab.params as params\n",
    "import sharppy.sharptab.thermo as thermo\n",
    "\n",
    "from ecape.calc import calc_ecape\n",
    "\n",
    "import csv\n",
    "import pandas as pd\n",
    "import math\n",
    "import time"
   ]
  },
  {
   "cell_type": "code",
   "execution_count": 57,
   "id": "b8a00e55",
   "metadata": {},
   "outputs": [],
   "source": [
    "#https://citylikeamradio.github.io/ecape/html/index.html\n",
    "# SPDX-FileCopyrightText: 2023-present Robert Capella <bob.capella@gmail.com>\n",
    "# SPDX-License-Identifier: MIT\n",
    "\"\"\"Calculate the entraining CAPE (ECAPE) of a parcel\"\"\"\n",
    "from typing import Callable, Tuple\n",
    "\n",
    "import pint\n",
    "from metpy.constants import dry_air_spec_heat_press, earth_gravity\n",
    "from metpy.units import check_units, units\n",
    "\n",
    "PintList = np.typing.NDArray[pint.Quantity]\n",
    "\n",
    "def find_nearest(array, value):\n",
    "    array = np.asarray(array)\n",
    "    idx = (np.abs(array - value)).argmin()\n",
    "    return array[idx]\n",
    "\n",
    "@check_units(\"[pressure]\", \"[temperature]\", \"[temperature]\")\n",
    "def _get_parcel_profile(\n",
    "    pressure: PintList, temperature: PintList, dew_point_temperature: PintList, parcel_func: Callable = None\n",
    ") -> PintList:\n",
    "    \"\"\"\n",
    "    Retrieve a parcel's temperature profile.\n",
    "\n",
    "    Args:\n",
    "        pressure:\n",
    "            Total atmospheric pressure\n",
    "        temperature:\n",
    "            Air temperature\n",
    "        dew_point_temperature:\n",
    "            Dew point temperature\n",
    "        parcel_func:\n",
    "            parcel profile retrieval callable via MetPy\n",
    "\n",
    "    Returns:\n",
    "        parcel_profile\n",
    "\n",
    "    \"\"\"\n",
    "\n",
    "    # if surface-based, skip this process, None is default for lfc, el MetPy calcs\n",
    "    if parcel_func:\n",
    "        # calculate the parcel's starting temperature, then parcel temperature profile\n",
    "        parcel_p, parcel_t, parcel_td, *parcel_i = parcel_func(pressure, temperature, dew_point_temperature)\n",
    "        parcel_profile = mpcalc.parcel_profile(pressure, parcel_t, parcel_td)\n",
    "    else:\n",
    "        parcel_profile = None\n",
    "\n",
    "    return parcel_profile\n",
    "\n",
    "@check_units(\"[pressure]\", \"[length]\", \"[temperature]\", \"[temperature]\")\n",
    "def calc_lfc_height(\n",
    "    pressure: PintList, height_msl: PintList, temperature: PintList, dew_point_temperature: PintList, parcel_func: Callable\n",
    ") -> Tuple[int, pint.Quantity]:\n",
    "    \"\"\"\n",
    "    Retrieve a parcel's level of free convection (lfc).\n",
    "\n",
    "    Args:\n",
    "        pressure:\n",
    "            Total atmospheric pressure\n",
    "        height_msl:\n",
    "            Atmospheric heights at the levels given by 'pressure'.\n",
    "        temperature:\n",
    "            Air temperature\n",
    "        dew_point_temperature:\n",
    "            Dew point temperature\n",
    "        parcel_func:\n",
    "            parcel profile retrieval callable via MetPy\n",
    "\n",
    "    Returns:\n",
    "        lfc:\n",
    "            index of the last instance of negative buoyancy below the lfc\n",
    "        lfc_z:\n",
    "            height of the last instance of negative buoyancy below the lfc\n",
    "\n",
    "    \"\"\"\n",
    "\n",
    "    # calculate the parcel's temperature profile\n",
    "    parcel_profile = _get_parcel_profile(pressure, temperature, dew_point_temperature, parcel_func)\n",
    "\n",
    "    # calculate the lfc, select the appropriate index & associated height\n",
    "    lfc_p, lfc_t = mpcalc.lfc(pressure, temperature, dew_point_temperature, parcel_temperature_profile=parcel_profile)\n",
    "    \n",
    "    #press = np.round(np.asarray(P_sounding),8)\n",
    "    nearestLFC=find_nearest(np.asarray(pressure),lfc_p.magnitude)\n",
    "    lfc_idx = np.where(np.asarray(pressure)==nearestLFC)\n",
    "    lfc_idx=lfc_idx[0][0]\n",
    "    \n",
    "    #lfc_idx = (pressure - lfc_p > 0).nonzero()[0][-1]\n",
    "    lfc_z = height_msl[lfc_idx]\n",
    "\n",
    "    return lfc_idx, lfc_z\n",
    "\n",
    "@check_units(\"[pressure]\", \"[length]\", \"[temperature]\", \"[temperature]\")\n",
    "def calc_el_height(\n",
    "    pressure: PintList, height_msl: PintList, temperature: PintList, dew_point_temperature: PintList, parcel_func: Callable\n",
    ") -> Tuple[int, pint.Quantity]:\n",
    "    \"\"\"\n",
    "    Retrieve a parcel's equilibrium level (el).\n",
    "\n",
    "    Args:\n",
    "        pressure:\n",
    "            Total atmospheric pressure\n",
    "        height_msl:\n",
    "            Atmospheric heights at the levels given by 'pressure'.\n",
    "        temperature:\n",
    "            Air temperature\n",
    "        dew_point_temperature:\n",
    "            Dew point temperature\n",
    "        parcel_func:\n",
    "            parcel profile retrieval callable via MetPy\n",
    "\n",
    "    Returns:\n",
    "        el_idx:\n",
    "            index of the last instance of positive buoyancy below the el\n",
    "        el_z:\n",
    "            height of the last instance of positive buoyancy below the el\n",
    "\n",
    "    \"\"\"\n",
    "\n",
    "    # calculate the parcel's temperature profile\n",
    "    parcel_profile = _get_parcel_profile(pressure, temperature, dew_point_temperature, parcel_func)\n",
    "\n",
    "    # calculate the el, select the appropriate index & associated height\n",
    "    el_p, el_t = mpcalc.el(pressure, temperature, dew_point_temperature, parcel_temperature_profile=parcel_profile)\n",
    "    \n",
    "    #press = np.round(np.asarray(P_sounding),8)\n",
    "    #nearestEL=(find_nearest(press,el_p.magnitude))\n",
    "    #el_idx = np.where(press==nearestEL)\n",
    "    #el_idx=el_idx[0][0]\n",
    "    \n",
    "    nearestEL=find_nearest(np.asarray(pressure),el_p.magnitude)\n",
    "    el_idx = np.where(np.asarray(pressure)==nearestEL)\n",
    "    el_idx=el_idx[0][0]\n",
    "    \n",
    "    #el_idx = (pressure - el_p > 0).nonzero()[0][-1]\n",
    "    el_z = height_msl[el_idx]\n",
    "\n",
    "    return el_idx, el_z\n",
    "\n",
    "@check_units(\"[pressure]\", \"[speed]\", \"[speed]\", \"[length]\")\n",
    "def calc_sr_wind(pressure: PintList, u_wind: PintList, v_wind: PintList, height_msl: PintList) -> pint.Quantity:\n",
    "    \"\"\"\n",
    "    Calculate the mean storm relative (as compared to Bunkers right motion) wind magnitude in the 0-1 km AGL layer\n",
    "\n",
    "    Args:\n",
    "        pressure:\n",
    "            Total atmospheric pressure\n",
    "        u_wind:\n",
    "            X component of the wind\n",
    "        v_wind\n",
    "            Y component of the wind\n",
    "        height_msl:\n",
    "            Atmospheric heights at the levels given by 'pressure'.\n",
    "\n",
    "    Returns:\n",
    "        sr_wind:\n",
    "            0-1 km AGL average storm relative wind magnitude\n",
    "\n",
    "    \"\"\"\n",
    "    height_agl = height_msl - height_msl[0]\n",
    "    bunkers_right, _, _ = mpcalc.bunkers_storm_motion(pressure, u_wind, v_wind, height_agl)  # right, left, mean\n",
    "\n",
    "    u_sr = u_wind - bunkers_right[0]  # u-component\n",
    "    v_sr = v_wind - bunkers_right[1]  # v-component\n",
    "\n",
    "    u_sr_1km = u_sr[np.nonzero((height_agl >= 0 * units(\"m\")) & (height_agl <= 1000 * units(\"m\")))]\n",
    "    v_sr_1km = v_sr[np.nonzero((height_agl >= 0 * units(\"m\")) & (height_agl <= 1000 * units(\"m\")))]\n",
    "\n",
    "    sr_wind = np.mean(mpcalc.wind_speed(u_sr_1km, v_sr_1km))\n",
    "\n",
    "    return sr_wind\n",
    "\n",
    "@check_units(\"[pressure]\", \"[length]\", \"[temperature]\", \"[mass]/[mass]\")\n",
    "def calc_mse(\n",
    "    pressure: PintList, height_msl: PintList, temperature: PintList, specific_humidity: PintList\n",
    ") -> Tuple[PintList, PintList]:\n",
    "    \"\"\"\n",
    "    Calculate the moist static energy terms of interest.\n",
    "\n",
    "    Args:\n",
    "        pressure:\n",
    "            Total atmospheric pressure\n",
    "        height_msl:\n",
    "            Atmospheric heights at the levels given by 'pressure'.\n",
    "        temperature:\n",
    "            Air temperature\n",
    "        specific_humidity:\n",
    "            Specific humidity\n",
    "\n",
    "    Returns:\n",
    "        moist_static_energy_bar:\n",
    "            Mean moist static energy from the surface to a layer\n",
    "        moist_static_energy_star:\n",
    "            Saturated moist static energy\n",
    "    \"\"\"\n",
    "\n",
    "    # calculate MSE_bar\n",
    "    moist_static_energy = mpcalc.moist_static_energy(height_msl, temperature, specific_humidity)\n",
    "    moist_static_energy_bar = np.cumsum(moist_static_energy) / np.arange(1, len(moist_static_energy) + 1)\n",
    "    moist_static_energy_bar = moist_static_energy_bar.to(\"J/kg\")\n",
    "\n",
    "    # calculate MSE*\n",
    "    saturation_mixing_ratio = mpcalc.saturation_mixing_ratio(pressure, temperature)\n",
    "    moist_static_energy_star = mpcalc.moist_static_energy(height_msl, temperature, saturation_mixing_ratio)\n",
    "    moist_static_energy_star = moist_static_energy_star.to(\"J/kg\")\n",
    "\n",
    "    return moist_static_energy_bar, moist_static_energy_star\n",
    "\n",
    "@check_units(\"[energy]/[mass]\", \"[energy]/[mass]\", \"[temperature]\")\n",
    "def calc_integral_arg(moist_static_energy_bar, moist_static_energy_star, temperature) -> PintList:\n",
    "    \"\"\"\n",
    "    Calculate the contents of the integral defined in the NCAPE equation (54).\n",
    "\n",
    "    Args:\n",
    "        moist_static_energy_bar:\n",
    "            Mean moist static energy from the surface to a layer\n",
    "        moist_static_energy_star:\n",
    "            Saturated moist static energy\n",
    "        temperature:\n",
    "            Air temperature\n",
    "\n",
    "    Returns:\n",
    "        integral_arg:\n",
    "            Contents of integral defined in NCAPE eqn. 54\n",
    "\n",
    "    \"\"\"\n",
    "\n",
    "    # NCAPE eqn 54 integrand, see compute_NCAPE.m L32\n",
    "    integral_arg = -(earth_gravity / (dry_air_spec_heat_press * temperature)) * (\n",
    "        moist_static_energy_bar - moist_static_energy_star\n",
    "    )\n",
    "\n",
    "    return integral_arg\n",
    "\n",
    "@check_units(\"[length]/[time]**2\", \"[length]\", \"[dimensionless]\", \"[dimensionless]\")\n",
    "def calc_ncape(integral_arg: PintList, height_msl: PintList, lfc_idx: int, el_idx: int) -> pint.Quantity:\n",
    "    \"\"\"\n",
    "    Calculate the buoyancy dilution potential (NCAPE)\n",
    "\n",
    "    Args:\n",
    "        integral_arg:\n",
    "            Contents of integral defined in NCAPE eqn. 54\n",
    "        height_msl:\n",
    "            Atmospheric heights at the levels given by 'pressure'.\n",
    "        lfc_idx:\n",
    "            Index of the last instance of negative buoyancy below the lfc\n",
    "        el_idx:\n",
    "            Index of the last instance of positive buoyancy below the el\n",
    "\n",
    "    Returns:\n",
    "        ncape:\n",
    "            Buoyancy dilution potential of the free troposphere (eqn. 54)\n",
    "    \"\"\"\n",
    "\n",
    "    # see compute_NCAPE.m L41\n",
    "    ncape = np.sum(\n",
    "        (0.5 * integral_arg[lfc_idx:el_idx] + 0.5 * integral_arg[lfc_idx + 1 : el_idx + 1])\n",
    "        * (height_msl[lfc_idx + 1 : el_idx + 1] - height_msl[lfc_idx:el_idx])\n",
    "    )\n",
    "\n",
    "    return ncape\n",
    "\n",
    "@check_units(\"[speed]\", \"[dimensionless]\", \"[length]**2/[time]**2\", \"[energy]/[mass]\")\n",
    "def calc_ecape_a(sr_wind: PintList, psi: pint.Quantity, ncape: pint.Quantity, cape: pint.Quantity) -> pint.Quantity:\n",
    "    \"\"\"\n",
    "    Calculate the entraining cape of a parcel\n",
    "\n",
    "    Args:\n",
    "        sr_wind:\n",
    "            0-1 km AGL average storm relative wind magnitude\n",
    "        psi:\n",
    "            Parameter defined in eqn. 52, constant for a given equilibrium level\n",
    "        ncape:\n",
    "            Buoyancy dilution potential of the free troposphere (eqn. 54)\n",
    "        cape:\n",
    "            Convective available potential energy (CAPE, user-defined type)\n",
    "    Returns:\n",
    "        ecape:\n",
    "            Entraining CAPE (eqn. 55)\n",
    "    \"\"\"\n",
    "\n",
    "    # broken into terms for readability\n",
    "    term_a = sr_wind**2 / 2.0\n",
    "    term_b = (-1 - psi - (2 * psi / sr_wind**2) * ncape) / (4 * psi / sr_wind**2)\n",
    "    term_c = (\n",
    "        np.sqrt((1 + psi + (2 * psi / sr_wind**2) * ncape) ** 2 + 8 * (psi / sr_wind**2) * (cape - (psi * ncape)))\n",
    "    ) / (4 * psi / sr_wind**2)\n",
    "\n",
    "    ecape_a = term_a + term_b + term_c\n",
    "\n",
    "    # set to 0 if negative\n",
    "    return ecape_a.to(\"J/kg\") if ecape_a >= 0 else 0\n",
    "\n",
    "@check_units(\"[length]\")\n",
    "def calc_psi(el_z: pint.Quantity) -> pint.Quantity:\n",
    "    \"\"\"\n",
    "    Calculate the constant psi as denoted in eqn. 52\n",
    "\n",
    "    Args:\n",
    "        el_z:\n",
    "            height of the last instance of positive buoyancy below the el\n",
    "\n",
    "    Returns:\n",
    "        psi:\n",
    "            Parameter defined in eqn. 52, constant for a given equilibrium level, see COMPUTE_ECAPE.m L88 (pitchfork)\n",
    "    \"\"\"\n",
    "\n",
    "    # additional constants as denoted in section 4 step 1.\n",
    "    sigma = 1.6 * units(\"dimensionless\")\n",
    "    alpha = 0.8 * units(\"dimensionless\")\n",
    "    l_mix = 120.0 * units(\"m\")\n",
    "    pr = (1.0 / 3.0) * units(\"dimensionless\")  # prandtl number\n",
    "    ksq = 0.18 * units(\"dimensionless\")  # von karman constant\n",
    "\n",
    "    psi = (ksq * alpha**2 * np.pi**2 * l_mix) / (4.0 * pr * sigma**2 * el_z)\n",
    "\n",
    "    return psi\n",
    "\n",
    "@check_units(\"[length]\", \"[pressure]\", \"[temperature]\", \"[mass]/[mass]\", \"[speed]\", \"[speed]\")\n",
    "def calc_ecape(\n",
    "    height_msl: PintList,\n",
    "    pressure: PintList,\n",
    "    temperature: PintList,\n",
    "    specific_humidity: PintList,\n",
    "    u_wind: PintList,\n",
    "    v_wind: PintList,\n",
    "    cape_type: str = \"most_unstable\",\n",
    "    undiluted_cape: pint.Quantity = None,\n",
    ") -> pint.Quantity:\n",
    "    \"\"\"\n",
    "    Calculate the entraining CAPE (ECAPE) of a parcel\n",
    "\n",
    "    Parameters:\n",
    "    ------------\n",
    "        height_msl: np.ndarray[pint.Quantity]\n",
    "            Atmospheric heights at the levels given by 'pressure' (MSL)\n",
    "        pressure: np.ndarray[pint.Quantity]\n",
    "            Total atmospheric pressure\n",
    "        temperature: np.ndarray[pint.Quantity]\n",
    "            Air temperature\n",
    "        specific humidity: np.ndarray[pint.Quantity]\n",
    "            Specific humidity\n",
    "        u_wind: np.ndarray[pint.Quantity]\n",
    "            X component of the wind\n",
    "        v_wind np.ndarray[pint.Quantity]\n",
    "            Y component of the wind\n",
    "        cape_type: str\n",
    "            Variation of CAPE desired. 'most_unstable' (default), 'surface_based', or 'mixed_layer'\n",
    "        undiluted_cape: pint.Quantity\n",
    "            User-provided undiluted CAPE value\n",
    "\n",
    "    Returns:\n",
    "    ----------\n",
    "        ecape : 'pint.Quantity'\n",
    "            Entraining CAPE\n",
    "    \"\"\"\n",
    "\n",
    "    cape_func = {\n",
    "        \"most_unstable\": mpcalc.most_unstable_cape_cin,\n",
    "        \"surface_based\": mpcalc.surface_based_cape_cin,\n",
    "        \"mixed_layer\": mpcalc.mixed_layer_cape_cin,\n",
    "    }\n",
    "\n",
    "    parcel_func = {\n",
    "        \"most_unstable\": mpcalc.most_unstable_parcel,\n",
    "        \"surface_based\": None,\n",
    "        \"mixed_layer\": mpcalc.mixed_parcel,\n",
    "    }\n",
    "\n",
    "    # calculate cape\n",
    "    dew_point_temperature = mpcalc.dewpoint_from_specific_humidity(pressure, temperature, specific_humidity)\n",
    "\n",
    "    # whether the user has not / has overidden the cape calculations\n",
    "    if not undiluted_cape:\n",
    "        cape, _ = cape_func[cape_type](pressure, temperature, dew_point_temperature)\n",
    "    else:\n",
    "        cape = undiluted_cape\n",
    "\n",
    "    # calculate the level of free convection (lfc) and equilibrium level (el) indexes\n",
    "    lfc_idx, _ = calc_lfc_height(pressure, height_msl, temperature, dew_point_temperature, parcel_func[cape_type])\n",
    "    el_idx, el_z = calc_el_height(pressure, height_msl, temperature, dew_point_temperature, parcel_func[cape_type])\n",
    "\n",
    "    # calculate the buoyancy dilution potential (ncape)\n",
    "    moist_static_energy_bar, moist_static_energy_star = calc_mse(pressure, height_msl, temperature, specific_humidity)\n",
    "    integral_arg = calc_integral_arg(moist_static_energy_bar, moist_static_energy_star, temperature)\n",
    "    ncape = calc_ncape(integral_arg, height_msl, lfc_idx, el_idx)\n",
    "\n",
    "    # calculate the storm relative (sr) wind\n",
    "    sr_wind = calc_sr_wind(pressure, u_wind, v_wind, height_msl)\n",
    "\n",
    "    # calculate the entraining cape (ecape)\n",
    "    psi = calc_psi(el_z)\n",
    "    ecape_a = calc_ecape_a(sr_wind, psi, ncape, cape)\n",
    "\n",
    "    return ecape_a\n",
    "\n",
    "if __name__ == \"__main__\":\n",
    "    pass"
   ]
  },
  {
   "cell_type": "code",
   "execution_count": 3,
   "id": "98ddf6c1",
   "metadata": {},
   "outputs": [],
   "source": [
    "#UPDATED COMPOSITE PARAMETER FUNCTIONS\n",
    "#These are updated sharppy functions, based on the equations for these parameters on the SPC mesoanalysis page\n",
    "\n",
    "def scp(mucape, srh, ebwd, mucin):\n",
    "    '''\n",
    "    Supercell Composite Parameter (Thompson et al. 2003, 2007, 2012; Gropp and Davenport 2018)\n",
    "\n",
    "    SCP_CIN = (muCAPE / 1000 J kg-1) * (ESRH / 50 m2 s-2) * (EBWD / 20 m s-1) * (-40 J kg-1 / muCIN)\n",
    "    EBWD is divided by 20 m/s in the range of 10-20 m s-1. EBWD less than 10 m/s is set to zero, and EBWD greater than 20 m/s is set to one.\n",
    "    The muCIN is set to 1.0 when muCIN is greater than -40 kg-1.\n",
    "\n",
    "        Parameters\n",
    "        ----------\n",
    "        prof : profile object\n",
    "            Profile object\n",
    "        mucape : number, optional\n",
    "            Most Unstable CAPE from the parcel class (J/kg) (optional)\n",
    "        srh : number, optional\n",
    "            the effective SRH from the winds.helicity function (m2/s2)\n",
    "        ebwd : number, optional\n",
    "            effective bulk wind difference (m/s)\n",
    "\n",
    "        Returns\n",
    "        -------\n",
    "        scp : number\n",
    "            supercell composite parameter   \n",
    "    '''\n",
    "    if ebwd > 20:\n",
    "        ebwd_term = 1.0\n",
    "    elif ebwd < 10:\n",
    "        ebwd_term = 0.0\n",
    "    else:\n",
    "        ebwd_term = ebwd / 20.0\n",
    "     \n",
    "    if mucin > -40:\n",
    "        muCIN_term = 1.0\n",
    "    else:\n",
    "        muCIN_term = -40.0 / mucin\n",
    "\n",
    "    # Calculate SCP\n",
    "    muCAPE_term = mucape / 1000.0\n",
    "    esrh_term = srh / 50.0\n",
    "\n",
    "    scp = muCAPE_term * esrh_term * ebwd_term * muCIN_term\n",
    "    return scp\n",
    "\n",
    "def stp_fixed(sbcape, sblcl, srh01, bwd6, sbcin):\n",
    "    '''\n",
    "    Significant Tornado Parameter (Thompson et al. 2012)\n",
    "    STP = (sbCAPE/1500 J kg-1) * ((2000-sbLCL)/1000 m) * (SRH1/150 m2 s-2) * (6BWD/20 m s-1)* ((200+sbCIN)/150 J kg-1)\n",
    "\n",
    "    The sbLCL term is set to 1.0 when sbLCL < 1000 m, and set to 0.0 when sbLCL > 2000 m\n",
    "    the sbCIN term is set to 1.0 when sbCIN > -50 J kg-1, and set to 0.0 when sbCIN < -200\n",
    "    the 6BWD term is capped at a value of 1.5 for 6BWD > 30 m/s, and set to 0.0 when 6BWD < 12.5 m/s. \n",
    "   \n",
    "        Parameters\n",
    "        ----------\n",
    "        sbcape : number\n",
    "            Surface based CAPE from the parcel class (J/kg)\n",
    "        sblcl : number\n",
    "            Surface based lifted condensation level (LCL) (m)\n",
    "        srh01 : number\n",
    "            Surface to 1 km storm relative helicity (m2/s2)\n",
    "        bwd6 : number\n",
    "            Bulk wind difference between 0 to 6 km (m/s)\n",
    "\n",
    "        Returns\n",
    "        -------\n",
    "        stp_fixed : number\n",
    "            signifcant tornado parameter (fixed-layer)\n",
    "    '''\n",
    "    \n",
    "    # Calculate SBLCL term\n",
    "    if sblcl < 1000.: # less than 1000. meters\n",
    "        lcl_term = 1.0\n",
    "    elif sblcl > 2000.: # greater than 2000. meters\n",
    "        lcl_term = 0.0\n",
    "    else:\n",
    "        lcl_term = ((2000.-sblcl)/1000.)\n",
    "\n",
    "    # Calculate 6BWD term\n",
    "    if bwd6 > 30.0:  # Cap at 30 m/s\n",
    "        bwd6_term = 1.5\n",
    "    elif bwd6 < 12.5:  # Below 12.5 m/s\n",
    "        bwd6_term = 0.0\n",
    "    else:\n",
    "        bwd6_term = bwd6 / 20.0\n",
    "\n",
    "    cape_term = sbcape / 1500.\n",
    "    srh_term = srh01 / 150.\n",
    "\n",
    "    # Calculate SBCIN term\n",
    "    if sbcin > -50.0:  # Less negative than -50 J/kg\n",
    "        cin_term = 1.0\n",
    "    elif sbcin < -200.0:  # More negative than -200 J/kg\n",
    "        cin_term = 0.0\n",
    "    else:\n",
    "        cin_term = (200.0 + sbcin) / 150.0\n",
    "\n",
    "    stp_fixed = cape_term * lcl_term * srh_term * bwd6_term * cin_term\n",
    "   \n",
    "    return stp_fixed\n",
    "    \n",
    "def stp_effective(mlcape, esrh, ebwd, mllcl, mlcinh, ebot_hght):\n",
    "    '''\n",
    "    STP effective layer (Thompson et al. 2012)\n",
    "    STP = (mlCAPE/1500 J kg-1) * ((2000-mlLCL)/1000 m) * (ESRH/150 m2 s-2) * (EBWD/20 m s-1) * ((200+mlCIN)/150 J kg-1)\n",
    "    The mlLCL term is set to 1.0 when mlLCL < 1000 m, and set to 0.0 when mlLCL > 2000 m\n",
    "    the mlCIN term is set to 1.0 when mlCIN > -50 J kg-1, and set to 0.0 when mlCIN < -200; \n",
    "    the EBWD term is capped at a value of 1.5 for EBWD > 30 m s-1, and set to 0.0 when EBWD < 12.5 m s-1. \n",
    "    the entire index is set to 0.0 when the effective inflow base is above the ground.\n",
    "\n",
    "        Parameters\n",
    "        ----------\n",
    "        mlcape : float\n",
    "            Mixed-layer CAPE from the parcel class (J/kg)\n",
    "        esrh : float\n",
    "            effective storm relative helicity (m2/s2)\n",
    "        ebwd : float\n",
    "            effective bulk wind difference (m/s)\n",
    "        mllcl : float\n",
    "            mixed-layer lifted condensation level (m)\n",
    "        mlcinh : float\n",
    "            mixed-layer convective inhibition (J/kg)\n",
    "\n",
    "        Returns\n",
    "        -------\n",
    "        stp_cin : number\n",
    "            significant tornado parameter (unitless)\n",
    "\n",
    "        See Also\n",
    "        --------\n",
    "        stp_fixed\n",
    "    '''\n",
    "    # If the effective inflow base is above ground, return 0.0 for STP\n",
    "    if ebot_hght > 0.0:\n",
    "        return 0.0\n",
    "\n",
    "    cape_term = mlcape / 1500.\n",
    "    eshr_term = esrh / 150.\n",
    "    \n",
    "    if ebwd < 12.5:\n",
    "        ebwd_term = 0.\n",
    "    elif ebwd > 30.:\n",
    "        ebwd_term = 1.5\n",
    "    else:\n",
    "        ebwd_term  = ebwd / 20.\n",
    "\n",
    "    if mllcl < 1000.:\n",
    "        lcl_term = 1.0\n",
    "    elif mllcl > 2000.:\n",
    "        lcl_term = 0.0\n",
    "    else:\n",
    "        lcl_term = ((2000. - mllcl) / 1000.)\n",
    "\n",
    "    if mlcinh > -50:\n",
    "        cinh_term = 1.0\n",
    "    elif mlcinh < -200:\n",
    "        cinh_term = 0.0\n",
    "    else:\n",
    "        cinh_term = ((mlcinh + 200.0) / 150.0)\n",
    "\n",
    "    stp_effective = np.maximum(cape_term * eshr_term * ebwd_term * lcl_term * cinh_term, 0.0)\n",
    "    return stp_effective\n",
    " \n",
    "def stp_500mSRH(mlcape, mllcl, srh_0_500m, ebwd, mlcinh, ebot_hght, etop_hght):\n",
    "    \"\"\"\n",
    "    Calculate the STP using 0–500m SRH within the Effective Inflow Layer.\n",
    "    Coffer et al. 2019: https://journals.ametsoc.org/view/journals/wefo/34/5/waf-d-19-0115_1.xml\n",
    "\n",
    "    STP = (mlCAPE/1500 J kg-1) * ((2000-mlLCL)/1000 m) * (0-500 m SRH/75 m2 s-2) * (EBWD/20 m s-1) * ((200+mlCIN)/150 J kg-1)\n",
    "    \n",
    "    The 0-500 m SRH is limited to within the EIL, if it exists. \n",
    "    The mlLCL term is set to 1.0 when mlLCL < 1000 m, and set to 0.0 when mlLCL > 2000 m; \n",
    "    the mlCIN term is set to 1.0 when mlCIN > -50 J kg-1, and set to 0.0 when mlCIN < -200;\n",
    "    the EBWD term is capped at a value of 1.5 for EBWD > 30 m s-1, and set to 0.0 when EBWD < 12.5 m s-1. \n",
    "    The entire index is set to 0.0 when the effective inflow base is above the ground.\n",
    "\n",
    "    Parameters:\n",
    "        mlcape (float): Mixed-layer CAPE (J/kg).\n",
    "        mllcl (float): Mixed-layer LCL height (m).\n",
    "        srh_0_500m (float): 0-500m storm-relative helicity (m²/s²).\n",
    "        ebwd (float): Effective bulk wind difference (m/s).\n",
    "        mlcinh (float): Mixed-layer CIN (J/kg).\n",
    "        ebot_hght (float): Effective inflow layer base height (m).\n",
    "        etop_hght (float): Effective inflow layer top height (m).\n",
    "\n",
    "    Returns:\n",
    "        float: STP value.\n",
    "    \"\"\"\n",
    "    # If the effective inflow base is above ground, return 0.0 for STP\n",
    "    if ebot_hght > 0.0:\n",
    "        return 0.0\n",
    "\n",
    "    # Limit 0-500m SRH within the effective inflow layer\n",
    "    if etop_hght > 500.0:\n",
    "        srh_term = srh_0_500m / 75.0\n",
    "    else:\n",
    "        srh_term = 0.0\n",
    "\n",
    "    # Calculate mlLCL term\n",
    "    if mllcl < 1000.0:\n",
    "        lcl_term = 1.0\n",
    "    elif mllcl > 2000.0:\n",
    "        lcl_term = 0.0\n",
    "    else:\n",
    "        lcl_term = (2000.0 - mllcl) / 1000.0\n",
    "\n",
    "    # Calculate mlCIN term\n",
    "    if mlcinh > -50.0:\n",
    "        cinh_term = 1.0\n",
    "    elif mlcinh < -200.0:\n",
    "        cinh_term = 0.0\n",
    "    else:\n",
    "        cinh_term = (mlcinh + 200.0) / 150.0\n",
    "\n",
    "    # Calculate EBWD term\n",
    "    if ebwd < 12.5:\n",
    "        ebwd_term = 0.0\n",
    "    elif ebwd > 30.0:\n",
    "        ebwd_term = 1.5\n",
    "    else:\n",
    "        ebwd_term = ebwd / 20.0\n",
    "\n",
    "    # Calculate other terms\n",
    "    cape_term = mlcape / 1500.0\n",
    "\n",
    "    # Final STP calculation\n",
    "    stp = max(cape_term * lcl_term * srh_term * ebwd_term * cinh_term, 0.0)\n",
    "    return stp\n",
    "\n",
    "def vtp(mlcape, mllcl, esrh, ebwd, mlcinh, cape_0_3km, lapse_rate_0_3km, ebot_hght):\n",
    "    \"\"\"\n",
    "    Calculate the Violent Tornado Parameter (VTP): https://www.spc.noaa.gov/publications/mosier/2018-JOM1.pdf.\n",
    "    VTP = (mlCAPE/1500 J kg-1) * ((2000-mlLCL)/1000 m) * (ESRH/150 m2 s-2) * (EBWD/20 m s-1) * ((200+mlCIN)/150 J kg-1) * (0-3 km MLCAPE/50 J kg-1) * (0-3 km Lapse Rate/6.5 ℃ km-1)\n",
    "    \n",
    "    The 0-3 km lapse rate term is set to 2.0 when 0-3 km MLCAPE > 100 J kg-1.\n",
    "    The mlLCL term is set to 1.0 when mlLCL < 1000 m, and set to 0 when mlLCL > 2000 m\n",
    "    The mlCIN term is set to 1.0 when mlCIN > -50 J kg-1, and set to 0 when mlCIN < -200\n",
    "    The EBWD term is capped at a value of 1.5 for EBWD > 30 m s-1, and set to 0 when EBWD < 12.5 m s-1.\n",
    "    The entire index is set to 0 when the effective inflow base is above the ground.\n",
    "\n",
    "    Parameters:\n",
    "        mlcape (float): Mixed-layer CAPE (J/kg).\n",
    "        mllcl (float): Mixed-layer LCL height (m).\n",
    "        esrh (float): Effective-layer storm-relative helicity (m²/s²).\n",
    "        ebwd (float): Effective bulk wind difference (m/s).\n",
    "        mlcinh (float): Mixed-layer CIN (J/kg).\n",
    "        cape_0_3km (float): 0–3 km mixed-layer CAPE (J/kg).\n",
    "        lapse_rate_0_3km (float): 0–3 km lapse rate (°C/km).\n",
    "        ebot_hght (float): Effective inflow layer base height (m).\n",
    "\n",
    "    Returns:\n",
    "        float: VTP value.\n",
    "    \"\"\"\n",
    "    # If the effective inflow base is above ground, return 0.0 for VTP\n",
    "    if ebot_hght > 0.0:\n",
    "        return 0.0\n",
    "\n",
    "    # Calculate mlLCL term\n",
    "    if mllcl < 1000.0:\n",
    "        lcl_term = 1.0\n",
    "    elif mllcl > 2000.0:\n",
    "        lcl_term = 0.0\n",
    "    else:\n",
    "        lcl_term = (2000.0 - mllcl) / 1000.0\n",
    "\n",
    "    # Calculate mlCIN term\n",
    "    if mlcinh > -50.0:\n",
    "        cinh_term = 1.0\n",
    "    elif mlcinh < -200.0:\n",
    "        cinh_term = 0.0\n",
    "    else:\n",
    "        cinh_term = (mlcinh + 200.0) / 150.0\n",
    "\n",
    "    # Calculate EBWD term\n",
    "    if ebwd < 12.5:\n",
    "        ebwd_term = 0.0\n",
    "    elif ebwd > 30.0:\n",
    "        ebwd_term = 1.5\n",
    "    else:\n",
    "        ebwd_term = ebwd / 20.0\n",
    "\n",
    "    # Calculate 0–3 km lapse rate term\n",
    "    if cape_0_3km > 100.0:\n",
    "        lapse_rate_term = 2.0  # Lapse rate set to 2.0 if 0–3 km MLCAPE > 100 J/kg\n",
    "    else:\n",
    "        lapse_rate_term = lapse_rate_0_3km / 6.5\n",
    "\n",
    "    # Calculate other terms\n",
    "    cape_term = mlcape / 1500.0\n",
    "    esrh_term = esrh / 150.0\n",
    "    cape_0_3km_term = cape_0_3km / 50.0\n",
    "\n",
    "    # Final VTP calculation\n",
    "    vtp_value = max(\n",
    "        cape_term\n",
    "        * lcl_term\n",
    "        * esrh_term\n",
    "        * ebwd_term\n",
    "        * cinh_term\n",
    "        * cape_0_3km_term\n",
    "        * lapse_rate_term,\n",
    "        0.0,\n",
    "    )\n",
    "    return vtp_value"
   ]
  },
  {
   "cell_type": "code",
   "execution_count": 128,
   "id": "3b817404",
   "metadata": {},
   "outputs": [],
   "source": [
    "#Convergence Functions\n",
    "def calculate_skewt_params(lev, hgt, T, Td, uwnd, vwnd, x, y, direction):\n",
    "    \"\"\"Calculate Skew-T parameters for a given grid direction.\"\"\"\n",
    "    if direction == \"N\":\n",
    "        dx, dy = 1, 0\n",
    "    elif direction == \"S\":\n",
    "        dx, dy = -1, 0\n",
    "    elif direction == \"E\":\n",
    "        dx, dy = 0, 1\n",
    "    elif direction == \"W\":\n",
    "        dx, dy = 0, -1\n",
    "    else:\n",
    "        raise ValueError(\"Direction must be one of ['N', 'S', 'E', 'W']\")\n",
    "\n",
    "    p_skewt = lev[:, x + dx, y + dy] * units.hectopascal\n",
    "    hgt_skewt = (hgt[:, x + dx, y + dy] - hgt[0, x + dx, y + dy]) * units.meter\n",
    "    T_skewt = (T[:, x + dx, y + dy] * units.kelvin).to(units.degC)\n",
    "    Td_skewt = Td[:, x + dx, y + dy].to(units.degC)\n",
    "    Td_skewt[np.isnan(Td_skewt)] = 0 * units.degC\n",
    "    u_skewt = (uwnd[:, x + dx, y + dy] * units.meter_per_second).to(units.knot)\n",
    "    v_skewt = (vwnd[:, x + dx, y + dy] * units.meter_per_second).to(units.knot)\n",
    "    #Omega = VVEL_up[:, x + dx, y + dy] * (units.pascal / units.second)\n",
    "    #RH_skewt = relative_humidity_from_dewpoint(T_skewt, Td_skewt)\n",
    "\n",
    "    #return p_skewt, hgt_skewt, T_skewt, Td_skewt, u_skewt, v_skewt, Omega, RH_skewt\n",
    "    return p_skewt, hgt_skewt, T_skewt, Td_skewt, u_skewt, v_skewt\n",
    "\n",
    "def calculate_parcel_profiles(p_skewt, hgt_skewt, T_skewt, Td_skewt, u_skewt, v_skewt):\n",
    "    \"\"\"\n",
    "    Calculate SHARPpy parcel profiles and vertical profiles for MU, ML, and SB parcels.\n",
    "\n",
    "    Returns:\n",
    "        dict: Contains SHARPpy parcel data, vertical profiles, and LFC pressures.\n",
    "    \"\"\"\n",
    "    # Ensure consistent lengths for all inputs\n",
    "    min_len = min(len(p_skewt), len(hgt_skewt), len(T_skewt), len(Td_skewt), len(u_skewt), len(v_skewt))\n",
    "    p_skewt = p_skewt[:min_len]\n",
    "    hgt_skewt = hgt_skewt[:min_len]\n",
    "    T_skewt = T_skewt[:min_len]\n",
    "    Td_skewt = Td_skewt[:min_len]\n",
    "    u_skewt = u_skewt[:min_len]\n",
    "    v_skewt = v_skewt[:min_len]\n",
    "\n",
    "    # Create SHARPpy profile\n",
    "    prof = profile.create_profile(\n",
    "        profile=\"default\",\n",
    "        pres=p_skewt,\n",
    "        hght=hgt_skewt,\n",
    "        tmpc=T_skewt,\n",
    "        dwpc=Td_skewt,\n",
    "        u=u_skewt,\n",
    "        v=v_skewt,\n",
    "        missing=-9999,\n",
    "    )\n",
    "\n",
    "    # Mixed-Layer (ML) parcel\n",
    "    ml_p, ml_T, ml_Td = mixed_parcel(p_skewt, T_skewt, Td_skewt)\n",
    "    ml_profile = parcel_profile(p_skewt, ml_T, ml_Td)\n",
    "    mlpcl = params.parcelx(prof, flag=4)  # 100 mb Mean Layer Parcel\n",
    "    mllfc_p = mlpcl.lfcpres*units('hectopascal')\n",
    "    if isinstance(mllfc_p, np.ma.core.MaskedConstant):\n",
    "        mllfc_p = 500*units('hectopascal')\n",
    "\n",
    "    # Most-Unstable (MU) parcel\n",
    "    mu_p, mu_T, mu_Td, _ = most_unstable_parcel(p_skewt, T_skewt, Td_skewt)\n",
    "    mu_profile = parcel_profile(p_skewt, mu_T, mu_Td)\n",
    "    mupcl = params.parcelx(prof, flag=3)  # Most-Unstable Parcel\n",
    "    mulfc_p = mupcl.lfcpres*units('hectopascal')\n",
    "    if isinstance(mulfc_p,np.ma.core.MaskedConstant):\n",
    "        mulfc_p = 500*units('hectopascal')\n",
    "\n",
    "    # Surface-Based (SB) parcel\n",
    "    sbpcl = params.parcelx(prof, flag=1)  # Surface-Based Parcel\n",
    "    sb_profile = parcel_profile(p_skewt, T_skewt[0], Td_skewt[0])\n",
    "    sblfc_p = sbpcl.lfcpres*units('hectopascal')\n",
    "    if isinstance(sblfc_p, np.ma.core.MaskedConstant):\n",
    "        sblfc_p = mllfc_p\n",
    "    \n",
    "    # Convert vertical profiles to Celsius\n",
    "    sb_profile = (sb_profile - 273.15 * units.kelvin).magnitude * units.degC\n",
    "    ml_profile = (ml_profile - 273.15 * units.kelvin).magnitude * units.degC\n",
    "    mu_profile = (mu_profile - 273.15 * units.kelvin).magnitude * units.degC\n",
    "\n",
    "    # Return profiles, including SHARPpy parcel data and vertical profiles\n",
    "    return {\n",
    "        \"sb\": {\"parcel\": sbpcl, \"profile\": sb_profile, \"lfc_p\": sblfc_p, \"base\":p_skewt[0]},\n",
    "        \"ml\": {\"parcel\": mlpcl, \"profile\": ml_profile, \"lfc_p\": mllfc_p, \"base\":ml_p},\n",
    "        \"mu\": {\"parcel\": mupcl, \"profile\": mu_profile, \"lfc_p\": mulfc_p, \"base\":mu_p},\n",
    "    }\n",
    "\n",
    "# def calculate_mean_convergence(subcloudUV_layer, distEW, distNS, parcel_h, lfc_h):\n",
    "#     \"\"\"\n",
    "#     Calculate mean convergence for given layers, distances, and vertical levels.\n",
    "\n",
    "#     Parameters:\n",
    "#         subcloudUV_layer (dict): Dictionary with subcloud UV layers for directions ('E', 'W', 'N', 'S').\n",
    "#         distEW (float): East-West distance in meters.\n",
    "#         distNS (float): North-South distance in meters.\n",
    "#         parcel_h (float): Parcel height (h) in meters.\n",
    "#         lfc_h (float): Level of free convection (h) in meters.\n",
    "\n",
    "#     Returns:\n",
    "#         float: Mean subcloud convergence.\n",
    "#     \"\"\"\n",
    "#     # Calculate convergence at each vertical level\n",
    "#     part1 = (subcloudUV_layer['E'][1] - subcloudUV_layer['W'][1]) / (distEW * units.meter)\n",
    "#     part2 = (subcloudUV_layer['N'][2] - subcloudUV_layer['S'][2]) / (distNS * units.meter)\n",
    "#     convergence = part1 + part2\n",
    "\n",
    "#     # Calculate vertical distance and mean convergence\n",
    "#     vertical_distance = lfc_h - parcel_h\n",
    "#     mean_convergence = np.sum(convergence) / (vertical_distance * 1000)  # Convert to kilometers\n",
    "\n",
    "#     return mean_convergence\n",
    "\n",
    "def calculate_distances(lat, lon, x, y):\n",
    "    \"\"\"Calculate distances between adjacent grid points.\"\"\"\n",
    "    coordN = (lat[x + 1, y], lon[x + 1, y])\n",
    "    coordS = (lat[x - 1, y], lon[x - 1, y])\n",
    "    coordE = (lat[x, y + 1], lon[x, y + 1])\n",
    "    coordW = (lat[x, y - 1], lon[x, y - 1])\n",
    "\n",
    "    distNS = geodesic(coordN, coordS).m\n",
    "    distEW = geodesic(coordE, coordW).m\n",
    "    return distNS, distEW\n",
    "\n",
    "# def calculate_surface_convergence(subcloudUV_layer, distEW, distNS):\n",
    "#     \"\"\"\n",
    "#     Calculate parcel level (surface) convergence for mixed-layer or most-unstable parcels.\n",
    "    \n",
    "#     Parameters:\n",
    "#         subcloudUV_layer (dict): Sub-cloud UV layers for all directions {'N', 'S', 'E', 'W'}.\n",
    "#         distEW (float): Distance between eastern and western points (meters).\n",
    "#         distNS (float): Distance between northern and southern points (meters).\n",
    "        \n",
    "#     Returns:\n",
    "#         surface_convergence (Quantity): Surface convergence value.\n",
    "#     \"\"\"\n",
    "#     # Calculate convergence components\n",
    "#     part1 = (subcloudUV_layer['E'][1][0] - subcloudUV_layer['W'][1][0]) / (distEW * units('meter'))\n",
    "#     part2 = (subcloudUV_layer['N'][2][0] - subcloudUV_layer['S'][2][0]) / (distNS * units('meter'))\n",
    "    \n",
    "#     # Total surface convergence\n",
    "#     surface_convergence = part1 + part2\n",
    "#     return surface_convergence"
   ]
  },
  {
   "cell_type": "code",
   "execution_count": 129,
   "id": "144f3004",
   "metadata": {},
   "outputs": [],
   "source": [
    "# def calculate_MRD(parcel_p, lcl_p, lfc1500_p, profile):\n",
    "#     # Calculate MRD1 (from starting level to LCL)\n",
    "#     MRD1 = get_layer(P_sounding, T_sounding, Td_sounding, profile, RH_skewt, bottom=parcel_p, depth=parcel_p - lcl_p)\n",
    "    \n",
    "#     # Calculate MRD2 (from LCL to LFC + 1500 m)\n",
    "#     MRD2 = get_layer(P_sounding, T_sounding, Td_sounding, profile[::-1], RH_skewt, bottom=lcl_p, depth=lcl_p - lfc1500_p)\n",
    "\n",
    "#     # Ensure MRD1 and MRD2 contain the expected number of components\n",
    "#     if len(MRD1) < 4 or len(MRD2) < 4:\n",
    "#         raise ValueError(\"MRD1 or MRD2 does not have the expected number of layers.\")\n",
    "\n",
    "#     # Combine MRD layers\n",
    "#     MRD_p = np.concatenate((MRD1[0][:-1], MRD2[0]), axis=0)  # Pressure\n",
    "#     MRD_T = np.concatenate((MRD1[1][:-1], MRD2[1]), axis=0)  # Temperature\n",
    "#     MRD_Td = np.concatenate((MRD1[2][:-1], MRD2[2]), axis=0)  # Dewpoint\n",
    "#     MRD_pT = np.concatenate((MRD1[3][:-1], MRD2[3]), axis=0)\n",
    "#     MRD_RH = np.concatenate((MRD1[4][:-1], MRD2[4]), axis=0)  # Relative Humidity\n",
    "    \n",
    "#     ParcelRH = \n",
    "#     Parcelr = \n",
    "\n",
    "#     # Calculate environmental mixing ratio\n",
    "#     r_skewt_env = mixing_ratio_from_relative_humidity(MRD_p, MRD_T, MRD_RH)\n",
    "\n",
    "#     # Step 1: Parcel mixing ratio from starting level to LCL\n",
    "#     parcel_r1 = np.full(\n",
    "#         np.shape(MRD1[0][:-1]),\n",
    "#         mixing_ratio_from_relative_humidity(parcel_p, MRD_T[0], MRD_RH[0])\n",
    "#     )\n",
    "\n",
    "#     # Step 2: Parcel mixing ratio from LCL to LFC + 1500 m\n",
    "#     parcel_r2 = mixing_ratio_from_relative_humidity(\n",
    "#         MRD2[0], MRD2[2], np.full(np.shape(MRD2[0]), 1)\n",
    "#     )\n",
    "\n",
    "#     # Combine parcel mixing ratios\n",
    "#     parcel_r = np.concatenate((parcel_r1, parcel_r2.magnitude), axis=0)\n",
    "\n",
    "#     # Calculate MRD\n",
    "#     MRD = np.sum(parcel_r - r_skewt_env.magnitude)\n",
    "#     return MRD"
   ]
  },
  {
   "cell_type": "code",
   "execution_count": 6,
   "id": "42ffee4c",
   "metadata": {},
   "outputs": [],
   "source": [
    "# #Elevated Stable Layer Calculation Functions\n",
    "\n",
    "# def compute_lapse_rates(prof, pres_array):\n",
    "#     lapse_rates = []\n",
    "#     for i in range(len(pres_array) - 1):\n",
    "#         lapse = sharppy.sharptab.params.lapse_rate(prof, lower=pres_array[i], upper=pres_array[i + 1])\n",
    "#         lapse_rates.append(lapse)\n",
    "#     return np.array(lapse_rates)\n",
    "\n",
    "# # Function to compute heights for a given pressure array\n",
    "# def compute_heights(prof, pres_array):\n",
    "#     heights = [sharppy.sharptab.interp.hght(prof, p) for p in pres_array]\n",
    "#     return np.array(heights)\n",
    "\n",
    "# # Function to calculate ESL depths\n",
    "# def compute_esl_depth(lapse_array, hght_array, threshold):\n",
    "#     esl_indices = np.where(lapse_array < threshold)[0]\n",
    "#     if len(esl_indices) > 0:\n",
    "#         esl_depth = hght_array[esl_indices[-1]] - hght_array[esl_indices[0]]\n",
    "#     else:\n",
    "#         esl_depth = 0\n",
    "#     return esl_depth\n",
    "\n",
    "# pres_array = np.array([900., 890., 880., 870., 860., 850., 840., 830., 820., 810., 800.,\n",
    "#                        790., 780., 770., 760., 750., 740., 730., 720., 710., 700., 690.,\n",
    "#                        680., 670., 660., 650., 640., 630., 620., 610., 600.])"
   ]
  },
  {
   "cell_type": "code",
   "execution_count": 9,
   "id": "6d98819f",
   "metadata": {},
   "outputs": [],
   "source": [
    "##########################################################\n",
    "# Pre Load HRRR Files to speed up parameter calculations #\n",
    "##########################################################\n",
    "def download_and_open_hrrr(year, month, day, hours, s3_path='s3://noaa-hrrr-bdp-pds', level_filter='hybrid'):\n",
    "    \"\"\"\n",
    "    Download and open HRRR GRIB2 files for specified hours.\n",
    "    \n",
    "    Parameters:\n",
    "        year (int): Year of the data\n",
    "        month (int): Month of the data\n",
    "        day (int): Day of the data\n",
    "        hours (list): List of hours to download\n",
    "        s3_path (str): Base S3 path to HRRR files\n",
    "        level_filter (str): Filter for the level type (e.g., 'hybrid')\n",
    "    \n",
    "    Returns:\n",
    "        dict: Dictionary of Xarray datasets\n",
    "    \"\"\"\n",
    "    fs = s3fs.S3FileSystem(anon=True)\n",
    "    datasets = {}\n",
    "    \n",
    "    for idx, hour in enumerate(hours):\n",
    "        # Format the year, month, day, and hour\n",
    "        year_str = f\"{year}\"\n",
    "        month_str = f\"{month:02}\"\n",
    "        day_str = f\"{day:02}\"\n",
    "        hour_str = f\"{hour:02}\"\n",
    "        \n",
    "        # Construct the file path and local filename\n",
    "        time_in = f\"{year_str}{month_str}{day_str}\"\n",
    "        file_path = f\"{s3_path}/hrrr.{time_in}/conus/hrrr.t{hour_str}z.wrfnatf00.grib2\"\n",
    "        local_fname = f\"HRRR_{year_str}{month_str}{day_str}_{hour_str}UTC.grib2\"\n",
    "        \n",
    "        # Download the file\n",
    "        if not os.path.exists(local_fname):  # Avoid re-downloading\n",
    "            fs.get(file_path, local_fname)\n",
    "        \n",
    "        # Open the file with Xarray\n",
    "        datasets[f\"c{idx}\"] = xr.open_dataset(local_fname, filter_by_keys={'typeOfLevel': level_filter})\n",
    "    \n",
    "    return datasets\n",
    "\n",
    "# Parameters\n",
    "year = 2019\n",
    "month = 5\n",
    "\n",
    "# Download data for 22nd May\n",
    "hours_22 = [18, 19, 20, 21, 22, 23]\n",
    "d1 = download_and_open_hrrr(year, month, 22, hours_22)\n",
    "\n",
    "# Download data for 23rd May\n",
    "hours_23 = [0, 1, 2, 3, 4, 5, 6, 7, 8]\n",
    "d2 = download_and_open_hrrr(year, month, 23, hours_23)"
   ]
  },
  {
   "cell_type": "code",
   "execution_count": 7,
   "id": "09023b8a",
   "metadata": {},
   "outputs": [],
   "source": [
    "# Define all parameter names as a flat list\n",
    "parameters = [\n",
    "    'StormID', 'Profile_Number', 'Time', 'Watch', 'Grouping', 'Radar', 'Lat', 'Lon', 'Type', 'Discrete',\n",
    "    'Supercell', 'LeftSplit', 'Severe30', 'ConfirmedTor30', 'Profile', 'MaxProfiles', 'Daylight',\n",
    "    'SupercellAny', 'SevereAny', 'TorAny', 'Start', 'End', 'Life (in mins)', 'Demise', 'Ini_Lat', 'Ini_Lon',  \n",
    "    'cenlat', 'cenlon', 'ModelLat', 'ModelLon', 'Prof_QC_issue_(bool)',\n",
    "    \n",
    "    'sbLCL','mlLCL','muLCL','sbLFC','mlLFC','muLFC','sb_LFC_LCL_diff','ml_LFC_LCL_diff','mu_LFC_LCL_diff',\n",
    "    'pbl_top','EIL_depth','EIL_PBL_hgtdiff','sbMaxOmegaH','mlMaxOmegaH','muMaxOmegaH',\n",
    "    'sbHLFC','mlHLFC', 'muHLFC', 'deltaZstar',\n",
    "    \n",
    "    'sbMaxOmega','mlMaxOmega','muMaxOmega','sbSCconv','mlSCconv','muSCconv','sbPLconv','mlPLconv','muPLconv',\n",
    "    \n",
    "    'sfc1kmLapse','sfc2kmLapse','sfc3kmLapse','3_6kmLapse','5_700mbLapse','sbACBLlapse','mlACBLlapse','muACBLlapse',\n",
    "    'sb_lapse_LFC_LCL','ml_lapse_LFC_LCL','mu_lapse_LFC_LCL','esl_25_depth','esl_40_depth',\n",
    "    \n",
    "    'sbMRD','mlMRD','muMRD',\n",
    "    'pwat',\n",
    "    'ThetaEindex',\n",
    "    'maxTE3kmhgt','maxQ3kmhgt',\n",
    "    'meanRH100mb','meanQ100mb','meanTe100mb',\n",
    "    'meanRH1km','meanQ1km','meanTe1km',\n",
    "    'meanRH150mb','meanQ150mb','meanTe150mb',\n",
    "    'meanRH150_300mb','meanQ150_300mb','meanTe150_300mb',\n",
    "    'meanRHpbl','meanQpbl','meanTepbl',\n",
    "    'meanRH1_3km','meanQ1_3km','meanTe1_3km',\n",
    "    'meanRH_EIL','meanQ_EIL','meanTe_EIL',\n",
    "    'sb_meanRH_LFC_LCL','ml_meanRH_LFC_LCL','mu_meanRH_LFC_LCL',\n",
    "    'sb_meanQ_LFC_LCL','ml_meanQ_LFC_LCL','mu_meanQ_LFC_LCL',\n",
    "    'sb_meanTe_LFC_LCL','ml_meanTe_LFC_LCL','mu_meanTe_LFC_LCL',\n",
    "    'meanRHsb_ACBL','meanRHml_ACBL','meanRHmu_ACBL',\n",
    "    'meanQsb_ACBL','meanQml_ACBL','meanQmu_ACBL',\n",
    "    'meanTesb_ACBL','meanTeml_ACBL','meanTemu_ACBL',\n",
    "    'meanRHsb_LCL2k','meanRHml_LCL2k','meanRHmu_LCL2k',\n",
    "    'meanQsb_LCL2k','meanQml_LCL2k','meanQmu_LCL2k',\n",
    "    'meanTesb_LCL2k','meanTeml_LCL2k','meanTemu_LCL2k',\n",
    "    '500m_3km_RH', '500m_4km_RH', '500m_5km_RH', '500m_6km_RH',\n",
    "    '1000m_3km_RH', '1000m_4km_RH', '1000m_5km_RH', '1000m_6km_RH',\n",
    "    '1500m_3km_RH', '1500m_4km_RH', '1500m_5km_RH', '1500m_6km_RH',\n",
    "    '2000m_3km_RH', '2000m_4km_RH', '2000m_5km_RH', '2000m_6km_RH',\n",
    "    '2500m_3km_RH', '2500m_4km_RH', '2500m_5km_RH', '2500m_6km_RH',\n",
    "    '3000m_4km_RH', '3000m_5km_RH', '3000m_6km_RH',\n",
    "    \n",
    "    'sbCAPE','mlCAPE','muCAPE',\n",
    "    'sb_LCLCAPE','ml_LCLCAPE','mu_LCLCAPE',\n",
    "    'sb3CAPE','ml3CAPE','mu3CAPE',\n",
    "    'sb6CAPE','ml6CAPE','mu6CAPE','sbFrzCAPE','mlFrzCAPE','muFrzCAPE',\n",
    "    'dCAPE',\n",
    "    'sb_LImax','ml_LImax','mu_LImax',\n",
    "    'eCAPE',\n",
    "    'sbCAPE_500m_3km','sbCAPE_500m_4km','sbCAPE_500m_5km','sbCAPE_500m_6km',\n",
    "    'mlCAPE_500m_3km','mlCAPE_500m_4km','mlCAPE_500m_5km','mlCAPE_500m_6km',\n",
    "    'muCAPE_500m_3km','muCAPE_500m_4km','muCAPE_500m_5km','muCAPE_500m_6km',\n",
    "    'sbCAPE_1_3km','sbCAPE_1_4km','sbCAPE_1_5km','sbCAPE_1_6km',\n",
    "    'mlCAPE_1_3km','mlCAPE_1_4km','mlCAPE_1_5km','mlCAPE_1_6km',\n",
    "    'muCAPE_1_3km','muCAPE_1_4km','muCAPE_1_5km','muCAPE_1_6km',\n",
    "    'sbCAPE_1500m_3km','sbCAPE_1500m_4km','sbCAPE_1500m_5km','sbCAPE_1500m_6km',\n",
    "    'mlCAPE_1500m_3km','mlCAPE_1500m_4km','mlCAPE_1500m_5km','mlCAPE_1500m_6km',\n",
    "    'muCAPE_1500m_3km','muCAPE_1500m_4km','muCAPE_1500m_5km','muCAPE_1500m_6km',\n",
    "    'sbCAPE_2_3km','sbCAPE_2_4km','sbCAPE_2_5km','sbCAPE_2_6km',\n",
    "    'mlCAPE_2_3km','mlCAPE_2_4km','mlCAPE_2_5km','mlCAPE_2_6km',\n",
    "    'muCAPE_2_3km','muCAPE_2_4km','muCAPE_2_5km','muCAPE_2_6km',\n",
    "    \n",
    "    'sbCIN','mlCIN','muCIN',\n",
    "    'ConvectiveT','700mbTemp',\n",
    "    'sbCIN_500m_3km','sbCIN_500m_4km','sbCIN_500m_5km','sbCIN_500m_6km',\n",
    "    'mlCIN_500m_3km','mlCIN_500m_4km','mlCIN_500m_5km','mlCIN_500m_6km',\n",
    "    'muCIN_500m_3km','muCIN_500m_4km','muCIN_500m_5km','muCIN_500m_6km',\n",
    "    'sbCIN_1_3km','sbCIN_1_4km','sbCIN_1_5km','sbCIN_1_6km',\n",
    "    'mlCIN_1_3km','mlCIN_1_4km','mlCIN_1_5km','mlCIN_1_6km',\n",
    "    'muCIN_1_3km','muCIN_1_4km','muCIN_1_5km','muCIN_1_6km',\n",
    "    'sbCIN_1500m_3km','sbCIN_1500m_4km','sbCIN_1500m_5km','sbCIN_1500m_6km',\n",
    "    'mlCIN_1500m_3km','mlCIN_1500m_4km','mlCIN_1500m_5km','mlCIN_1500m_6km',\n",
    "    'muCIN_1500m_3km','muCIN_1500m_4km','muCIN_1500m_5km','muCIN_1500m_6km',\n",
    "    'sbCIN_2_3km','sbCIN_2_4km','sbCIN_2_5km','sbCIN_2_6km',\n",
    "    'mlCIN_2_3km','mlCIN_2_4km','mlCIN_2_5km','mlCIN_2_6km',\n",
    "    'muCIN_2_3km','muCIN_2_4km','muCIN_2_5km','muCIN_2_6km',\n",
    "    \n",
    "    'bunkersRMU','bunkersRMV','bunkersRM','bunkersRMangle',\n",
    "    \n",
    "    'sfc500mSRH','sfc1kmSRH','sfc3kmSRH','ESRH',\n",
    "    \n",
    "    '0_500_m_BWD','0_1_km_BWD','0_2_km_BWD','0_3_km_BWD','0_5_km_BWD', '0_6_km_BWD',\n",
    "    '0_8_km_BWD','EIL_BWD','sb_Effective_BWD','ml_Effective_BWD','mu_Effective_BWD',\n",
    "    'sb_LCL_EL_BWD','ml_LCL_EL_BWD','mu_LCL_EL_BWD',\n",
    "    \n",
    "    '0_500mSRflow','0_1kmSRflow','0_2kmSRflow','0_3kmSRflow','0_6kmSRflow','0_8kmSRflow',\n",
    "    '4_5kmSRflow','4_6kmSRflow','sb_LCL_EL_SRflow','ml_LCL_EL_SRflow','mu_LCL_EL_SRflow','EIL_SRflow',\n",
    "    \n",
    "    'sbSCshear','mlSCshear','muSCshear','sbACBLshear','mlACBLshear','muACBLshear',\n",
    "    'critAngle','sb_brnSHR','ml_brnSHR','mu_brnSHR',\n",
    "    'MeanShearValue_500m','MeanSWvalue_500m','MeanSWpercvalue_500m',\n",
    "    'MeanShearValue_1km','MeanSWvalue_1km','MeanSWpercvalue_1km',\n",
    "    'MeanShearValue_3km','MeanSWvalue_3km','MeanSWpercvalue_3km',\n",
    "    '1_3km_Shear','1_3km_SW','1_3km_SW_perc',\n",
    "    \n",
    "    'SCP','STP_FL','STP_EL','STP_500','VTP','sbBRN','mlBRN','muBRN','DCP',\n",
    "    'WDP','SHP','SigSev','sb01ehi','sb03ehi','ml01ehi','ml03ehi','mu01ehi','mu03ehi'\n",
    "]\n",
    "\n",
    "# Create the DataFrame\n",
    "df1 = pd.DataFrame(columns=parameters)"
   ]
  },
  {
   "cell_type": "code",
   "execution_count": 130,
   "id": "12ee399e",
   "metadata": {
    "scrolled": true
   },
   "outputs": [
    {
     "name": "stderr",
     "output_type": "stream",
     "text": [
      "C:\\Users\\kyled\\AppData\\Local\\Temp\\ipykernel_170976\\2680908632.py:87: UserWarning: Relative humidity >120%, ensure proper units.\n",
      "  Td=dewpoint_from_specific_humidity(lev* units('hPa'),T* units('kelvin'),q)\n",
      "D:\\Anaconda3\\envs\\THESIS\\lib\\site-packages\\metpy\\calc\\thermo.py:1396: RuntimeWarning: divide by zero encountered in log\n",
      "  val = np.log(vapor_pressure / mpconsts.nounit.sat_pressure_0c)\n",
      "D:\\Anaconda3\\envs\\THESIS\\lib\\site-packages\\metpy\\calc\\thermo.py:1397: RuntimeWarning: invalid value encountered in divide\n",
      "  return mpconsts.nounit.zero_degc + 243.5 * val / (17.67 - val)\n"
     ]
    },
    {
     "name": "stdout",
     "output_type": "stream",
     "text": [
      "34.01502 -98.82429\n",
      "34.01524079477599 -98.83613665918432 \n",
      "\n"
     ]
    },
    {
     "name": "stderr",
     "output_type": "stream",
     "text": [
      "D:\\Anaconda3\\envs\\THESIS\\lib\\site-packages\\numpy\\lib\\function_base.py:1594: UserWarning: Warning: converting a masked element to nan.\n",
      "  return interp_func(x, xp, fp, left, right)\n",
      "D:\\Anaconda3\\envs\\THESIS\\lib\\site-packages\\sharppy\\sharptab\\params.py:1310: RuntimeWarning: invalid value encountered in double_scalars\n",
      "  return (tv2 - tv1) / (z2 - z1) * -1000.\n"
     ]
    },
    {
     "name": "stdout",
     "output_type": "stream",
     "text": [
      "0 4193.3277570274195\n"
     ]
    },
    {
     "name": "stderr",
     "output_type": "stream",
     "text": [
      "C:\\Users\\kyled\\AppData\\Local\\Temp\\ipykernel_170976\\2680908632.py:87: UserWarning: Relative humidity >120%, ensure proper units.\n",
      "  Td=dewpoint_from_specific_humidity(lev* units('hPa'),T* units('kelvin'),q)\n",
      "D:\\Anaconda3\\envs\\THESIS\\lib\\site-packages\\metpy\\calc\\thermo.py:1396: RuntimeWarning: divide by zero encountered in log\n",
      "  val = np.log(vapor_pressure / mpconsts.nounit.sat_pressure_0c)\n",
      "D:\\Anaconda3\\envs\\THESIS\\lib\\site-packages\\metpy\\calc\\thermo.py:1397: RuntimeWarning: invalid value encountered in divide\n",
      "  return mpconsts.nounit.zero_degc + 243.5 * val / (17.67 - val)\n"
     ]
    },
    {
     "name": "stdout",
     "output_type": "stream",
     "text": [
      "34.35904 -98.6361\n",
      "34.36713630936647 -98.64670535908851 \n",
      "\n"
     ]
    },
    {
     "name": "stderr",
     "output_type": "stream",
     "text": [
      "D:\\Anaconda3\\envs\\THESIS\\lib\\site-packages\\numpy\\lib\\function_base.py:1594: UserWarning: Warning: converting a masked element to nan.\n",
      "  return interp_func(x, xp, fp, left, right)\n"
     ]
    },
    {
     "name": "stdout",
     "output_type": "stream",
     "text": [
      "1 3655.185387053656\n"
     ]
    },
    {
     "name": "stderr",
     "output_type": "stream",
     "text": [
      "C:\\Users\\kyled\\AppData\\Local\\Temp\\ipykernel_170976\\2680908632.py:87: UserWarning: Relative humidity >120%, ensure proper units.\n",
      "  Td=dewpoint_from_specific_humidity(lev* units('hPa'),T* units('kelvin'),q)\n",
      "D:\\Anaconda3\\envs\\THESIS\\lib\\site-packages\\metpy\\calc\\thermo.py:1396: RuntimeWarning: divide by zero encountered in log\n",
      "  val = np.log(vapor_pressure / mpconsts.nounit.sat_pressure_0c)\n",
      "D:\\Anaconda3\\envs\\THESIS\\lib\\site-packages\\metpy\\calc\\thermo.py:1397: RuntimeWarning: invalid value encountered in divide\n",
      "  return mpconsts.nounit.zero_degc + 243.5 * val / (17.67 - val)\n"
     ]
    },
    {
     "name": "stdout",
     "output_type": "stream",
     "text": [
      "33.70094 -99.0484\n",
      "33.689621188007415 -99.05667095882376 \n",
      "\n"
     ]
    },
    {
     "name": "stderr",
     "output_type": "stream",
     "text": [
      "D:\\Anaconda3\\envs\\THESIS\\lib\\site-packages\\numpy\\lib\\function_base.py:1594: UserWarning: Warning: converting a masked element to nan.\n",
      "  return interp_func(x, xp, fp, left, right)\n",
      "D:\\Anaconda3\\envs\\THESIS\\lib\\site-packages\\sharppy\\sharptab\\params.py:1310: RuntimeWarning: invalid value encountered in double_scalars\n",
      "  return (tv2 - tv1) / (z2 - z1) * -1000.\n"
     ]
    },
    {
     "name": "stdout",
     "output_type": "stream",
     "text": [
      "2 4475.967660517061\n"
     ]
    },
    {
     "name": "stderr",
     "output_type": "stream",
     "text": [
      "C:\\Users\\kyled\\AppData\\Local\\Temp\\ipykernel_170976\\2680908632.py:87: UserWarning: Relative humidity >120%, ensure proper units.\n",
      "  Td=dewpoint_from_specific_humidity(lev* units('hPa'),T* units('kelvin'),q)\n",
      "D:\\Anaconda3\\envs\\THESIS\\lib\\site-packages\\metpy\\calc\\thermo.py:1396: RuntimeWarning: divide by zero encountered in log\n",
      "  val = np.log(vapor_pressure / mpconsts.nounit.sat_pressure_0c)\n",
      "D:\\Anaconda3\\envs\\THESIS\\lib\\site-packages\\metpy\\calc\\thermo.py:1397: RuntimeWarning: invalid value encountered in divide\n",
      "  return mpconsts.nounit.zero_degc + 243.5 * val / (17.67 - val)\n"
     ]
    },
    {
     "name": "stdout",
     "output_type": "stream",
     "text": [
      "33.21534 -99.305\n",
      "33.202007881834376 -99.30372316024796 \n",
      "\n"
     ]
    },
    {
     "name": "stderr",
     "output_type": "stream",
     "text": [
      "D:\\Anaconda3\\envs\\THESIS\\lib\\site-packages\\numpy\\lib\\function_base.py:1594: UserWarning: Warning: converting a masked element to nan.\n",
      "  return interp_func(x, xp, fp, left, right)\n",
      "D:\\Anaconda3\\envs\\THESIS\\lib\\site-packages\\sharppy\\sharptab\\params.py:1310: RuntimeWarning: invalid value encountered in double_scalars\n",
      "  return (tv2 - tv1) / (z2 - z1) * -1000.\n"
     ]
    },
    {
     "name": "stdout",
     "output_type": "stream",
     "text": [
      "3 4205.4142757919035\n"
     ]
    },
    {
     "name": "stderr",
     "output_type": "stream",
     "text": [
      "C:\\Users\\kyled\\AppData\\Local\\Temp\\ipykernel_170976\\2680908632.py:87: UserWarning: Relative humidity >120%, ensure proper units.\n",
      "  Td=dewpoint_from_specific_humidity(lev* units('hPa'),T* units('kelvin'),q)\n",
      "D:\\Anaconda3\\envs\\THESIS\\lib\\site-packages\\metpy\\calc\\thermo.py:1396: RuntimeWarning: divide by zero encountered in log\n",
      "  val = np.log(vapor_pressure / mpconsts.nounit.sat_pressure_0c)\n",
      "D:\\Anaconda3\\envs\\THESIS\\lib\\site-packages\\metpy\\calc\\thermo.py:1397: RuntimeWarning: invalid value encountered in divide\n",
      "  return mpconsts.nounit.zero_degc + 243.5 * val / (17.67 - val)\n"
     ]
    },
    {
     "name": "stdout",
     "output_type": "stream",
     "text": [
      "34.48013 -97.11698\n",
      "34.48001201281668 -97.11386953955218 \n",
      "\n"
     ]
    },
    {
     "name": "stderr",
     "output_type": "stream",
     "text": [
      "D:\\Anaconda3\\envs\\THESIS\\lib\\site-packages\\numpy\\lib\\function_base.py:1594: UserWarning: Warning: converting a masked element to nan.\n",
      "  return interp_func(x, xp, fp, left, right)\n",
      "D:\\Anaconda3\\envs\\THESIS\\lib\\site-packages\\sharppy\\sharptab\\params.py:1310: RuntimeWarning: invalid value encountered in double_scalars\n",
      "  return (tv2 - tv1) / (z2 - z1) * -1000.\n"
     ]
    },
    {
     "name": "stdout",
     "output_type": "stream",
     "text": [
      "4 4213.52993551436\n"
     ]
    },
    {
     "name": "stderr",
     "output_type": "stream",
     "text": [
      "C:\\Users\\kyled\\AppData\\Local\\Temp\\ipykernel_170976\\2680908632.py:87: UserWarning: Relative humidity >120%, ensure proper units.\n",
      "  Td=dewpoint_from_specific_humidity(lev* units('hPa'),T* units('kelvin'),q)\n",
      "D:\\Anaconda3\\envs\\THESIS\\lib\\site-packages\\metpy\\calc\\thermo.py:1396: RuntimeWarning: divide by zero encountered in log\n",
      "  val = np.log(vapor_pressure / mpconsts.nounit.sat_pressure_0c)\n",
      "D:\\Anaconda3\\envs\\THESIS\\lib\\site-packages\\metpy\\calc\\thermo.py:1397: RuntimeWarning: invalid value encountered in divide\n",
      "  return mpconsts.nounit.zero_degc + 243.5 * val / (17.67 - val)\n"
     ]
    },
    {
     "name": "stdout",
     "output_type": "stream",
     "text": [
      "34.52784 -97.5016\n",
      "34.53450828032547 -97.50566480976721 \n",
      "\n"
     ]
    },
    {
     "name": "stderr",
     "output_type": "stream",
     "text": [
      "D:\\Anaconda3\\envs\\THESIS\\lib\\site-packages\\numpy\\lib\\function_base.py:1594: UserWarning: Warning: converting a masked element to nan.\n",
      "  return interp_func(x, xp, fp, left, right)\n",
      "D:\\Anaconda3\\envs\\THESIS\\lib\\site-packages\\sharppy\\sharptab\\params.py:1310: RuntimeWarning: invalid value encountered in double_scalars\n",
      "  return (tv2 - tv1) / (z2 - z1) * -1000.\n"
     ]
    },
    {
     "name": "stdout",
     "output_type": "stream",
     "text": [
      "5 4526.213220520326\n"
     ]
    },
    {
     "name": "stderr",
     "output_type": "stream",
     "text": [
      "C:\\Users\\kyled\\AppData\\Local\\Temp\\ipykernel_170976\\2680908632.py:87: UserWarning: Relative humidity >120%, ensure proper units.\n",
      "  Td=dewpoint_from_specific_humidity(lev* units('hPa'),T* units('kelvin'),q)\n",
      "D:\\Anaconda3\\envs\\THESIS\\lib\\site-packages\\metpy\\calc\\thermo.py:1396: RuntimeWarning: divide by zero encountered in log\n",
      "  val = np.log(vapor_pressure / mpconsts.nounit.sat_pressure_0c)\n",
      "D:\\Anaconda3\\envs\\THESIS\\lib\\site-packages\\metpy\\calc\\thermo.py:1397: RuntimeWarning: invalid value encountered in divide\n",
      "  return mpconsts.nounit.zero_degc + 243.5 * val / (17.67 - val)\n"
     ]
    },
    {
     "name": "stdout",
     "output_type": "stream",
     "text": [
      "34.35489 -97.4593\n",
      "34.3461198088236 -97.47305911607805 \n",
      "\n"
     ]
    },
    {
     "name": "stderr",
     "output_type": "stream",
     "text": [
      "D:\\Anaconda3\\envs\\THESIS\\lib\\site-packages\\numpy\\lib\\function_base.py:1594: UserWarning: Warning: converting a masked element to nan.\n",
      "  return interp_func(x, xp, fp, left, right)\n"
     ]
    },
    {
     "name": "stdout",
     "output_type": "stream",
     "text": [
      "6 4322.135121684374\n"
     ]
    },
    {
     "name": "stderr",
     "output_type": "stream",
     "text": [
      "C:\\Users\\kyled\\AppData\\Local\\Temp\\ipykernel_170976\\2680908632.py:87: UserWarning: Relative humidity >120%, ensure proper units.\n",
      "  Td=dewpoint_from_specific_humidity(lev* units('hPa'),T* units('kelvin'),q)\n",
      "D:\\Anaconda3\\envs\\THESIS\\lib\\site-packages\\metpy\\calc\\thermo.py:1396: RuntimeWarning: divide by zero encountered in log\n",
      "  val = np.log(vapor_pressure / mpconsts.nounit.sat_pressure_0c)\n",
      "D:\\Anaconda3\\envs\\THESIS\\lib\\site-packages\\metpy\\calc\\thermo.py:1397: RuntimeWarning: invalid value encountered in divide\n",
      "  return mpconsts.nounit.zero_degc + 243.5 * val / (17.67 - val)\n"
     ]
    },
    {
     "name": "stdout",
     "output_type": "stream",
     "text": [
      "36.25168 -97.353\n",
      "36.25846998134968 -97.33863572047574 \n",
      "\n"
     ]
    },
    {
     "name": "stderr",
     "output_type": "stream",
     "text": [
      "D:\\Anaconda3\\envs\\THESIS\\lib\\site-packages\\numpy\\lib\\function_base.py:1594: UserWarning: Warning: converting a masked element to nan.\n",
      "  return interp_func(x, xp, fp, left, right)\n",
      "C:\\Users\\kyled\\AppData\\Local\\Temp\\ipykernel_170976\\2212921743.py:375: UserWarning: Interpolation point out of data bounds encountered\n",
      "  cape, _ = cape_func[cape_type](pressure, temperature, dew_point_temperature)\n"
     ]
    },
    {
     "name": "stdout",
     "output_type": "stream",
     "text": [
      "7 59.868395255951114\n"
     ]
    },
    {
     "name": "stderr",
     "output_type": "stream",
     "text": [
      "C:\\Users\\kyled\\AppData\\Local\\Temp\\ipykernel_170976\\2680908632.py:87: UserWarning: Relative humidity >120%, ensure proper units.\n",
      "  Td=dewpoint_from_specific_humidity(lev* units('hPa'),T* units('kelvin'),q)\n",
      "D:\\Anaconda3\\envs\\THESIS\\lib\\site-packages\\metpy\\calc\\thermo.py:1396: RuntimeWarning: divide by zero encountered in log\n",
      "  val = np.log(vapor_pressure / mpconsts.nounit.sat_pressure_0c)\n",
      "D:\\Anaconda3\\envs\\THESIS\\lib\\site-packages\\metpy\\calc\\thermo.py:1397: RuntimeWarning: invalid value encountered in divide\n",
      "  return mpconsts.nounit.zero_degc + 243.5 * val / (17.67 - val)\n"
     ]
    },
    {
     "name": "stdout",
     "output_type": "stream",
     "text": [
      "36.49945 -96.7898\n",
      "36.499096409467136 -96.80145023675175 \n",
      "\n"
     ]
    },
    {
     "name": "stderr",
     "output_type": "stream",
     "text": [
      "D:\\Anaconda3\\envs\\THESIS\\lib\\site-packages\\numpy\\lib\\function_base.py:1594: UserWarning: Warning: converting a masked element to nan.\n",
      "  return interp_func(x, xp, fp, left, right)\n",
      "D:\\Anaconda3\\envs\\THESIS\\lib\\site-packages\\sharppy\\sharptab\\params.py:1310: RuntimeWarning: invalid value encountered in double_scalars\n",
      "  return (tv2 - tv1) / (z2 - z1) * -1000.\n"
     ]
    },
    {
     "name": "stdout",
     "output_type": "stream",
     "text": [
      "8 827.6643229725597\n"
     ]
    },
    {
     "name": "stderr",
     "output_type": "stream",
     "text": [
      "C:\\Users\\kyled\\AppData\\Local\\Temp\\ipykernel_170976\\2680908632.py:87: UserWarning: Relative humidity >120%, ensure proper units.\n",
      "  Td=dewpoint_from_specific_humidity(lev* units('hPa'),T* units('kelvin'),q)\n",
      "D:\\Anaconda3\\envs\\THESIS\\lib\\site-packages\\metpy\\calc\\thermo.py:1396: RuntimeWarning: divide by zero encountered in log\n",
      "  val = np.log(vapor_pressure / mpconsts.nounit.sat_pressure_0c)\n",
      "D:\\Anaconda3\\envs\\THESIS\\lib\\site-packages\\metpy\\calc\\thermo.py:1397: RuntimeWarning: invalid value encountered in divide\n",
      "  return mpconsts.nounit.zero_degc + 243.5 * val / (17.67 - val)\n"
     ]
    },
    {
     "name": "stdout",
     "output_type": "stream",
     "text": [
      "35.53434 -98.0131\n",
      "35.529792867611114 -98.00234755972542 \n",
      "\n"
     ]
    },
    {
     "name": "stderr",
     "output_type": "stream",
     "text": [
      "D:\\Anaconda3\\envs\\THESIS\\lib\\site-packages\\numpy\\lib\\function_base.py:1594: UserWarning: Warning: converting a masked element to nan.\n",
      "  return interp_func(x, xp, fp, left, right)\n"
     ]
    },
    {
     "name": "stdout",
     "output_type": "stream",
     "text": [
      "9 4473.279346862037\n"
     ]
    },
    {
     "name": "stderr",
     "output_type": "stream",
     "text": [
      "C:\\Users\\kyled\\AppData\\Local\\Temp\\ipykernel_170976\\2680908632.py:87: UserWarning: Relative humidity >120%, ensure proper units.\n",
      "  Td=dewpoint_from_specific_humidity(lev* units('hPa'),T* units('kelvin'),q)\n",
      "D:\\Anaconda3\\envs\\THESIS\\lib\\site-packages\\metpy\\calc\\thermo.py:1396: RuntimeWarning: divide by zero encountered in log\n",
      "  val = np.log(vapor_pressure / mpconsts.nounit.sat_pressure_0c)\n",
      "D:\\Anaconda3\\envs\\THESIS\\lib\\site-packages\\metpy\\calc\\thermo.py:1397: RuntimeWarning: invalid value encountered in divide\n",
      "  return mpconsts.nounit.zero_degc + 243.5 * val / (17.67 - val)\n"
     ]
    },
    {
     "name": "stdout",
     "output_type": "stream",
     "text": [
      "35.9475 -97.8467\n",
      "35.934617532578685 -97.83864077017722 \n",
      "\n"
     ]
    },
    {
     "name": "stderr",
     "output_type": "stream",
     "text": [
      "D:\\Anaconda3\\envs\\THESIS\\lib\\site-packages\\numpy\\lib\\function_base.py:1594: UserWarning: Warning: converting a masked element to nan.\n",
      "  return interp_func(x, xp, fp, left, right)\n"
     ]
    },
    {
     "name": "stdout",
     "output_type": "stream",
     "text": [
      "10 3746.8475959996445\n"
     ]
    },
    {
     "name": "stderr",
     "output_type": "stream",
     "text": [
      "C:\\Users\\kyled\\AppData\\Local\\Temp\\ipykernel_170976\\2680908632.py:87: UserWarning: Relative humidity >120%, ensure proper units.\n",
      "  Td=dewpoint_from_specific_humidity(lev* units('hPa'),T* units('kelvin'),q)\n",
      "D:\\Anaconda3\\envs\\THESIS\\lib\\site-packages\\metpy\\calc\\thermo.py:1396: RuntimeWarning: divide by zero encountered in log\n",
      "  val = np.log(vapor_pressure / mpconsts.nounit.sat_pressure_0c)\n",
      "D:\\Anaconda3\\envs\\THESIS\\lib\\site-packages\\metpy\\calc\\thermo.py:1397: RuntimeWarning: invalid value encountered in divide\n",
      "  return mpconsts.nounit.zero_degc + 243.5 * val / (17.67 - val)\n"
     ]
    },
    {
     "name": "stdout",
     "output_type": "stream",
     "text": [
      "33.28766 -99.4052\n",
      "33.28097228607397 -99.40201663981168 \n",
      "\n"
     ]
    },
    {
     "name": "stderr",
     "output_type": "stream",
     "text": [
      "D:\\Anaconda3\\envs\\THESIS\\lib\\site-packages\\numpy\\lib\\function_base.py:1594: UserWarning: Warning: converting a masked element to nan.\n",
      "  return interp_func(x, xp, fp, left, right)\n",
      "D:\\Anaconda3\\envs\\THESIS\\lib\\site-packages\\sharppy\\sharptab\\params.py:1310: RuntimeWarning: invalid value encountered in double_scalars\n",
      "  return (tv2 - tv1) / (z2 - z1) * -1000.\n"
     ]
    },
    {
     "name": "stdout",
     "output_type": "stream",
     "text": [
      "11 4438.170321313342\n"
     ]
    },
    {
     "name": "stderr",
     "output_type": "stream",
     "text": [
      "C:\\Users\\kyled\\AppData\\Local\\Temp\\ipykernel_170976\\2680908632.py:87: UserWarning: Relative humidity >120%, ensure proper units.\n",
      "  Td=dewpoint_from_specific_humidity(lev* units('hPa'),T* units('kelvin'),q)\n",
      "D:\\Anaconda3\\envs\\THESIS\\lib\\site-packages\\metpy\\calc\\thermo.py:1396: RuntimeWarning: divide by zero encountered in log\n",
      "  val = np.log(vapor_pressure / mpconsts.nounit.sat_pressure_0c)\n",
      "D:\\Anaconda3\\envs\\THESIS\\lib\\site-packages\\metpy\\calc\\thermo.py:1397: RuntimeWarning: invalid value encountered in divide\n",
      "  return mpconsts.nounit.zero_degc + 243.5 * val / (17.67 - val)\n"
     ]
    },
    {
     "name": "stdout",
     "output_type": "stream",
     "text": [
      "32.81669 -99.5684\n",
      "32.82097762264339 -99.58245086230966 \n",
      "\n"
     ]
    },
    {
     "name": "stderr",
     "output_type": "stream",
     "text": [
      "D:\\Anaconda3\\envs\\THESIS\\lib\\site-packages\\numpy\\lib\\function_base.py:1594: UserWarning: Warning: converting a masked element to nan.\n",
      "  return interp_func(x, xp, fp, left, right)\n",
      "D:\\Anaconda3\\envs\\THESIS\\lib\\site-packages\\sharppy\\sharptab\\params.py:1310: RuntimeWarning: invalid value encountered in double_scalars\n",
      "  return (tv2 - tv1) / (z2 - z1) * -1000.\n"
     ]
    },
    {
     "name": "stdout",
     "output_type": "stream",
     "text": [
      "12 4173.1504530501825\n"
     ]
    },
    {
     "name": "stderr",
     "output_type": "stream",
     "text": [
      "D:\\Anaconda3\\envs\\THESIS\\lib\\site-packages\\metpy\\calc\\thermo.py:1396: RuntimeWarning: divide by zero encountered in log\n",
      "  val = np.log(vapor_pressure / mpconsts.nounit.sat_pressure_0c)\n",
      "D:\\Anaconda3\\envs\\THESIS\\lib\\site-packages\\metpy\\calc\\thermo.py:1397: RuntimeWarning: invalid value encountered in divide\n",
      "  return mpconsts.nounit.zero_degc + 243.5 * val / (17.67 - val)\n"
     ]
    },
    {
     "name": "stdout",
     "output_type": "stream",
     "text": [
      "34.19962 -98.2043\n",
      "34.20945701939698 -98.18884297642336 \n",
      "\n"
     ]
    },
    {
     "name": "stderr",
     "output_type": "stream",
     "text": [
      "D:\\Anaconda3\\envs\\THESIS\\lib\\site-packages\\numpy\\lib\\function_base.py:1594: UserWarning: Warning: converting a masked element to nan.\n",
      "  return interp_func(x, xp, fp, left, right)\n",
      "C:\\Users\\kyled\\AppData\\Local\\Temp\\ipykernel_170976\\2212921743.py:375: UserWarning: Interpolation point out of data bounds encountered\n",
      "  cape, _ = cape_func[cape_type](pressure, temperature, dew_point_temperature)\n"
     ]
    },
    {
     "name": "stdout",
     "output_type": "stream",
     "text": [
      "13 3235.6976477220874\n"
     ]
    },
    {
     "name": "stderr",
     "output_type": "stream",
     "text": [
      "C:\\Users\\kyled\\AppData\\Local\\Temp\\ipykernel_170976\\2680908632.py:87: UserWarning: Relative humidity >120%, ensure proper units.\n",
      "  Td=dewpoint_from_specific_humidity(lev* units('hPa'),T* units('kelvin'),q)\n",
      "D:\\Anaconda3\\envs\\THESIS\\lib\\site-packages\\metpy\\calc\\thermo.py:1396: RuntimeWarning: divide by zero encountered in log\n",
      "  val = np.log(vapor_pressure / mpconsts.nounit.sat_pressure_0c)\n",
      "D:\\Anaconda3\\envs\\THESIS\\lib\\site-packages\\metpy\\calc\\thermo.py:1397: RuntimeWarning: invalid value encountered in divide\n",
      "  return mpconsts.nounit.zero_degc + 243.5 * val / (17.67 - val)\n"
     ]
    },
    {
     "name": "stdout",
     "output_type": "stream",
     "text": [
      "33.5199 -99.2017\n",
      "33.52596305297134 -99.21459345600806 \n",
      "\n"
     ]
    },
    {
     "name": "stderr",
     "output_type": "stream",
     "text": [
      "D:\\Anaconda3\\envs\\THESIS\\lib\\site-packages\\numpy\\lib\\function_base.py:1594: UserWarning: Warning: converting a masked element to nan.\n",
      "  return interp_func(x, xp, fp, left, right)\n"
     ]
    },
    {
     "name": "stdout",
     "output_type": "stream",
     "text": [
      "14 5093.87055756261\n"
     ]
    },
    {
     "name": "stderr",
     "output_type": "stream",
     "text": [
      "C:\\Users\\kyled\\AppData\\Local\\Temp\\ipykernel_170976\\2680908632.py:87: UserWarning: Relative humidity >120%, ensure proper units.\n",
      "  Td=dewpoint_from_specific_humidity(lev* units('hPa'),T* units('kelvin'),q)\n",
      "D:\\Anaconda3\\envs\\THESIS\\lib\\site-packages\\metpy\\calc\\thermo.py:1396: RuntimeWarning: divide by zero encountered in log\n",
      "  val = np.log(vapor_pressure / mpconsts.nounit.sat_pressure_0c)\n",
      "D:\\Anaconda3\\envs\\THESIS\\lib\\site-packages\\metpy\\calc\\thermo.py:1397: RuntimeWarning: invalid value encountered in divide\n",
      "  return mpconsts.nounit.zero_degc + 243.5 * val / (17.67 - val)\n"
     ]
    },
    {
     "name": "stdout",
     "output_type": "stream",
     "text": [
      "33.96572 -98.4282\n",
      "33.96572442809819 -98.41365744466668 \n",
      "\n"
     ]
    },
    {
     "name": "stderr",
     "output_type": "stream",
     "text": [
      "D:\\Anaconda3\\envs\\THESIS\\lib\\site-packages\\numpy\\lib\\function_base.py:1594: UserWarning: Warning: converting a masked element to nan.\n",
      "  return interp_func(x, xp, fp, left, right)\n"
     ]
    },
    {
     "name": "stdout",
     "output_type": "stream",
     "text": [
      "15 3794.6736776845614\n"
     ]
    },
    {
     "name": "stderr",
     "output_type": "stream",
     "text": [
      "C:\\Users\\kyled\\AppData\\Local\\Temp\\ipykernel_170976\\2680908632.py:87: UserWarning: Relative humidity >120%, ensure proper units.\n",
      "  Td=dewpoint_from_specific_humidity(lev* units('hPa'),T* units('kelvin'),q)\n",
      "D:\\Anaconda3\\envs\\THESIS\\lib\\site-packages\\metpy\\calc\\thermo.py:1396: RuntimeWarning: divide by zero encountered in log\n",
      "  val = np.log(vapor_pressure / mpconsts.nounit.sat_pressure_0c)\n",
      "D:\\Anaconda3\\envs\\THESIS\\lib\\site-packages\\metpy\\calc\\thermo.py:1397: RuntimeWarning: invalid value encountered in divide\n",
      "  return mpconsts.nounit.zero_degc + 243.5 * val / (17.67 - val)\n"
     ]
    },
    {
     "name": "stdout",
     "output_type": "stream",
     "text": [
      "33.75572 -98.8813\n",
      "33.7455440974739 -98.89610777786771 \n",
      "\n"
     ]
    },
    {
     "name": "stderr",
     "output_type": "stream",
     "text": [
      "D:\\Anaconda3\\envs\\THESIS\\lib\\site-packages\\numpy\\lib\\function_base.py:1594: UserWarning: Warning: converting a masked element to nan.\n",
      "  return interp_func(x, xp, fp, left, right)\n"
     ]
    },
    {
     "name": "stdout",
     "output_type": "stream",
     "text": [
      "16 4312.351243524714\n"
     ]
    },
    {
     "name": "stderr",
     "output_type": "stream",
     "text": [
      "C:\\Users\\kyled\\AppData\\Local\\Temp\\ipykernel_170976\\2680908632.py:87: UserWarning: Relative humidity >120%, ensure proper units.\n",
      "  Td=dewpoint_from_specific_humidity(lev* units('hPa'),T* units('kelvin'),q)\n",
      "D:\\Anaconda3\\envs\\THESIS\\lib\\site-packages\\metpy\\calc\\thermo.py:1396: RuntimeWarning: divide by zero encountered in log\n",
      "  val = np.log(vapor_pressure / mpconsts.nounit.sat_pressure_0c)\n",
      "D:\\Anaconda3\\envs\\THESIS\\lib\\site-packages\\metpy\\calc\\thermo.py:1397: RuntimeWarning: invalid value encountered in divide\n",
      "  return mpconsts.nounit.zero_degc + 243.5 * val / (17.67 - val)\n"
     ]
    },
    {
     "name": "stdout",
     "output_type": "stream",
     "text": [
      "35.39183 -97.8296\n",
      "35.395701394284366 -97.83620891254134 \n",
      "\n"
     ]
    },
    {
     "name": "stderr",
     "output_type": "stream",
     "text": [
      "D:\\Anaconda3\\envs\\THESIS\\lib\\site-packages\\numpy\\lib\\function_base.py:1594: UserWarning: Warning: converting a masked element to nan.\n",
      "  return interp_func(x, xp, fp, left, right)\n",
      "C:\\Users\\kyled\\AppData\\Local\\Temp\\ipykernel_170976\\2212921743.py:375: UserWarning: Interpolation point out of data bounds encountered\n",
      "  cape, _ = cape_func[cape_type](pressure, temperature, dew_point_temperature)\n"
     ]
    },
    {
     "name": "stdout",
     "output_type": "stream",
     "text": [
      "17 4297.208974947374\n"
     ]
    },
    {
     "name": "stderr",
     "output_type": "stream",
     "text": [
      "C:\\Users\\kyled\\AppData\\Local\\Temp\\ipykernel_170976\\2680908632.py:87: UserWarning: Relative humidity >120%, ensure proper units.\n",
      "  Td=dewpoint_from_specific_humidity(lev* units('hPa'),T* units('kelvin'),q)\n",
      "D:\\Anaconda3\\envs\\THESIS\\lib\\site-packages\\metpy\\calc\\thermo.py:1396: RuntimeWarning: divide by zero encountered in log\n",
      "  val = np.log(vapor_pressure / mpconsts.nounit.sat_pressure_0c)\n",
      "D:\\Anaconda3\\envs\\THESIS\\lib\\site-packages\\metpy\\calc\\thermo.py:1397: RuntimeWarning: invalid value encountered in divide\n",
      "  return mpconsts.nounit.zero_degc + 243.5 * val / (17.67 - val)\n"
     ]
    },
    {
     "name": "stdout",
     "output_type": "stream",
     "text": [
      "34.78308 -98.1693\n",
      "34.77482843253626 -98.16121877909706 \n",
      "\n"
     ]
    },
    {
     "name": "stderr",
     "output_type": "stream",
     "text": [
      "D:\\Anaconda3\\envs\\THESIS\\lib\\site-packages\\numpy\\lib\\function_base.py:1594: UserWarning: Warning: converting a masked element to nan.\n",
      "  return interp_func(x, xp, fp, left, right)\n"
     ]
    },
    {
     "name": "stdout",
     "output_type": "stream",
     "text": [
      "18 5012.057539597393\n"
     ]
    },
    {
     "name": "stderr",
     "output_type": "stream",
     "text": [
      "C:\\Users\\kyled\\AppData\\Local\\Temp\\ipykernel_170976\\2680908632.py:87: UserWarning: Relative humidity >120%, ensure proper units.\n",
      "  Td=dewpoint_from_specific_humidity(lev* units('hPa'),T* units('kelvin'),q)\n",
      "D:\\Anaconda3\\envs\\THESIS\\lib\\site-packages\\metpy\\calc\\thermo.py:1396: RuntimeWarning: divide by zero encountered in log\n",
      "  val = np.log(vapor_pressure / mpconsts.nounit.sat_pressure_0c)\n",
      "D:\\Anaconda3\\envs\\THESIS\\lib\\site-packages\\metpy\\calc\\thermo.py:1397: RuntimeWarning: invalid value encountered in divide\n",
      "  return mpconsts.nounit.zero_degc + 243.5 * val / (17.67 - val)\n"
     ]
    },
    {
     "name": "stdout",
     "output_type": "stream",
     "text": [
      "34.35989 -98.4618\n",
      "34.36897630914044 -98.45111165076588 \n",
      "\n"
     ]
    },
    {
     "name": "stderr",
     "output_type": "stream",
     "text": [
      "D:\\Anaconda3\\envs\\THESIS\\lib\\site-packages\\numpy\\lib\\function_base.py:1594: UserWarning: Warning: converting a masked element to nan.\n",
      "  return interp_func(x, xp, fp, left, right)\n",
      "D:\\Anaconda3\\envs\\THESIS\\lib\\site-packages\\sharppy\\sharptab\\params.py:1310: RuntimeWarning: invalid value encountered in double_scalars\n",
      "  return (tv2 - tv1) / (z2 - z1) * -1000.\n"
     ]
    },
    {
     "name": "stdout",
     "output_type": "stream",
     "text": [
      "19 4909.311957685049\n"
     ]
    },
    {
     "name": "stderr",
     "output_type": "stream",
     "text": [
      "C:\\Users\\kyled\\AppData\\Local\\Temp\\ipykernel_170976\\2680908632.py:87: UserWarning: Relative humidity >120%, ensure proper units.\n",
      "  Td=dewpoint_from_specific_humidity(lev* units('hPa'),T* units('kelvin'),q)\n",
      "D:\\Anaconda3\\envs\\THESIS\\lib\\site-packages\\metpy\\calc\\thermo.py:1396: RuntimeWarning: divide by zero encountered in log\n",
      "  val = np.log(vapor_pressure / mpconsts.nounit.sat_pressure_0c)\n",
      "D:\\Anaconda3\\envs\\THESIS\\lib\\site-packages\\metpy\\calc\\thermo.py:1397: RuntimeWarning: invalid value encountered in divide\n",
      "  return mpconsts.nounit.zero_degc + 243.5 * val / (17.67 - val)\n"
     ]
    },
    {
     "name": "stdout",
     "output_type": "stream",
     "text": [
      "34.32395 -97.7778\n",
      "34.318896242569444 -97.76628895327786 \n",
      "\n"
     ]
    },
    {
     "name": "stderr",
     "output_type": "stream",
     "text": [
      "D:\\Anaconda3\\envs\\THESIS\\lib\\site-packages\\numpy\\lib\\function_base.py:1594: UserWarning: Warning: converting a masked element to nan.\n",
      "  return interp_func(x, xp, fp, left, right)\n"
     ]
    },
    {
     "name": "stdout",
     "output_type": "stream",
     "text": [
      "20 4570.488301074346\n"
     ]
    },
    {
     "name": "stderr",
     "output_type": "stream",
     "text": [
      "C:\\Users\\kyled\\AppData\\Local\\Temp\\ipykernel_170976\\2680908632.py:87: UserWarning: Relative humidity >120%, ensure proper units.\n",
      "  Td=dewpoint_from_specific_humidity(lev* units('hPa'),T* units('kelvin'),q)\n",
      "D:\\Anaconda3\\envs\\THESIS\\lib\\site-packages\\metpy\\calc\\thermo.py:1396: RuntimeWarning: divide by zero encountered in log\n",
      "  val = np.log(vapor_pressure / mpconsts.nounit.sat_pressure_0c)\n",
      "D:\\Anaconda3\\envs\\THESIS\\lib\\site-packages\\metpy\\calc\\thermo.py:1397: RuntimeWarning: invalid value encountered in divide\n",
      "  return mpconsts.nounit.zero_degc + 243.5 * val / (17.67 - val)\n"
     ]
    },
    {
     "name": "stdout",
     "output_type": "stream",
     "text": [
      "34.52821 -97.7508\n",
      "34.53418928360087 -97.76704517973036 \n",
      "\n"
     ]
    },
    {
     "name": "stderr",
     "output_type": "stream",
     "text": [
      "D:\\Anaconda3\\envs\\THESIS\\lib\\site-packages\\numpy\\lib\\function_base.py:1594: UserWarning: Warning: converting a masked element to nan.\n",
      "  return interp_func(x, xp, fp, left, right)\n"
     ]
    },
    {
     "name": "stdout",
     "output_type": "stream",
     "text": [
      "21 4693.4561101895315\n"
     ]
    },
    {
     "name": "stderr",
     "output_type": "stream",
     "text": [
      "C:\\Users\\kyled\\AppData\\Local\\Temp\\ipykernel_170976\\2680908632.py:87: UserWarning: Relative humidity >120%, ensure proper units.\n",
      "  Td=dewpoint_from_specific_humidity(lev* units('hPa'),T* units('kelvin'),q)\n",
      "D:\\Anaconda3\\envs\\THESIS\\lib\\site-packages\\metpy\\calc\\thermo.py:1396: RuntimeWarning: divide by zero encountered in log\n",
      "  val = np.log(vapor_pressure / mpconsts.nounit.sat_pressure_0c)\n",
      "D:\\Anaconda3\\envs\\THESIS\\lib\\site-packages\\metpy\\calc\\thermo.py:1397: RuntimeWarning: invalid value encountered in divide\n",
      "  return mpconsts.nounit.zero_degc + 243.5 * val / (17.67 - val)\n"
     ]
    },
    {
     "name": "stdout",
     "output_type": "stream",
     "text": [
      "34.77893 -98.5083\n",
      "34.772120895592174 -98.52173913512559 \n",
      "\n"
     ]
    },
    {
     "name": "stderr",
     "output_type": "stream",
     "text": [
      "D:\\Anaconda3\\envs\\THESIS\\lib\\site-packages\\numpy\\lib\\function_base.py:1594: UserWarning: Warning: converting a masked element to nan.\n",
      "  return interp_func(x, xp, fp, left, right)\n"
     ]
    },
    {
     "name": "stdout",
     "output_type": "stream",
     "text": [
      "22 5471.569846407461\n"
     ]
    },
    {
     "name": "stderr",
     "output_type": "stream",
     "text": [
      "C:\\Users\\kyled\\AppData\\Local\\Temp\\ipykernel_170976\\2680908632.py:87: UserWarning: Relative humidity >120%, ensure proper units.\n",
      "  Td=dewpoint_from_specific_humidity(lev* units('hPa'),T* units('kelvin'),q)\n",
      "D:\\Anaconda3\\envs\\THESIS\\lib\\site-packages\\metpy\\calc\\thermo.py:1396: RuntimeWarning: divide by zero encountered in log\n",
      "  val = np.log(vapor_pressure / mpconsts.nounit.sat_pressure_0c)\n",
      "D:\\Anaconda3\\envs\\THESIS\\lib\\site-packages\\metpy\\calc\\thermo.py:1397: RuntimeWarning: invalid value encountered in divide\n",
      "  return mpconsts.nounit.zero_degc + 243.5 * val / (17.67 - val)\n"
     ]
    },
    {
     "name": "stdout",
     "output_type": "stream",
     "text": [
      "34.59323 -98.2537\n",
      "34.58577322402941 -98.25765634027499 \n",
      "\n"
     ]
    },
    {
     "name": "stderr",
     "output_type": "stream",
     "text": [
      "D:\\Anaconda3\\envs\\THESIS\\lib\\site-packages\\numpy\\lib\\function_base.py:1594: UserWarning: Warning: converting a masked element to nan.\n",
      "  return interp_func(x, xp, fp, left, right)\n"
     ]
    },
    {
     "name": "stdout",
     "output_type": "stream",
     "text": [
      "23 4584.147571701971\n"
     ]
    },
    {
     "name": "stderr",
     "output_type": "stream",
     "text": [
      "C:\\Users\\kyled\\AppData\\Local\\Temp\\ipykernel_170976\\2680908632.py:87: UserWarning: Relative humidity >120%, ensure proper units.\n",
      "  Td=dewpoint_from_specific_humidity(lev* units('hPa'),T* units('kelvin'),q)\n",
      "D:\\Anaconda3\\envs\\THESIS\\lib\\site-packages\\metpy\\calc\\thermo.py:1396: RuntimeWarning: divide by zero encountered in log\n",
      "  val = np.log(vapor_pressure / mpconsts.nounit.sat_pressure_0c)\n",
      "D:\\Anaconda3\\envs\\THESIS\\lib\\site-packages\\metpy\\calc\\thermo.py:1397: RuntimeWarning: invalid value encountered in divide\n",
      "  return mpconsts.nounit.zero_degc + 243.5 * val / (17.67 - val)\n"
     ]
    },
    {
     "name": "stdout",
     "output_type": "stream",
     "text": [
      "34.01751 -99.0406\n",
      "34.01272737280392 -99.03081184520312 \n",
      "\n"
     ]
    },
    {
     "name": "stderr",
     "output_type": "stream",
     "text": [
      "D:\\Anaconda3\\envs\\THESIS\\lib\\site-packages\\numpy\\lib\\function_base.py:1594: UserWarning: Warning: converting a masked element to nan.\n",
      "  return interp_func(x, xp, fp, left, right)\n"
     ]
    },
    {
     "name": "stdout",
     "output_type": "stream",
     "text": [
      "24 4779.968572824776\n"
     ]
    },
    {
     "name": "stderr",
     "output_type": "stream",
     "text": [
      "C:\\Users\\kyled\\AppData\\Local\\Temp\\ipykernel_170976\\2680908632.py:87: UserWarning: Relative humidity >120%, ensure proper units.\n",
      "  Td=dewpoint_from_specific_humidity(lev* units('hPa'),T* units('kelvin'),q)\n",
      "D:\\Anaconda3\\envs\\THESIS\\lib\\site-packages\\metpy\\calc\\thermo.py:1396: RuntimeWarning: divide by zero encountered in log\n",
      "  val = np.log(vapor_pressure / mpconsts.nounit.sat_pressure_0c)\n",
      "D:\\Anaconda3\\envs\\THESIS\\lib\\site-packages\\metpy\\calc\\thermo.py:1397: RuntimeWarning: invalid value encountered in divide\n",
      "  return mpconsts.nounit.zero_degc + 243.5 * val / (17.67 - val)\n"
     ]
    },
    {
     "name": "stdout",
     "output_type": "stream",
     "text": [
      "34.23808 -98.6736\n",
      "34.23226953489566 -98.67721853996716 \n",
      "\n"
     ]
    },
    {
     "name": "stderr",
     "output_type": "stream",
     "text": [
      "D:\\Anaconda3\\envs\\THESIS\\lib\\site-packages\\numpy\\lib\\function_base.py:1594: UserWarning: Warning: converting a masked element to nan.\n",
      "  return interp_func(x, xp, fp, left, right)\n",
      "D:\\Anaconda3\\envs\\THESIS\\lib\\site-packages\\sharppy\\sharptab\\params.py:1310: RuntimeWarning: invalid value encountered in double_scalars\n",
      "  return (tv2 - tv1) / (z2 - z1) * -1000.\n"
     ]
    },
    {
     "name": "stdout",
     "output_type": "stream",
     "text": [
      "25 5032.343940110321\n"
     ]
    },
    {
     "name": "stderr",
     "output_type": "stream",
     "text": [
      "C:\\Users\\kyled\\AppData\\Local\\Temp\\ipykernel_170976\\2680908632.py:87: UserWarning: Relative humidity >120%, ensure proper units.\n",
      "  Td=dewpoint_from_specific_humidity(lev* units('hPa'),T* units('kelvin'),q)\n",
      "D:\\Anaconda3\\envs\\THESIS\\lib\\site-packages\\metpy\\calc\\thermo.py:1396: RuntimeWarning: divide by zero encountered in log\n",
      "  val = np.log(vapor_pressure / mpconsts.nounit.sat_pressure_0c)\n",
      "D:\\Anaconda3\\envs\\THESIS\\lib\\site-packages\\metpy\\calc\\thermo.py:1397: RuntimeWarning: invalid value encountered in divide\n",
      "  return mpconsts.nounit.zero_degc + 243.5 * val / (17.67 - val)\n"
     ]
    },
    {
     "name": "stdout",
     "output_type": "stream",
     "text": [
      "34.8703 -98.34563\n",
      "34.88118741085228 -98.35909317083252 \n",
      "\n"
     ]
    },
    {
     "name": "stderr",
     "output_type": "stream",
     "text": [
      "D:\\Anaconda3\\envs\\THESIS\\lib\\site-packages\\numpy\\lib\\function_base.py:1594: UserWarning: Warning: converting a masked element to nan.\n",
      "  return interp_func(x, xp, fp, left, right)\n"
     ]
    },
    {
     "name": "stdout",
     "output_type": "stream",
     "text": [
      "26 4992.8671990641315\n"
     ]
    },
    {
     "name": "stderr",
     "output_type": "stream",
     "text": [
      "C:\\Users\\kyled\\AppData\\Local\\Temp\\ipykernel_170976\\2680908632.py:87: UserWarning: Relative humidity >120%, ensure proper units.\n",
      "  Td=dewpoint_from_specific_humidity(lev* units('hPa'),T* units('kelvin'),q)\n",
      "D:\\Anaconda3\\envs\\THESIS\\lib\\site-packages\\metpy\\calc\\thermo.py:1396: RuntimeWarning: divide by zero encountered in log\n",
      "  val = np.log(vapor_pressure / mpconsts.nounit.sat_pressure_0c)\n",
      "D:\\Anaconda3\\envs\\THESIS\\lib\\site-packages\\metpy\\calc\\thermo.py:1397: RuntimeWarning: invalid value encountered in divide\n",
      "  return mpconsts.nounit.zero_degc + 243.5 * val / (17.67 - val)\n"
     ]
    },
    {
     "name": "stdout",
     "output_type": "stream",
     "text": [
      "34.49763 -98.5578\n",
      "34.50265063987395 -98.55077060799908 \n",
      "\n"
     ]
    },
    {
     "name": "stderr",
     "output_type": "stream",
     "text": [
      "D:\\Anaconda3\\envs\\THESIS\\lib\\site-packages\\numpy\\lib\\function_base.py:1594: UserWarning: Warning: converting a masked element to nan.\n",
      "  return interp_func(x, xp, fp, left, right)\n"
     ]
    },
    {
     "name": "stdout",
     "output_type": "stream",
     "text": [
      "27 4988.188966925714\n"
     ]
    },
    {
     "name": "stderr",
     "output_type": "stream",
     "text": [
      "C:\\Users\\kyled\\AppData\\Local\\Temp\\ipykernel_170976\\2680908632.py:87: UserWarning: Relative humidity >120%, ensure proper units.\n",
      "  Td=dewpoint_from_specific_humidity(lev* units('hPa'),T* units('kelvin'),q)\n",
      "D:\\Anaconda3\\envs\\THESIS\\lib\\site-packages\\metpy\\calc\\thermo.py:1396: RuntimeWarning: divide by zero encountered in log\n",
      "  val = np.log(vapor_pressure / mpconsts.nounit.sat_pressure_0c)\n",
      "D:\\Anaconda3\\envs\\THESIS\\lib\\site-packages\\metpy\\calc\\thermo.py:1397: RuntimeWarning: invalid value encountered in divide\n",
      "  return mpconsts.nounit.zero_degc + 243.5 * val / (17.67 - val)\n"
     ]
    },
    {
     "name": "stdout",
     "output_type": "stream",
     "text": [
      "34.67641 -98.3581\n",
      "34.665816215563495 -98.35664924611189 \n",
      "\n"
     ]
    },
    {
     "name": "stderr",
     "output_type": "stream",
     "text": [
      "D:\\Anaconda3\\envs\\THESIS\\lib\\site-packages\\numpy\\lib\\function_base.py:1594: UserWarning: Warning: converting a masked element to nan.\n",
      "  return interp_func(x, xp, fp, left, right)\n"
     ]
    },
    {
     "name": "stdout",
     "output_type": "stream",
     "text": [
      "28 5452.182298334936\n"
     ]
    },
    {
     "name": "stderr",
     "output_type": "stream",
     "text": [
      "D:\\Anaconda3\\envs\\THESIS\\lib\\site-packages\\metpy\\calc\\thermo.py:1396: RuntimeWarning: divide by zero encountered in log\n",
      "  val = np.log(vapor_pressure / mpconsts.nounit.sat_pressure_0c)\n",
      "D:\\Anaconda3\\envs\\THESIS\\lib\\site-packages\\metpy\\calc\\thermo.py:1397: RuntimeWarning: invalid value encountered in divide\n",
      "  return mpconsts.nounit.zero_degc + 243.5 * val / (17.67 - val)\n"
     ]
    },
    {
     "name": "stdout",
     "output_type": "stream",
     "text": [
      "34.53974 -98.9663\n",
      "34.551672341668805 -98.97633109997992 \n",
      "\n"
     ]
    },
    {
     "name": "stderr",
     "output_type": "stream",
     "text": [
      "D:\\Anaconda3\\envs\\THESIS\\lib\\site-packages\\numpy\\lib\\function_base.py:1594: UserWarning: Warning: converting a masked element to nan.\n",
      "  return interp_func(x, xp, fp, left, right)\n"
     ]
    },
    {
     "name": "stdout",
     "output_type": "stream",
     "text": [
      "29 3254.135192385855\n"
     ]
    },
    {
     "name": "stderr",
     "output_type": "stream",
     "text": [
      "C:\\Users\\kyled\\AppData\\Local\\Temp\\ipykernel_170976\\2680908632.py:87: UserWarning: Relative humidity >120%, ensure proper units.\n",
      "  Td=dewpoint_from_specific_humidity(lev* units('hPa'),T* units('kelvin'),q)\n",
      "D:\\Anaconda3\\envs\\THESIS\\lib\\site-packages\\metpy\\calc\\thermo.py:1396: RuntimeWarning: divide by zero encountered in log\n",
      "  val = np.log(vapor_pressure / mpconsts.nounit.sat_pressure_0c)\n",
      "D:\\Anaconda3\\envs\\THESIS\\lib\\site-packages\\metpy\\calc\\thermo.py:1397: RuntimeWarning: invalid value encountered in divide\n",
      "  return mpconsts.nounit.zero_degc + 243.5 * val / (17.67 - val)\n"
     ]
    },
    {
     "name": "stdout",
     "output_type": "stream",
     "text": [
      "34.20734 -99.091\n",
      "34.20009173841395 -99.09964816168332 \n",
      "\n"
     ]
    },
    {
     "name": "stderr",
     "output_type": "stream",
     "text": [
      "D:\\Anaconda3\\envs\\THESIS\\lib\\site-packages\\numpy\\lib\\function_base.py:1594: UserWarning: Warning: converting a masked element to nan.\n",
      "  return interp_func(x, xp, fp, left, right)\n"
     ]
    },
    {
     "name": "stdout",
     "output_type": "stream",
     "text": [
      "30 3836.4315481410486\n"
     ]
    },
    {
     "name": "stderr",
     "output_type": "stream",
     "text": [
      "C:\\Users\\kyled\\AppData\\Local\\Temp\\ipykernel_170976\\2680908632.py:87: UserWarning: Relative humidity >120%, ensure proper units.\n",
      "  Td=dewpoint_from_specific_humidity(lev* units('hPa'),T* units('kelvin'),q)\n",
      "D:\\Anaconda3\\envs\\THESIS\\lib\\site-packages\\metpy\\calc\\thermo.py:1396: RuntimeWarning: divide by zero encountered in log\n",
      "  val = np.log(vapor_pressure / mpconsts.nounit.sat_pressure_0c)\n",
      "D:\\Anaconda3\\envs\\THESIS\\lib\\site-packages\\metpy\\calc\\thermo.py:1397: RuntimeWarning: invalid value encountered in divide\n",
      "  return mpconsts.nounit.zero_degc + 243.5 * val / (17.67 - val)\n"
     ]
    },
    {
     "name": "stdout",
     "output_type": "stream",
     "text": [
      "35.03369 -98.50167\n",
      "35.04166413465275 -98.49249994182867 \n",
      "\n"
     ]
    },
    {
     "name": "stderr",
     "output_type": "stream",
     "text": [
      "D:\\Anaconda3\\envs\\THESIS\\lib\\site-packages\\numpy\\lib\\function_base.py:1594: UserWarning: Warning: converting a masked element to nan.\n",
      "  return interp_func(x, xp, fp, left, right)\n"
     ]
    },
    {
     "name": "stdout",
     "output_type": "stream",
     "text": [
      "31 5144.886738271419\n"
     ]
    },
    {
     "name": "stderr",
     "output_type": "stream",
     "text": [
      "D:\\Anaconda3\\envs\\THESIS\\lib\\site-packages\\metpy\\calc\\thermo.py:1396: RuntimeWarning: divide by zero encountered in log\n",
      "  val = np.log(vapor_pressure / mpconsts.nounit.sat_pressure_0c)\n",
      "D:\\Anaconda3\\envs\\THESIS\\lib\\site-packages\\metpy\\calc\\thermo.py:1397: RuntimeWarning: invalid value encountered in divide\n",
      "  return mpconsts.nounit.zero_degc + 243.5 * val / (17.67 - val)\n"
     ]
    },
    {
     "name": "stdout",
     "output_type": "stream",
     "text": [
      "34.54678 -99.523\n",
      "34.54295273336854 -99.5317597562863 \n",
      "\n"
     ]
    },
    {
     "name": "stderr",
     "output_type": "stream",
     "text": [
      "D:\\Anaconda3\\envs\\THESIS\\lib\\site-packages\\numpy\\lib\\function_base.py:1594: UserWarning: Warning: converting a masked element to nan.\n",
      "  return interp_func(x, xp, fp, left, right)\n"
     ]
    },
    {
     "name": "stdout",
     "output_type": "stream",
     "text": [
      "32 3462.612251856511\n"
     ]
    },
    {
     "name": "stderr",
     "output_type": "stream",
     "text": [
      "D:\\Anaconda3\\envs\\THESIS\\lib\\site-packages\\metpy\\calc\\thermo.py:1396: RuntimeWarning: divide by zero encountered in log\n",
      "  val = np.log(vapor_pressure / mpconsts.nounit.sat_pressure_0c)\n",
      "D:\\Anaconda3\\envs\\THESIS\\lib\\site-packages\\metpy\\calc\\thermo.py:1397: RuntimeWarning: invalid value encountered in divide\n",
      "  return mpconsts.nounit.zero_degc + 243.5 * val / (17.67 - val)\n"
     ]
    },
    {
     "name": "stdout",
     "output_type": "stream",
     "text": [
      "34.28697 -99.7716\n",
      "34.29576638432653 -99.78578683807376 \n",
      "\n"
     ]
    },
    {
     "name": "stderr",
     "output_type": "stream",
     "text": [
      "D:\\Anaconda3\\envs\\THESIS\\lib\\site-packages\\numpy\\lib\\function_base.py:1594: UserWarning: Warning: converting a masked element to nan.\n",
      "  return interp_func(x, xp, fp, left, right)\n"
     ]
    },
    {
     "name": "stdout",
     "output_type": "stream",
     "text": [
      "33 3098.326051414763\n"
     ]
    },
    {
     "name": "stderr",
     "output_type": "stream",
     "text": [
      "D:\\Anaconda3\\envs\\THESIS\\lib\\site-packages\\metpy\\calc\\thermo.py:1396: RuntimeWarning: divide by zero encountered in log\n",
      "  val = np.log(vapor_pressure / mpconsts.nounit.sat_pressure_0c)\n",
      "D:\\Anaconda3\\envs\\THESIS\\lib\\site-packages\\metpy\\calc\\thermo.py:1397: RuntimeWarning: invalid value encountered in divide\n",
      "  return mpconsts.nounit.zero_degc + 243.5 * val / (17.67 - val)\n"
     ]
    },
    {
     "name": "stdout",
     "output_type": "stream",
     "text": [
      "34.86551 -99.41309\n",
      "34.86823003582785 -99.40921598399274 \n",
      "\n"
     ]
    },
    {
     "name": "stderr",
     "output_type": "stream",
     "text": [
      "D:\\Anaconda3\\envs\\THESIS\\lib\\site-packages\\numpy\\lib\\function_base.py:1594: UserWarning: Warning: converting a masked element to nan.\n",
      "  return interp_func(x, xp, fp, left, right)\n",
      "D:\\Anaconda3\\envs\\THESIS\\lib\\site-packages\\sharppy\\sharptab\\params.py:1310: RuntimeWarning: invalid value encountered in double_scalars\n",
      "  return (tv2 - tv1) / (z2 - z1) * -1000.\n"
     ]
    },
    {
     "name": "stdout",
     "output_type": "stream",
     "text": [
      "34 3550.254813218141\n"
     ]
    },
    {
     "name": "stderr",
     "output_type": "stream",
     "text": [
      "D:\\Anaconda3\\envs\\THESIS\\lib\\site-packages\\metpy\\calc\\thermo.py:1396: RuntimeWarning: divide by zero encountered in log\n",
      "  val = np.log(vapor_pressure / mpconsts.nounit.sat_pressure_0c)\n",
      "D:\\Anaconda3\\envs\\THESIS\\lib\\site-packages\\metpy\\calc\\thermo.py:1397: RuntimeWarning: invalid value encountered in divide\n",
      "  return mpconsts.nounit.zero_degc + 243.5 * val / (17.67 - val)\n"
     ]
    },
    {
     "name": "stdout",
     "output_type": "stream",
     "text": [
      "34.66791 -99.2967\n",
      "34.65452602891294 -99.3056336091413 \n",
      "\n"
     ]
    },
    {
     "name": "stderr",
     "output_type": "stream",
     "text": [
      "D:\\Anaconda3\\envs\\THESIS\\lib\\site-packages\\numpy\\lib\\function_base.py:1594: UserWarning: Warning: converting a masked element to nan.\n",
      "  return interp_func(x, xp, fp, left, right)\n"
     ]
    },
    {
     "name": "stdout",
     "output_type": "stream",
     "text": [
      "35 3458.222671728996\n"
     ]
    },
    {
     "name": "stderr",
     "output_type": "stream",
     "text": [
      "D:\\Anaconda3\\envs\\THESIS\\lib\\site-packages\\metpy\\calc\\thermo.py:1396: RuntimeWarning: divide by zero encountered in log\n",
      "  val = np.log(vapor_pressure / mpconsts.nounit.sat_pressure_0c)\n",
      "D:\\Anaconda3\\envs\\THESIS\\lib\\site-packages\\metpy\\calc\\thermo.py:1397: RuntimeWarning: invalid value encountered in divide\n",
      "  return mpconsts.nounit.zero_degc + 243.5 * val / (17.67 - val)\n"
     ]
    },
    {
     "name": "stdout",
     "output_type": "stream",
     "text": [
      "34.43926 -99.3766\n",
      "34.43817056982292 -99.3657624471341 \n",
      "\n"
     ]
    },
    {
     "name": "stderr",
     "output_type": "stream",
     "text": [
      "D:\\Anaconda3\\envs\\THESIS\\lib\\site-packages\\numpy\\lib\\function_base.py:1594: UserWarning: Warning: converting a masked element to nan.\n",
      "  return interp_func(x, xp, fp, left, right)\n"
     ]
    },
    {
     "name": "stdout",
     "output_type": "stream",
     "text": [
      "36 3279.745893989302\n"
     ]
    },
    {
     "name": "stderr",
     "output_type": "stream",
     "text": [
      "D:\\Anaconda3\\envs\\THESIS\\lib\\site-packages\\metpy\\calc\\thermo.py:1396: RuntimeWarning: divide by zero encountered in log\n",
      "  val = np.log(vapor_pressure / mpconsts.nounit.sat_pressure_0c)\n",
      "D:\\Anaconda3\\envs\\THESIS\\lib\\site-packages\\metpy\\calc\\thermo.py:1397: RuntimeWarning: invalid value encountered in divide\n",
      "  return mpconsts.nounit.zero_degc + 243.5 * val / (17.67 - val)\n"
     ]
    },
    {
     "name": "stdout",
     "output_type": "stream",
     "text": [
      "34.83821 -98.96417\n",
      "34.84818650249082 -98.94931551389215 \n",
      "\n"
     ]
    },
    {
     "name": "stderr",
     "output_type": "stream",
     "text": [
      "D:\\Anaconda3\\envs\\THESIS\\lib\\site-packages\\numpy\\lib\\function_base.py:1594: UserWarning: Warning: converting a masked element to nan.\n",
      "  return interp_func(x, xp, fp, left, right)\n"
     ]
    },
    {
     "name": "stdout",
     "output_type": "stream",
     "text": [
      "37 3072.810445669521\n"
     ]
    },
    {
     "name": "stderr",
     "output_type": "stream",
     "text": [
      "D:\\Anaconda3\\envs\\THESIS\\lib\\site-packages\\metpy\\calc\\thermo.py:1396: RuntimeWarning: divide by zero encountered in log\n",
      "  val = np.log(vapor_pressure / mpconsts.nounit.sat_pressure_0c)\n",
      "D:\\Anaconda3\\envs\\THESIS\\lib\\site-packages\\metpy\\calc\\thermo.py:1397: RuntimeWarning: invalid value encountered in divide\n",
      "  return mpconsts.nounit.zero_degc + 243.5 * val / (17.67 - val)\n"
     ]
    },
    {
     "name": "stdout",
     "output_type": "stream",
     "text": [
      "35.04282 -98.67578\n",
      "35.039748549840404 -98.68983915447006 \n",
      "\n"
     ]
    },
    {
     "name": "stderr",
     "output_type": "stream",
     "text": [
      "D:\\Anaconda3\\envs\\THESIS\\lib\\site-packages\\numpy\\lib\\function_base.py:1594: UserWarning: Warning: converting a masked element to nan.\n",
      "  return interp_func(x, xp, fp, left, right)\n"
     ]
    },
    {
     "name": "stdout",
     "output_type": "stream",
     "text": [
      "38 2710.125590601505\n"
     ]
    },
    {
     "name": "stderr",
     "output_type": "stream",
     "text": [
      "D:\\Anaconda3\\envs\\THESIS\\lib\\site-packages\\metpy\\calc\\thermo.py:1396: RuntimeWarning: divide by zero encountered in log\n",
      "  val = np.log(vapor_pressure / mpconsts.nounit.sat_pressure_0c)\n",
      "D:\\Anaconda3\\envs\\THESIS\\lib\\site-packages\\metpy\\calc\\thermo.py:1397: RuntimeWarning: invalid value encountered in divide\n",
      "  return mpconsts.nounit.zero_degc + 243.5 * val / (17.67 - val)\n"
     ]
    },
    {
     "name": "stdout",
     "output_type": "stream",
     "text": [
      "35.84145 -98.5505\n",
      "35.84953797900835 -98.53650284318331 \n",
      "\n"
     ]
    },
    {
     "name": "stderr",
     "output_type": "stream",
     "text": [
      "D:\\Anaconda3\\envs\\THESIS\\lib\\site-packages\\numpy\\lib\\function_base.py:1594: UserWarning: Warning: converting a masked element to nan.\n",
      "  return interp_func(x, xp, fp, left, right)\n"
     ]
    },
    {
     "name": "stdout",
     "output_type": "stream",
     "text": [
      "39 3799.4661517136356\n"
     ]
    },
    {
     "name": "stderr",
     "output_type": "stream",
     "text": [
      "D:\\Anaconda3\\envs\\THESIS\\lib\\site-packages\\metpy\\calc\\thermo.py:1396: RuntimeWarning: divide by zero encountered in log\n",
      "  val = np.log(vapor_pressure / mpconsts.nounit.sat_pressure_0c)\n",
      "D:\\Anaconda3\\envs\\THESIS\\lib\\site-packages\\metpy\\calc\\thermo.py:1397: RuntimeWarning: invalid value encountered in divide\n",
      "  return mpconsts.nounit.zero_degc + 243.5 * val / (17.67 - val)\n"
     ]
    },
    {
     "name": "stdout",
     "output_type": "stream",
     "text": [
      "34.94313 -99.0108\n",
      "34.95501009315137 -99.0170863279165 \n",
      "\n"
     ]
    },
    {
     "name": "stderr",
     "output_type": "stream",
     "text": [
      "D:\\Anaconda3\\envs\\THESIS\\lib\\site-packages\\numpy\\lib\\function_base.py:1594: UserWarning: Warning: converting a masked element to nan.\n",
      "  return interp_func(x, xp, fp, left, right)\n"
     ]
    },
    {
     "name": "stdout",
     "output_type": "stream",
     "text": [
      "40 3243.0700556731217\n"
     ]
    },
    {
     "name": "stderr",
     "output_type": "stream",
     "text": [
      "D:\\Anaconda3\\envs\\THESIS\\lib\\site-packages\\metpy\\calc\\thermo.py:1396: RuntimeWarning: divide by zero encountered in log\n",
      "  val = np.log(vapor_pressure / mpconsts.nounit.sat_pressure_0c)\n",
      "D:\\Anaconda3\\envs\\THESIS\\lib\\site-packages\\metpy\\calc\\thermo.py:1397: RuntimeWarning: invalid value encountered in divide\n",
      "  return mpconsts.nounit.zero_degc + 243.5 * val / (17.67 - val)\n"
     ]
    },
    {
     "name": "stdout",
     "output_type": "stream",
     "text": [
      "34.84372 -99.2435\n",
      "34.84398229072912 -99.24453810631348 \n",
      "\n"
     ]
    },
    {
     "name": "stderr",
     "output_type": "stream",
     "text": [
      "D:\\Anaconda3\\envs\\THESIS\\lib\\site-packages\\numpy\\lib\\function_base.py:1594: UserWarning: Warning: converting a masked element to nan.\n",
      "  return interp_func(x, xp, fp, left, right)\n"
     ]
    },
    {
     "name": "stdout",
     "output_type": "stream",
     "text": [
      "41 3275.721855431243\n"
     ]
    },
    {
     "name": "stderr",
     "output_type": "stream",
     "text": [
      "D:\\Anaconda3\\envs\\THESIS\\lib\\site-packages\\metpy\\calc\\thermo.py:1396: RuntimeWarning: divide by zero encountered in log\n",
      "  val = np.log(vapor_pressure / mpconsts.nounit.sat_pressure_0c)\n",
      "D:\\Anaconda3\\envs\\THESIS\\lib\\site-packages\\metpy\\calc\\thermo.py:1397: RuntimeWarning: invalid value encountered in divide\n",
      "  return mpconsts.nounit.zero_degc + 243.5 * val / (17.67 - val)\n"
     ]
    },
    {
     "name": "stdout",
     "output_type": "stream",
     "text": [
      "35.02565 -98.965\n",
      "35.03665559759171 -98.9529407742495 \n",
      "\n"
     ]
    },
    {
     "name": "stderr",
     "output_type": "stream",
     "text": [
      "D:\\Anaconda3\\envs\\THESIS\\lib\\site-packages\\numpy\\lib\\function_base.py:1594: UserWarning: Warning: converting a masked element to nan.\n",
      "  return interp_func(x, xp, fp, left, right)\n"
     ]
    },
    {
     "name": "stdout",
     "output_type": "stream",
     "text": [
      "42 2754.1877783222562\n"
     ]
    },
    {
     "name": "stderr",
     "output_type": "stream",
     "text": [
      "D:\\Anaconda3\\envs\\THESIS\\lib\\site-packages\\metpy\\calc\\thermo.py:1396: RuntimeWarning: divide by zero encountered in log\n",
      "  val = np.log(vapor_pressure / mpconsts.nounit.sat_pressure_0c)\n",
      "D:\\Anaconda3\\envs\\THESIS\\lib\\site-packages\\metpy\\calc\\thermo.py:1397: RuntimeWarning: invalid value encountered in divide\n",
      "  return mpconsts.nounit.zero_degc + 243.5 * val / (17.67 - val)\n"
     ]
    },
    {
     "name": "stdout",
     "output_type": "stream",
     "text": [
      "35.17366 -98.46072\n",
      "35.176603188024906 -98.46132688650488 \n",
      "\n"
     ]
    },
    {
     "name": "stderr",
     "output_type": "stream",
     "text": [
      "D:\\Anaconda3\\envs\\THESIS\\lib\\site-packages\\numpy\\lib\\function_base.py:1594: UserWarning: Warning: converting a masked element to nan.\n",
      "  return interp_func(x, xp, fp, left, right)\n"
     ]
    },
    {
     "name": "stdout",
     "output_type": "stream",
     "text": [
      "43 1819.3534171209956\n"
     ]
    },
    {
     "name": "stderr",
     "output_type": "stream",
     "text": [
      "D:\\Anaconda3\\envs\\THESIS\\lib\\site-packages\\metpy\\calc\\thermo.py:1396: RuntimeWarning: divide by zero encountered in log\n",
      "  val = np.log(vapor_pressure / mpconsts.nounit.sat_pressure_0c)\n",
      "D:\\Anaconda3\\envs\\THESIS\\lib\\site-packages\\metpy\\calc\\thermo.py:1397: RuntimeWarning: invalid value encountered in divide\n",
      "  return mpconsts.nounit.zero_degc + 243.5 * val / (17.67 - val)\n"
     ]
    },
    {
     "name": "stdout",
     "output_type": "stream",
     "text": [
      "35.39807 -97.97538\n",
      "35.39523038286083 -97.96839856785834 \n",
      "\n"
     ]
    },
    {
     "name": "stderr",
     "output_type": "stream",
     "text": [
      "D:\\Anaconda3\\envs\\THESIS\\lib\\site-packages\\numpy\\lib\\function_base.py:1594: UserWarning: Warning: converting a masked element to nan.\n",
      "  return interp_func(x, xp, fp, left, right)\n"
     ]
    },
    {
     "name": "stdout",
     "output_type": "stream",
     "text": [
      "44 1488.3065546506634\n"
     ]
    },
    {
     "name": "stderr",
     "output_type": "stream",
     "text": [
      "D:\\Anaconda3\\envs\\THESIS\\lib\\site-packages\\metpy\\calc\\thermo.py:1396: RuntimeWarning: divide by zero encountered in log\n",
      "  val = np.log(vapor_pressure / mpconsts.nounit.sat_pressure_0c)\n",
      "D:\\Anaconda3\\envs\\THESIS\\lib\\site-packages\\metpy\\calc\\thermo.py:1397: RuntimeWarning: invalid value encountered in divide\n",
      "  return mpconsts.nounit.zero_degc + 243.5 * val / (17.67 - val)\n"
     ]
    },
    {
     "name": "stdout",
     "output_type": "stream",
     "text": [
      "35.17563 -99.09845\n",
      "35.1695180602996 -99.08731889832626 \n",
      "\n"
     ]
    },
    {
     "name": "stderr",
     "output_type": "stream",
     "text": [
      "D:\\Anaconda3\\envs\\THESIS\\lib\\site-packages\\numpy\\lib\\function_base.py:1594: UserWarning: Warning: converting a masked element to nan.\n",
      "  return interp_func(x, xp, fp, left, right)\n"
     ]
    },
    {
     "name": "stdout",
     "output_type": "stream",
     "text": [
      "45 3529.2030154833465\n"
     ]
    },
    {
     "name": "stderr",
     "output_type": "stream",
     "text": [
      "D:\\Anaconda3\\envs\\THESIS\\lib\\site-packages\\metpy\\calc\\thermo.py:1396: RuntimeWarning: divide by zero encountered in log\n",
      "  val = np.log(vapor_pressure / mpconsts.nounit.sat_pressure_0c)\n",
      "D:\\Anaconda3\\envs\\THESIS\\lib\\site-packages\\metpy\\calc\\thermo.py:1397: RuntimeWarning: invalid value encountered in divide\n",
      "  return mpconsts.nounit.zero_degc + 243.5 * val / (17.67 - val)\n"
     ]
    },
    {
     "name": "stdout",
     "output_type": "stream",
     "text": [
      "35.45555 -98.72529\n",
      "35.443394370493266 -98.72931753780102 \n",
      "\n"
     ]
    },
    {
     "name": "stderr",
     "output_type": "stream",
     "text": [
      "D:\\Anaconda3\\envs\\THESIS\\lib\\site-packages\\numpy\\lib\\function_base.py:1594: UserWarning: Warning: converting a masked element to nan.\n",
      "  return interp_func(x, xp, fp, left, right)\n"
     ]
    },
    {
     "name": "stdout",
     "output_type": "stream",
     "text": [
      "46 2889.810856665682\n"
     ]
    },
    {
     "name": "stderr",
     "output_type": "stream",
     "text": [
      "C:\\Users\\kyled\\AppData\\Local\\Temp\\ipykernel_170976\\2680908632.py:87: UserWarning: Relative humidity >120%, ensure proper units.\n",
      "  Td=dewpoint_from_specific_humidity(lev* units('hPa'),T* units('kelvin'),q)\n",
      "D:\\Anaconda3\\envs\\THESIS\\lib\\site-packages\\metpy\\calc\\thermo.py:1396: RuntimeWarning: divide by zero encountered in log\n",
      "  val = np.log(vapor_pressure / mpconsts.nounit.sat_pressure_0c)\n",
      "D:\\Anaconda3\\envs\\THESIS\\lib\\site-packages\\metpy\\calc\\thermo.py:1397: RuntimeWarning: invalid value encountered in divide\n",
      "  return mpconsts.nounit.zero_degc + 243.5 * val / (17.67 - val)\n"
     ]
    },
    {
     "name": "stdout",
     "output_type": "stream",
     "text": [
      "34.32258 -97.0545\n",
      "34.31830393038574 -97.04953074018027 \n",
      "\n"
     ]
    },
    {
     "name": "stderr",
     "output_type": "stream",
     "text": [
      "D:\\Anaconda3\\envs\\THESIS\\lib\\site-packages\\numpy\\lib\\function_base.py:1594: UserWarning: Warning: converting a masked element to nan.\n",
      "  return interp_func(x, xp, fp, left, right)\n",
      "D:\\Anaconda3\\envs\\THESIS\\lib\\site-packages\\sharppy\\sharptab\\params.py:1310: RuntimeWarning: invalid value encountered in double_scalars\n",
      "  return (tv2 - tv1) / (z2 - z1) * -1000.\n"
     ]
    },
    {
     "name": "stdout",
     "output_type": "stream",
     "text": [
      "47 4591.599131851584\n"
     ]
    },
    {
     "name": "stderr",
     "output_type": "stream",
     "text": [
      "C:\\Users\\kyled\\AppData\\Local\\Temp\\ipykernel_170976\\2680908632.py:87: UserWarning: Relative humidity >120%, ensure proper units.\n",
      "  Td=dewpoint_from_specific_humidity(lev* units('hPa'),T* units('kelvin'),q)\n",
      "D:\\Anaconda3\\envs\\THESIS\\lib\\site-packages\\metpy\\calc\\thermo.py:1396: RuntimeWarning: divide by zero encountered in log\n",
      "  val = np.log(vapor_pressure / mpconsts.nounit.sat_pressure_0c)\n",
      "D:\\Anaconda3\\envs\\THESIS\\lib\\site-packages\\metpy\\calc\\thermo.py:1397: RuntimeWarning: invalid value encountered in divide\n",
      "  return mpconsts.nounit.zero_degc + 243.5 * val / (17.67 - val)\n"
     ]
    },
    {
     "name": "stdout",
     "output_type": "stream",
     "text": [
      "35.44562 -96.23438\n",
      "35.44315725545981 -96.2490826165565 \n",
      "\n"
     ]
    },
    {
     "name": "stderr",
     "output_type": "stream",
     "text": [
      "D:\\Anaconda3\\envs\\THESIS\\lib\\site-packages\\numpy\\lib\\function_base.py:1594: UserWarning: Warning: converting a masked element to nan.\n",
      "  return interp_func(x, xp, fp, left, right)\n",
      "D:\\Anaconda3\\envs\\THESIS\\lib\\site-packages\\sharppy\\sharptab\\params.py:1310: RuntimeWarning: invalid value encountered in double_scalars\n",
      "  return (tv2 - tv1) / (z2 - z1) * -1000.\n"
     ]
    },
    {
     "name": "stdout",
     "output_type": "stream",
     "text": [
      "48 4433.782451377247\n"
     ]
    },
    {
     "name": "stderr",
     "output_type": "stream",
     "text": [
      "C:\\Users\\kyled\\AppData\\Local\\Temp\\ipykernel_170976\\2680908632.py:87: UserWarning: Relative humidity >120%, ensure proper units.\n",
      "  Td=dewpoint_from_specific_humidity(lev* units('hPa'),T* units('kelvin'),q)\n",
      "D:\\Anaconda3\\envs\\THESIS\\lib\\site-packages\\metpy\\calc\\thermo.py:1396: RuntimeWarning: divide by zero encountered in log\n",
      "  val = np.log(vapor_pressure / mpconsts.nounit.sat_pressure_0c)\n",
      "D:\\Anaconda3\\envs\\THESIS\\lib\\site-packages\\metpy\\calc\\thermo.py:1397: RuntimeWarning: invalid value encountered in divide\n",
      "  return mpconsts.nounit.zero_degc + 243.5 * val / (17.67 - val)\n"
     ]
    },
    {
     "name": "stdout",
     "output_type": "stream",
     "text": [
      "35.11714 -96.5869\n",
      "35.123109440787175 -96.58370494770992 \n",
      "\n"
     ]
    },
    {
     "name": "stderr",
     "output_type": "stream",
     "text": [
      "D:\\Anaconda3\\envs\\THESIS\\lib\\site-packages\\numpy\\lib\\function_base.py:1594: UserWarning: Warning: converting a masked element to nan.\n",
      "  return interp_func(x, xp, fp, left, right)\n",
      "D:\\Anaconda3\\envs\\THESIS\\lib\\site-packages\\sharppy\\sharptab\\params.py:1310: RuntimeWarning: invalid value encountered in double_scalars\n",
      "  return (tv2 - tv1) / (z2 - z1) * -1000.\n"
     ]
    },
    {
     "name": "stdout",
     "output_type": "stream",
     "text": [
      "49 4450.137784226823\n"
     ]
    },
    {
     "name": "stderr",
     "output_type": "stream",
     "text": [
      "C:\\Users\\kyled\\AppData\\Local\\Temp\\ipykernel_170976\\2680908632.py:87: UserWarning: Relative humidity >120%, ensure proper units.\n",
      "  Td=dewpoint_from_specific_humidity(lev* units('hPa'),T* units('kelvin'),q)\n",
      "D:\\Anaconda3\\envs\\THESIS\\lib\\site-packages\\metpy\\calc\\thermo.py:1396: RuntimeWarning: divide by zero encountered in log\n",
      "  val = np.log(vapor_pressure / mpconsts.nounit.sat_pressure_0c)\n",
      "D:\\Anaconda3\\envs\\THESIS\\lib\\site-packages\\metpy\\calc\\thermo.py:1397: RuntimeWarning: invalid value encountered in divide\n",
      "  return mpconsts.nounit.zero_degc + 243.5 * val / (17.67 - val)\n"
     ]
    },
    {
     "name": "stdout",
     "output_type": "stream",
     "text": [
      "35.40851 -96.7289\n",
      "35.39345627541251 -96.71259588746949 \n",
      "\n"
     ]
    },
    {
     "name": "stderr",
     "output_type": "stream",
     "text": [
      "D:\\Anaconda3\\envs\\THESIS\\lib\\site-packages\\numpy\\lib\\function_base.py:1594: UserWarning: Warning: converting a masked element to nan.\n",
      "  return interp_func(x, xp, fp, left, right)\n",
      "D:\\Anaconda3\\envs\\THESIS\\lib\\site-packages\\sharppy\\sharptab\\params.py:1310: RuntimeWarning: invalid value encountered in double_scalars\n",
      "  return (tv2 - tv1) / (z2 - z1) * -1000.\n"
     ]
    },
    {
     "name": "stdout",
     "output_type": "stream",
     "text": [
      "50 4236.410718955735\n"
     ]
    },
    {
     "name": "stderr",
     "output_type": "stream",
     "text": [
      "C:\\Users\\kyled\\AppData\\Local\\Temp\\ipykernel_170976\\2680908632.py:87: UserWarning: Relative humidity >120%, ensure proper units.\n",
      "  Td=dewpoint_from_specific_humidity(lev* units('hPa'),T* units('kelvin'),q)\n",
      "D:\\Anaconda3\\envs\\THESIS\\lib\\site-packages\\metpy\\calc\\thermo.py:1396: RuntimeWarning: divide by zero encountered in log\n",
      "  val = np.log(vapor_pressure / mpconsts.nounit.sat_pressure_0c)\n",
      "D:\\Anaconda3\\envs\\THESIS\\lib\\site-packages\\metpy\\calc\\thermo.py:1397: RuntimeWarning: invalid value encountered in divide\n",
      "  return mpconsts.nounit.zero_degc + 243.5 * val / (17.67 - val)\n"
     ]
    },
    {
     "name": "stdout",
     "output_type": "stream",
     "text": [
      "34.9421 -97.0192\n",
      "34.93727342793671 -97.01298648784581 \n",
      "\n"
     ]
    },
    {
     "name": "stderr",
     "output_type": "stream",
     "text": [
      "D:\\Anaconda3\\envs\\THESIS\\lib\\site-packages\\numpy\\lib\\function_base.py:1594: UserWarning: Warning: converting a masked element to nan.\n",
      "  return interp_func(x, xp, fp, left, right)\n"
     ]
    },
    {
     "name": "stdout",
     "output_type": "stream",
     "text": [
      "51 3778.27440748192\n"
     ]
    },
    {
     "name": "stderr",
     "output_type": "stream",
     "text": [
      "C:\\Users\\kyled\\AppData\\Local\\Temp\\ipykernel_170976\\2680908632.py:87: UserWarning: Relative humidity >120%, ensure proper units.\n",
      "  Td=dewpoint_from_specific_humidity(lev* units('hPa'),T* units('kelvin'),q)\n",
      "D:\\Anaconda3\\envs\\THESIS\\lib\\site-packages\\metpy\\calc\\thermo.py:1396: RuntimeWarning: divide by zero encountered in log\n",
      "  val = np.log(vapor_pressure / mpconsts.nounit.sat_pressure_0c)\n",
      "D:\\Anaconda3\\envs\\THESIS\\lib\\site-packages\\metpy\\calc\\thermo.py:1397: RuntimeWarning: invalid value encountered in divide\n",
      "  return mpconsts.nounit.zero_degc + 243.5 * val / (17.67 - val)\n"
     ]
    },
    {
     "name": "stdout",
     "output_type": "stream",
     "text": [
      "35.2031 -97.126\n",
      "35.206966530122095 -97.1101355316444 \n",
      "\n"
     ]
    },
    {
     "name": "stderr",
     "output_type": "stream",
     "text": [
      "D:\\Anaconda3\\envs\\THESIS\\lib\\site-packages\\numpy\\lib\\function_base.py:1594: UserWarning: Warning: converting a masked element to nan.\n",
      "  return interp_func(x, xp, fp, left, right)\n",
      "D:\\Anaconda3\\envs\\THESIS\\lib\\site-packages\\sharppy\\sharptab\\params.py:1310: RuntimeWarning: invalid value encountered in double_scalars\n",
      "  return (tv2 - tv1) / (z2 - z1) * -1000.\n"
     ]
    },
    {
     "name": "stdout",
     "output_type": "stream",
     "text": [
      "52 3812.964888971379\n"
     ]
    },
    {
     "name": "stderr",
     "output_type": "stream",
     "text": [
      "C:\\Users\\kyled\\AppData\\Local\\Temp\\ipykernel_170976\\2680908632.py:87: UserWarning: Relative humidity >120%, ensure proper units.\n",
      "  Td=dewpoint_from_specific_humidity(lev* units('hPa'),T* units('kelvin'),q)\n",
      "D:\\Anaconda3\\envs\\THESIS\\lib\\site-packages\\metpy\\calc\\thermo.py:1396: RuntimeWarning: divide by zero encountered in log\n",
      "  val = np.log(vapor_pressure / mpconsts.nounit.sat_pressure_0c)\n",
      "D:\\Anaconda3\\envs\\THESIS\\lib\\site-packages\\metpy\\calc\\thermo.py:1397: RuntimeWarning: invalid value encountered in divide\n",
      "  return mpconsts.nounit.zero_degc + 243.5 * val / (17.67 - val)\n"
     ]
    },
    {
     "name": "stdout",
     "output_type": "stream",
     "text": [
      "35.66011 -97.0365\n",
      "35.66470300753358 -97.04141434787186 \n",
      "\n"
     ]
    },
    {
     "name": "stderr",
     "output_type": "stream",
     "text": [
      "D:\\Anaconda3\\envs\\THESIS\\lib\\site-packages\\numpy\\lib\\function_base.py:1594: UserWarning: Warning: converting a masked element to nan.\n",
      "  return interp_func(x, xp, fp, left, right)\n",
      "D:\\Anaconda3\\envs\\THESIS\\lib\\site-packages\\sharppy\\sharptab\\params.py:1310: RuntimeWarning: invalid value encountered in double_scalars\n",
      "  return (tv2 - tv1) / (z2 - z1) * -1000.\n",
      "C:\\Users\\kyled\\AppData\\Local\\Temp\\ipykernel_170976\\2212921743.py:371: UserWarning: Relative humidity >120%, ensure proper units.\n",
      "  dew_point_temperature = mpcalc.dewpoint_from_specific_humidity(pressure, temperature, specific_humidity)\n"
     ]
    },
    {
     "name": "stdout",
     "output_type": "stream",
     "text": [
      "53 3727.0818671253405\n"
     ]
    },
    {
     "name": "stderr",
     "output_type": "stream",
     "text": [
      "C:\\Users\\kyled\\AppData\\Local\\Temp\\ipykernel_170976\\2680908632.py:87: UserWarning: Relative humidity >120%, ensure proper units.\n",
      "  Td=dewpoint_from_specific_humidity(lev* units('hPa'),T* units('kelvin'),q)\n",
      "D:\\Anaconda3\\envs\\THESIS\\lib\\site-packages\\metpy\\calc\\thermo.py:1396: RuntimeWarning: divide by zero encountered in log\n",
      "  val = np.log(vapor_pressure / mpconsts.nounit.sat_pressure_0c)\n",
      "D:\\Anaconda3\\envs\\THESIS\\lib\\site-packages\\metpy\\calc\\thermo.py:1397: RuntimeWarning: invalid value encountered in divide\n",
      "  return mpconsts.nounit.zero_degc + 243.5 * val / (17.67 - val)\n"
     ]
    },
    {
     "name": "stdout",
     "output_type": "stream",
     "text": [
      "36.08066 -96.8464\n",
      "36.06796914284386 -96.83884521629477 \n",
      "\n"
     ]
    },
    {
     "name": "stderr",
     "output_type": "stream",
     "text": [
      "D:\\Anaconda3\\envs\\THESIS\\lib\\site-packages\\numpy\\lib\\function_base.py:1594: UserWarning: Warning: converting a masked element to nan.\n",
      "  return interp_func(x, xp, fp, left, right)\n"
     ]
    },
    {
     "name": "stdout",
     "output_type": "stream",
     "text": [
      "54 3648.999585413211\n"
     ]
    },
    {
     "name": "stderr",
     "output_type": "stream",
     "text": [
      "C:\\Users\\kyled\\AppData\\Local\\Temp\\ipykernel_170976\\2680908632.py:87: UserWarning: Relative humidity >120%, ensure proper units.\n",
      "  Td=dewpoint_from_specific_humidity(lev* units('hPa'),T* units('kelvin'),q)\n",
      "D:\\Anaconda3\\envs\\THESIS\\lib\\site-packages\\metpy\\calc\\thermo.py:1396: RuntimeWarning: divide by zero encountered in log\n",
      "  val = np.log(vapor_pressure / mpconsts.nounit.sat_pressure_0c)\n",
      "D:\\Anaconda3\\envs\\THESIS\\lib\\site-packages\\metpy\\calc\\thermo.py:1397: RuntimeWarning: invalid value encountered in divide\n",
      "  return mpconsts.nounit.zero_degc + 243.5 * val / (17.67 - val)\n"
     ]
    },
    {
     "name": "stdout",
     "output_type": "stream",
     "text": [
      "35.79338 -97.6694\n",
      "35.800239040830654 -97.67189578037971 \n",
      "\n"
     ]
    },
    {
     "name": "stderr",
     "output_type": "stream",
     "text": [
      "D:\\Anaconda3\\envs\\THESIS\\lib\\site-packages\\numpy\\lib\\function_base.py:1594: UserWarning: Warning: converting a masked element to nan.\n",
      "  return interp_func(x, xp, fp, left, right)\n",
      "D:\\Anaconda3\\envs\\THESIS\\lib\\site-packages\\sharppy\\sharptab\\params.py:1310: RuntimeWarning: invalid value encountered in double_scalars\n",
      "  return (tv2 - tv1) / (z2 - z1) * -1000.\n"
     ]
    },
    {
     "name": "stdout",
     "output_type": "stream",
     "text": [
      "55 4085.276778798585\n"
     ]
    },
    {
     "name": "stderr",
     "output_type": "stream",
     "text": [
      "C:\\Users\\kyled\\AppData\\Local\\Temp\\ipykernel_170976\\2680908632.py:87: UserWarning: Relative humidity >120%, ensure proper units.\n",
      "  Td=dewpoint_from_specific_humidity(lev* units('hPa'),T* units('kelvin'),q)\n",
      "D:\\Anaconda3\\envs\\THESIS\\lib\\site-packages\\metpy\\calc\\thermo.py:1396: RuntimeWarning: divide by zero encountered in log\n",
      "  val = np.log(vapor_pressure / mpconsts.nounit.sat_pressure_0c)\n",
      "D:\\Anaconda3\\envs\\THESIS\\lib\\site-packages\\metpy\\calc\\thermo.py:1397: RuntimeWarning: invalid value encountered in divide\n",
      "  return mpconsts.nounit.zero_degc + 243.5 * val / (17.67 - val)\n"
     ]
    },
    {
     "name": "stdout",
     "output_type": "stream",
     "text": [
      "36.04908 -97.3353\n",
      "36.04282049659807 -97.33910327047988 \n",
      "\n"
     ]
    },
    {
     "name": "stderr",
     "output_type": "stream",
     "text": [
      "D:\\Anaconda3\\envs\\THESIS\\lib\\site-packages\\numpy\\lib\\function_base.py:1594: UserWarning: Warning: converting a masked element to nan.\n",
      "  return interp_func(x, xp, fp, left, right)\n"
     ]
    },
    {
     "name": "stdout",
     "output_type": "stream",
     "text": [
      "56 3825.728380696693\n"
     ]
    },
    {
     "name": "stderr",
     "output_type": "stream",
     "text": [
      "C:\\Users\\kyled\\AppData\\Local\\Temp\\ipykernel_170976\\2680908632.py:87: UserWarning: Relative humidity >120%, ensure proper units.\n",
      "  Td=dewpoint_from_specific_humidity(lev* units('hPa'),T* units('kelvin'),q)\n",
      "D:\\Anaconda3\\envs\\THESIS\\lib\\site-packages\\metpy\\calc\\thermo.py:1396: RuntimeWarning: divide by zero encountered in log\n",
      "  val = np.log(vapor_pressure / mpconsts.nounit.sat_pressure_0c)\n",
      "D:\\Anaconda3\\envs\\THESIS\\lib\\site-packages\\metpy\\calc\\thermo.py:1397: RuntimeWarning: invalid value encountered in divide\n",
      "  return mpconsts.nounit.zero_degc + 243.5 * val / (17.67 - val)\n"
     ]
    },
    {
     "name": "stdout",
     "output_type": "stream",
     "text": [
      "36.36457 -97.0141\n",
      "36.3653429339689 -97.00359721937855 \n",
      "\n"
     ]
    },
    {
     "name": "stderr",
     "output_type": "stream",
     "text": [
      "D:\\Anaconda3\\envs\\THESIS\\lib\\site-packages\\numpy\\lib\\function_base.py:1594: UserWarning: Warning: converting a masked element to nan.\n",
      "  return interp_func(x, xp, fp, left, right)\n"
     ]
    },
    {
     "name": "stdout",
     "output_type": "stream",
     "text": [
      "57 178.5217279221174\n"
     ]
    },
    {
     "name": "stderr",
     "output_type": "stream",
     "text": [
      "C:\\Users\\kyled\\AppData\\Local\\Temp\\ipykernel_170976\\2680908632.py:87: UserWarning: Relative humidity >120%, ensure proper units.\n",
      "  Td=dewpoint_from_specific_humidity(lev* units('hPa'),T* units('kelvin'),q)\n",
      "D:\\Anaconda3\\envs\\THESIS\\lib\\site-packages\\metpy\\calc\\thermo.py:1396: RuntimeWarning: divide by zero encountered in log\n",
      "  val = np.log(vapor_pressure / mpconsts.nounit.sat_pressure_0c)\n",
      "D:\\Anaconda3\\envs\\THESIS\\lib\\site-packages\\metpy\\calc\\thermo.py:1397: RuntimeWarning: invalid value encountered in divide\n",
      "  return mpconsts.nounit.zero_degc + 243.5 * val / (17.67 - val)\n"
     ]
    },
    {
     "name": "stdout",
     "output_type": "stream",
     "text": [
      "36.0465 -97.4273\n",
      "36.04291792400457 -97.4391090749823 \n",
      "\n"
     ]
    },
    {
     "name": "stderr",
     "output_type": "stream",
     "text": [
      "D:\\Anaconda3\\envs\\THESIS\\lib\\site-packages\\numpy\\lib\\function_base.py:1594: UserWarning: Warning: converting a masked element to nan.\n",
      "  return interp_func(x, xp, fp, left, right)\n"
     ]
    },
    {
     "name": "stdout",
     "output_type": "stream",
     "text": [
      "58 938.1488472794782\n"
     ]
    },
    {
     "name": "stderr",
     "output_type": "stream",
     "text": [
      "C:\\Users\\kyled\\AppData\\Local\\Temp\\ipykernel_170976\\2680908632.py:87: UserWarning: Relative humidity >120%, ensure proper units.\n",
      "  Td=dewpoint_from_specific_humidity(lev* units('hPa'),T* units('kelvin'),q)\n",
      "D:\\Anaconda3\\envs\\THESIS\\lib\\site-packages\\metpy\\calc\\thermo.py:1396: RuntimeWarning: divide by zero encountered in log\n",
      "  val = np.log(vapor_pressure / mpconsts.nounit.sat_pressure_0c)\n",
      "D:\\Anaconda3\\envs\\THESIS\\lib\\site-packages\\metpy\\calc\\thermo.py:1397: RuntimeWarning: invalid value encountered in divide\n",
      "  return mpconsts.nounit.zero_degc + 243.5 * val / (17.67 - val)\n"
     ]
    },
    {
     "name": "stdout",
     "output_type": "stream",
     "text": [
      "35.69605 -97.5852\n",
      "35.69255464202315 -97.57211080290489 \n",
      "\n"
     ]
    },
    {
     "name": "stderr",
     "output_type": "stream",
     "text": [
      "D:\\Anaconda3\\envs\\THESIS\\lib\\site-packages\\numpy\\lib\\function_base.py:1594: UserWarning: Warning: converting a masked element to nan.\n",
      "  return interp_func(x, xp, fp, left, right)\n",
      "D:\\Anaconda3\\envs\\THESIS\\lib\\site-packages\\sharppy\\sharptab\\params.py:1310: RuntimeWarning: invalid value encountered in double_scalars\n",
      "  return (tv2 - tv1) / (z2 - z1) * -1000.\n"
     ]
    },
    {
     "name": "stdout",
     "output_type": "stream",
     "text": [
      "59 4468.701726423298\n"
     ]
    },
    {
     "name": "stderr",
     "output_type": "stream",
     "text": [
      "C:\\Users\\kyled\\AppData\\Local\\Temp\\ipykernel_170976\\2680908632.py:87: UserWarning: Relative humidity >120%, ensure proper units.\n",
      "  Td=dewpoint_from_specific_humidity(lev* units('hPa'),T* units('kelvin'),q)\n",
      "D:\\Anaconda3\\envs\\THESIS\\lib\\site-packages\\metpy\\calc\\thermo.py:1396: RuntimeWarning: divide by zero encountered in log\n",
      "  val = np.log(vapor_pressure / mpconsts.nounit.sat_pressure_0c)\n",
      "D:\\Anaconda3\\envs\\THESIS\\lib\\site-packages\\metpy\\calc\\thermo.py:1397: RuntimeWarning: invalid value encountered in divide\n",
      "  return mpconsts.nounit.zero_degc + 243.5 * val / (17.67 - val)\n"
     ]
    },
    {
     "name": "stdout",
     "output_type": "stream",
     "text": [
      "35.57321 -96.4174\n",
      "35.5795700768792 -96.41246123000178 \n",
      "\n"
     ]
    },
    {
     "name": "stderr",
     "output_type": "stream",
     "text": [
      "D:\\Anaconda3\\envs\\THESIS\\lib\\site-packages\\numpy\\lib\\function_base.py:1594: UserWarning: Warning: converting a masked element to nan.\n",
      "  return interp_func(x, xp, fp, left, right)\n"
     ]
    },
    {
     "name": "stdout",
     "output_type": "stream",
     "text": [
      "60 4116.10369343707\n"
     ]
    },
    {
     "name": "stderr",
     "output_type": "stream",
     "text": [
      "C:\\Users\\kyled\\AppData\\Local\\Temp\\ipykernel_170976\\2680908632.py:87: UserWarning: Relative humidity >120%, ensure proper units.\n",
      "  Td=dewpoint_from_specific_humidity(lev* units('hPa'),T* units('kelvin'),q)\n",
      "D:\\Anaconda3\\envs\\THESIS\\lib\\site-packages\\metpy\\calc\\thermo.py:1396: RuntimeWarning: divide by zero encountered in log\n",
      "  val = np.log(vapor_pressure / mpconsts.nounit.sat_pressure_0c)\n",
      "D:\\Anaconda3\\envs\\THESIS\\lib\\site-packages\\metpy\\calc\\thermo.py:1397: RuntimeWarning: invalid value encountered in divide\n",
      "  return mpconsts.nounit.zero_degc + 243.5 * val / (17.67 - val)\n"
     ]
    },
    {
     "name": "stdout",
     "output_type": "stream",
     "text": [
      "36.51228 -95.42685\n",
      "36.50940541892547 -95.42581647130618 \n",
      "\n"
     ]
    },
    {
     "name": "stderr",
     "output_type": "stream",
     "text": [
      "D:\\Anaconda3\\envs\\THESIS\\lib\\site-packages\\numpy\\lib\\function_base.py:1594: UserWarning: Warning: converting a masked element to nan.\n",
      "  return interp_func(x, xp, fp, left, right)\n",
      "D:\\Anaconda3\\envs\\THESIS\\lib\\site-packages\\pint\\facets\\plain\\quantity.py:1097: RuntimeWarning: divide by zero encountered in double_scalars\n",
      "  magnitude = magnitude_op(self._magnitude, other_magnitude)\n",
      "C:\\Users\\kyled\\AppData\\Local\\Temp\\ipykernel_170976\\2212921743.py:375: UserWarning: Interpolation point out of data bounds encountered\n",
      "  cape, _ = cape_func[cape_type](pressure, temperature, dew_point_temperature)\n"
     ]
    },
    {
     "name": "stdout",
     "output_type": "stream",
     "text": [
      "61 1125.0324962866378\n"
     ]
    },
    {
     "name": "stderr",
     "output_type": "stream",
     "text": [
      "C:\\Users\\kyled\\AppData\\Local\\Temp\\ipykernel_170976\\2680908632.py:87: UserWarning: Relative humidity >120%, ensure proper units.\n",
      "  Td=dewpoint_from_specific_humidity(lev* units('hPa'),T* units('kelvin'),q)\n",
      "D:\\Anaconda3\\envs\\THESIS\\lib\\site-packages\\metpy\\calc\\thermo.py:1396: RuntimeWarning: divide by zero encountered in log\n",
      "  val = np.log(vapor_pressure / mpconsts.nounit.sat_pressure_0c)\n",
      "D:\\Anaconda3\\envs\\THESIS\\lib\\site-packages\\metpy\\calc\\thermo.py:1397: RuntimeWarning: invalid value encountered in divide\n",
      "  return mpconsts.nounit.zero_degc + 243.5 * val / (17.67 - val)\n"
     ]
    },
    {
     "name": "stdout",
     "output_type": "stream",
     "text": [
      "35.76331 -96.3169\n",
      "35.76717936143918 -96.31008443777762 \n",
      "\n"
     ]
    },
    {
     "name": "stderr",
     "output_type": "stream",
     "text": [
      "D:\\Anaconda3\\envs\\THESIS\\lib\\site-packages\\numpy\\lib\\function_base.py:1594: UserWarning: Warning: converting a masked element to nan.\n",
      "  return interp_func(x, xp, fp, left, right)\n"
     ]
    },
    {
     "name": "stdout",
     "output_type": "stream",
     "text": [
      "62 4388.385441043909\n"
     ]
    },
    {
     "name": "stderr",
     "output_type": "stream",
     "text": [
      "C:\\Users\\kyled\\AppData\\Local\\Temp\\ipykernel_170976\\2680908632.py:87: UserWarning: Relative humidity >120%, ensure proper units.\n",
      "  Td=dewpoint_from_specific_humidity(lev* units('hPa'),T* units('kelvin'),q)\n",
      "D:\\Anaconda3\\envs\\THESIS\\lib\\site-packages\\metpy\\calc\\thermo.py:1396: RuntimeWarning: divide by zero encountered in log\n",
      "  val = np.log(vapor_pressure / mpconsts.nounit.sat_pressure_0c)\n",
      "D:\\Anaconda3\\envs\\THESIS\\lib\\site-packages\\metpy\\calc\\thermo.py:1397: RuntimeWarning: invalid value encountered in divide\n",
      "  return mpconsts.nounit.zero_degc + 243.5 * val / (17.67 - val)\n"
     ]
    },
    {
     "name": "stdout",
     "output_type": "stream",
     "text": [
      "36.13224 -95.9616\n",
      "36.140489186139256 -95.97027948564755 \n",
      "\n"
     ]
    },
    {
     "name": "stderr",
     "output_type": "stream",
     "text": [
      "D:\\Anaconda3\\envs\\THESIS\\lib\\site-packages\\numpy\\lib\\function_base.py:1594: UserWarning: Warning: converting a masked element to nan.\n",
      "  return interp_func(x, xp, fp, left, right)\n"
     ]
    },
    {
     "name": "stdout",
     "output_type": "stream",
     "text": [
      "63 3529.5761633527004\n"
     ]
    },
    {
     "name": "stderr",
     "output_type": "stream",
     "text": [
      "C:\\Users\\kyled\\AppData\\Local\\Temp\\ipykernel_170976\\2680908632.py:87: UserWarning: Relative humidity >120%, ensure proper units.\n",
      "  Td=dewpoint_from_specific_humidity(lev* units('hPa'),T* units('kelvin'),q)\n",
      "D:\\Anaconda3\\envs\\THESIS\\lib\\site-packages\\metpy\\calc\\thermo.py:1396: RuntimeWarning: divide by zero encountered in log\n",
      "  val = np.log(vapor_pressure / mpconsts.nounit.sat_pressure_0c)\n",
      "D:\\Anaconda3\\envs\\THESIS\\lib\\site-packages\\metpy\\calc\\thermo.py:1397: RuntimeWarning: invalid value encountered in divide\n",
      "  return mpconsts.nounit.zero_degc + 243.5 * val / (17.67 - val)\n"
     ]
    },
    {
     "name": "stdout",
     "output_type": "stream",
     "text": [
      "36.5172 -95.445\n",
      "36.510008080647594 -95.45935377766267 \n",
      "\n"
     ]
    },
    {
     "name": "stderr",
     "output_type": "stream",
     "text": [
      "D:\\Anaconda3\\envs\\THESIS\\lib\\site-packages\\numpy\\lib\\function_base.py:1594: UserWarning: Warning: converting a masked element to nan.\n",
      "  return interp_func(x, xp, fp, left, right)\n"
     ]
    },
    {
     "name": "stdout",
     "output_type": "stream",
     "text": [
      "64 3551.035137902995\n"
     ]
    },
    {
     "name": "stderr",
     "output_type": "stream",
     "text": [
      "C:\\Users\\kyled\\AppData\\Local\\Temp\\ipykernel_170976\\2680908632.py:87: UserWarning: Relative humidity >120%, ensure proper units.\n",
      "  Td=dewpoint_from_specific_humidity(lev* units('hPa'),T* units('kelvin'),q)\n",
      "D:\\Anaconda3\\envs\\THESIS\\lib\\site-packages\\metpy\\calc\\thermo.py:1396: RuntimeWarning: divide by zero encountered in log\n",
      "  val = np.log(vapor_pressure / mpconsts.nounit.sat_pressure_0c)\n",
      "D:\\Anaconda3\\envs\\THESIS\\lib\\site-packages\\metpy\\calc\\thermo.py:1397: RuntimeWarning: invalid value encountered in divide\n",
      "  return mpconsts.nounit.zero_degc + 243.5 * val / (17.67 - val)\n"
     ]
    },
    {
     "name": "stdout",
     "output_type": "stream",
     "text": [
      "36.1846 -95.7267\n",
      "36.19101686678284 -95.73538882421195 \n",
      "\n"
     ]
    },
    {
     "name": "stderr",
     "output_type": "stream",
     "text": [
      "D:\\Anaconda3\\envs\\THESIS\\lib\\site-packages\\numpy\\lib\\function_base.py:1594: UserWarning: Warning: converting a masked element to nan.\n",
      "  return interp_func(x, xp, fp, left, right)\n",
      "D:\\Anaconda3\\envs\\THESIS\\lib\\site-packages\\sharppy\\sharptab\\params.py:1310: RuntimeWarning: invalid value encountered in double_scalars\n",
      "  return (tv2 - tv1) / (z2 - z1) * -1000.\n"
     ]
    },
    {
     "name": "stdout",
     "output_type": "stream",
     "text": [
      "65 4282.920038325688\n"
     ]
    },
    {
     "name": "stderr",
     "output_type": "stream",
     "text": [
      "C:\\Users\\kyled\\AppData\\Local\\Temp\\ipykernel_170976\\2680908632.py:87: UserWarning: Relative humidity >120%, ensure proper units.\n",
      "  Td=dewpoint_from_specific_humidity(lev* units('hPa'),T* units('kelvin'),q)\n",
      "D:\\Anaconda3\\envs\\THESIS\\lib\\site-packages\\metpy\\calc\\thermo.py:1396: RuntimeWarning: divide by zero encountered in log\n",
      "  val = np.log(vapor_pressure / mpconsts.nounit.sat_pressure_0c)\n",
      "D:\\Anaconda3\\envs\\THESIS\\lib\\site-packages\\metpy\\calc\\thermo.py:1397: RuntimeWarning: invalid value encountered in divide\n",
      "  return mpconsts.nounit.zero_degc + 243.5 * val / (17.67 - val)\n"
     ]
    },
    {
     "name": "stdout",
     "output_type": "stream",
     "text": [
      "35.67607 -95.81318\n",
      "35.68003142092536 -95.81380725504607 \n",
      "\n"
     ]
    },
    {
     "name": "stderr",
     "output_type": "stream",
     "text": [
      "D:\\Anaconda3\\envs\\THESIS\\lib\\site-packages\\numpy\\lib\\function_base.py:1594: UserWarning: Warning: converting a masked element to nan.\n",
      "  return interp_func(x, xp, fp, left, right)\n"
     ]
    },
    {
     "name": "stdout",
     "output_type": "stream",
     "text": [
      "66 4294.271462756371\n"
     ]
    },
    {
     "name": "stderr",
     "output_type": "stream",
     "text": [
      "C:\\Users\\kyled\\AppData\\Local\\Temp\\ipykernel_170976\\2680908632.py:87: UserWarning: Relative humidity >120%, ensure proper units.\n",
      "  Td=dewpoint_from_specific_humidity(lev* units('hPa'),T* units('kelvin'),q)\n",
      "D:\\Anaconda3\\envs\\THESIS\\lib\\site-packages\\metpy\\calc\\thermo.py:1396: RuntimeWarning: divide by zero encountered in log\n",
      "  val = np.log(vapor_pressure / mpconsts.nounit.sat_pressure_0c)\n",
      "D:\\Anaconda3\\envs\\THESIS\\lib\\site-packages\\metpy\\calc\\thermo.py:1397: RuntimeWarning: invalid value encountered in divide\n",
      "  return mpconsts.nounit.zero_degc + 243.5 * val / (17.67 - val)\n"
     ]
    },
    {
     "name": "stdout",
     "output_type": "stream",
     "text": [
      "36.11231 -95.67262\n",
      "36.109111046380896 -95.67059004737024 \n",
      "\n"
     ]
    },
    {
     "name": "stderr",
     "output_type": "stream",
     "text": [
      "D:\\Anaconda3\\envs\\THESIS\\lib\\site-packages\\numpy\\lib\\function_base.py:1594: UserWarning: Warning: converting a masked element to nan.\n",
      "  return interp_func(x, xp, fp, left, right)\n"
     ]
    },
    {
     "name": "stdout",
     "output_type": "stream",
     "text": [
      "67 3680.817100935387\n"
     ]
    },
    {
     "name": "stderr",
     "output_type": "stream",
     "text": [
      "C:\\Users\\kyled\\AppData\\Local\\Temp\\ipykernel_170976\\2680908632.py:87: UserWarning: Relative humidity >120%, ensure proper units.\n",
      "  Td=dewpoint_from_specific_humidity(lev* units('hPa'),T* units('kelvin'),q)\n",
      "D:\\Anaconda3\\envs\\THESIS\\lib\\site-packages\\metpy\\calc\\thermo.py:1396: RuntimeWarning: divide by zero encountered in log\n",
      "  val = np.log(vapor_pressure / mpconsts.nounit.sat_pressure_0c)\n",
      "D:\\Anaconda3\\envs\\THESIS\\lib\\site-packages\\metpy\\calc\\thermo.py:1397: RuntimeWarning: invalid value encountered in divide\n",
      "  return mpconsts.nounit.zero_degc + 243.5 * val / (17.67 - val)\n"
     ]
    },
    {
     "name": "stdout",
     "output_type": "stream",
     "text": [
      "36.27118 -95.4944\n",
      "36.268013656042264 -95.49945346913654 \n",
      "\n"
     ]
    },
    {
     "name": "stderr",
     "output_type": "stream",
     "text": [
      "D:\\Anaconda3\\envs\\THESIS\\lib\\site-packages\\numpy\\lib\\function_base.py:1594: UserWarning: Warning: converting a masked element to nan.\n",
      "  return interp_func(x, xp, fp, left, right)\n"
     ]
    },
    {
     "name": "stdout",
     "output_type": "stream",
     "text": [
      "68 3867.286593152995\n"
     ]
    },
    {
     "name": "stderr",
     "output_type": "stream",
     "text": [
      "C:\\Users\\kyled\\AppData\\Local\\Temp\\ipykernel_170976\\2680908632.py:87: UserWarning: Relative humidity >120%, ensure proper units.\n",
      "  Td=dewpoint_from_specific_humidity(lev* units('hPa'),T* units('kelvin'),q)\n",
      "D:\\Anaconda3\\envs\\THESIS\\lib\\site-packages\\metpy\\calc\\thermo.py:1396: RuntimeWarning: divide by zero encountered in log\n",
      "  val = np.log(vapor_pressure / mpconsts.nounit.sat_pressure_0c)\n",
      "D:\\Anaconda3\\envs\\THESIS\\lib\\site-packages\\metpy\\calc\\thermo.py:1397: RuntimeWarning: invalid value encountered in divide\n",
      "  return mpconsts.nounit.zero_degc + 243.5 * val / (17.67 - val)\n"
     ]
    },
    {
     "name": "stdout",
     "output_type": "stream",
     "text": [
      "35.76775 -95.6667\n",
      "35.758805248644336 -95.67917034300126 \n",
      "\n"
     ]
    },
    {
     "name": "stderr",
     "output_type": "stream",
     "text": [
      "D:\\Anaconda3\\envs\\THESIS\\lib\\site-packages\\numpy\\lib\\function_base.py:1594: UserWarning: Warning: converting a masked element to nan.\n",
      "  return interp_func(x, xp, fp, left, right)\n"
     ]
    },
    {
     "name": "stdout",
     "output_type": "stream",
     "text": [
      "69 3967.855353149851\n"
     ]
    },
    {
     "name": "stderr",
     "output_type": "stream",
     "text": [
      "C:\\Users\\kyled\\AppData\\Local\\Temp\\ipykernel_170976\\2680908632.py:87: UserWarning: Relative humidity >120%, ensure proper units.\n",
      "  Td=dewpoint_from_specific_humidity(lev* units('hPa'),T* units('kelvin'),q)\n",
      "D:\\Anaconda3\\envs\\THESIS\\lib\\site-packages\\metpy\\calc\\thermo.py:1396: RuntimeWarning: divide by zero encountered in log\n",
      "  val = np.log(vapor_pressure / mpconsts.nounit.sat_pressure_0c)\n",
      "D:\\Anaconda3\\envs\\THESIS\\lib\\site-packages\\metpy\\calc\\thermo.py:1397: RuntimeWarning: invalid value encountered in divide\n",
      "  return mpconsts.nounit.zero_degc + 243.5 * val / (17.67 - val)\n"
     ]
    },
    {
     "name": "stdout",
     "output_type": "stream",
     "text": [
      "35.84901 -98.1335\n",
      "35.85247899636742 -98.13752424471215 \n",
      "\n"
     ]
    },
    {
     "name": "stderr",
     "output_type": "stream",
     "text": [
      "D:\\Anaconda3\\envs\\THESIS\\lib\\site-packages\\numpy\\lib\\function_base.py:1594: UserWarning: Warning: converting a masked element to nan.\n",
      "  return interp_func(x, xp, fp, left, right)\n"
     ]
    },
    {
     "name": "stdout",
     "output_type": "stream",
     "text": [
      "70 4231.674797885002\n"
     ]
    },
    {
     "name": "stderr",
     "output_type": "stream",
     "text": [
      "C:\\Users\\kyled\\AppData\\Local\\Temp\\ipykernel_170976\\2680908632.py:87: UserWarning: Relative humidity >120%, ensure proper units.\n",
      "  Td=dewpoint_from_specific_humidity(lev* units('hPa'),T* units('kelvin'),q)\n",
      "D:\\Anaconda3\\envs\\THESIS\\lib\\site-packages\\metpy\\calc\\thermo.py:1396: RuntimeWarning: divide by zero encountered in log\n",
      "  val = np.log(vapor_pressure / mpconsts.nounit.sat_pressure_0c)\n",
      "D:\\Anaconda3\\envs\\THESIS\\lib\\site-packages\\metpy\\calc\\thermo.py:1397: RuntimeWarning: invalid value encountered in divide\n",
      "  return mpconsts.nounit.zero_degc + 243.5 * val / (17.67 - val)\n"
     ]
    },
    {
     "name": "stdout",
     "output_type": "stream",
     "text": [
      "35.97112 -95.8154\n",
      "35.97642790485498 -95.80709576077436 \n",
      "\n"
     ]
    },
    {
     "name": "stderr",
     "output_type": "stream",
     "text": [
      "D:\\Anaconda3\\envs\\THESIS\\lib\\site-packages\\numpy\\lib\\function_base.py:1594: UserWarning: Warning: converting a masked element to nan.\n",
      "  return interp_func(x, xp, fp, left, right)\n",
      "D:\\Anaconda3\\envs\\THESIS\\lib\\site-packages\\pint\\facets\\plain\\quantity.py:1097: RuntimeWarning: divide by zero encountered in double_scalars\n",
      "  magnitude = magnitude_op(self._magnitude, other_magnitude)\n",
      "C:\\Users\\kyled\\AppData\\Local\\Temp\\ipykernel_170976\\2212921743.py:375: UserWarning: Interpolation point out of data bounds encountered\n",
      "  cape, _ = cape_func[cape_type](pressure, temperature, dew_point_temperature)\n"
     ]
    },
    {
     "name": "stdout",
     "output_type": "stream",
     "text": [
      "71 2359.3279751341597\n"
     ]
    },
    {
     "name": "stderr",
     "output_type": "stream",
     "text": [
      "C:\\Users\\kyled\\AppData\\Local\\Temp\\ipykernel_170976\\2680908632.py:87: UserWarning: Relative humidity >120%, ensure proper units.\n",
      "  Td=dewpoint_from_specific_humidity(lev* units('hPa'),T* units('kelvin'),q)\n",
      "D:\\Anaconda3\\envs\\THESIS\\lib\\site-packages\\metpy\\calc\\thermo.py:1396: RuntimeWarning: divide by zero encountered in log\n",
      "  val = np.log(vapor_pressure / mpconsts.nounit.sat_pressure_0c)\n",
      "D:\\Anaconda3\\envs\\THESIS\\lib\\site-packages\\metpy\\calc\\thermo.py:1397: RuntimeWarning: invalid value encountered in divide\n",
      "  return mpconsts.nounit.zero_degc + 243.5 * val / (17.67 - val)\n"
     ]
    },
    {
     "name": "stdout",
     "output_type": "stream",
     "text": [
      "36.15904 -95.1855\n",
      "36.154548359060946 -95.20195783495404 \n",
      "\n"
     ]
    },
    {
     "name": "stderr",
     "output_type": "stream",
     "text": [
      "D:\\Anaconda3\\envs\\THESIS\\lib\\site-packages\\numpy\\lib\\function_base.py:1594: UserWarning: Warning: converting a masked element to nan.\n",
      "  return interp_func(x, xp, fp, left, right)\n",
      "D:\\Anaconda3\\envs\\THESIS\\lib\\site-packages\\sharppy\\sharptab\\params.py:1310: RuntimeWarning: invalid value encountered in double_scalars\n",
      "  return (tv2 - tv1) / (z2 - z1) * -1000.\n"
     ]
    },
    {
     "name": "stdout",
     "output_type": "stream",
     "text": [
      "72 1670.6472270107838\n"
     ]
    },
    {
     "name": "stderr",
     "output_type": "stream",
     "text": [
      "D:\\Anaconda3\\envs\\THESIS\\lib\\site-packages\\metpy\\calc\\thermo.py:1396: RuntimeWarning: divide by zero encountered in log\n",
      "  val = np.log(vapor_pressure / mpconsts.nounit.sat_pressure_0c)\n",
      "D:\\Anaconda3\\envs\\THESIS\\lib\\site-packages\\metpy\\calc\\thermo.py:1397: RuntimeWarning: invalid value encountered in divide\n",
      "  return mpconsts.nounit.zero_degc + 243.5 * val / (17.67 - val)\n"
     ]
    },
    {
     "name": "stdout",
     "output_type": "stream",
     "text": [
      "36.44495 -94.7829\n",
      "36.44218861132347 -94.790696727956 \n",
      "\n"
     ]
    },
    {
     "name": "stderr",
     "output_type": "stream",
     "text": [
      "D:\\Anaconda3\\envs\\THESIS\\lib\\site-packages\\numpy\\lib\\function_base.py:1594: UserWarning: Warning: converting a masked element to nan.\n",
      "  return interp_func(x, xp, fp, left, right)\n"
     ]
    },
    {
     "name": "stdout",
     "output_type": "stream",
     "text": [
      "73 2146.6072425227676\n"
     ]
    },
    {
     "name": "stderr",
     "output_type": "stream",
     "text": [
      "C:\\Users\\kyled\\AppData\\Local\\Temp\\ipykernel_170976\\2680908632.py:87: UserWarning: Relative humidity >120%, ensure proper units.\n",
      "  Td=dewpoint_from_specific_humidity(lev* units('hPa'),T* units('kelvin'),q)\n",
      "D:\\Anaconda3\\envs\\THESIS\\lib\\site-packages\\metpy\\calc\\thermo.py:1396: RuntimeWarning: divide by zero encountered in log\n",
      "  val = np.log(vapor_pressure / mpconsts.nounit.sat_pressure_0c)\n",
      "D:\\Anaconda3\\envs\\THESIS\\lib\\site-packages\\metpy\\calc\\thermo.py:1397: RuntimeWarning: invalid value encountered in divide\n",
      "  return mpconsts.nounit.zero_degc + 243.5 * val / (17.67 - val)\n"
     ]
    },
    {
     "name": "stdout",
     "output_type": "stream",
     "text": [
      "35.55245 -96.2012\n",
      "35.55054424489604 -96.21416921395678 \n",
      "\n"
     ]
    },
    {
     "name": "stderr",
     "output_type": "stream",
     "text": [
      "D:\\Anaconda3\\envs\\THESIS\\lib\\site-packages\\numpy\\lib\\function_base.py:1594: UserWarning: Warning: converting a masked element to nan.\n",
      "  return interp_func(x, xp, fp, left, right)\n"
     ]
    },
    {
     "name": "stdout",
     "output_type": "stream",
     "text": [
      "74 4323.746369087342\n"
     ]
    },
    {
     "name": "stderr",
     "output_type": "stream",
     "text": [
      "C:\\Users\\kyled\\AppData\\Local\\Temp\\ipykernel_170976\\2680908632.py:87: UserWarning: Relative humidity >120%, ensure proper units.\n",
      "  Td=dewpoint_from_specific_humidity(lev* units('hPa'),T* units('kelvin'),q)\n",
      "D:\\Anaconda3\\envs\\THESIS\\lib\\site-packages\\metpy\\calc\\thermo.py:1396: RuntimeWarning: divide by zero encountered in log\n",
      "  val = np.log(vapor_pressure / mpconsts.nounit.sat_pressure_0c)\n",
      "D:\\Anaconda3\\envs\\THESIS\\lib\\site-packages\\metpy\\calc\\thermo.py:1397: RuntimeWarning: invalid value encountered in divide\n",
      "  return mpconsts.nounit.zero_degc + 243.5 * val / (17.67 - val)\n"
     ]
    },
    {
     "name": "stdout",
     "output_type": "stream",
     "text": [
      "35.87968 -96.1133\n",
      "35.872699723929934 -96.10882563927868 \n",
      "\n"
     ]
    },
    {
     "name": "stderr",
     "output_type": "stream",
     "text": [
      "D:\\Anaconda3\\envs\\THESIS\\lib\\site-packages\\numpy\\lib\\function_base.py:1594: UserWarning: Warning: converting a masked element to nan.\n",
      "  return interp_func(x, xp, fp, left, right)\n"
     ]
    },
    {
     "name": "stdout",
     "output_type": "stream",
     "text": [
      "75 3692.6351583705823\n"
     ]
    },
    {
     "name": "stderr",
     "output_type": "stream",
     "text": [
      "C:\\Users\\kyled\\AppData\\Local\\Temp\\ipykernel_170976\\2680908632.py:87: UserWarning: Relative humidity >120%, ensure proper units.\n",
      "  Td=dewpoint_from_specific_humidity(lev* units('hPa'),T* units('kelvin'),q)\n",
      "D:\\Anaconda3\\envs\\THESIS\\lib\\site-packages\\metpy\\calc\\thermo.py:1396: RuntimeWarning: divide by zero encountered in log\n",
      "  val = np.log(vapor_pressure / mpconsts.nounit.sat_pressure_0c)\n",
      "D:\\Anaconda3\\envs\\THESIS\\lib\\site-packages\\metpy\\calc\\thermo.py:1397: RuntimeWarning: invalid value encountered in divide\n",
      "  return mpconsts.nounit.zero_degc + 243.5 * val / (17.67 - val)\n"
     ]
    },
    {
     "name": "stdout",
     "output_type": "stream",
     "text": [
      "36.0901 -96.1899\n",
      "36.08947988350409 -96.20484949201705 \n",
      "\n"
     ]
    },
    {
     "name": "stderr",
     "output_type": "stream",
     "text": [
      "D:\\Anaconda3\\envs\\THESIS\\lib\\site-packages\\numpy\\lib\\function_base.py:1594: UserWarning: Warning: converting a masked element to nan.\n",
      "  return interp_func(x, xp, fp, left, right)\n",
      "D:\\Anaconda3\\envs\\THESIS\\lib\\site-packages\\pint\\facets\\plain\\quantity.py:1097: RuntimeWarning: divide by zero encountered in double_scalars\n",
      "  magnitude = magnitude_op(self._magnitude, other_magnitude)\n",
      "C:\\Users\\kyled\\AppData\\Local\\Temp\\ipykernel_170976\\2212921743.py:375: UserWarning: Interpolation point out of data bounds encountered\n",
      "  cape, _ = cape_func[cape_type](pressure, temperature, dew_point_temperature)\n"
     ]
    },
    {
     "name": "stdout",
     "output_type": "stream",
     "text": [
      "76 4089.356631651774\n"
     ]
    },
    {
     "name": "stderr",
     "output_type": "stream",
     "text": [
      "C:\\Users\\kyled\\AppData\\Local\\Temp\\ipykernel_170976\\2680908632.py:87: UserWarning: Relative humidity >120%, ensure proper units.\n",
      "  Td=dewpoint_from_specific_humidity(lev* units('hPa'),T* units('kelvin'),q)\n",
      "D:\\Anaconda3\\envs\\THESIS\\lib\\site-packages\\metpy\\calc\\thermo.py:1396: RuntimeWarning: divide by zero encountered in log\n",
      "  val = np.log(vapor_pressure / mpconsts.nounit.sat_pressure_0c)\n",
      "D:\\Anaconda3\\envs\\THESIS\\lib\\site-packages\\metpy\\calc\\thermo.py:1397: RuntimeWarning: invalid value encountered in divide\n",
      "  return mpconsts.nounit.zero_degc + 243.5 * val / (17.67 - val)\n"
     ]
    },
    {
     "name": "stdout",
     "output_type": "stream",
     "text": [
      "35.36341 -96.36435\n",
      "35.36339893665805 -96.34952115818072 \n",
      "\n"
     ]
    },
    {
     "name": "stderr",
     "output_type": "stream",
     "text": [
      "D:\\Anaconda3\\envs\\THESIS\\lib\\site-packages\\numpy\\lib\\function_base.py:1594: UserWarning: Warning: converting a masked element to nan.\n",
      "  return interp_func(x, xp, fp, left, right)\n"
     ]
    },
    {
     "name": "stdout",
     "output_type": "stream",
     "text": [
      "77 4161.870300340496\n"
     ]
    },
    {
     "name": "stderr",
     "output_type": "stream",
     "text": [
      "C:\\Users\\kyled\\AppData\\Local\\Temp\\ipykernel_170976\\2680908632.py:87: UserWarning: Relative humidity >120%, ensure proper units.\n",
      "  Td=dewpoint_from_specific_humidity(lev* units('hPa'),T* units('kelvin'),q)\n",
      "D:\\Anaconda3\\envs\\THESIS\\lib\\site-packages\\metpy\\calc\\thermo.py:1396: RuntimeWarning: divide by zero encountered in log\n",
      "  val = np.log(vapor_pressure / mpconsts.nounit.sat_pressure_0c)\n",
      "D:\\Anaconda3\\envs\\THESIS\\lib\\site-packages\\metpy\\calc\\thermo.py:1397: RuntimeWarning: invalid value encountered in divide\n",
      "  return mpconsts.nounit.zero_degc + 243.5 * val / (17.67 - val)\n"
     ]
    },
    {
     "name": "stdout",
     "output_type": "stream",
     "text": [
      "36.23185 -96.3264\n",
      "36.22569006571386 -96.33615469179739 \n",
      "\n"
     ]
    },
    {
     "name": "stderr",
     "output_type": "stream",
     "text": [
      "D:\\Anaconda3\\envs\\THESIS\\lib\\site-packages\\numpy\\lib\\function_base.py:1594: UserWarning: Warning: converting a masked element to nan.\n",
      "  return interp_func(x, xp, fp, left, right)\n",
      "D:\\Anaconda3\\envs\\THESIS\\lib\\site-packages\\pint\\facets\\plain\\quantity.py:1097: RuntimeWarning: divide by zero encountered in double_scalars\n",
      "  magnitude = magnitude_op(self._magnitude, other_magnitude)\n",
      "C:\\Users\\kyled\\AppData\\Local\\Temp\\ipykernel_170976\\2212921743.py:375: UserWarning: Interpolation point out of data bounds encountered\n",
      "  cape, _ = cape_func[cape_type](pressure, temperature, dew_point_temperature)\n"
     ]
    },
    {
     "name": "stdout",
     "output_type": "stream",
     "text": [
      "78 3080.583276701803\n"
     ]
    },
    {
     "name": "stderr",
     "output_type": "stream",
     "text": [
      "C:\\Users\\kyled\\AppData\\Local\\Temp\\ipykernel_170976\\2680908632.py:87: UserWarning: Relative humidity >120%, ensure proper units.\n",
      "  Td=dewpoint_from_specific_humidity(lev* units('hPa'),T* units('kelvin'),q)\n",
      "D:\\Anaconda3\\envs\\THESIS\\lib\\site-packages\\metpy\\calc\\thermo.py:1396: RuntimeWarning: divide by zero encountered in log\n",
      "  val = np.log(vapor_pressure / mpconsts.nounit.sat_pressure_0c)\n",
      "D:\\Anaconda3\\envs\\THESIS\\lib\\site-packages\\metpy\\calc\\thermo.py:1397: RuntimeWarning: invalid value encountered in divide\n",
      "  return mpconsts.nounit.zero_degc + 243.5 * val / (17.67 - val)\n"
     ]
    },
    {
     "name": "stdout",
     "output_type": "stream",
     "text": [
      "36.69007 -95.8075\n",
      "36.67725007214511 -95.79101785286178 \n",
      "\n"
     ]
    },
    {
     "name": "stderr",
     "output_type": "stream",
     "text": [
      "D:\\Anaconda3\\envs\\THESIS\\lib\\site-packages\\numpy\\lib\\function_base.py:1594: UserWarning: Warning: converting a masked element to nan.\n",
      "  return interp_func(x, xp, fp, left, right)\n"
     ]
    },
    {
     "name": "stdout",
     "output_type": "stream",
     "text": [
      "79 1631.8384357383359\n"
     ]
    },
    {
     "name": "stderr",
     "output_type": "stream",
     "text": [
      "C:\\Users\\kyled\\AppData\\Local\\Temp\\ipykernel_170976\\2680908632.py:87: UserWarning: Relative humidity >120%, ensure proper units.\n",
      "  Td=dewpoint_from_specific_humidity(lev* units('hPa'),T* units('kelvin'),q)\n",
      "D:\\Anaconda3\\envs\\THESIS\\lib\\site-packages\\metpy\\calc\\thermo.py:1396: RuntimeWarning: divide by zero encountered in log\n",
      "  val = np.log(vapor_pressure / mpconsts.nounit.sat_pressure_0c)\n",
      "D:\\Anaconda3\\envs\\THESIS\\lib\\site-packages\\metpy\\calc\\thermo.py:1397: RuntimeWarning: invalid value encountered in divide\n",
      "  return mpconsts.nounit.zero_degc + 243.5 * val / (17.67 - val)\n"
     ]
    },
    {
     "name": "stdout",
     "output_type": "stream",
     "text": [
      "36.35397 -96.0536\n",
      "36.35742765086749 -96.0662450025643 \n",
      "\n"
     ]
    },
    {
     "name": "stderr",
     "output_type": "stream",
     "text": [
      "D:\\Anaconda3\\envs\\THESIS\\lib\\site-packages\\numpy\\lib\\function_base.py:1594: UserWarning: Warning: converting a masked element to nan.\n",
      "  return interp_func(x, xp, fp, left, right)\n"
     ]
    },
    {
     "name": "stdout",
     "output_type": "stream",
     "text": [
      "80 3768.5694515580262\n"
     ]
    },
    {
     "name": "stderr",
     "output_type": "stream",
     "text": [
      "C:\\Users\\kyled\\AppData\\Local\\Temp\\ipykernel_170976\\2680908632.py:87: UserWarning: Relative humidity >120%, ensure proper units.\n",
      "  Td=dewpoint_from_specific_humidity(lev* units('hPa'),T* units('kelvin'),q)\n",
      "D:\\Anaconda3\\envs\\THESIS\\lib\\site-packages\\metpy\\calc\\thermo.py:1396: RuntimeWarning: divide by zero encountered in log\n",
      "  val = np.log(vapor_pressure / mpconsts.nounit.sat_pressure_0c)\n",
      "D:\\Anaconda3\\envs\\THESIS\\lib\\site-packages\\metpy\\calc\\thermo.py:1397: RuntimeWarning: invalid value encountered in divide\n",
      "  return mpconsts.nounit.zero_degc + 243.5 * val / (17.67 - val)\n"
     ]
    },
    {
     "name": "stdout",
     "output_type": "stream",
     "text": [
      "36.92553 -95.1947\n",
      "36.909266676116125 -95.17838095650012 \n",
      "\n"
     ]
    },
    {
     "name": "stderr",
     "output_type": "stream",
     "text": [
      "D:\\Anaconda3\\envs\\THESIS\\lib\\site-packages\\numpy\\lib\\function_base.py:1594: UserWarning: Warning: converting a masked element to nan.\n",
      "  return interp_func(x, xp, fp, left, right)\n"
     ]
    },
    {
     "name": "stdout",
     "output_type": "stream",
     "text": [
      "81 1926.0016851442479\n"
     ]
    },
    {
     "name": "stderr",
     "output_type": "stream",
     "text": [
      "C:\\Users\\kyled\\AppData\\Local\\Temp\\ipykernel_170976\\2680908632.py:87: UserWarning: Relative humidity >120%, ensure proper units.\n",
      "  Td=dewpoint_from_specific_humidity(lev* units('hPa'),T* units('kelvin'),q)\n",
      "D:\\Anaconda3\\envs\\THESIS\\lib\\site-packages\\metpy\\calc\\thermo.py:1396: RuntimeWarning: divide by zero encountered in log\n",
      "  val = np.log(vapor_pressure / mpconsts.nounit.sat_pressure_0c)\n",
      "D:\\Anaconda3\\envs\\THESIS\\lib\\site-packages\\metpy\\calc\\thermo.py:1397: RuntimeWarning: invalid value encountered in divide\n",
      "  return mpconsts.nounit.zero_degc + 243.5 * val / (17.67 - val)\n"
     ]
    },
    {
     "name": "stdout",
     "output_type": "stream",
     "text": [
      "36.4028 -95.8925\n",
      "36.409118016835 -95.89772089410093 \n",
      "\n"
     ]
    },
    {
     "name": "stderr",
     "output_type": "stream",
     "text": [
      "D:\\Anaconda3\\envs\\THESIS\\lib\\site-packages\\numpy\\lib\\function_base.py:1594: UserWarning: Warning: converting a masked element to nan.\n",
      "  return interp_func(x, xp, fp, left, right)\n"
     ]
    },
    {
     "name": "stdout",
     "output_type": "stream",
     "text": [
      "82 3372.6181898807354\n"
     ]
    },
    {
     "name": "stderr",
     "output_type": "stream",
     "text": [
      "C:\\Users\\kyled\\AppData\\Local\\Temp\\ipykernel_170976\\2680908632.py:87: UserWarning: Relative humidity >120%, ensure proper units.\n",
      "  Td=dewpoint_from_specific_humidity(lev* units('hPa'),T* units('kelvin'),q)\n",
      "D:\\Anaconda3\\envs\\THESIS\\lib\\site-packages\\metpy\\calc\\thermo.py:1396: RuntimeWarning: divide by zero encountered in log\n",
      "  val = np.log(vapor_pressure / mpconsts.nounit.sat_pressure_0c)\n",
      "D:\\Anaconda3\\envs\\THESIS\\lib\\site-packages\\metpy\\calc\\thermo.py:1397: RuntimeWarning: invalid value encountered in divide\n",
      "  return mpconsts.nounit.zero_degc + 243.5 * val / (17.67 - val)\n"
     ]
    },
    {
     "name": "stdout",
     "output_type": "stream",
     "text": [
      "36.23617 -96.9826\n",
      "36.230400126991725 -96.97107942299897 \n",
      "\n"
     ]
    },
    {
     "name": "stderr",
     "output_type": "stream",
     "text": [
      "D:\\Anaconda3\\envs\\THESIS\\lib\\site-packages\\numpy\\lib\\function_base.py:1594: UserWarning: Warning: converting a masked element to nan.\n",
      "  return interp_func(x, xp, fp, left, right)\n"
     ]
    },
    {
     "name": "stdout",
     "output_type": "stream",
     "text": [
      "83 3543.8356162834602\n"
     ]
    },
    {
     "name": "stderr",
     "output_type": "stream",
     "text": [
      "C:\\Users\\kyled\\AppData\\Local\\Temp\\ipykernel_170976\\2680908632.py:87: UserWarning: Relative humidity >120%, ensure proper units.\n",
      "  Td=dewpoint_from_specific_humidity(lev* units('hPa'),T* units('kelvin'),q)\n",
      "D:\\Anaconda3\\envs\\THESIS\\lib\\site-packages\\metpy\\calc\\thermo.py:1396: RuntimeWarning: divide by zero encountered in log\n",
      "  val = np.log(vapor_pressure / mpconsts.nounit.sat_pressure_0c)\n",
      "D:\\Anaconda3\\envs\\THESIS\\lib\\site-packages\\metpy\\calc\\thermo.py:1397: RuntimeWarning: invalid value encountered in divide\n",
      "  return mpconsts.nounit.zero_degc + 243.5 * val / (17.67 - val)\n"
     ]
    },
    {
     "name": "stdout",
     "output_type": "stream",
     "text": [
      "35.9465 -98.1199\n",
      "35.960463934977 -98.10514920362345 \n",
      "\n"
     ]
    },
    {
     "name": "stderr",
     "output_type": "stream",
     "text": [
      "D:\\Anaconda3\\envs\\THESIS\\lib\\site-packages\\numpy\\lib\\function_base.py:1594: UserWarning: Warning: converting a masked element to nan.\n",
      "  return interp_func(x, xp, fp, left, right)\n"
     ]
    },
    {
     "name": "stdout",
     "output_type": "stream",
     "text": [
      "84 4404.715788191978\n"
     ]
    },
    {
     "name": "stderr",
     "output_type": "stream",
     "text": [
      "D:\\Anaconda3\\envs\\THESIS\\lib\\site-packages\\metpy\\calc\\thermo.py:1396: RuntimeWarning: divide by zero encountered in log\n",
      "  val = np.log(vapor_pressure / mpconsts.nounit.sat_pressure_0c)\n",
      "D:\\Anaconda3\\envs\\THESIS\\lib\\site-packages\\metpy\\calc\\thermo.py:1397: RuntimeWarning: invalid value encountered in divide\n",
      "  return mpconsts.nounit.zero_degc + 243.5 * val / (17.67 - val)\n"
     ]
    },
    {
     "name": "stdout",
     "output_type": "stream",
     "text": [
      "36.40055 -94.7619\n",
      "36.387492146669935 -94.75919226487633 \n",
      "\n"
     ]
    },
    {
     "name": "stderr",
     "output_type": "stream",
     "text": [
      "D:\\Anaconda3\\envs\\THESIS\\lib\\site-packages\\numpy\\lib\\function_base.py:1594: UserWarning: Warning: converting a masked element to nan.\n",
      "  return interp_func(x, xp, fp, left, right)\n",
      "D:\\Anaconda3\\envs\\THESIS\\lib\\site-packages\\pint\\facets\\plain\\quantity.py:1097: RuntimeWarning: divide by zero encountered in double_scalars\n",
      "  magnitude = magnitude_op(self._magnitude, other_magnitude)\n",
      "C:\\Users\\kyled\\AppData\\Local\\Temp\\ipykernel_170976\\2212921743.py:375: UserWarning: Interpolation point out of data bounds encountered\n",
      "  cape, _ = cape_func[cape_type](pressure, temperature, dew_point_temperature)\n"
     ]
    },
    {
     "name": "stdout",
     "output_type": "stream",
     "text": [
      "85 1867.5059500234026\n"
     ]
    },
    {
     "name": "stderr",
     "output_type": "stream",
     "text": [
      "D:\\Anaconda3\\envs\\THESIS\\lib\\site-packages\\metpy\\calc\\thermo.py:1396: RuntimeWarning: divide by zero encountered in log\n",
      "  val = np.log(vapor_pressure / mpconsts.nounit.sat_pressure_0c)\n",
      "D:\\Anaconda3\\envs\\THESIS\\lib\\site-packages\\metpy\\calc\\thermo.py:1397: RuntimeWarning: invalid value encountered in divide\n",
      "  return mpconsts.nounit.zero_degc + 243.5 * val / (17.67 - val)\n"
     ]
    },
    {
     "name": "stdout",
     "output_type": "stream",
     "text": [
      "36.21569 -94.9694\n",
      "36.203491187280704 -94.96651067735121 \n",
      "\n"
     ]
    },
    {
     "name": "stderr",
     "output_type": "stream",
     "text": [
      "D:\\Anaconda3\\envs\\THESIS\\lib\\site-packages\\numpy\\lib\\function_base.py:1594: UserWarning: Warning: converting a masked element to nan.\n",
      "  return interp_func(x, xp, fp, left, right)\n"
     ]
    },
    {
     "name": "stdout",
     "output_type": "stream",
     "text": [
      "86 2103.9985017519884\n"
     ]
    },
    {
     "name": "stderr",
     "output_type": "stream",
     "text": [
      "C:\\Users\\kyled\\AppData\\Local\\Temp\\ipykernel_170976\\2680908632.py:87: UserWarning: Relative humidity >120%, ensure proper units.\n",
      "  Td=dewpoint_from_specific_humidity(lev* units('hPa'),T* units('kelvin'),q)\n",
      "D:\\Anaconda3\\envs\\THESIS\\lib\\site-packages\\metpy\\calc\\thermo.py:1396: RuntimeWarning: divide by zero encountered in log\n",
      "  val = np.log(vapor_pressure / mpconsts.nounit.sat_pressure_0c)\n",
      "D:\\Anaconda3\\envs\\THESIS\\lib\\site-packages\\metpy\\calc\\thermo.py:1397: RuntimeWarning: invalid value encountered in divide\n",
      "  return mpconsts.nounit.zero_degc + 243.5 * val / (17.67 - val)\n"
     ]
    },
    {
     "name": "stdout",
     "output_type": "stream",
     "text": [
      "36.00391 -95.5461\n",
      "35.999097039129005 -95.54000215796322 \n",
      "\n"
     ]
    },
    {
     "name": "stderr",
     "output_type": "stream",
     "text": [
      "D:\\Anaconda3\\envs\\THESIS\\lib\\site-packages\\numpy\\lib\\function_base.py:1594: UserWarning: Warning: converting a masked element to nan.\n",
      "  return interp_func(x, xp, fp, left, right)\n"
     ]
    },
    {
     "name": "stdout",
     "output_type": "stream",
     "text": [
      "87 1527.0822087837178\n"
     ]
    },
    {
     "name": "stderr",
     "output_type": "stream",
     "text": [
      "C:\\Users\\kyled\\AppData\\Local\\Temp\\ipykernel_170976\\2680908632.py:87: UserWarning: Relative humidity >120%, ensure proper units.\n",
      "  Td=dewpoint_from_specific_humidity(lev* units('hPa'),T* units('kelvin'),q)\n",
      "D:\\Anaconda3\\envs\\THESIS\\lib\\site-packages\\metpy\\calc\\thermo.py:1396: RuntimeWarning: divide by zero encountered in log\n",
      "  val = np.log(vapor_pressure / mpconsts.nounit.sat_pressure_0c)\n",
      "D:\\Anaconda3\\envs\\THESIS\\lib\\site-packages\\metpy\\calc\\thermo.py:1397: RuntimeWarning: invalid value encountered in divide\n",
      "  return mpconsts.nounit.zero_degc + 243.5 * val / (17.67 - val)\n"
     ]
    },
    {
     "name": "stdout",
     "output_type": "stream",
     "text": [
      "35.76964 -95.9363\n",
      "35.76275890983283 -95.9448009481759 \n",
      "\n"
     ]
    },
    {
     "name": "stderr",
     "output_type": "stream",
     "text": [
      "D:\\Anaconda3\\envs\\THESIS\\lib\\site-packages\\numpy\\lib\\function_base.py:1594: UserWarning: Warning: converting a masked element to nan.\n",
      "  return interp_func(x, xp, fp, left, right)\n"
     ]
    },
    {
     "name": "stdout",
     "output_type": "stream",
     "text": [
      "88 3245.8971120869323\n"
     ]
    },
    {
     "name": "stderr",
     "output_type": "stream",
     "text": [
      "C:\\Users\\kyled\\AppData\\Local\\Temp\\ipykernel_170976\\2680908632.py:87: UserWarning: Relative humidity >120%, ensure proper units.\n",
      "  Td=dewpoint_from_specific_humidity(lev* units('hPa'),T* units('kelvin'),q)\n",
      "D:\\Anaconda3\\envs\\THESIS\\lib\\site-packages\\metpy\\calc\\thermo.py:1396: RuntimeWarning: divide by zero encountered in log\n",
      "  val = np.log(vapor_pressure / mpconsts.nounit.sat_pressure_0c)\n",
      "D:\\Anaconda3\\envs\\THESIS\\lib\\site-packages\\metpy\\calc\\thermo.py:1397: RuntimeWarning: invalid value encountered in divide\n",
      "  return mpconsts.nounit.zero_degc + 243.5 * val / (17.67 - val)\n"
     ]
    },
    {
     "name": "stdout",
     "output_type": "stream",
     "text": [
      "35.78897 -96.2453\n",
      "35.793409282537205 -96.24321264056016 \n",
      "\n"
     ]
    },
    {
     "name": "stderr",
     "output_type": "stream",
     "text": [
      "D:\\Anaconda3\\envs\\THESIS\\lib\\site-packages\\numpy\\lib\\function_base.py:1594: UserWarning: Warning: converting a masked element to nan.\n",
      "  return interp_func(x, xp, fp, left, right)\n"
     ]
    },
    {
     "name": "stdout",
     "output_type": "stream",
     "text": [
      "89 3764.767065148627\n"
     ]
    },
    {
     "name": "stderr",
     "output_type": "stream",
     "text": [
      "D:\\Anaconda3\\envs\\THESIS\\lib\\site-packages\\metpy\\calc\\thermo.py:1396: RuntimeWarning: divide by zero encountered in log\n",
      "  val = np.log(vapor_pressure / mpconsts.nounit.sat_pressure_0c)\n",
      "D:\\Anaconda3\\envs\\THESIS\\lib\\site-packages\\metpy\\calc\\thermo.py:1397: RuntimeWarning: invalid value encountered in divide\n",
      "  return mpconsts.nounit.zero_degc + 243.5 * val / (17.67 - val)\n"
     ]
    },
    {
     "name": "stdout",
     "output_type": "stream",
     "text": [
      "35.96159 -97.2098\n",
      "35.96169434000286 -97.206082186098 \n",
      "\n"
     ]
    },
    {
     "name": "stderr",
     "output_type": "stream",
     "text": [
      "D:\\Anaconda3\\envs\\THESIS\\lib\\site-packages\\numpy\\lib\\function_base.py:1594: UserWarning: Warning: converting a masked element to nan.\n",
      "  return interp_func(x, xp, fp, left, right)\n",
      "D:\\Anaconda3\\envs\\THESIS\\lib\\site-packages\\pint\\facets\\plain\\quantity.py:1097: RuntimeWarning: divide by zero encountered in double_scalars\n",
      "  magnitude = magnitude_op(self._magnitude, other_magnitude)\n",
      "C:\\Users\\kyled\\AppData\\Local\\Temp\\ipykernel_170976\\2212921743.py:375: UserWarning: Interpolation point out of data bounds encountered\n",
      "  cape, _ = cape_func[cape_type](pressure, temperature, dew_point_temperature)\n"
     ]
    },
    {
     "name": "stdout",
     "output_type": "stream",
     "text": [
      "90 3207.5711166541646\n"
     ]
    },
    {
     "name": "stderr",
     "output_type": "stream",
     "text": [
      "C:\\Users\\kyled\\AppData\\Local\\Temp\\ipykernel_170976\\2680908632.py:87: UserWarning: Relative humidity >120%, ensure proper units.\n",
      "  Td=dewpoint_from_specific_humidity(lev* units('hPa'),T* units('kelvin'),q)\n",
      "D:\\Anaconda3\\envs\\THESIS\\lib\\site-packages\\metpy\\calc\\thermo.py:1396: RuntimeWarning: divide by zero encountered in log\n",
      "  val = np.log(vapor_pressure / mpconsts.nounit.sat_pressure_0c)\n",
      "D:\\Anaconda3\\envs\\THESIS\\lib\\site-packages\\metpy\\calc\\thermo.py:1397: RuntimeWarning: invalid value encountered in divide\n",
      "  return mpconsts.nounit.zero_degc + 243.5 * val / (17.67 - val)\n"
     ]
    },
    {
     "name": "stdout",
     "output_type": "stream",
     "text": [
      "35.73115 -97.3898\n",
      "35.7464333754581 -97.40614769075086 \n",
      "\n"
     ]
    },
    {
     "name": "stderr",
     "output_type": "stream",
     "text": [
      "D:\\Anaconda3\\envs\\THESIS\\lib\\site-packages\\numpy\\lib\\function_base.py:1594: UserWarning: Warning: converting a masked element to nan.\n",
      "  return interp_func(x, xp, fp, left, right)\n"
     ]
    },
    {
     "name": "stdout",
     "output_type": "stream",
     "text": [
      "91 4046.958147406396\n"
     ]
    },
    {
     "name": "stderr",
     "output_type": "stream",
     "text": [
      "D:\\Anaconda3\\envs\\THESIS\\lib\\site-packages\\metpy\\calc\\thermo.py:1396: RuntimeWarning: divide by zero encountered in log\n",
      "  val = np.log(vapor_pressure / mpconsts.nounit.sat_pressure_0c)\n",
      "D:\\Anaconda3\\envs\\THESIS\\lib\\site-packages\\metpy\\calc\\thermo.py:1397: RuntimeWarning: invalid value encountered in divide\n",
      "  return mpconsts.nounit.zero_degc + 243.5 * val / (17.67 - val)\n"
     ]
    },
    {
     "name": "stdout",
     "output_type": "stream",
     "text": [
      "36.75079 -94.53454\n",
      "36.75979428538204 -94.54329418364847 \n",
      "\n"
     ]
    },
    {
     "name": "stderr",
     "output_type": "stream",
     "text": [
      "D:\\Anaconda3\\envs\\THESIS\\lib\\site-packages\\numpy\\lib\\function_base.py:1594: UserWarning: Warning: converting a masked element to nan.\n",
      "  return interp_func(x, xp, fp, left, right)\n",
      "D:\\Anaconda3\\envs\\THESIS\\lib\\site-packages\\pint\\facets\\plain\\quantity.py:1097: RuntimeWarning: divide by zero encountered in double_scalars\n",
      "  magnitude = magnitude_op(self._magnitude, other_magnitude)\n",
      "C:\\Users\\kyled\\AppData\\Local\\Temp\\ipykernel_170976\\2212921743.py:375: UserWarning: Interpolation point out of data bounds encountered\n",
      "  cape, _ = cape_func[cape_type](pressure, temperature, dew_point_temperature)\n"
     ]
    },
    {
     "name": "stdout",
     "output_type": "stream",
     "text": [
      "92 603.3479512223961\n"
     ]
    },
    {
     "name": "stderr",
     "output_type": "stream",
     "text": [
      "D:\\Anaconda3\\envs\\THESIS\\lib\\site-packages\\metpy\\calc\\thermo.py:1396: RuntimeWarning: divide by zero encountered in log\n",
      "  val = np.log(vapor_pressure / mpconsts.nounit.sat_pressure_0c)\n",
      "D:\\Anaconda3\\envs\\THESIS\\lib\\site-packages\\metpy\\calc\\thermo.py:1397: RuntimeWarning: invalid value encountered in divide\n",
      "  return mpconsts.nounit.zero_degc + 243.5 * val / (17.67 - val)\n"
     ]
    },
    {
     "name": "stdout",
     "output_type": "stream",
     "text": [
      "36.91657 -93.77948\n",
      "36.92697483373329 -93.79389294864126 \n",
      "\n"
     ]
    },
    {
     "name": "stderr",
     "output_type": "stream",
     "text": [
      "D:\\Anaconda3\\envs\\THESIS\\lib\\site-packages\\numpy\\lib\\function_base.py:1594: UserWarning: Warning: converting a masked element to nan.\n",
      "  return interp_func(x, xp, fp, left, right)\n"
     ]
    },
    {
     "name": "stdout",
     "output_type": "stream",
     "text": [
      "93 619.8530553646692\n"
     ]
    },
    {
     "name": "stderr",
     "output_type": "stream",
     "text": [
      "D:\\Anaconda3\\envs\\THESIS\\lib\\site-packages\\metpy\\calc\\thermo.py:1396: RuntimeWarning: divide by zero encountered in log\n",
      "  val = np.log(vapor_pressure / mpconsts.nounit.sat_pressure_0c)\n",
      "D:\\Anaconda3\\envs\\THESIS\\lib\\site-packages\\metpy\\calc\\thermo.py:1397: RuntimeWarning: invalid value encountered in divide\n",
      "  return mpconsts.nounit.zero_degc + 243.5 * val / (17.67 - val)\n"
     ]
    },
    {
     "name": "stdout",
     "output_type": "stream",
     "text": [
      "36.09017 -96.5588\n",
      "36.09306116632722 -96.57174980271259 \n",
      "\n"
     ]
    },
    {
     "name": "stderr",
     "output_type": "stream",
     "text": [
      "D:\\Anaconda3\\envs\\THESIS\\lib\\site-packages\\numpy\\lib\\function_base.py:1594: UserWarning: Warning: converting a masked element to nan.\n",
      "  return interp_func(x, xp, fp, left, right)\n"
     ]
    },
    {
     "name": "stdout",
     "output_type": "stream",
     "text": [
      "94 2302.0006516231865\n"
     ]
    },
    {
     "name": "stderr",
     "output_type": "stream",
     "text": [
      "D:\\Anaconda3\\envs\\THESIS\\lib\\site-packages\\metpy\\calc\\thermo.py:1396: RuntimeWarning: divide by zero encountered in log\n",
      "  val = np.log(vapor_pressure / mpconsts.nounit.sat_pressure_0c)\n",
      "D:\\Anaconda3\\envs\\THESIS\\lib\\site-packages\\metpy\\calc\\thermo.py:1397: RuntimeWarning: invalid value encountered in divide\n",
      "  return mpconsts.nounit.zero_degc + 243.5 * val / (17.67 - val)\n"
     ]
    },
    {
     "name": "stdout",
     "output_type": "stream",
     "text": [
      "36.01582 -96.9681\n",
      "36.014758152631416 -96.9726113752323 \n",
      "\n"
     ]
    },
    {
     "name": "stderr",
     "output_type": "stream",
     "text": [
      "D:\\Anaconda3\\envs\\THESIS\\lib\\site-packages\\numpy\\lib\\function_base.py:1594: UserWarning: Warning: converting a masked element to nan.\n",
      "  return interp_func(x, xp, fp, left, right)\n"
     ]
    },
    {
     "name": "stdout",
     "output_type": "stream",
     "text": [
      "95 3169.3472555994\n"
     ]
    },
    {
     "name": "stderr",
     "output_type": "stream",
     "text": [
      "D:\\Anaconda3\\envs\\THESIS\\lib\\site-packages\\metpy\\calc\\thermo.py:1396: RuntimeWarning: divide by zero encountered in log\n",
      "  val = np.log(vapor_pressure / mpconsts.nounit.sat_pressure_0c)\n",
      "D:\\Anaconda3\\envs\\THESIS\\lib\\site-packages\\metpy\\calc\\thermo.py:1397: RuntimeWarning: invalid value encountered in divide\n",
      "  return mpconsts.nounit.zero_degc + 243.5 * val / (17.67 - val)\n"
     ]
    },
    {
     "name": "stdout",
     "output_type": "stream",
     "text": [
      "36.2028 -95.80756\n",
      "36.1920309045541 -95.8021810229381 \n",
      "\n"
     ]
    },
    {
     "name": "stderr",
     "output_type": "stream",
     "text": [
      "D:\\Anaconda3\\envs\\THESIS\\lib\\site-packages\\numpy\\lib\\function_base.py:1594: UserWarning: Warning: converting a masked element to nan.\n",
      "  return interp_func(x, xp, fp, left, right)\n"
     ]
    },
    {
     "name": "stdout",
     "output_type": "stream",
     "text": [
      "96 2301.3849545840276\n"
     ]
    },
    {
     "name": "stderr",
     "output_type": "stream",
     "text": [
      "C:\\Users\\kyled\\AppData\\Local\\Temp\\ipykernel_170976\\2680908632.py:87: UserWarning: Relative humidity >120%, ensure proper units.\n",
      "  Td=dewpoint_from_specific_humidity(lev* units('hPa'),T* units('kelvin'),q)\n",
      "D:\\Anaconda3\\envs\\THESIS\\lib\\site-packages\\metpy\\calc\\thermo.py:1396: RuntimeWarning: divide by zero encountered in log\n",
      "  val = np.log(vapor_pressure / mpconsts.nounit.sat_pressure_0c)\n",
      "D:\\Anaconda3\\envs\\THESIS\\lib\\site-packages\\metpy\\calc\\thermo.py:1397: RuntimeWarning: invalid value encountered in divide\n",
      "  return mpconsts.nounit.zero_degc + 243.5 * val / (17.67 - val)\n"
     ]
    },
    {
     "name": "stdout",
     "output_type": "stream",
     "text": [
      "35.90791 -97.3617\n",
      "35.90809893007224 -97.37266909510458 \n",
      "\n"
     ]
    },
    {
     "name": "stderr",
     "output_type": "stream",
     "text": [
      "D:\\Anaconda3\\envs\\THESIS\\lib\\site-packages\\numpy\\lib\\function_base.py:1594: UserWarning: Warning: converting a masked element to nan.\n",
      "  return interp_func(x, xp, fp, left, right)\n"
     ]
    },
    {
     "name": "stdout",
     "output_type": "stream",
     "text": [
      "97 4171.910067597752\n"
     ]
    },
    {
     "name": "stderr",
     "output_type": "stream",
     "text": [
      "D:\\Anaconda3\\envs\\THESIS\\lib\\site-packages\\metpy\\calc\\thermo.py:1396: RuntimeWarning: divide by zero encountered in log\n",
      "  val = np.log(vapor_pressure / mpconsts.nounit.sat_pressure_0c)\n",
      "D:\\Anaconda3\\envs\\THESIS\\lib\\site-packages\\metpy\\calc\\thermo.py:1397: RuntimeWarning: invalid value encountered in divide\n",
      "  return mpconsts.nounit.zero_degc + 243.5 * val / (17.67 - val)\n"
     ]
    },
    {
     "name": "stdout",
     "output_type": "stream",
     "text": [
      "36.33057 -95.28757\n",
      "36.31822420818499 -95.29729186468342 \n",
      "\n"
     ]
    },
    {
     "name": "stderr",
     "output_type": "stream",
     "text": [
      "D:\\Anaconda3\\envs\\THESIS\\lib\\site-packages\\numpy\\lib\\function_base.py:1594: UserWarning: Warning: converting a masked element to nan.\n",
      "  return interp_func(x, xp, fp, left, right)\n"
     ]
    },
    {
     "name": "stdout",
     "output_type": "stream",
     "text": [
      "98 1590.2972194074764\n"
     ]
    },
    {
     "name": "stderr",
     "output_type": "stream",
     "text": [
      "D:\\Anaconda3\\envs\\THESIS\\lib\\site-packages\\metpy\\calc\\thermo.py:1396: RuntimeWarning: divide by zero encountered in log\n",
      "  val = np.log(vapor_pressure / mpconsts.nounit.sat_pressure_0c)\n",
      "D:\\Anaconda3\\envs\\THESIS\\lib\\site-packages\\metpy\\calc\\thermo.py:1397: RuntimeWarning: invalid value encountered in divide\n",
      "  return mpconsts.nounit.zero_degc + 243.5 * val / (17.67 - val)\n"
     ]
    },
    {
     "name": "stdout",
     "output_type": "stream",
     "text": [
      "36.47442 -94.9166\n",
      "36.47223542885147 -94.92376666625552 \n",
      "\n"
     ]
    },
    {
     "name": "stderr",
     "output_type": "stream",
     "text": [
      "D:\\Anaconda3\\envs\\THESIS\\lib\\site-packages\\numpy\\lib\\function_base.py:1594: UserWarning: Warning: converting a masked element to nan.\n",
      "  return interp_func(x, xp, fp, left, right)\n"
     ]
    },
    {
     "name": "stdout",
     "output_type": "stream",
     "text": [
      "99 1654.6578397964706\n"
     ]
    },
    {
     "name": "stderr",
     "output_type": "stream",
     "text": [
      "C:\\Users\\kyled\\AppData\\Local\\Temp\\ipykernel_170976\\2680908632.py:87: UserWarning: Relative humidity >120%, ensure proper units.\n",
      "  Td=dewpoint_from_specific_humidity(lev* units('hPa'),T* units('kelvin'),q)\n",
      "D:\\Anaconda3\\envs\\THESIS\\lib\\site-packages\\metpy\\calc\\thermo.py:1396: RuntimeWarning: divide by zero encountered in log\n",
      "  val = np.log(vapor_pressure / mpconsts.nounit.sat_pressure_0c)\n",
      "D:\\Anaconda3\\envs\\THESIS\\lib\\site-packages\\metpy\\calc\\thermo.py:1397: RuntimeWarning: invalid value encountered in divide\n",
      "  return mpconsts.nounit.zero_degc + 243.5 * val / (17.67 - val)\n"
     ]
    },
    {
     "name": "stdout",
     "output_type": "stream",
     "text": [
      "36.03151 -97.2481\n",
      "36.04263520792147 -97.23909784588693 \n",
      "\n"
     ]
    },
    {
     "name": "stderr",
     "output_type": "stream",
     "text": [
      "D:\\Anaconda3\\envs\\THESIS\\lib\\site-packages\\numpy\\lib\\function_base.py:1594: UserWarning: Warning: converting a masked element to nan.\n",
      "  return interp_func(x, xp, fp, left, right)\n"
     ]
    },
    {
     "name": "stdout",
     "output_type": "stream",
     "text": [
      "100 2965.7860326610635\n"
     ]
    },
    {
     "name": "stderr",
     "output_type": "stream",
     "text": [
      "C:\\Users\\kyled\\AppData\\Local\\Temp\\ipykernel_170976\\2680908632.py:87: UserWarning: Relative humidity >120%, ensure proper units.\n",
      "  Td=dewpoint_from_specific_humidity(lev* units('hPa'),T* units('kelvin'),q)\n",
      "D:\\Anaconda3\\envs\\THESIS\\lib\\site-packages\\metpy\\calc\\thermo.py:1396: RuntimeWarning: divide by zero encountered in log\n",
      "  val = np.log(vapor_pressure / mpconsts.nounit.sat_pressure_0c)\n",
      "D:\\Anaconda3\\envs\\THESIS\\lib\\site-packages\\metpy\\calc\\thermo.py:1397: RuntimeWarning: invalid value encountered in divide\n",
      "  return mpconsts.nounit.zero_degc + 243.5 * val / (17.67 - val)\n"
     ]
    },
    {
     "name": "stdout",
     "output_type": "stream",
     "text": [
      "35.95231 -97.0742\n",
      "35.961272052237604 -97.07288769931523 \n",
      "\n"
     ]
    },
    {
     "name": "stderr",
     "output_type": "stream",
     "text": [
      "D:\\Anaconda3\\envs\\THESIS\\lib\\site-packages\\numpy\\lib\\function_base.py:1594: UserWarning: Warning: converting a masked element to nan.\n",
      "  return interp_func(x, xp, fp, left, right)\n"
     ]
    },
    {
     "name": "stdout",
     "output_type": "stream",
     "text": [
      "101 3624.5503622922342\n"
     ]
    },
    {
     "name": "stderr",
     "output_type": "stream",
     "text": [
      "D:\\Anaconda3\\envs\\THESIS\\lib\\site-packages\\metpy\\calc\\thermo.py:1396: RuntimeWarning: divide by zero encountered in log\n",
      "  val = np.log(vapor_pressure / mpconsts.nounit.sat_pressure_0c)\n",
      "D:\\Anaconda3\\envs\\THESIS\\lib\\site-packages\\metpy\\calc\\thermo.py:1397: RuntimeWarning: invalid value encountered in divide\n",
      "  return mpconsts.nounit.zero_degc + 243.5 * val / (17.67 - val)\n"
     ]
    },
    {
     "name": "stdout",
     "output_type": "stream",
     "text": [
      "36.20081 -96.1106\n",
      "36.196109963945105 -96.10276703497004 \n",
      "\n"
     ]
    },
    {
     "name": "stderr",
     "output_type": "stream",
     "text": [
      "D:\\Anaconda3\\envs\\THESIS\\lib\\site-packages\\numpy\\lib\\function_base.py:1594: UserWarning: Warning: converting a masked element to nan.\n",
      "  return interp_func(x, xp, fp, left, right)\n"
     ]
    },
    {
     "name": "stdout",
     "output_type": "stream",
     "text": [
      "102 2163.450600687124\n"
     ]
    },
    {
     "name": "stderr",
     "output_type": "stream",
     "text": [
      "D:\\Anaconda3\\envs\\THESIS\\lib\\site-packages\\metpy\\calc\\thermo.py:1396: RuntimeWarning: divide by zero encountered in log\n",
      "  val = np.log(vapor_pressure / mpconsts.nounit.sat_pressure_0c)\n",
      "D:\\Anaconda3\\envs\\THESIS\\lib\\site-packages\\metpy\\calc\\thermo.py:1397: RuntimeWarning: invalid value encountered in divide\n",
      "  return mpconsts.nounit.zero_degc + 243.5 * val / (17.67 - val)\n"
     ]
    },
    {
     "name": "stdout",
     "output_type": "stream",
     "text": [
      "36.77547 -94.80536\n",
      "36.766408042851864 -94.81245552408029 \n",
      "\n"
     ]
    },
    {
     "name": "stderr",
     "output_type": "stream",
     "text": [
      "D:\\Anaconda3\\envs\\THESIS\\lib\\site-packages\\numpy\\lib\\function_base.py:1594: UserWarning: Warning: converting a masked element to nan.\n",
      "  return interp_func(x, xp, fp, left, right)\n"
     ]
    },
    {
     "name": "stdout",
     "output_type": "stream",
     "text": [
      "103 1050.0668856315483\n"
     ]
    },
    {
     "name": "stderr",
     "output_type": "stream",
     "text": [
      "D:\\Anaconda3\\envs\\THESIS\\lib\\site-packages\\metpy\\calc\\thermo.py:1396: RuntimeWarning: divide by zero encountered in log\n",
      "  val = np.log(vapor_pressure / mpconsts.nounit.sat_pressure_0c)\n",
      "D:\\Anaconda3\\envs\\THESIS\\lib\\site-packages\\metpy\\calc\\thermo.py:1397: RuntimeWarning: invalid value encountered in divide\n",
      "  return mpconsts.nounit.zero_degc + 243.5 * val / (17.67 - val)\n"
     ]
    },
    {
     "name": "stdout",
     "output_type": "stream",
     "text": [
      "36.54788 -95.24866\n",
      "36.560154631414875 -95.25650323748971 \n",
      "\n"
     ]
    },
    {
     "name": "stderr",
     "output_type": "stream",
     "text": [
      "D:\\Anaconda3\\envs\\THESIS\\lib\\site-packages\\numpy\\lib\\function_base.py:1594: UserWarning: Warning: converting a masked element to nan.\n",
      "  return interp_func(x, xp, fp, left, right)\n"
     ]
    },
    {
     "name": "stdout",
     "output_type": "stream",
     "text": [
      "104 945.8974683211762\n"
     ]
    },
    {
     "name": "stderr",
     "output_type": "stream",
     "text": [
      "C:\\Users\\kyled\\AppData\\Local\\Temp\\ipykernel_170976\\2680908632.py:87: UserWarning: Relative humidity >120%, ensure proper units.\n",
      "  Td=dewpoint_from_specific_humidity(lev* units('hPa'),T* units('kelvin'),q)\n",
      "D:\\Anaconda3\\envs\\THESIS\\lib\\site-packages\\metpy\\calc\\thermo.py:1396: RuntimeWarning: divide by zero encountered in log\n",
      "  val = np.log(vapor_pressure / mpconsts.nounit.sat_pressure_0c)\n",
      "D:\\Anaconda3\\envs\\THESIS\\lib\\site-packages\\metpy\\calc\\thermo.py:1397: RuntimeWarning: invalid value encountered in divide\n",
      "  return mpconsts.nounit.zero_degc + 243.5 * val / (17.67 - val)\n"
     ]
    },
    {
     "name": "stdout",
     "output_type": "stream",
     "text": [
      "36.10888 -97.0471\n",
      "36.095909699411834 -97.03875497361275 \n",
      "\n"
     ]
    },
    {
     "name": "stderr",
     "output_type": "stream",
     "text": [
      "D:\\Anaconda3\\envs\\THESIS\\lib\\site-packages\\numpy\\lib\\function_base.py:1594: UserWarning: Warning: converting a masked element to nan.\n",
      "  return interp_func(x, xp, fp, left, right)\n"
     ]
    },
    {
     "name": "stdout",
     "output_type": "stream",
     "text": [
      "105 3374.872931297981\n"
     ]
    },
    {
     "name": "stderr",
     "output_type": "stream",
     "text": [
      "D:\\Anaconda3\\envs\\THESIS\\lib\\site-packages\\metpy\\calc\\thermo.py:1396: RuntimeWarning: divide by zero encountered in log\n",
      "  val = np.log(vapor_pressure / mpconsts.nounit.sat_pressure_0c)\n",
      "D:\\Anaconda3\\envs\\THESIS\\lib\\site-packages\\metpy\\calc\\thermo.py:1397: RuntimeWarning: invalid value encountered in divide\n",
      "  return mpconsts.nounit.zero_degc + 243.5 * val / (17.67 - val)\n"
     ]
    },
    {
     "name": "stdout",
     "output_type": "stream",
     "text": [
      "36.0625 -96.6266\n",
      "36.06663162366765 -96.63877459326704 \n",
      "\n"
     ]
    },
    {
     "name": "stderr",
     "output_type": "stream",
     "text": [
      "D:\\Anaconda3\\envs\\THESIS\\lib\\site-packages\\numpy\\lib\\function_base.py:1594: UserWarning: Warning: converting a masked element to nan.\n",
      "  return interp_func(x, xp, fp, left, right)\n"
     ]
    },
    {
     "name": "stdout",
     "output_type": "stream",
     "text": [
      "106 2742.5353780147375\n"
     ]
    },
    {
     "name": "stderr",
     "output_type": "stream",
     "text": [
      "D:\\Anaconda3\\envs\\THESIS\\lib\\site-packages\\metpy\\calc\\thermo.py:1396: RuntimeWarning: divide by zero encountered in log\n",
      "  val = np.log(vapor_pressure / mpconsts.nounit.sat_pressure_0c)\n",
      "D:\\Anaconda3\\envs\\THESIS\\lib\\site-packages\\metpy\\calc\\thermo.py:1397: RuntimeWarning: invalid value encountered in divide\n",
      "  return mpconsts.nounit.zero_degc + 243.5 * val / (17.67 - val)\n"
     ]
    },
    {
     "name": "stdout",
     "output_type": "stream",
     "text": [
      "36.28925 -95.5119\n",
      "36.29496594538242 -95.49872649467073 \n",
      "\n"
     ]
    },
    {
     "name": "stderr",
     "output_type": "stream",
     "text": [
      "D:\\Anaconda3\\envs\\THESIS\\lib\\site-packages\\numpy\\lib\\function_base.py:1594: UserWarning: Warning: converting a masked element to nan.\n",
      "  return interp_func(x, xp, fp, left, right)\n"
     ]
    },
    {
     "name": "stdout",
     "output_type": "stream",
     "text": [
      "107 1728.4235750917394\n"
     ]
    },
    {
     "name": "stderr",
     "output_type": "stream",
     "text": [
      "C:\\Users\\kyled\\AppData\\Local\\Temp\\ipykernel_170976\\2680908632.py:87: UserWarning: Relative humidity >120%, ensure proper units.\n",
      "  Td=dewpoint_from_specific_humidity(lev* units('hPa'),T* units('kelvin'),q)\n",
      "D:\\Anaconda3\\envs\\THESIS\\lib\\site-packages\\metpy\\calc\\thermo.py:1396: RuntimeWarning: divide by zero encountered in log\n",
      "  val = np.log(vapor_pressure / mpconsts.nounit.sat_pressure_0c)\n",
      "D:\\Anaconda3\\envs\\THESIS\\lib\\site-packages\\metpy\\calc\\thermo.py:1397: RuntimeWarning: invalid value encountered in divide\n",
      "  return mpconsts.nounit.zero_degc + 243.5 * val / (17.67 - val)\n"
     ]
    },
    {
     "name": "stdout",
     "output_type": "stream",
     "text": [
      "36.22434 -96.7486\n",
      "36.229075907216014 -96.73715072103073 \n",
      "\n"
     ]
    },
    {
     "name": "stderr",
     "output_type": "stream",
     "text": [
      "D:\\Anaconda3\\envs\\THESIS\\lib\\site-packages\\numpy\\lib\\function_base.py:1594: UserWarning: Warning: converting a masked element to nan.\n",
      "  return interp_func(x, xp, fp, left, right)\n"
     ]
    },
    {
     "name": "stdout",
     "output_type": "stream",
     "text": [
      "108 3810.018048097949\n"
     ]
    },
    {
     "name": "stderr",
     "output_type": "stream",
     "text": [
      "D:\\Anaconda3\\envs\\THESIS\\lib\\site-packages\\metpy\\calc\\thermo.py:1396: RuntimeWarning: divide by zero encountered in log\n",
      "  val = np.log(vapor_pressure / mpconsts.nounit.sat_pressure_0c)\n",
      "D:\\Anaconda3\\envs\\THESIS\\lib\\site-packages\\metpy\\calc\\thermo.py:1397: RuntimeWarning: invalid value encountered in divide\n",
      "  return mpconsts.nounit.zero_degc + 243.5 * val / (17.67 - val)\n"
     ]
    },
    {
     "name": "stdout",
     "output_type": "stream",
     "text": [
      "36.35771 -96.1357\n",
      "36.358247956498026 -96.13319117210926 \n",
      "\n"
     ]
    },
    {
     "name": "stderr",
     "output_type": "stream",
     "text": [
      "D:\\Anaconda3\\envs\\THESIS\\lib\\site-packages\\numpy\\lib\\function_base.py:1594: UserWarning: Warning: converting a masked element to nan.\n",
      "  return interp_func(x, xp, fp, left, right)\n"
     ]
    },
    {
     "name": "stdout",
     "output_type": "stream",
     "text": [
      "109 913.9861197190853\n"
     ]
    },
    {
     "name": "stderr",
     "output_type": "stream",
     "text": [
      "C:\\Users\\kyled\\AppData\\Local\\Temp\\ipykernel_170976\\2680908632.py:87: UserWarning: Relative humidity >120%, ensure proper units.\n",
      "  Td=dewpoint_from_specific_humidity(lev* units('hPa'),T* units('kelvin'),q)\n",
      "D:\\Anaconda3\\envs\\THESIS\\lib\\site-packages\\metpy\\calc\\thermo.py:1396: RuntimeWarning: divide by zero encountered in log\n",
      "  val = np.log(vapor_pressure / mpconsts.nounit.sat_pressure_0c)\n",
      "D:\\Anaconda3\\envs\\THESIS\\lib\\site-packages\\metpy\\calc\\thermo.py:1397: RuntimeWarning: invalid value encountered in divide\n",
      "  return mpconsts.nounit.zero_degc + 243.5 * val / (17.67 - val)\n"
     ]
    },
    {
     "name": "stdout",
     "output_type": "stream",
     "text": [
      "36.40507 -96.4591\n",
      "36.41567891528614 -96.46719095901256 \n",
      "\n"
     ]
    },
    {
     "name": "stderr",
     "output_type": "stream",
     "text": [
      "D:\\Anaconda3\\envs\\THESIS\\lib\\site-packages\\numpy\\lib\\function_base.py:1594: UserWarning: Warning: converting a masked element to nan.\n",
      "  return interp_func(x, xp, fp, left, right)\n",
      "C:\\Users\\kyled\\AppData\\Local\\Temp\\ipykernel_170976\\2212921743.py:375: UserWarning: Interpolation point out of data bounds encountered\n",
      "  cape, _ = cape_func[cape_type](pressure, temperature, dew_point_temperature)\n"
     ]
    },
    {
     "name": "stdout",
     "output_type": "stream",
     "text": [
      "110 3114.692967198449\n"
     ]
    },
    {
     "name": "stderr",
     "output_type": "stream",
     "text": [
      "C:\\Users\\kyled\\AppData\\Local\\Temp\\ipykernel_170976\\2680908632.py:87: UserWarning: Relative humidity >120%, ensure proper units.\n",
      "  Td=dewpoint_from_specific_humidity(lev* units('hPa'),T* units('kelvin'),q)\n",
      "D:\\Anaconda3\\envs\\THESIS\\lib\\site-packages\\metpy\\calc\\thermo.py:1396: RuntimeWarning: divide by zero encountered in log\n",
      "  val = np.log(vapor_pressure / mpconsts.nounit.sat_pressure_0c)\n",
      "D:\\Anaconda3\\envs\\THESIS\\lib\\site-packages\\metpy\\calc\\thermo.py:1397: RuntimeWarning: invalid value encountered in divide\n",
      "  return mpconsts.nounit.zero_degc + 243.5 * val / (17.67 - val)\n"
     ]
    },
    {
     "name": "stdout",
     "output_type": "stream",
     "text": [
      "34.98806 -98.0805\n",
      "34.99076782968177 -98.06449927096645 \n",
      "\n"
     ]
    },
    {
     "name": "stderr",
     "output_type": "stream",
     "text": [
      "D:\\Anaconda3\\envs\\THESIS\\lib\\site-packages\\numpy\\lib\\function_base.py:1594: UserWarning: Warning: converting a masked element to nan.\n",
      "  return interp_func(x, xp, fp, left, right)\n"
     ]
    },
    {
     "name": "stdout",
     "output_type": "stream",
     "text": [
      "111 4382.448615059209\n"
     ]
    },
    {
     "name": "stderr",
     "output_type": "stream",
     "text": [
      "D:\\Anaconda3\\envs\\THESIS\\lib\\site-packages\\metpy\\calc\\thermo.py:1396: RuntimeWarning: divide by zero encountered in log\n",
      "  val = np.log(vapor_pressure / mpconsts.nounit.sat_pressure_0c)\n",
      "D:\\Anaconda3\\envs\\THESIS\\lib\\site-packages\\metpy\\calc\\thermo.py:1397: RuntimeWarning: invalid value encountered in divide\n",
      "  return mpconsts.nounit.zero_degc + 243.5 * val / (17.67 - val)\n"
     ]
    },
    {
     "name": "stdout",
     "output_type": "stream",
     "text": [
      "35.83874 -98.1914\n",
      "35.85208617840844 -98.2040227466884 \n",
      "\n"
     ]
    },
    {
     "name": "stderr",
     "output_type": "stream",
     "text": [
      "D:\\Anaconda3\\envs\\THESIS\\lib\\site-packages\\numpy\\lib\\function_base.py:1594: UserWarning: Warning: converting a masked element to nan.\n",
      "  return interp_func(x, xp, fp, left, right)\n",
      "C:\\Users\\kyled\\AppData\\Local\\Temp\\ipykernel_170976\\2212921743.py:375: UserWarning: Interpolation point out of data bounds encountered\n",
      "  cape, _ = cape_func[cape_type](pressure, temperature, dew_point_temperature)\n"
     ]
    },
    {
     "name": "stdout",
     "output_type": "stream",
     "text": [
      "112 4115.462402298932\n"
     ]
    },
    {
     "name": "stderr",
     "output_type": "stream",
     "text": [
      "D:\\Anaconda3\\envs\\THESIS\\lib\\site-packages\\metpy\\calc\\thermo.py:1396: RuntimeWarning: divide by zero encountered in log\n",
      "  val = np.log(vapor_pressure / mpconsts.nounit.sat_pressure_0c)\n",
      "D:\\Anaconda3\\envs\\THESIS\\lib\\site-packages\\metpy\\calc\\thermo.py:1397: RuntimeWarning: invalid value encountered in divide\n",
      "  return mpconsts.nounit.zero_degc + 243.5 * val / (17.67 - val)\n"
     ]
    },
    {
     "name": "stdout",
     "output_type": "stream",
     "text": [
      "36.41247 -96.6749\n",
      "36.41731748389722 -96.66820152173301 \n",
      "\n"
     ]
    },
    {
     "name": "stderr",
     "output_type": "stream",
     "text": [
      "D:\\Anaconda3\\envs\\THESIS\\lib\\site-packages\\numpy\\lib\\function_base.py:1594: UserWarning: Warning: converting a masked element to nan.\n",
      "  return interp_func(x, xp, fp, left, right)\n",
      "D:\\Anaconda3\\envs\\THESIS\\lib\\site-packages\\pint\\facets\\plain\\quantity.py:1097: RuntimeWarning: divide by zero encountered in double_scalars\n",
      "  magnitude = magnitude_op(self._magnitude, other_magnitude)\n",
      "C:\\Users\\kyled\\AppData\\Local\\Temp\\ipykernel_170976\\2212921743.py:375: UserWarning: Interpolation point out of data bounds encountered\n",
      "  cape, _ = cape_func[cape_type](pressure, temperature, dew_point_temperature)\n"
     ]
    },
    {
     "name": "stdout",
     "output_type": "stream",
     "text": [
      "113 525.7536138619869\n"
     ]
    },
    {
     "name": "stderr",
     "output_type": "stream",
     "text": [
      "D:\\Anaconda3\\envs\\THESIS\\lib\\site-packages\\metpy\\calc\\thermo.py:1396: RuntimeWarning: divide by zero encountered in log\n",
      "  val = np.log(vapor_pressure / mpconsts.nounit.sat_pressure_0c)\n",
      "D:\\Anaconda3\\envs\\THESIS\\lib\\site-packages\\metpy\\calc\\thermo.py:1397: RuntimeWarning: invalid value encountered in divide\n",
      "  return mpconsts.nounit.zero_degc + 243.5 * val / (17.67 - val)\n"
     ]
    },
    {
     "name": "stdout",
     "output_type": "stream",
     "text": [
      "36.62654 -96.08188\n",
      "36.627433877957934 -96.09460633496667 \n",
      "\n"
     ]
    },
    {
     "name": "stderr",
     "output_type": "stream",
     "text": [
      "D:\\Anaconda3\\envs\\THESIS\\lib\\site-packages\\numpy\\lib\\function_base.py:1594: UserWarning: Warning: converting a masked element to nan.\n",
      "  return interp_func(x, xp, fp, left, right)\n"
     ]
    },
    {
     "name": "stdout",
     "output_type": "stream",
     "text": [
      "114 533.9072403136221\n"
     ]
    },
    {
     "name": "stderr",
     "output_type": "stream",
     "text": [
      "D:\\Anaconda3\\envs\\THESIS\\lib\\site-packages\\metpy\\calc\\thermo.py:1396: RuntimeWarning: divide by zero encountered in log\n",
      "  val = np.log(vapor_pressure / mpconsts.nounit.sat_pressure_0c)\n",
      "D:\\Anaconda3\\envs\\THESIS\\lib\\site-packages\\metpy\\calc\\thermo.py:1397: RuntimeWarning: invalid value encountered in divide\n",
      "  return mpconsts.nounit.zero_degc + 243.5 * val / (17.67 - val)\n"
     ]
    },
    {
     "name": "stdout",
     "output_type": "stream",
     "text": [
      "36.1688 -96.2977\n",
      "36.171434579149754 -96.30360887728506 \n",
      "\n"
     ]
    },
    {
     "name": "stderr",
     "output_type": "stream",
     "text": [
      "D:\\Anaconda3\\envs\\THESIS\\lib\\site-packages\\numpy\\lib\\function_base.py:1594: UserWarning: Warning: converting a masked element to nan.\n",
      "  return interp_func(x, xp, fp, left, right)\n"
     ]
    },
    {
     "name": "stdout",
     "output_type": "stream",
     "text": [
      "115 1771.355620958407\n"
     ]
    },
    {
     "name": "stderr",
     "output_type": "stream",
     "text": [
      "D:\\Anaconda3\\envs\\THESIS\\lib\\site-packages\\metpy\\calc\\thermo.py:1396: RuntimeWarning: divide by zero encountered in log\n",
      "  val = np.log(vapor_pressure / mpconsts.nounit.sat_pressure_0c)\n",
      "D:\\Anaconda3\\envs\\THESIS\\lib\\site-packages\\metpy\\calc\\thermo.py:1397: RuntimeWarning: invalid value encountered in divide\n",
      "  return mpconsts.nounit.zero_degc + 243.5 * val / (17.67 - val)\n"
     ]
    },
    {
     "name": "stdout",
     "output_type": "stream",
     "text": [
      "36.29031 -95.96736\n",
      "36.30221213990357 -95.9669437588932 \n",
      "\n"
     ]
    },
    {
     "name": "stderr",
     "output_type": "stream",
     "text": [
      "D:\\Anaconda3\\envs\\THESIS\\lib\\site-packages\\numpy\\lib\\function_base.py:1594: UserWarning: Warning: converting a masked element to nan.\n",
      "  return interp_func(x, xp, fp, left, right)\n"
     ]
    },
    {
     "name": "stdout",
     "output_type": "stream",
     "text": [
      "116 1719.5718038116063\n"
     ]
    },
    {
     "name": "stderr",
     "output_type": "stream",
     "text": [
      "D:\\Anaconda3\\envs\\THESIS\\lib\\site-packages\\metpy\\calc\\thermo.py:1396: RuntimeWarning: divide by zero encountered in log\n",
      "  val = np.log(vapor_pressure / mpconsts.nounit.sat_pressure_0c)\n",
      "D:\\Anaconda3\\envs\\THESIS\\lib\\site-packages\\metpy\\calc\\thermo.py:1397: RuntimeWarning: invalid value encountered in divide\n",
      "  return mpconsts.nounit.zero_degc + 243.5 * val / (17.67 - val)\n"
     ]
    },
    {
     "name": "stdout",
     "output_type": "stream",
     "text": [
      "36.13958 -96.45515\n",
      "36.14610957679705 -96.47093676232697 \n",
      "\n"
     ]
    },
    {
     "name": "stderr",
     "output_type": "stream",
     "text": [
      "D:\\Anaconda3\\envs\\THESIS\\lib\\site-packages\\numpy\\lib\\function_base.py:1594: UserWarning: Warning: converting a masked element to nan.\n",
      "  return interp_func(x, xp, fp, left, right)\n"
     ]
    },
    {
     "name": "stdout",
     "output_type": "stream",
     "text": [
      "117 2334.5571664700783\n"
     ]
    },
    {
     "name": "stderr",
     "output_type": "stream",
     "text": [
      "D:\\Anaconda3\\envs\\THESIS\\lib\\site-packages\\metpy\\calc\\thermo.py:1396: RuntimeWarning: divide by zero encountered in log\n",
      "  val = np.log(vapor_pressure / mpconsts.nounit.sat_pressure_0c)\n",
      "D:\\Anaconda3\\envs\\THESIS\\lib\\site-packages\\metpy\\calc\\thermo.py:1397: RuntimeWarning: invalid value encountered in divide\n",
      "  return mpconsts.nounit.zero_degc + 243.5 * val / (17.67 - val)\n"
     ]
    },
    {
     "name": "stdout",
     "output_type": "stream",
     "text": [
      "36.43548 -95.41663\n",
      "36.42854028373937 -95.42808173648137 \n",
      "\n"
     ]
    },
    {
     "name": "stderr",
     "output_type": "stream",
     "text": [
      "D:\\Anaconda3\\envs\\THESIS\\lib\\site-packages\\numpy\\lib\\function_base.py:1594: UserWarning: Warning: converting a masked element to nan.\n",
      "  return interp_func(x, xp, fp, left, right)\n"
     ]
    },
    {
     "name": "stdout",
     "output_type": "stream",
     "text": [
      "118 1119.0504662270298\n"
     ]
    },
    {
     "name": "stderr",
     "output_type": "stream",
     "text": [
      "D:\\Anaconda3\\envs\\THESIS\\lib\\site-packages\\metpy\\calc\\thermo.py:1396: RuntimeWarning: divide by zero encountered in log\n",
      "  val = np.log(vapor_pressure / mpconsts.nounit.sat_pressure_0c)\n",
      "D:\\Anaconda3\\envs\\THESIS\\lib\\site-packages\\metpy\\calc\\thermo.py:1397: RuntimeWarning: invalid value encountered in divide\n",
      "  return mpconsts.nounit.zero_degc + 243.5 * val / (17.67 - val)\n"
     ]
    },
    {
     "name": "stdout",
     "output_type": "stream",
     "text": [
      "36.58476 -94.29446\n",
      "36.59085889527563 -94.28124403497156 \n",
      "\n"
     ]
    },
    {
     "name": "stderr",
     "output_type": "stream",
     "text": [
      "D:\\Anaconda3\\envs\\THESIS\\lib\\site-packages\\numpy\\lib\\function_base.py:1594: UserWarning: Warning: converting a masked element to nan.\n",
      "  return interp_func(x, xp, fp, left, right)\n"
     ]
    },
    {
     "name": "stdout",
     "output_type": "stream",
     "text": [
      "119 1214.1057737814035\n"
     ]
    },
    {
     "name": "stderr",
     "output_type": "stream",
     "text": [
      "D:\\Anaconda3\\envs\\THESIS\\lib\\site-packages\\metpy\\calc\\thermo.py:1396: RuntimeWarning: divide by zero encountered in log\n",
      "  val = np.log(vapor_pressure / mpconsts.nounit.sat_pressure_0c)\n",
      "D:\\Anaconda3\\envs\\THESIS\\lib\\site-packages\\metpy\\calc\\thermo.py:1397: RuntimeWarning: invalid value encountered in divide\n",
      "  return mpconsts.nounit.zero_degc + 243.5 * val / (17.67 - val)\n"
     ]
    },
    {
     "name": "stdout",
     "output_type": "stream",
     "text": [
      "36.51067 -94.81712\n",
      "36.523829383472524 -94.82127175575312 \n",
      "\n"
     ]
    },
    {
     "name": "stderr",
     "output_type": "stream",
     "text": [
      "D:\\Anaconda3\\envs\\THESIS\\lib\\site-packages\\numpy\\lib\\function_base.py:1594: UserWarning: Warning: converting a masked element to nan.\n",
      "  return interp_func(x, xp, fp, left, right)\n"
     ]
    },
    {
     "name": "stdout",
     "output_type": "stream",
     "text": [
      "120 1336.195417650948\n"
     ]
    },
    {
     "name": "stderr",
     "output_type": "stream",
     "text": [
      "D:\\Anaconda3\\envs\\THESIS\\lib\\site-packages\\metpy\\calc\\thermo.py:1396: RuntimeWarning: divide by zero encountered in log\n",
      "  val = np.log(vapor_pressure / mpconsts.nounit.sat_pressure_0c)\n",
      "D:\\Anaconda3\\envs\\THESIS\\lib\\site-packages\\metpy\\calc\\thermo.py:1397: RuntimeWarning: invalid value encountered in divide\n",
      "  return mpconsts.nounit.zero_degc + 243.5 * val / (17.67 - val)\n"
     ]
    },
    {
     "name": "stdout",
     "output_type": "stream",
     "text": [
      "37.24646 -94.09463\n",
      "37.25977116475437 -94.08227841256797 \n",
      "\n"
     ]
    },
    {
     "name": "stderr",
     "output_type": "stream",
     "text": [
      "D:\\Anaconda3\\envs\\THESIS\\lib\\site-packages\\numpy\\lib\\function_base.py:1594: UserWarning: Warning: converting a masked element to nan.\n",
      "  return interp_func(x, xp, fp, left, right)\n",
      "D:\\Anaconda3\\envs\\THESIS\\lib\\site-packages\\pint\\facets\\plain\\quantity.py:1097: RuntimeWarning: divide by zero encountered in double_scalars\n",
      "  magnitude = magnitude_op(self._magnitude, other_magnitude)\n",
      "C:\\Users\\kyled\\AppData\\Local\\Temp\\ipykernel_170976\\2212921743.py:375: UserWarning: Interpolation point out of data bounds encountered\n",
      "  cape, _ = cape_func[cape_type](pressure, temperature, dew_point_temperature)\n"
     ]
    },
    {
     "name": "stdout",
     "output_type": "stream",
     "text": [
      "121 2055.0971487298216\n"
     ]
    },
    {
     "name": "stderr",
     "output_type": "stream",
     "text": [
      "C:\\Users\\kyled\\AppData\\Local\\Temp\\ipykernel_170976\\2680908632.py:87: UserWarning: Relative humidity >120%, ensure proper units.\n",
      "  Td=dewpoint_from_specific_humidity(lev* units('hPa'),T* units('kelvin'),q)\n",
      "D:\\Anaconda3\\envs\\THESIS\\lib\\site-packages\\metpy\\calc\\thermo.py:1396: RuntimeWarning: divide by zero encountered in log\n",
      "  val = np.log(vapor_pressure / mpconsts.nounit.sat_pressure_0c)\n",
      "D:\\Anaconda3\\envs\\THESIS\\lib\\site-packages\\metpy\\calc\\thermo.py:1397: RuntimeWarning: invalid value encountered in divide\n",
      "  return mpconsts.nounit.zero_degc + 243.5 * val / (17.67 - val)\n"
     ]
    },
    {
     "name": "stdout",
     "output_type": "stream",
     "text": [
      "36.94812 -94.6959\n",
      "36.95268865813107 -94.70435836234628 \n",
      "\n"
     ]
    },
    {
     "name": "stderr",
     "output_type": "stream",
     "text": [
      "D:\\Anaconda3\\envs\\THESIS\\lib\\site-packages\\numpy\\lib\\function_base.py:1594: UserWarning: Warning: converting a masked element to nan.\n",
      "  return interp_func(x, xp, fp, left, right)\n"
     ]
    },
    {
     "name": "stdout",
     "output_type": "stream",
     "text": [
      "122 1990.8765652283216\n"
     ]
    },
    {
     "name": "stderr",
     "output_type": "stream",
     "text": [
      "C:\\Users\\kyled\\AppData\\Local\\Temp\\ipykernel_170976\\2680908632.py:87: UserWarning: Relative humidity >120%, ensure proper units.\n",
      "  Td=dewpoint_from_specific_humidity(lev* units('hPa'),T* units('kelvin'),q)\n",
      "D:\\Anaconda3\\envs\\THESIS\\lib\\site-packages\\metpy\\calc\\thermo.py:1396: RuntimeWarning: divide by zero encountered in log\n",
      "  val = np.log(vapor_pressure / mpconsts.nounit.sat_pressure_0c)\n",
      "D:\\Anaconda3\\envs\\THESIS\\lib\\site-packages\\metpy\\calc\\thermo.py:1397: RuntimeWarning: invalid value encountered in divide\n",
      "  return mpconsts.nounit.zero_degc + 243.5 * val / (17.67 - val)\n"
     ]
    },
    {
     "name": "stdout",
     "output_type": "stream",
     "text": [
      "36.04388 -95.9137\n",
      "36.0317698920809 -95.90584378618678 \n",
      "\n"
     ]
    },
    {
     "name": "stderr",
     "output_type": "stream",
     "text": [
      "D:\\Anaconda3\\envs\\THESIS\\lib\\site-packages\\numpy\\lib\\function_base.py:1594: UserWarning: Warning: converting a masked element to nan.\n",
      "  return interp_func(x, xp, fp, left, right)\n"
     ]
    },
    {
     "name": "stdout",
     "output_type": "stream",
     "text": [
      "123 4503.88511295708\n"
     ]
    },
    {
     "name": "stderr",
     "output_type": "stream",
     "text": [
      "D:\\Anaconda3\\envs\\THESIS\\lib\\site-packages\\metpy\\calc\\thermo.py:1396: RuntimeWarning: divide by zero encountered in log\n",
      "  val = np.log(vapor_pressure / mpconsts.nounit.sat_pressure_0c)\n",
      "D:\\Anaconda3\\envs\\THESIS\\lib\\site-packages\\metpy\\calc\\thermo.py:1397: RuntimeWarning: invalid value encountered in divide\n",
      "  return mpconsts.nounit.zero_degc + 243.5 * val / (17.67 - val)\n"
     ]
    },
    {
     "name": "stdout",
     "output_type": "stream",
     "text": [
      "37.93896 -92.45486\n",
      "37.92899664090282 -92.44153938785365 \n",
      "\n"
     ]
    },
    {
     "name": "stderr",
     "output_type": "stream",
     "text": [
      "D:\\Anaconda3\\envs\\THESIS\\lib\\site-packages\\numpy\\lib\\function_base.py:1594: UserWarning: Warning: converting a masked element to nan.\n",
      "  return interp_func(x, xp, fp, left, right)\n"
     ]
    },
    {
     "name": "stdout",
     "output_type": "stream",
     "text": [
      "124 2337.3171252148554\n"
     ]
    },
    {
     "name": "stderr",
     "output_type": "stream",
     "text": [
      "D:\\Anaconda3\\envs\\THESIS\\lib\\site-packages\\metpy\\calc\\thermo.py:1396: RuntimeWarning: divide by zero encountered in log\n",
      "  val = np.log(vapor_pressure / mpconsts.nounit.sat_pressure_0c)\n",
      "D:\\Anaconda3\\envs\\THESIS\\lib\\site-packages\\metpy\\calc\\thermo.py:1397: RuntimeWarning: invalid value encountered in divide\n",
      "  return mpconsts.nounit.zero_degc + 243.5 * val / (17.67 - val)\n"
     ]
    },
    {
     "name": "stdout",
     "output_type": "stream",
     "text": [
      "37.44029 -93.49985\n",
      "37.429949360995565 -93.49638678745669 \n",
      "\n"
     ]
    },
    {
     "name": "stderr",
     "output_type": "stream",
     "text": [
      "D:\\Anaconda3\\envs\\THESIS\\lib\\site-packages\\numpy\\lib\\function_base.py:1594: UserWarning: Warning: converting a masked element to nan.\n",
      "  return interp_func(x, xp, fp, left, right)\n"
     ]
    },
    {
     "name": "stdout",
     "output_type": "stream",
     "text": [
      "125 2274.5608772306196\n"
     ]
    },
    {
     "name": "stderr",
     "output_type": "stream",
     "text": [
      "D:\\Anaconda3\\envs\\THESIS\\lib\\site-packages\\metpy\\calc\\thermo.py:1396: RuntimeWarning: divide by zero encountered in log\n",
      "  val = np.log(vapor_pressure / mpconsts.nounit.sat_pressure_0c)\n",
      "D:\\Anaconda3\\envs\\THESIS\\lib\\site-packages\\metpy\\calc\\thermo.py:1397: RuntimeWarning: invalid value encountered in divide\n",
      "  return mpconsts.nounit.zero_degc + 243.5 * val / (17.67 - val)\n"
     ]
    },
    {
     "name": "stdout",
     "output_type": "stream",
     "text": [
      "37.68023 -92.94205\n",
      "37.679329332755295 -92.93672661296074 \n",
      "\n"
     ]
    },
    {
     "name": "stderr",
     "output_type": "stream",
     "text": [
      "D:\\Anaconda3\\envs\\THESIS\\lib\\site-packages\\numpy\\lib\\function_base.py:1594: UserWarning: Warning: converting a masked element to nan.\n",
      "  return interp_func(x, xp, fp, left, right)\n"
     ]
    },
    {
     "name": "stdout",
     "output_type": "stream",
     "text": [
      "126 2305.3374067554555\n"
     ]
    },
    {
     "name": "stderr",
     "output_type": "stream",
     "text": [
      "C:\\Users\\kyled\\AppData\\Local\\Temp\\ipykernel_170976\\2680908632.py:87: UserWarning: Relative humidity >120%, ensure proper units.\n",
      "  Td=dewpoint_from_specific_humidity(lev* units('hPa'),T* units('kelvin'),q)\n",
      "D:\\Anaconda3\\envs\\THESIS\\lib\\site-packages\\metpy\\calc\\thermo.py:1396: RuntimeWarning: divide by zero encountered in log\n",
      "  val = np.log(vapor_pressure / mpconsts.nounit.sat_pressure_0c)\n",
      "D:\\Anaconda3\\envs\\THESIS\\lib\\site-packages\\metpy\\calc\\thermo.py:1397: RuntimeWarning: invalid value encountered in divide\n",
      "  return mpconsts.nounit.zero_degc + 243.5 * val / (17.67 - val)\n"
     ]
    },
    {
     "name": "stdout",
     "output_type": "stream",
     "text": [
      "36.41933 -95.594\n",
      "36.431452042242846 -95.59559056810792 \n",
      "\n"
     ]
    },
    {
     "name": "stderr",
     "output_type": "stream",
     "text": [
      "D:\\Anaconda3\\envs\\THESIS\\lib\\site-packages\\numpy\\lib\\function_base.py:1594: UserWarning: Warning: converting a masked element to nan.\n",
      "  return interp_func(x, xp, fp, left, right)\n"
     ]
    },
    {
     "name": "stdout",
     "output_type": "stream",
     "text": [
      "127 3073.4033730393985\n"
     ]
    },
    {
     "name": "stderr",
     "output_type": "stream",
     "text": [
      "C:\\Users\\kyled\\AppData\\Local\\Temp\\ipykernel_170976\\2680908632.py:87: UserWarning: Relative humidity >120%, ensure proper units.\n",
      "  Td=dewpoint_from_specific_humidity(lev* units('hPa'),T* units('kelvin'),q)\n",
      "D:\\Anaconda3\\envs\\THESIS\\lib\\site-packages\\metpy\\calc\\thermo.py:1396: RuntimeWarning: divide by zero encountered in log\n",
      "  val = np.log(vapor_pressure / mpconsts.nounit.sat_pressure_0c)\n",
      "D:\\Anaconda3\\envs\\THESIS\\lib\\site-packages\\metpy\\calc\\thermo.py:1397: RuntimeWarning: invalid value encountered in divide\n",
      "  return mpconsts.nounit.zero_degc + 243.5 * val / (17.67 - val)\n"
     ]
    },
    {
     "name": "stdout",
     "output_type": "stream",
     "text": [
      "36.72556 -94.9919\n",
      "36.716309388365154 -94.98254634316203 \n",
      "\n"
     ]
    },
    {
     "name": "stderr",
     "output_type": "stream",
     "text": [
      "D:\\Anaconda3\\envs\\THESIS\\lib\\site-packages\\numpy\\lib\\function_base.py:1594: UserWarning: Warning: converting a masked element to nan.\n",
      "  return interp_func(x, xp, fp, left, right)\n"
     ]
    },
    {
     "name": "stdout",
     "output_type": "stream",
     "text": [
      "128 1969.425945953233\n"
     ]
    },
    {
     "name": "stderr",
     "output_type": "stream",
     "text": [
      "C:\\Users\\kyled\\AppData\\Local\\Temp\\ipykernel_170976\\2680908632.py:87: UserWarning: Relative humidity >120%, ensure proper units.\n",
      "  Td=dewpoint_from_specific_humidity(lev* units('hPa'),T* units('kelvin'),q)\n",
      "D:\\Anaconda3\\envs\\THESIS\\lib\\site-packages\\metpy\\calc\\thermo.py:1396: RuntimeWarning: divide by zero encountered in log\n",
      "  val = np.log(vapor_pressure / mpconsts.nounit.sat_pressure_0c)\n",
      "D:\\Anaconda3\\envs\\THESIS\\lib\\site-packages\\metpy\\calc\\thermo.py:1397: RuntimeWarning: invalid value encountered in divide\n",
      "  return mpconsts.nounit.zero_degc + 243.5 * val / (17.67 - val)\n"
     ]
    },
    {
     "name": "stdout",
     "output_type": "stream",
     "text": [
      "37.19638 -95.0953\n",
      "37.204457752687084 -95.10128014456626 \n",
      "\n"
     ]
    },
    {
     "name": "stderr",
     "output_type": "stream",
     "text": [
      "D:\\Anaconda3\\envs\\THESIS\\lib\\site-packages\\numpy\\lib\\function_base.py:1594: UserWarning: Warning: converting a masked element to nan.\n",
      "  return interp_func(x, xp, fp, left, right)\n",
      "D:\\Anaconda3\\envs\\THESIS\\lib\\site-packages\\pint\\facets\\plain\\quantity.py:1097: RuntimeWarning: divide by zero encountered in double_scalars\n",
      "  magnitude = magnitude_op(self._magnitude, other_magnitude)\n",
      "C:\\Users\\kyled\\AppData\\Local\\Temp\\ipykernel_170976\\2212921743.py:375: UserWarning: Interpolation point out of data bounds encountered\n",
      "  cape, _ = cape_func[cape_type](pressure, temperature, dew_point_temperature)\n"
     ]
    },
    {
     "name": "stdout",
     "output_type": "stream",
     "text": [
      "129 2410.207064538932\n"
     ]
    },
    {
     "name": "stderr",
     "output_type": "stream",
     "text": [
      "C:\\Users\\kyled\\AppData\\Local\\Temp\\ipykernel_170976\\2680908632.py:87: UserWarning: Relative humidity >120%, ensure proper units.\n",
      "  Td=dewpoint_from_specific_humidity(lev* units('hPa'),T* units('kelvin'),q)\n",
      "D:\\Anaconda3\\envs\\THESIS\\lib\\site-packages\\metpy\\calc\\thermo.py:1396: RuntimeWarning: divide by zero encountered in log\n",
      "  val = np.log(vapor_pressure / mpconsts.nounit.sat_pressure_0c)\n",
      "D:\\Anaconda3\\envs\\THESIS\\lib\\site-packages\\metpy\\calc\\thermo.py:1397: RuntimeWarning: invalid value encountered in divide\n",
      "  return mpconsts.nounit.zero_degc + 243.5 * val / (17.67 - val)\n"
     ]
    },
    {
     "name": "stdout",
     "output_type": "stream",
     "text": [
      "36.61722 -95.6933\n",
      "36.6217847738824 -95.69149302067274 \n",
      "\n"
     ]
    },
    {
     "name": "stderr",
     "output_type": "stream",
     "text": [
      "D:\\Anaconda3\\envs\\THESIS\\lib\\site-packages\\numpy\\lib\\function_base.py:1594: UserWarning: Warning: converting a masked element to nan.\n",
      "  return interp_func(x, xp, fp, left, right)\n"
     ]
    },
    {
     "name": "stdout",
     "output_type": "stream",
     "text": [
      "130 3580.7660056844634\n"
     ]
    },
    {
     "name": "stderr",
     "output_type": "stream",
     "text": [
      "C:\\Users\\kyled\\AppData\\Local\\Temp\\ipykernel_170976\\2680908632.py:87: UserWarning: Relative humidity >120%, ensure proper units.\n",
      "  Td=dewpoint_from_specific_humidity(lev* units('hPa'),T* units('kelvin'),q)\n",
      "D:\\Anaconda3\\envs\\THESIS\\lib\\site-packages\\metpy\\calc\\thermo.py:1396: RuntimeWarning: divide by zero encountered in log\n",
      "  val = np.log(vapor_pressure / mpconsts.nounit.sat_pressure_0c)\n",
      "D:\\Anaconda3\\envs\\THESIS\\lib\\site-packages\\metpy\\calc\\thermo.py:1397: RuntimeWarning: invalid value encountered in divide\n",
      "  return mpconsts.nounit.zero_degc + 243.5 * val / (17.67 - val)\n"
     ]
    },
    {
     "name": "stdout",
     "output_type": "stream",
     "text": [
      "36.20463 -96.1459\n",
      "36.19651428892214 -96.13616743810076 \n",
      "\n"
     ]
    },
    {
     "name": "stderr",
     "output_type": "stream",
     "text": [
      "D:\\Anaconda3\\envs\\THESIS\\lib\\site-packages\\numpy\\lib\\function_base.py:1594: UserWarning: Warning: converting a masked element to nan.\n",
      "  return interp_func(x, xp, fp, left, right)\n",
      "D:\\Anaconda3\\envs\\THESIS\\lib\\site-packages\\sharppy\\sharptab\\params.py:1310: RuntimeWarning: invalid value encountered in double_scalars\n",
      "  return (tv2 - tv1) / (z2 - z1) * -1000.\n"
     ]
    },
    {
     "name": "stdout",
     "output_type": "stream",
     "text": [
      "131 4175.115251208401\n"
     ]
    },
    {
     "name": "stderr",
     "output_type": "stream",
     "text": [
      "C:\\Users\\kyled\\AppData\\Local\\Temp\\ipykernel_170976\\2680908632.py:87: UserWarning: Relative humidity >120%, ensure proper units.\n",
      "  Td=dewpoint_from_specific_humidity(lev* units('hPa'),T* units('kelvin'),q)\n",
      "D:\\Anaconda3\\envs\\THESIS\\lib\\site-packages\\metpy\\calc\\thermo.py:1396: RuntimeWarning: divide by zero encountered in log\n",
      "  val = np.log(vapor_pressure / mpconsts.nounit.sat_pressure_0c)\n",
      "D:\\Anaconda3\\envs\\THESIS\\lib\\site-packages\\metpy\\calc\\thermo.py:1397: RuntimeWarning: invalid value encountered in divide\n",
      "  return mpconsts.nounit.zero_degc + 243.5 * val / (17.67 - val)\n"
     ]
    },
    {
     "name": "stdout",
     "output_type": "stream",
     "text": [
      "36.75581 -95.1942\n",
      "36.74751438000043 -95.18347377288853 \n",
      "\n"
     ]
    },
    {
     "name": "stderr",
     "output_type": "stream",
     "text": [
      "D:\\Anaconda3\\envs\\THESIS\\lib\\site-packages\\numpy\\lib\\function_base.py:1594: UserWarning: Warning: converting a masked element to nan.\n",
      "  return interp_func(x, xp, fp, left, right)\n"
     ]
    },
    {
     "name": "stdout",
     "output_type": "stream",
     "text": [
      "132 3636.130894646618\n"
     ]
    },
    {
     "name": "stderr",
     "output_type": "stream",
     "text": [
      "C:\\Users\\kyled\\AppData\\Local\\Temp\\ipykernel_170976\\2680908632.py:87: UserWarning: Relative humidity >120%, ensure proper units.\n",
      "  Td=dewpoint_from_specific_humidity(lev* units('hPa'),T* units('kelvin'),q)\n",
      "D:\\Anaconda3\\envs\\THESIS\\lib\\site-packages\\metpy\\calc\\thermo.py:1396: RuntimeWarning: divide by zero encountered in log\n",
      "  val = np.log(vapor_pressure / mpconsts.nounit.sat_pressure_0c)\n",
      "D:\\Anaconda3\\envs\\THESIS\\lib\\site-packages\\metpy\\calc\\thermo.py:1397: RuntimeWarning: invalid value encountered in divide\n",
      "  return mpconsts.nounit.zero_degc + 243.5 * val / (17.67 - val)\n"
     ]
    },
    {
     "name": "stdout",
     "output_type": "stream",
     "text": [
      "37.12331 -94.7336\n",
      "37.11524916134333 -94.73200216783943 \n",
      "\n"
     ]
    },
    {
     "name": "stderr",
     "output_type": "stream",
     "text": [
      "D:\\Anaconda3\\envs\\THESIS\\lib\\site-packages\\numpy\\lib\\function_base.py:1594: UserWarning: Warning: converting a masked element to nan.\n",
      "  return interp_func(x, xp, fp, left, right)\n"
     ]
    },
    {
     "name": "stdout",
     "output_type": "stream",
     "text": [
      "133 2328.5181698704855\n"
     ]
    },
    {
     "name": "stderr",
     "output_type": "stream",
     "text": [
      "C:\\Users\\kyled\\AppData\\Local\\Temp\\ipykernel_170976\\2680908632.py:87: UserWarning: Relative humidity >120%, ensure proper units.\n",
      "  Td=dewpoint_from_specific_humidity(lev* units('hPa'),T* units('kelvin'),q)\n",
      "D:\\Anaconda3\\envs\\THESIS\\lib\\site-packages\\metpy\\calc\\thermo.py:1396: RuntimeWarning: divide by zero encountered in log\n",
      "  val = np.log(vapor_pressure / mpconsts.nounit.sat_pressure_0c)\n",
      "D:\\Anaconda3\\envs\\THESIS\\lib\\site-packages\\metpy\\calc\\thermo.py:1397: RuntimeWarning: invalid value encountered in divide\n",
      "  return mpconsts.nounit.zero_degc + 243.5 * val / (17.67 - val)\n"
     ]
    },
    {
     "name": "stdout",
     "output_type": "stream",
     "text": [
      "37.22211 -95.4737\n",
      "37.2115891672259 -95.47369111485187 \n",
      "\n"
     ]
    },
    {
     "name": "stderr",
     "output_type": "stream",
     "text": [
      "D:\\Anaconda3\\envs\\THESIS\\lib\\site-packages\\numpy\\lib\\function_base.py:1594: UserWarning: Warning: converting a masked element to nan.\n",
      "  return interp_func(x, xp, fp, left, right)\n"
     ]
    },
    {
     "name": "stdout",
     "output_type": "stream",
     "text": [
      "134 3431.254904425283\n"
     ]
    },
    {
     "name": "stderr",
     "output_type": "stream",
     "text": [
      "C:\\Users\\kyled\\AppData\\Local\\Temp\\ipykernel_170976\\2680908632.py:87: UserWarning: Relative humidity >120%, ensure proper units.\n",
      "  Td=dewpoint_from_specific_humidity(lev* units('hPa'),T* units('kelvin'),q)\n",
      "D:\\Anaconda3\\envs\\THESIS\\lib\\site-packages\\metpy\\calc\\thermo.py:1396: RuntimeWarning: divide by zero encountered in log\n",
      "  val = np.log(vapor_pressure / mpconsts.nounit.sat_pressure_0c)\n",
      "D:\\Anaconda3\\envs\\THESIS\\lib\\site-packages\\metpy\\calc\\thermo.py:1397: RuntimeWarning: invalid value encountered in divide\n",
      "  return mpconsts.nounit.zero_degc + 243.5 * val / (17.67 - val)\n"
     ]
    },
    {
     "name": "stdout",
     "output_type": "stream",
     "text": [
      "37.70065 -94.58262\n",
      "37.70504949259633 -94.57312202857855 \n",
      "\n"
     ]
    },
    {
     "name": "stderr",
     "output_type": "stream",
     "text": [
      "D:\\Anaconda3\\envs\\THESIS\\lib\\site-packages\\numpy\\lib\\function_base.py:1594: UserWarning: Warning: converting a masked element to nan.\n",
      "  return interp_func(x, xp, fp, left, right)\n"
     ]
    },
    {
     "name": "stdout",
     "output_type": "stream",
     "text": [
      "135 1742.220196292355\n"
     ]
    },
    {
     "name": "stderr",
     "output_type": "stream",
     "text": [
      "C:\\Users\\kyled\\AppData\\Local\\Temp\\ipykernel_170976\\2680908632.py:87: UserWarning: Relative humidity >120%, ensure proper units.\n",
      "  Td=dewpoint_from_specific_humidity(lev* units('hPa'),T* units('kelvin'),q)\n",
      "D:\\Anaconda3\\envs\\THESIS\\lib\\site-packages\\metpy\\calc\\thermo.py:1396: RuntimeWarning: divide by zero encountered in log\n",
      "  val = np.log(vapor_pressure / mpconsts.nounit.sat_pressure_0c)\n",
      "D:\\Anaconda3\\envs\\THESIS\\lib\\site-packages\\metpy\\calc\\thermo.py:1397: RuntimeWarning: invalid value encountered in divide\n",
      "  return mpconsts.nounit.zero_degc + 243.5 * val / (17.67 - val)\n"
     ]
    },
    {
     "name": "stdout",
     "output_type": "stream",
     "text": [
      "37.52568 -94.9166\n",
      "37.524373235189266 -94.92064155577754 \n",
      "\n"
     ]
    },
    {
     "name": "stderr",
     "output_type": "stream",
     "text": [
      "D:\\Anaconda3\\envs\\THESIS\\lib\\site-packages\\numpy\\lib\\function_base.py:1594: UserWarning: Warning: converting a masked element to nan.\n",
      "  return interp_func(x, xp, fp, left, right)\n"
     ]
    },
    {
     "name": "stdout",
     "output_type": "stream",
     "text": [
      "136 3075.929088574573\n"
     ]
    },
    {
     "name": "stderr",
     "output_type": "stream",
     "text": [
      "C:\\Users\\kyled\\AppData\\Local\\Temp\\ipykernel_170976\\2680908632.py:87: UserWarning: Relative humidity >120%, ensure proper units.\n",
      "  Td=dewpoint_from_specific_humidity(lev* units('hPa'),T* units('kelvin'),q)\n",
      "D:\\Anaconda3\\envs\\THESIS\\lib\\site-packages\\metpy\\calc\\thermo.py:1396: RuntimeWarning: divide by zero encountered in log\n",
      "  val = np.log(vapor_pressure / mpconsts.nounit.sat_pressure_0c)\n",
      "D:\\Anaconda3\\envs\\THESIS\\lib\\site-packages\\metpy\\calc\\thermo.py:1397: RuntimeWarning: invalid value encountered in divide\n",
      "  return mpconsts.nounit.zero_degc + 243.5 * val / (17.67 - val)\n"
     ]
    },
    {
     "name": "stdout",
     "output_type": "stream",
     "text": [
      "36.03405 -96.1101\n",
      "36.034395221429676 -96.10580291863744 \n",
      "\n"
     ]
    },
    {
     "name": "stderr",
     "output_type": "stream",
     "text": [
      "D:\\Anaconda3\\envs\\THESIS\\lib\\site-packages\\numpy\\lib\\function_base.py:1594: UserWarning: Warning: converting a masked element to nan.\n",
      "  return interp_func(x, xp, fp, left, right)\n",
      "C:\\Users\\kyled\\AppData\\Local\\Temp\\ipykernel_170976\\2212921743.py:375: UserWarning: Interpolation point out of data bounds encountered\n",
      "  cape, _ = cape_func[cape_type](pressure, temperature, dew_point_temperature)\n"
     ]
    },
    {
     "name": "stdout",
     "output_type": "stream",
     "text": [
      "137 2593.13507337414\n"
     ]
    },
    {
     "name": "stderr",
     "output_type": "stream",
     "text": [
      "C:\\Users\\kyled\\AppData\\Local\\Temp\\ipykernel_170976\\2680908632.py:87: UserWarning: Relative humidity >120%, ensure proper units.\n",
      "  Td=dewpoint_from_specific_humidity(lev* units('hPa'),T* units('kelvin'),q)\n",
      "D:\\Anaconda3\\envs\\THESIS\\lib\\site-packages\\metpy\\calc\\thermo.py:1396: RuntimeWarning: divide by zero encountered in log\n",
      "  val = np.log(vapor_pressure / mpconsts.nounit.sat_pressure_0c)\n",
      "D:\\Anaconda3\\envs\\THESIS\\lib\\site-packages\\metpy\\calc\\thermo.py:1397: RuntimeWarning: invalid value encountered in divide\n",
      "  return mpconsts.nounit.zero_degc + 243.5 * val / (17.67 - val)\n"
     ]
    },
    {
     "name": "stdout",
     "output_type": "stream",
     "text": [
      "36.41827 -95.52682\n",
      "36.43031677267833 -95.52858545914967 \n",
      "\n"
     ]
    },
    {
     "name": "stderr",
     "output_type": "stream",
     "text": [
      "D:\\Anaconda3\\envs\\THESIS\\lib\\site-packages\\numpy\\lib\\function_base.py:1594: UserWarning: Warning: converting a masked element to nan.\n",
      "  return interp_func(x, xp, fp, left, right)\n",
      "C:\\Users\\kyled\\AppData\\Local\\Temp\\ipykernel_170976\\2212921743.py:375: UserWarning: Interpolation point out of data bounds encountered\n",
      "  cape, _ = cape_func[cape_type](pressure, temperature, dew_point_temperature)\n"
     ]
    },
    {
     "name": "stdout",
     "output_type": "stream",
     "text": [
      "138 1264.933474567855\n"
     ]
    },
    {
     "name": "stderr",
     "output_type": "stream",
     "text": [
      "C:\\Users\\kyled\\AppData\\Local\\Temp\\ipykernel_170976\\2680908632.py:87: UserWarning: Relative humidity >120%, ensure proper units.\n",
      "  Td=dewpoint_from_specific_humidity(lev* units('hPa'),T* units('kelvin'),q)\n",
      "D:\\Anaconda3\\envs\\THESIS\\lib\\site-packages\\metpy\\calc\\thermo.py:1396: RuntimeWarning: divide by zero encountered in log\n",
      "  val = np.log(vapor_pressure / mpconsts.nounit.sat_pressure_0c)\n",
      "D:\\Anaconda3\\envs\\THESIS\\lib\\site-packages\\metpy\\calc\\thermo.py:1397: RuntimeWarning: invalid value encountered in divide\n",
      "  return mpconsts.nounit.zero_degc + 243.5 * val / (17.67 - val)\n"
     ]
    },
    {
     "name": "stdout",
     "output_type": "stream",
     "text": [
      "36.23485 -95.8963\n",
      "36.24738558149221 -95.9012122466736 \n",
      "\n"
     ]
    },
    {
     "name": "stderr",
     "output_type": "stream",
     "text": [
      "D:\\Anaconda3\\envs\\THESIS\\lib\\site-packages\\numpy\\lib\\function_base.py:1594: UserWarning: Warning: converting a masked element to nan.\n",
      "  return interp_func(x, xp, fp, left, right)\n",
      "D:\\Anaconda3\\envs\\THESIS\\lib\\site-packages\\pint\\facets\\plain\\quantity.py:1097: RuntimeWarning: divide by zero encountered in double_scalars\n",
      "  magnitude = magnitude_op(self._magnitude, other_magnitude)\n",
      "C:\\Users\\kyled\\AppData\\Local\\Temp\\ipykernel_170976\\2212921743.py:375: UserWarning: Interpolation point out of data bounds encountered\n",
      "  cape, _ = cape_func[cape_type](pressure, temperature, dew_point_temperature)\n"
     ]
    },
    {
     "name": "stdout",
     "output_type": "stream",
     "text": [
      "139 1962.8307367277798\n"
     ]
    },
    {
     "name": "stderr",
     "output_type": "stream",
     "text": [
      "C:\\Users\\kyled\\AppData\\Local\\Temp\\ipykernel_170976\\2680908632.py:87: UserWarning: Relative humidity >120%, ensure proper units.\n",
      "  Td=dewpoint_from_specific_humidity(lev* units('hPa'),T* units('kelvin'),q)\n",
      "D:\\Anaconda3\\envs\\THESIS\\lib\\site-packages\\metpy\\calc\\thermo.py:1396: RuntimeWarning: divide by zero encountered in log\n",
      "  val = np.log(vapor_pressure / mpconsts.nounit.sat_pressure_0c)\n",
      "D:\\Anaconda3\\envs\\THESIS\\lib\\site-packages\\metpy\\calc\\thermo.py:1397: RuntimeWarning: invalid value encountered in divide\n",
      "  return mpconsts.nounit.zero_degc + 243.5 * val / (17.67 - val)\n"
     ]
    },
    {
     "name": "stdout",
     "output_type": "stream",
     "text": [
      "36.52794 -95.2181\n",
      "36.53253765725315 -95.22377502430624 \n",
      "\n"
     ]
    },
    {
     "name": "stderr",
     "output_type": "stream",
     "text": [
      "D:\\Anaconda3\\envs\\THESIS\\lib\\site-packages\\numpy\\lib\\function_base.py:1594: UserWarning: Warning: converting a masked element to nan.\n",
      "  return interp_func(x, xp, fp, left, right)\n"
     ]
    },
    {
     "name": "stdout",
     "output_type": "stream",
     "text": [
      "140 2086.4082767279456\n"
     ]
    },
    {
     "name": "stderr",
     "output_type": "stream",
     "text": [
      "C:\\Users\\kyled\\AppData\\Local\\Temp\\ipykernel_170976\\2680908632.py:87: UserWarning: Relative humidity >120%, ensure proper units.\n",
      "  Td=dewpoint_from_specific_humidity(lev* units('hPa'),T* units('kelvin'),q)\n",
      "D:\\Anaconda3\\envs\\THESIS\\lib\\site-packages\\metpy\\calc\\thermo.py:1396: RuntimeWarning: divide by zero encountered in log\n",
      "  val = np.log(vapor_pressure / mpconsts.nounit.sat_pressure_0c)\n",
      "D:\\Anaconda3\\envs\\THESIS\\lib\\site-packages\\metpy\\calc\\thermo.py:1397: RuntimeWarning: invalid value encountered in divide\n",
      "  return mpconsts.nounit.zero_degc + 243.5 * val / (17.67 - val)\n"
     ]
    },
    {
     "name": "stdout",
     "output_type": "stream",
     "text": [
      "36.8762 -96.0827\n",
      "36.870100915934316 -96.08997391466528 \n",
      "\n"
     ]
    },
    {
     "name": "stderr",
     "output_type": "stream",
     "text": [
      "D:\\Anaconda3\\envs\\THESIS\\lib\\site-packages\\numpy\\lib\\function_base.py:1594: UserWarning: Warning: converting a masked element to nan.\n",
      "  return interp_func(x, xp, fp, left, right)\n",
      "D:\\Anaconda3\\envs\\THESIS\\lib\\site-packages\\sharppy\\sharptab\\params.py:1310: RuntimeWarning: invalid value encountered in double_scalars\n",
      "  return (tv2 - tv1) / (z2 - z1) * -1000.\n"
     ]
    },
    {
     "name": "stdout",
     "output_type": "stream",
     "text": [
      "141 1821.874160583289\n"
     ]
    },
    {
     "name": "stderr",
     "output_type": "stream",
     "text": [
      "C:\\Users\\kyled\\AppData\\Local\\Temp\\ipykernel_170976\\2680908632.py:87: UserWarning: Relative humidity >120%, ensure proper units.\n",
      "  Td=dewpoint_from_specific_humidity(lev* units('hPa'),T* units('kelvin'),q)\n",
      "D:\\Anaconda3\\envs\\THESIS\\lib\\site-packages\\metpy\\calc\\thermo.py:1396: RuntimeWarning: divide by zero encountered in log\n",
      "  val = np.log(vapor_pressure / mpconsts.nounit.sat_pressure_0c)\n",
      "D:\\Anaconda3\\envs\\THESIS\\lib\\site-packages\\metpy\\calc\\thermo.py:1397: RuntimeWarning: invalid value encountered in divide\n",
      "  return mpconsts.nounit.zero_degc + 243.5 * val / (17.67 - val)\n"
     ]
    },
    {
     "name": "stdout",
     "output_type": "stream",
     "text": [
      "36.83071 -95.87864\n",
      "36.84048092360923 -95.88833564344446 \n",
      "\n"
     ]
    },
    {
     "name": "stderr",
     "output_type": "stream",
     "text": [
      "D:\\Anaconda3\\envs\\THESIS\\lib\\site-packages\\numpy\\lib\\function_base.py:1594: UserWarning: Warning: converting a masked element to nan.\n",
      "  return interp_func(x, xp, fp, left, right)\n",
      "D:\\Anaconda3\\envs\\THESIS\\lib\\site-packages\\sharppy\\sharptab\\params.py:1310: RuntimeWarning: invalid value encountered in double_scalars\n",
      "  return (tv2 - tv1) / (z2 - z1) * -1000.\n"
     ]
    },
    {
     "name": "stdout",
     "output_type": "stream",
     "text": [
      "142 2174.0881994715787\n"
     ]
    },
    {
     "name": "stderr",
     "output_type": "stream",
     "text": [
      "C:\\Users\\kyled\\AppData\\Local\\Temp\\ipykernel_170976\\2680908632.py:87: UserWarning: Relative humidity >120%, ensure proper units.\n",
      "  Td=dewpoint_from_specific_humidity(lev* units('hPa'),T* units('kelvin'),q)\n",
      "D:\\Anaconda3\\envs\\THESIS\\lib\\site-packages\\metpy\\calc\\thermo.py:1396: RuntimeWarning: divide by zero encountered in log\n",
      "  val = np.log(vapor_pressure / mpconsts.nounit.sat_pressure_0c)\n",
      "D:\\Anaconda3\\envs\\THESIS\\lib\\site-packages\\metpy\\calc\\thermo.py:1397: RuntimeWarning: invalid value encountered in divide\n",
      "  return mpconsts.nounit.zero_degc + 243.5 * val / (17.67 - val)\n"
     ]
    },
    {
     "name": "stdout",
     "output_type": "stream",
     "text": [
      "36.88693 -95.68893\n",
      "36.891395172788485 -95.68486777189798 \n",
      "\n"
     ]
    },
    {
     "name": "stderr",
     "output_type": "stream",
     "text": [
      "D:\\Anaconda3\\envs\\THESIS\\lib\\site-packages\\numpy\\lib\\function_base.py:1594: UserWarning: Warning: converting a masked element to nan.\n",
      "  return interp_func(x, xp, fp, left, right)\n",
      "D:\\Anaconda3\\envs\\THESIS\\lib\\site-packages\\pint\\facets\\plain\\quantity.py:1097: RuntimeWarning: divide by zero encountered in double_scalars\n",
      "  magnitude = magnitude_op(self._magnitude, other_magnitude)\n",
      "C:\\Users\\kyled\\AppData\\Local\\Temp\\ipykernel_170976\\2212921743.py:375: UserWarning: Interpolation point out of data bounds encountered\n",
      "  cape, _ = cape_func[cape_type](pressure, temperature, dew_point_temperature)\n"
     ]
    },
    {
     "name": "stdout",
     "output_type": "stream",
     "text": [
      "143 1756.0980178868074\n"
     ]
    },
    {
     "name": "stderr",
     "output_type": "stream",
     "text": [
      "C:\\Users\\kyled\\AppData\\Local\\Temp\\ipykernel_170976\\2680908632.py:87: UserWarning: Relative humidity >120%, ensure proper units.\n",
      "  Td=dewpoint_from_specific_humidity(lev* units('hPa'),T* units('kelvin'),q)\n",
      "D:\\Anaconda3\\envs\\THESIS\\lib\\site-packages\\metpy\\calc\\thermo.py:1396: RuntimeWarning: divide by zero encountered in log\n",
      "  val = np.log(vapor_pressure / mpconsts.nounit.sat_pressure_0c)\n",
      "D:\\Anaconda3\\envs\\THESIS\\lib\\site-packages\\metpy\\calc\\thermo.py:1397: RuntimeWarning: invalid value encountered in divide\n",
      "  return mpconsts.nounit.zero_degc + 243.5 * val / (17.67 - val)\n"
     ]
    },
    {
     "name": "stdout",
     "output_type": "stream",
     "text": [
      "37.35077 -95.10999\n",
      "37.33927441773807 -95.09685975482034 \n",
      "\n"
     ]
    },
    {
     "name": "stderr",
     "output_type": "stream",
     "text": [
      "D:\\Anaconda3\\envs\\THESIS\\lib\\site-packages\\numpy\\lib\\function_base.py:1594: UserWarning: Warning: converting a masked element to nan.\n",
      "  return interp_func(x, xp, fp, left, right)\n",
      "C:\\Users\\kyled\\AppData\\Local\\Temp\\ipykernel_170976\\2212921743.py:375: UserWarning: Interpolation point out of data bounds encountered\n",
      "  cape, _ = cape_func[cape_type](pressure, temperature, dew_point_temperature)\n"
     ]
    },
    {
     "name": "stdout",
     "output_type": "stream",
     "text": [
      "144 1454.752304741362\n"
     ]
    },
    {
     "name": "stderr",
     "output_type": "stream",
     "text": [
      "C:\\Users\\kyled\\AppData\\Local\\Temp\\ipykernel_170976\\2680908632.py:87: UserWarning: Relative humidity >120%, ensure proper units.\n",
      "  Td=dewpoint_from_specific_humidity(lev* units('hPa'),T* units('kelvin'),q)\n",
      "D:\\Anaconda3\\envs\\THESIS\\lib\\site-packages\\metpy\\calc\\thermo.py:1396: RuntimeWarning: divide by zero encountered in log\n",
      "  val = np.log(vapor_pressure / mpconsts.nounit.sat_pressure_0c)\n",
      "D:\\Anaconda3\\envs\\THESIS\\lib\\site-packages\\metpy\\calc\\thermo.py:1397: RuntimeWarning: invalid value encountered in divide\n",
      "  return mpconsts.nounit.zero_degc + 243.5 * val / (17.67 - val)\n"
     ]
    },
    {
     "name": "stdout",
     "output_type": "stream",
     "text": [
      "37.07803 -95.5661\n",
      "37.07849930651499 -95.57880423735509 \n",
      "\n"
     ]
    },
    {
     "name": "stderr",
     "output_type": "stream",
     "text": [
      "D:\\Anaconda3\\envs\\THESIS\\lib\\site-packages\\numpy\\lib\\function_base.py:1594: UserWarning: Warning: converting a masked element to nan.\n",
      "  return interp_func(x, xp, fp, left, right)\n",
      "D:\\Anaconda3\\envs\\THESIS\\lib\\site-packages\\pint\\facets\\plain\\quantity.py:1097: RuntimeWarning: divide by zero encountered in double_scalars\n",
      "  magnitude = magnitude_op(self._magnitude, other_magnitude)\n",
      "C:\\Users\\kyled\\AppData\\Local\\Temp\\ipykernel_170976\\2212921743.py:375: UserWarning: Interpolation point out of data bounds encountered\n",
      "  cape, _ = cape_func[cape_type](pressure, temperature, dew_point_temperature)\n"
     ]
    },
    {
     "name": "stdout",
     "output_type": "stream",
     "text": [
      "145 2180.063508658092\n"
     ]
    },
    {
     "name": "stderr",
     "output_type": "stream",
     "text": [
      "C:\\Users\\kyled\\AppData\\Local\\Temp\\ipykernel_170976\\2680908632.py:87: UserWarning: Relative humidity >120%, ensure proper units.\n",
      "  Td=dewpoint_from_specific_humidity(lev* units('hPa'),T* units('kelvin'),q)\n",
      "D:\\Anaconda3\\envs\\THESIS\\lib\\site-packages\\metpy\\calc\\thermo.py:1396: RuntimeWarning: divide by zero encountered in log\n",
      "  val = np.log(vapor_pressure / mpconsts.nounit.sat_pressure_0c)\n",
      "D:\\Anaconda3\\envs\\THESIS\\lib\\site-packages\\metpy\\calc\\thermo.py:1397: RuntimeWarning: invalid value encountered in divide\n",
      "  return mpconsts.nounit.zero_degc + 243.5 * val / (17.67 - val)\n"
     ]
    },
    {
     "name": "stdout",
     "output_type": "stream",
     "text": [
      "37.23584 -95.31833\n",
      "37.23546071891946 -95.30359635887527 \n",
      "\n"
     ]
    },
    {
     "name": "stderr",
     "output_type": "stream",
     "text": [
      "D:\\Anaconda3\\envs\\THESIS\\lib\\site-packages\\numpy\\lib\\function_base.py:1594: UserWarning: Warning: converting a masked element to nan.\n",
      "  return interp_func(x, xp, fp, left, right)\n"
     ]
    },
    {
     "name": "stdout",
     "output_type": "stream",
     "text": [
      "146 2730.6319940845656\n"
     ]
    },
    {
     "name": "stderr",
     "output_type": "stream",
     "text": [
      "C:\\Users\\kyled\\AppData\\Local\\Temp\\ipykernel_170976\\2680908632.py:87: UserWarning: Relative humidity >120%, ensure proper units.\n",
      "  Td=dewpoint_from_specific_humidity(lev* units('hPa'),T* units('kelvin'),q)\n",
      "D:\\Anaconda3\\envs\\THESIS\\lib\\site-packages\\metpy\\calc\\thermo.py:1396: RuntimeWarning: divide by zero encountered in log\n",
      "  val = np.log(vapor_pressure / mpconsts.nounit.sat_pressure_0c)\n",
      "D:\\Anaconda3\\envs\\THESIS\\lib\\site-packages\\metpy\\calc\\thermo.py:1397: RuntimeWarning: invalid value encountered in divide\n",
      "  return mpconsts.nounit.zero_degc + 243.5 * val / (17.67 - val)\n"
     ]
    },
    {
     "name": "stdout",
     "output_type": "stream",
     "text": [
      "36.58424 -96.1461\n",
      "36.57431534012442 -96.1627738396474 \n",
      "\n"
     ]
    },
    {
     "name": "stderr",
     "output_type": "stream",
     "text": [
      "D:\\Anaconda3\\envs\\THESIS\\lib\\site-packages\\numpy\\lib\\function_base.py:1594: UserWarning: Warning: converting a masked element to nan.\n",
      "  return interp_func(x, xp, fp, left, right)\n"
     ]
    },
    {
     "name": "stdout",
     "output_type": "stream",
     "text": [
      "147 2035.8850654774167\n"
     ]
    },
    {
     "name": "stderr",
     "output_type": "stream",
     "text": [
      "C:\\Users\\kyled\\AppData\\Local\\Temp\\ipykernel_170976\\2680908632.py:87: UserWarning: Relative humidity >120%, ensure proper units.\n",
      "  Td=dewpoint_from_specific_humidity(lev* units('hPa'),T* units('kelvin'),q)\n",
      "D:\\Anaconda3\\envs\\THESIS\\lib\\site-packages\\metpy\\calc\\thermo.py:1396: RuntimeWarning: divide by zero encountered in log\n",
      "  val = np.log(vapor_pressure / mpconsts.nounit.sat_pressure_0c)\n",
      "D:\\Anaconda3\\envs\\THESIS\\lib\\site-packages\\metpy\\calc\\thermo.py:1397: RuntimeWarning: invalid value encountered in divide\n",
      "  return mpconsts.nounit.zero_degc + 243.5 * val / (17.67 - val)\n"
     ]
    },
    {
     "name": "stdout",
     "output_type": "stream",
     "text": [
      "36.86959 -96.1005\n",
      "36.870100915934316 -96.08997391466528 \n",
      "\n"
     ]
    },
    {
     "name": "stderr",
     "output_type": "stream",
     "text": [
      "D:\\Anaconda3\\envs\\THESIS\\lib\\site-packages\\numpy\\lib\\function_base.py:1594: UserWarning: Warning: converting a masked element to nan.\n",
      "  return interp_func(x, xp, fp, left, right)\n",
      "D:\\Anaconda3\\envs\\THESIS\\lib\\site-packages\\pint\\facets\\plain\\quantity.py:1097: RuntimeWarning: divide by zero encountered in double_scalars\n",
      "  magnitude = magnitude_op(self._magnitude, other_magnitude)\n",
      "C:\\Users\\kyled\\AppData\\Local\\Temp\\ipykernel_170976\\2212921743.py:375: UserWarning: Interpolation point out of data bounds encountered\n",
      "  cape, _ = cape_func[cape_type](pressure, temperature, dew_point_temperature)\n"
     ]
    },
    {
     "name": "stdout",
     "output_type": "stream",
     "text": [
      "148 1949.9924231067541\n"
     ]
    },
    {
     "name": "stderr",
     "output_type": "stream",
     "text": [
      "D:\\Anaconda3\\envs\\THESIS\\lib\\site-packages\\metpy\\calc\\thermo.py:1396: RuntimeWarning: divide by zero encountered in log\n",
      "  val = np.log(vapor_pressure / mpconsts.nounit.sat_pressure_0c)\n",
      "D:\\Anaconda3\\envs\\THESIS\\lib\\site-packages\\metpy\\calc\\thermo.py:1397: RuntimeWarning: invalid value encountered in divide\n",
      "  return mpconsts.nounit.zero_degc + 243.5 * val / (17.67 - val)\n"
     ]
    },
    {
     "name": "stdout",
     "output_type": "stream",
     "text": [
      "37.44454 -95.18465\n",
      "37.449203234899905 -95.19520813688172 \n",
      "\n"
     ]
    },
    {
     "name": "stderr",
     "output_type": "stream",
     "text": [
      "D:\\Anaconda3\\envs\\THESIS\\lib\\site-packages\\numpy\\lib\\function_base.py:1594: UserWarning: Warning: converting a masked element to nan.\n",
      "  return interp_func(x, xp, fp, left, right)\n",
      "D:\\Anaconda3\\envs\\THESIS\\lib\\site-packages\\pint\\facets\\plain\\quantity.py:1097: RuntimeWarning: divide by zero encountered in double_scalars\n",
      "  magnitude = magnitude_op(self._magnitude, other_magnitude)\n",
      "C:\\Users\\kyled\\AppData\\Local\\Temp\\ipykernel_170976\\2212921743.py:375: UserWarning: Interpolation point out of data bounds encountered\n",
      "  cape, _ = cape_func[cape_type](pressure, temperature, dew_point_temperature)\n"
     ]
    },
    {
     "name": "stdout",
     "output_type": "stream",
     "text": [
      "149 1165.7010561818647\n"
     ]
    },
    {
     "name": "stderr",
     "output_type": "stream",
     "text": [
      "C:\\Users\\kyled\\AppData\\Local\\Temp\\ipykernel_170976\\2680908632.py:87: UserWarning: Relative humidity >120%, ensure proper units.\n",
      "  Td=dewpoint_from_specific_humidity(lev* units('hPa'),T* units('kelvin'),q)\n",
      "D:\\Anaconda3\\envs\\THESIS\\lib\\site-packages\\metpy\\calc\\thermo.py:1396: RuntimeWarning: divide by zero encountered in log\n",
      "  val = np.log(vapor_pressure / mpconsts.nounit.sat_pressure_0c)\n",
      "D:\\Anaconda3\\envs\\THESIS\\lib\\site-packages\\metpy\\calc\\thermo.py:1397: RuntimeWarning: invalid value encountered in divide\n",
      "  return mpconsts.nounit.zero_degc + 243.5 * val / (17.67 - val)\n"
     ]
    },
    {
     "name": "stdout",
     "output_type": "stream",
     "text": [
      "37.00902 -96.0453\n",
      "37.00450976885791 -96.05361956526838 \n",
      "\n"
     ]
    },
    {
     "name": "stderr",
     "output_type": "stream",
     "text": [
      "D:\\Anaconda3\\envs\\THESIS\\lib\\site-packages\\numpy\\lib\\function_base.py:1594: UserWarning: Warning: converting a masked element to nan.\n",
      "  return interp_func(x, xp, fp, left, right)\n",
      "D:\\Anaconda3\\envs\\THESIS\\lib\\site-packages\\pint\\facets\\plain\\quantity.py:1097: RuntimeWarning: divide by zero encountered in double_scalars\n",
      "  magnitude = magnitude_op(self._magnitude, other_magnitude)\n",
      "C:\\Users\\kyled\\AppData\\Local\\Temp\\ipykernel_170976\\2212921743.py:375: UserWarning: Interpolation point out of data bounds encountered\n",
      "  cape, _ = cape_func[cape_type](pressure, temperature, dew_point_temperature)\n"
     ]
    },
    {
     "name": "stdout",
     "output_type": "stream",
     "text": [
      "150 605.0348741442658\n"
     ]
    },
    {
     "name": "stderr",
     "output_type": "stream",
     "text": [
      "C:\\Users\\kyled\\AppData\\Local\\Temp\\ipykernel_170976\\2680908632.py:87: UserWarning: Relative humidity >120%, ensure proper units.\n",
      "  Td=dewpoint_from_specific_humidity(lev* units('hPa'),T* units('kelvin'),q)\n",
      "D:\\Anaconda3\\envs\\THESIS\\lib\\site-packages\\metpy\\calc\\thermo.py:1396: RuntimeWarning: divide by zero encountered in log\n",
      "  val = np.log(vapor_pressure / mpconsts.nounit.sat_pressure_0c)\n",
      "D:\\Anaconda3\\envs\\THESIS\\lib\\site-packages\\metpy\\calc\\thermo.py:1397: RuntimeWarning: invalid value encountered in divide\n",
      "  return mpconsts.nounit.zero_degc + 243.5 * val / (17.67 - val)\n"
     ]
    },
    {
     "name": "stdout",
     "output_type": "stream",
     "text": [
      "37.04171 -95.4401\n",
      "37.04920485667504 -95.4443705938699 \n",
      "\n"
     ]
    },
    {
     "name": "stderr",
     "output_type": "stream",
     "text": [
      "D:\\Anaconda3\\envs\\THESIS\\lib\\site-packages\\numpy\\lib\\function_base.py:1594: UserWarning: Warning: converting a masked element to nan.\n",
      "  return interp_func(x, xp, fp, left, right)\n",
      "C:\\Users\\kyled\\AppData\\Local\\Temp\\ipykernel_170976\\2212921743.py:375: UserWarning: Interpolation point out of data bounds encountered\n",
      "  cape, _ = cape_func[cape_type](pressure, temperature, dew_point_temperature)\n"
     ]
    },
    {
     "name": "stdout",
     "output_type": "stream",
     "text": [
      "151 1299.8231490503174\n"
     ]
    },
    {
     "name": "stderr",
     "output_type": "stream",
     "text": [
      "C:\\Users\\kyled\\AppData\\Local\\Temp\\ipykernel_170976\\2680908632.py:87: UserWarning: Relative humidity >120%, ensure proper units.\n",
      "  Td=dewpoint_from_specific_humidity(lev* units('hPa'),T* units('kelvin'),q)\n",
      "D:\\Anaconda3\\envs\\THESIS\\lib\\site-packages\\metpy\\calc\\thermo.py:1396: RuntimeWarning: divide by zero encountered in log\n",
      "  val = np.log(vapor_pressure / mpconsts.nounit.sat_pressure_0c)\n",
      "D:\\Anaconda3\\envs\\THESIS\\lib\\site-packages\\metpy\\calc\\thermo.py:1397: RuntimeWarning: invalid value encountered in divide\n",
      "  return mpconsts.nounit.zero_degc + 243.5 * val / (17.67 - val)\n"
     ]
    },
    {
     "name": "stdout",
     "output_type": "stream",
     "text": [
      "36.65878 -94.77131\n",
      "36.657800312527755 -94.78278231415311 \n",
      "\n"
     ]
    },
    {
     "name": "stderr",
     "output_type": "stream",
     "text": [
      "D:\\Anaconda3\\envs\\THESIS\\lib\\site-packages\\numpy\\lib\\function_base.py:1594: UserWarning: Warning: converting a masked element to nan.\n",
      "  return interp_func(x, xp, fp, left, right)\n"
     ]
    },
    {
     "name": "stdout",
     "output_type": "stream",
     "text": [
      "152 2386.6346091639093\n"
     ]
    },
    {
     "name": "stderr",
     "output_type": "stream",
     "text": [
      "C:\\Users\\kyled\\AppData\\Local\\Temp\\ipykernel_170976\\2680908632.py:87: UserWarning: Relative humidity >120%, ensure proper units.\n",
      "  Td=dewpoint_from_specific_humidity(lev* units('hPa'),T* units('kelvin'),q)\n",
      "D:\\Anaconda3\\envs\\THESIS\\lib\\site-packages\\metpy\\calc\\thermo.py:1396: RuntimeWarning: divide by zero encountered in log\n",
      "  val = np.log(vapor_pressure / mpconsts.nounit.sat_pressure_0c)\n",
      "D:\\Anaconda3\\envs\\THESIS\\lib\\site-packages\\metpy\\calc\\thermo.py:1397: RuntimeWarning: invalid value encountered in divide\n",
      "  return mpconsts.nounit.zero_degc + 243.5 * val / (17.67 - val)\n"
     ]
    },
    {
     "name": "stdout",
     "output_type": "stream",
     "text": [
      "36.63808 -94.5543\n",
      "36.62503693228187 -94.54868984414423 \n",
      "\n"
     ]
    },
    {
     "name": "stderr",
     "output_type": "stream",
     "text": [
      "D:\\Anaconda3\\envs\\THESIS\\lib\\site-packages\\numpy\\lib\\function_base.py:1594: UserWarning: Warning: converting a masked element to nan.\n",
      "  return interp_func(x, xp, fp, left, right)\n",
      "D:\\Anaconda3\\envs\\THESIS\\lib\\site-packages\\sharppy\\sharptab\\params.py:1310: RuntimeWarning: invalid value encountered in double_scalars\n",
      "  return (tv2 - tv1) / (z2 - z1) * -1000.\n"
     ]
    },
    {
     "name": "stdout",
     "output_type": "stream",
     "text": [
      "153 2912.2319433106222\n"
     ]
    },
    {
     "name": "stderr",
     "output_type": "stream",
     "text": [
      "D:\\Anaconda3\\envs\\THESIS\\lib\\site-packages\\metpy\\calc\\thermo.py:1396: RuntimeWarning: divide by zero encountered in log\n",
      "  val = np.log(vapor_pressure / mpconsts.nounit.sat_pressure_0c)\n",
      "D:\\Anaconda3\\envs\\THESIS\\lib\\site-packages\\metpy\\calc\\thermo.py:1397: RuntimeWarning: invalid value encountered in divide\n",
      "  return mpconsts.nounit.zero_degc + 243.5 * val / (17.67 - val)\n"
     ]
    },
    {
     "name": "stdout",
     "output_type": "stream",
     "text": [
      "37.98287 -95.28139\n",
      "37.990550867888 -95.28072608549564 \n",
      "\n"
     ]
    },
    {
     "name": "stderr",
     "output_type": "stream",
     "text": [
      "D:\\Anaconda3\\envs\\THESIS\\lib\\site-packages\\numpy\\lib\\function_base.py:1594: UserWarning: Warning: converting a masked element to nan.\n",
      "  return interp_func(x, xp, fp, left, right)\n",
      "D:\\Anaconda3\\envs\\THESIS\\lib\\site-packages\\pint\\facets\\plain\\quantity.py:1097: RuntimeWarning: divide by zero encountered in double_scalars\n",
      "  magnitude = magnitude_op(self._magnitude, other_magnitude)\n",
      "C:\\Users\\kyled\\AppData\\Local\\Temp\\ipykernel_170976\\2212921743.py:375: UserWarning: Interpolation point out of data bounds encountered\n",
      "  cape, _ = cape_func[cape_type](pressure, temperature, dew_point_temperature)\n"
     ]
    },
    {
     "name": "stdout",
     "output_type": "stream",
     "text": [
      "154 0.0\n"
     ]
    },
    {
     "name": "stderr",
     "output_type": "stream",
     "text": [
      "C:\\Users\\kyled\\AppData\\Local\\Temp\\ipykernel_170976\\2680908632.py:87: UserWarning: Relative humidity >120%, ensure proper units.\n",
      "  Td=dewpoint_from_specific_humidity(lev* units('hPa'),T* units('kelvin'),q)\n",
      "D:\\Anaconda3\\envs\\THESIS\\lib\\site-packages\\metpy\\calc\\thermo.py:1396: RuntimeWarning: divide by zero encountered in log\n",
      "  val = np.log(vapor_pressure / mpconsts.nounit.sat_pressure_0c)\n",
      "D:\\Anaconda3\\envs\\THESIS\\lib\\site-packages\\metpy\\calc\\thermo.py:1397: RuntimeWarning: invalid value encountered in divide\n",
      "  return mpconsts.nounit.zero_degc + 243.5 * val / (17.67 - val)\n"
     ]
    },
    {
     "name": "stdout",
     "output_type": "stream",
     "text": [
      "37.23433 -95.74196\n",
      "37.24298895250741 -95.74393167377934 \n",
      "\n"
     ]
    },
    {
     "name": "stderr",
     "output_type": "stream",
     "text": [
      "D:\\Anaconda3\\envs\\THESIS\\lib\\site-packages\\numpy\\lib\\function_base.py:1594: UserWarning: Warning: converting a masked element to nan.\n",
      "  return interp_func(x, xp, fp, left, right)\n",
      "C:\\Users\\kyled\\AppData\\Local\\Temp\\ipykernel_170976\\2212921743.py:375: UserWarning: Interpolation point out of data bounds encountered\n",
      "  cape, _ = cape_func[cape_type](pressure, temperature, dew_point_temperature)\n"
     ]
    },
    {
     "name": "stdout",
     "output_type": "stream",
     "text": [
      "155 342.09461927359246\n"
     ]
    },
    {
     "name": "stderr",
     "output_type": "stream",
     "text": [
      "D:\\Anaconda3\\envs\\THESIS\\lib\\site-packages\\metpy\\calc\\thermo.py:1396: RuntimeWarning: divide by zero encountered in log\n",
      "  val = np.log(vapor_pressure / mpconsts.nounit.sat_pressure_0c)\n",
      "D:\\Anaconda3\\envs\\THESIS\\lib\\site-packages\\metpy\\calc\\thermo.py:1397: RuntimeWarning: invalid value encountered in divide\n",
      "  return mpconsts.nounit.zero_degc + 243.5 * val / (17.67 - val)\n"
     ]
    },
    {
     "name": "stdout",
     "output_type": "stream",
     "text": [
      "36.61974 -95.3984\n",
      "36.616618173872936 -95.38920272141866 \n",
      "\n"
     ]
    },
    {
     "name": "stderr",
     "output_type": "stream",
     "text": [
      "D:\\Anaconda3\\envs\\THESIS\\lib\\site-packages\\numpy\\lib\\function_base.py:1594: UserWarning: Warning: converting a masked element to nan.\n",
      "  return interp_func(x, xp, fp, left, right)\n",
      "C:\\Users\\kyled\\AppData\\Local\\Temp\\ipykernel_170976\\2212921743.py:375: UserWarning: Interpolation point out of data bounds encountered\n",
      "  cape, _ = cape_func[cape_type](pressure, temperature, dew_point_temperature)\n"
     ]
    },
    {
     "name": "stdout",
     "output_type": "stream",
     "text": [
      "156 1244.435669962859\n"
     ]
    },
    {
     "name": "stderr",
     "output_type": "stream",
     "text": [
      "D:\\Anaconda3\\envs\\THESIS\\lib\\site-packages\\metpy\\calc\\thermo.py:1396: RuntimeWarning: divide by zero encountered in log\n",
      "  val = np.log(vapor_pressure / mpconsts.nounit.sat_pressure_0c)\n",
      "D:\\Anaconda3\\envs\\THESIS\\lib\\site-packages\\metpy\\calc\\thermo.py:1397: RuntimeWarning: invalid value encountered in divide\n",
      "  return mpconsts.nounit.zero_degc + 243.5 * val / (17.67 - val)\n"
     ]
    },
    {
     "name": "stdout",
     "output_type": "stream",
     "text": [
      "36.89529 -96.0242\n",
      "36.89621944807375 -96.02202151658605 \n",
      "\n"
     ]
    },
    {
     "name": "stderr",
     "output_type": "stream",
     "text": [
      "D:\\Anaconda3\\envs\\THESIS\\lib\\site-packages\\numpy\\lib\\function_base.py:1594: UserWarning: Warning: converting a masked element to nan.\n",
      "  return interp_func(x, xp, fp, left, right)\n",
      "C:\\Users\\kyled\\AppData\\Local\\Temp\\ipykernel_170976\\2212921743.py:375: UserWarning: Interpolation point out of data bounds encountered\n",
      "  cape, _ = cape_func[cape_type](pressure, temperature, dew_point_temperature)\n"
     ]
    },
    {
     "name": "stdout",
     "output_type": "stream",
     "text": [
      "157 481.2885782693951\n"
     ]
    },
    {
     "name": "stderr",
     "output_type": "stream",
     "text": [
      "D:\\Anaconda3\\envs\\THESIS\\lib\\site-packages\\metpy\\calc\\thermo.py:1396: RuntimeWarning: divide by zero encountered in log\n",
      "  val = np.log(vapor_pressure / mpconsts.nounit.sat_pressure_0c)\n",
      "D:\\Anaconda3\\envs\\THESIS\\lib\\site-packages\\metpy\\calc\\thermo.py:1397: RuntimeWarning: invalid value encountered in divide\n",
      "  return mpconsts.nounit.zero_degc + 243.5 * val / (17.67 - val)\n"
     ]
    },
    {
     "name": "stdout",
     "output_type": "stream",
     "text": [
      "37.21119 -95.32187\n",
      "37.20913478297639 -95.33826062403278 \n",
      "\n"
     ]
    },
    {
     "name": "stderr",
     "output_type": "stream",
     "text": [
      "D:\\Anaconda3\\envs\\THESIS\\lib\\site-packages\\numpy\\lib\\function_base.py:1594: UserWarning: Warning: converting a masked element to nan.\n",
      "  return interp_func(x, xp, fp, left, right)\n"
     ]
    },
    {
     "name": "stdout",
     "output_type": "stream",
     "text": [
      "158 660.4537486577116\n"
     ]
    },
    {
     "name": "stderr",
     "output_type": "stream",
     "text": [
      "D:\\Anaconda3\\envs\\THESIS\\lib\\site-packages\\metpy\\calc\\thermo.py:1396: RuntimeWarning: divide by zero encountered in log\n",
      "  val = np.log(vapor_pressure / mpconsts.nounit.sat_pressure_0c)\n",
      "D:\\Anaconda3\\envs\\THESIS\\lib\\site-packages\\metpy\\calc\\thermo.py:1397: RuntimeWarning: invalid value encountered in divide\n",
      "  return mpconsts.nounit.zero_degc + 243.5 * val / (17.67 - val)\n"
     ]
    },
    {
     "name": "stdout",
     "output_type": "stream",
     "text": [
      "37.31356 -94.9233\n",
      "37.30866681412151 -94.92824347787712 \n",
      "\n"
     ]
    },
    {
     "name": "stderr",
     "output_type": "stream",
     "text": [
      "D:\\Anaconda3\\envs\\THESIS\\lib\\site-packages\\numpy\\lib\\function_base.py:1594: UserWarning: Warning: converting a masked element to nan.\n",
      "  return interp_func(x, xp, fp, left, right)\n",
      "D:\\Anaconda3\\envs\\THESIS\\lib\\site-packages\\pint\\facets\\plain\\quantity.py:1097: RuntimeWarning: divide by zero encountered in double_scalars\n",
      "  magnitude = magnitude_op(self._magnitude, other_magnitude)\n",
      "C:\\Users\\kyled\\AppData\\Local\\Temp\\ipykernel_170976\\2212921743.py:375: UserWarning: Interpolation point out of data bounds encountered\n",
      "  cape, _ = cape_func[cape_type](pressure, temperature, dew_point_temperature)\n"
     ]
    },
    {
     "name": "stdout",
     "output_type": "stream",
     "text": [
      "159 965.5550613629218\n"
     ]
    },
    {
     "name": "stderr",
     "output_type": "stream",
     "text": [
      "D:\\Anaconda3\\envs\\THESIS\\lib\\site-packages\\metpy\\calc\\thermo.py:1396: RuntimeWarning: divide by zero encountered in log\n",
      "  val = np.log(vapor_pressure / mpconsts.nounit.sat_pressure_0c)\n",
      "D:\\Anaconda3\\envs\\THESIS\\lib\\site-packages\\metpy\\calc\\thermo.py:1397: RuntimeWarning: invalid value encountered in divide\n",
      "  return mpconsts.nounit.zero_degc + 243.5 * val / (17.67 - val)\n"
     ]
    },
    {
     "name": "stdout",
     "output_type": "stream",
     "text": [
      "37.08081 -95.6285\n",
      "37.079057286279074 -95.61260270050366 \n",
      "\n"
     ]
    },
    {
     "name": "stderr",
     "output_type": "stream",
     "text": [
      "D:\\Anaconda3\\envs\\THESIS\\lib\\site-packages\\numpy\\lib\\function_base.py:1594: UserWarning: Warning: converting a masked element to nan.\n",
      "  return interp_func(x, xp, fp, left, right)\n",
      "D:\\Anaconda3\\envs\\THESIS\\lib\\site-packages\\pint\\facets\\plain\\quantity.py:1097: RuntimeWarning: divide by zero encountered in double_scalars\n",
      "  magnitude = magnitude_op(self._magnitude, other_magnitude)\n",
      "C:\\Users\\kyled\\AppData\\Local\\Temp\\ipykernel_170976\\2212921743.py:375: UserWarning: Interpolation point out of data bounds encountered\n",
      "  cape, _ = cape_func[cape_type](pressure, temperature, dew_point_temperature)\n"
     ]
    },
    {
     "name": "stdout",
     "output_type": "stream",
     "text": [
      "160 828.3568285508873\n"
     ]
    },
    {
     "name": "stderr",
     "output_type": "stream",
     "text": [
      "D:\\Anaconda3\\envs\\THESIS\\lib\\site-packages\\metpy\\calc\\thermo.py:1396: RuntimeWarning: divide by zero encountered in log\n",
      "  val = np.log(vapor_pressure / mpconsts.nounit.sat_pressure_0c)\n",
      "D:\\Anaconda3\\envs\\THESIS\\lib\\site-packages\\metpy\\calc\\thermo.py:1397: RuntimeWarning: invalid value encountered in divide\n",
      "  return mpconsts.nounit.zero_degc + 243.5 * val / (17.67 - val)\n"
     ]
    },
    {
     "name": "stdout",
     "output_type": "stream",
     "text": [
      "37.17375 -94.5407\n",
      "37.164118995490846 -94.52698821692877 \n",
      "\n"
     ]
    },
    {
     "name": "stderr",
     "output_type": "stream",
     "text": [
      "D:\\Anaconda3\\envs\\THESIS\\lib\\site-packages\\numpy\\lib\\function_base.py:1594: UserWarning: Warning: converting a masked element to nan.\n",
      "  return interp_func(x, xp, fp, left, right)\n"
     ]
    },
    {
     "name": "stdout",
     "output_type": "stream",
     "text": [
      "161 1621.1158711893997\n"
     ]
    },
    {
     "name": "stderr",
     "output_type": "stream",
     "text": [
      "D:\\Anaconda3\\envs\\THESIS\\lib\\site-packages\\metpy\\calc\\thermo.py:1396: RuntimeWarning: divide by zero encountered in log\n",
      "  val = np.log(vapor_pressure / mpconsts.nounit.sat_pressure_0c)\n",
      "D:\\Anaconda3\\envs\\THESIS\\lib\\site-packages\\metpy\\calc\\thermo.py:1397: RuntimeWarning: invalid value encountered in divide\n",
      "  return mpconsts.nounit.zero_degc + 243.5 * val / (17.67 - val)\n"
     ]
    },
    {
     "name": "stdout",
     "output_type": "stream",
     "text": [
      "37.50037 -94.85633\n",
      "37.4958780901649 -94.8536233159897 \n",
      "\n"
     ]
    },
    {
     "name": "stderr",
     "output_type": "stream",
     "text": [
      "D:\\Anaconda3\\envs\\THESIS\\lib\\site-packages\\numpy\\lib\\function_base.py:1594: UserWarning: Warning: converting a masked element to nan.\n",
      "  return interp_func(x, xp, fp, left, right)\n",
      "D:\\Anaconda3\\envs\\THESIS\\lib\\site-packages\\pint\\facets\\plain\\quantity.py:1097: RuntimeWarning: divide by zero encountered in double_scalars\n",
      "  magnitude = magnitude_op(self._magnitude, other_magnitude)\n",
      "C:\\Users\\kyled\\AppData\\Local\\Temp\\ipykernel_170976\\2212921743.py:375: UserWarning: Interpolation point out of data bounds encountered\n",
      "  cape, _ = cape_func[cape_type](pressure, temperature, dew_point_temperature)\n"
     ]
    },
    {
     "name": "stdout",
     "output_type": "stream",
     "text": [
      "162 571.8877191160046\n"
     ]
    },
    {
     "name": "stderr",
     "output_type": "stream",
     "text": [
      "C:\\Users\\kyled\\AppData\\Local\\Temp\\ipykernel_170976\\2680908632.py:87: UserWarning: Relative humidity >120%, ensure proper units.\n",
      "  Td=dewpoint_from_specific_humidity(lev* units('hPa'),T* units('kelvin'),q)\n",
      "D:\\Anaconda3\\envs\\THESIS\\lib\\site-packages\\metpy\\calc\\thermo.py:1396: RuntimeWarning: divide by zero encountered in log\n",
      "  val = np.log(vapor_pressure / mpconsts.nounit.sat_pressure_0c)\n",
      "D:\\Anaconda3\\envs\\THESIS\\lib\\site-packages\\metpy\\calc\\thermo.py:1397: RuntimeWarning: invalid value encountered in divide\n",
      "  return mpconsts.nounit.zero_degc + 243.5 * val / (17.67 - val)\n"
     ]
    },
    {
     "name": "stdout",
     "output_type": "stream",
     "text": [
      "37.26793 -96.16805\n",
      "37.27580948430921 -96.18386288246643 \n",
      "\n"
     ]
    },
    {
     "name": "stderr",
     "output_type": "stream",
     "text": [
      "D:\\Anaconda3\\envs\\THESIS\\lib\\site-packages\\numpy\\lib\\function_base.py:1594: UserWarning: Warning: converting a masked element to nan.\n",
      "  return interp_func(x, xp, fp, left, right)\n",
      "C:\\Users\\kyled\\AppData\\Local\\Temp\\ipykernel_170976\\2212921743.py:375: UserWarning: Interpolation point out of data bounds encountered\n",
      "  cape, _ = cape_func[cape_type](pressure, temperature, dew_point_temperature)\n"
     ]
    },
    {
     "name": "stdout",
     "output_type": "stream",
     "text": [
      "163 10.913472904204443\n"
     ]
    },
    {
     "name": "stderr",
     "output_type": "stream",
     "text": [
      "D:\\Anaconda3\\envs\\THESIS\\lib\\site-packages\\metpy\\calc\\thermo.py:1396: RuntimeWarning: divide by zero encountered in log\n",
      "  val = np.log(vapor_pressure / mpconsts.nounit.sat_pressure_0c)\n",
      "D:\\Anaconda3\\envs\\THESIS\\lib\\site-packages\\metpy\\calc\\thermo.py:1397: RuntimeWarning: invalid value encountered in divide\n",
      "  return mpconsts.nounit.zero_degc + 243.5 * val / (17.67 - val)\n"
     ]
    },
    {
     "name": "stdout",
     "output_type": "stream",
     "text": [
      "37.22246 -95.8158\n",
      "37.21703071679035 -95.81230445757751 \n",
      "\n"
     ]
    },
    {
     "name": "stderr",
     "output_type": "stream",
     "text": [
      "D:\\Anaconda3\\envs\\THESIS\\lib\\site-packages\\numpy\\lib\\function_base.py:1594: UserWarning: Warning: converting a masked element to nan.\n",
      "  return interp_func(x, xp, fp, left, right)\n",
      "D:\\Anaconda3\\envs\\THESIS\\lib\\site-packages\\pint\\facets\\plain\\quantity.py:1097: RuntimeWarning: divide by zero encountered in double_scalars\n",
      "  magnitude = magnitude_op(self._magnitude, other_magnitude)\n",
      "C:\\Users\\kyled\\AppData\\Local\\Temp\\ipykernel_170976\\2212921743.py:375: UserWarning: Interpolation point out of data bounds encountered\n",
      "  cape, _ = cape_func[cape_type](pressure, temperature, dew_point_temperature)\n"
     ]
    },
    {
     "name": "stdout",
     "output_type": "stream",
     "text": [
      "164 0.0\n"
     ]
    },
    {
     "name": "stderr",
     "output_type": "stream",
     "text": [
      "D:\\Anaconda3\\envs\\THESIS\\lib\\site-packages\\metpy\\calc\\thermo.py:1396: RuntimeWarning: divide by zero encountered in log\n",
      "  val = np.log(vapor_pressure / mpconsts.nounit.sat_pressure_0c)\n",
      "D:\\Anaconda3\\envs\\THESIS\\lib\\site-packages\\metpy\\calc\\thermo.py:1397: RuntimeWarning: invalid value encountered in divide\n",
      "  return mpconsts.nounit.zero_degc + 243.5 * val / (17.67 - val)\n"
     ]
    },
    {
     "name": "stdout",
     "output_type": "stream",
     "text": [
      "37.37879 -94.9928\n",
      "37.39104395926332 -94.99327158530213 \n",
      "\n"
     ]
    },
    {
     "name": "stderr",
     "output_type": "stream",
     "text": [
      "D:\\Anaconda3\\envs\\THESIS\\lib\\site-packages\\numpy\\lib\\function_base.py:1594: UserWarning: Warning: converting a masked element to nan.\n",
      "  return interp_func(x, xp, fp, left, right)\n",
      "C:\\Users\\kyled\\AppData\\Local\\Temp\\ipykernel_170976\\2212921743.py:375: UserWarning: Interpolation point out of data bounds encountered\n",
      "  cape, _ = cape_func[cape_type](pressure, temperature, dew_point_temperature)\n"
     ]
    },
    {
     "name": "stdout",
     "output_type": "stream",
     "text": [
      "165 1240.953879230798\n"
     ]
    },
    {
     "name": "stderr",
     "output_type": "stream",
     "text": [
      "D:\\Anaconda3\\envs\\THESIS\\lib\\site-packages\\metpy\\calc\\thermo.py:1396: RuntimeWarning: divide by zero encountered in log\n",
      "  val = np.log(vapor_pressure / mpconsts.nounit.sat_pressure_0c)\n",
      "D:\\Anaconda3\\envs\\THESIS\\lib\\site-packages\\metpy\\calc\\thermo.py:1397: RuntimeWarning: invalid value encountered in divide\n",
      "  return mpconsts.nounit.zero_degc + 243.5 * val / (17.67 - val)\n"
     ]
    },
    {
     "name": "stdout",
     "output_type": "stream",
     "text": [
      "37.45539 -94.7292\n",
      "37.46573441242472 -94.7187173689781 \n",
      "\n"
     ]
    },
    {
     "name": "stderr",
     "output_type": "stream",
     "text": [
      "D:\\Anaconda3\\envs\\THESIS\\lib\\site-packages\\numpy\\lib\\function_base.py:1594: UserWarning: Warning: converting a masked element to nan.\n",
      "  return interp_func(x, xp, fp, left, right)\n",
      "D:\\Anaconda3\\envs\\THESIS\\lib\\site-packages\\pint\\facets\\plain\\quantity.py:1097: RuntimeWarning: divide by zero encountered in double_scalars\n",
      "  magnitude = magnitude_op(self._magnitude, other_magnitude)\n",
      "C:\\Users\\kyled\\AppData\\Local\\Temp\\ipykernel_170976\\2212921743.py:375: UserWarning: Interpolation point out of data bounds encountered\n",
      "  cape, _ = cape_func[cape_type](pressure, temperature, dew_point_temperature)\n"
     ]
    },
    {
     "name": "stdout",
     "output_type": "stream",
     "text": [
      "166 1079.8737222231262\n"
     ]
    },
    {
     "name": "stderr",
     "output_type": "stream",
     "text": [
      "D:\\Anaconda3\\envs\\THESIS\\lib\\site-packages\\metpy\\calc\\thermo.py:1396: RuntimeWarning: divide by zero encountered in log\n",
      "  val = np.log(vapor_pressure / mpconsts.nounit.sat_pressure_0c)\n",
      "D:\\Anaconda3\\envs\\THESIS\\lib\\site-packages\\metpy\\calc\\thermo.py:1397: RuntimeWarning: invalid value encountered in divide\n",
      "  return mpconsts.nounit.zero_degc + 243.5 * val / (17.67 - val)\n"
     ]
    },
    {
     "name": "stdout",
     "output_type": "stream",
     "text": [
      "36.43602 -95.7742\n",
      "36.4341185051204 -95.76311201841156 \n",
      "\n"
     ]
    },
    {
     "name": "stderr",
     "output_type": "stream",
     "text": [
      "D:\\Anaconda3\\envs\\THESIS\\lib\\site-packages\\numpy\\lib\\function_base.py:1594: UserWarning: Warning: converting a masked element to nan.\n",
      "  return interp_func(x, xp, fp, left, right)\n"
     ]
    },
    {
     "name": "stdout",
     "output_type": "stream",
     "text": [
      "167 1181.4388020801346\n"
     ]
    },
    {
     "name": "stderr",
     "output_type": "stream",
     "text": [
      "D:\\Anaconda3\\envs\\THESIS\\lib\\site-packages\\metpy\\calc\\thermo.py:1396: RuntimeWarning: divide by zero encountered in log\n",
      "  val = np.log(vapor_pressure / mpconsts.nounit.sat_pressure_0c)\n",
      "D:\\Anaconda3\\envs\\THESIS\\lib\\site-packages\\metpy\\calc\\thermo.py:1397: RuntimeWarning: invalid value encountered in divide\n",
      "  return mpconsts.nounit.zero_degc + 243.5 * val / (17.67 - val)\n"
     ]
    },
    {
     "name": "stdout",
     "output_type": "stream",
     "text": [
      "36.75804 -94.85348\n",
      "36.76719042312943 -94.8461040194914 \n",
      "\n"
     ]
    },
    {
     "name": "stderr",
     "output_type": "stream",
     "text": [
      "D:\\Anaconda3\\envs\\THESIS\\lib\\site-packages\\numpy\\lib\\function_base.py:1594: UserWarning: Warning: converting a masked element to nan.\n",
      "  return interp_func(x, xp, fp, left, right)\n"
     ]
    },
    {
     "name": "stdout",
     "output_type": "stream",
     "text": [
      "168 889.3022559695584\n"
     ]
    },
    {
     "name": "stderr",
     "output_type": "stream",
     "text": [
      "D:\\Anaconda3\\envs\\THESIS\\lib\\site-packages\\metpy\\calc\\thermo.py:1396: RuntimeWarning: divide by zero encountered in log\n",
      "  val = np.log(vapor_pressure / mpconsts.nounit.sat_pressure_0c)\n",
      "D:\\Anaconda3\\envs\\THESIS\\lib\\site-packages\\metpy\\calc\\thermo.py:1397: RuntimeWarning: invalid value encountered in divide\n",
      "  return mpconsts.nounit.zero_degc + 243.5 * val / (17.67 - val)\n"
     ]
    },
    {
     "name": "stdout",
     "output_type": "stream",
     "text": [
      "36.11832 -96.06555\n",
      "36.11483663248855 -96.07092290587298 \n",
      "\n"
     ]
    },
    {
     "name": "stderr",
     "output_type": "stream",
     "text": [
      "D:\\Anaconda3\\envs\\THESIS\\lib\\site-packages\\numpy\\lib\\function_base.py:1594: UserWarning: Warning: converting a masked element to nan.\n",
      "  return interp_func(x, xp, fp, left, right)\n"
     ]
    },
    {
     "name": "stdout",
     "output_type": "stream",
     "text": [
      "169 1586.4969649955826\n"
     ]
    },
    {
     "name": "stderr",
     "output_type": "stream",
     "text": [
      "D:\\Anaconda3\\envs\\THESIS\\lib\\site-packages\\metpy\\calc\\thermo.py:1396: RuntimeWarning: divide by zero encountered in log\n",
      "  val = np.log(vapor_pressure / mpconsts.nounit.sat_pressure_0c)\n",
      "D:\\Anaconda3\\envs\\THESIS\\lib\\site-packages\\metpy\\calc\\thermo.py:1397: RuntimeWarning: invalid value encountered in divide\n",
      "  return mpconsts.nounit.zero_degc + 243.5 * val / (17.67 - val)\n"
     ]
    },
    {
     "name": "stdout",
     "output_type": "stream",
     "text": [
      "36.56763 -95.25768\n",
      "36.560154631414875 -95.25650323748971 \n",
      "\n"
     ]
    },
    {
     "name": "stderr",
     "output_type": "stream",
     "text": [
      "D:\\Anaconda3\\envs\\THESIS\\lib\\site-packages\\numpy\\lib\\function_base.py:1594: UserWarning: Warning: converting a masked element to nan.\n",
      "  return interp_func(x, xp, fp, left, right)\n"
     ]
    },
    {
     "name": "stdout",
     "output_type": "stream",
     "text": [
      "170 1242.8905913824876\n"
     ]
    },
    {
     "name": "stderr",
     "output_type": "stream",
     "text": [
      "D:\\Anaconda3\\envs\\THESIS\\lib\\site-packages\\metpy\\calc\\thermo.py:1396: RuntimeWarning: divide by zero encountered in log\n",
      "  val = np.log(vapor_pressure / mpconsts.nounit.sat_pressure_0c)\n",
      "D:\\Anaconda3\\envs\\THESIS\\lib\\site-packages\\metpy\\calc\\thermo.py:1397: RuntimeWarning: invalid value encountered in divide\n",
      "  return mpconsts.nounit.zero_degc + 243.5 * val / (17.67 - val)\n"
     ]
    },
    {
     "name": "stdout",
     "output_type": "stream",
     "text": [
      "36.95881 -95.36699\n",
      "36.96709319329172 -95.3791401589973 \n",
      "\n"
     ]
    },
    {
     "name": "stderr",
     "output_type": "stream",
     "text": [
      "D:\\Anaconda3\\envs\\THESIS\\lib\\site-packages\\numpy\\lib\\function_base.py:1594: UserWarning: Warning: converting a masked element to nan.\n",
      "  return interp_func(x, xp, fp, left, right)\n",
      "C:\\Users\\kyled\\AppData\\Local\\Temp\\ipykernel_170976\\2212921743.py:375: UserWarning: Interpolation point out of data bounds encountered\n",
      "  cape, _ = cape_func[cape_type](pressure, temperature, dew_point_temperature)\n"
     ]
    },
    {
     "name": "stdout",
     "output_type": "stream",
     "text": [
      "171 1359.9604837010336\n"
     ]
    },
    {
     "name": "stderr",
     "output_type": "stream",
     "text": [
      "D:\\Anaconda3\\envs\\THESIS\\lib\\site-packages\\metpy\\calc\\thermo.py:1396: RuntimeWarning: divide by zero encountered in log\n",
      "  val = np.log(vapor_pressure / mpconsts.nounit.sat_pressure_0c)\n",
      "D:\\Anaconda3\\envs\\THESIS\\lib\\site-packages\\metpy\\calc\\thermo.py:1397: RuntimeWarning: invalid value encountered in divide\n",
      "  return mpconsts.nounit.zero_degc + 243.5 * val / (17.67 - val)\n"
     ]
    },
    {
     "name": "stdout",
     "output_type": "stream",
     "text": [
      "37.20056 -95.0307\n",
      "37.20303220364866 -95.03357714122069 \n",
      "\n"
     ]
    },
    {
     "name": "stderr",
     "output_type": "stream",
     "text": [
      "D:\\Anaconda3\\envs\\THESIS\\lib\\site-packages\\numpy\\lib\\function_base.py:1594: UserWarning: Warning: converting a masked element to nan.\n",
      "  return interp_func(x, xp, fp, left, right)\n",
      "D:\\Anaconda3\\envs\\THESIS\\lib\\site-packages\\pint\\facets\\plain\\quantity.py:1097: RuntimeWarning: divide by zero encountered in double_scalars\n",
      "  magnitude = magnitude_op(self._magnitude, other_magnitude)\n"
     ]
    },
    {
     "name": "stdout",
     "output_type": "stream",
     "text": [
      "172 1101.5712788746764\n"
     ]
    },
    {
     "name": "stderr",
     "output_type": "stream",
     "text": [
      "D:\\Anaconda3\\envs\\THESIS\\lib\\site-packages\\metpy\\calc\\thermo.py:1396: RuntimeWarning: divide by zero encountered in log\n",
      "  val = np.log(vapor_pressure / mpconsts.nounit.sat_pressure_0c)\n",
      "D:\\Anaconda3\\envs\\THESIS\\lib\\site-packages\\metpy\\calc\\thermo.py:1397: RuntimeWarning: invalid value encountered in divide\n",
      "  return mpconsts.nounit.zero_degc + 243.5 * val / (17.67 - val)\n"
     ]
    },
    {
     "name": "stdout",
     "output_type": "stream",
     "text": [
      "37.31424 -94.37048\n",
      "37.32229618243905 -94.38481370670041 \n",
      "\n"
     ]
    },
    {
     "name": "stderr",
     "output_type": "stream",
     "text": [
      "D:\\Anaconda3\\envs\\THESIS\\lib\\site-packages\\numpy\\lib\\function_base.py:1594: UserWarning: Warning: converting a masked element to nan.\n",
      "  return interp_func(x, xp, fp, left, right)\n",
      "C:\\Users\\kyled\\AppData\\Local\\Temp\\ipykernel_170976\\2212921743.py:375: UserWarning: Interpolation point out of data bounds encountered\n",
      "  cape, _ = cape_func[cape_type](pressure, temperature, dew_point_temperature)\n"
     ]
    },
    {
     "name": "stdout",
     "output_type": "stream",
     "text": [
      "173 687.9643869820567\n"
     ]
    },
    {
     "name": "stderr",
     "output_type": "stream",
     "text": [
      "C:\\Users\\kyled\\AppData\\Local\\Temp\\ipykernel_170976\\2680908632.py:87: UserWarning: Relative humidity >120%, ensure proper units.\n",
      "  Td=dewpoint_from_specific_humidity(lev* units('hPa'),T* units('kelvin'),q)\n",
      "D:\\Anaconda3\\envs\\THESIS\\lib\\site-packages\\metpy\\calc\\thermo.py:1396: RuntimeWarning: divide by zero encountered in log\n",
      "  val = np.log(vapor_pressure / mpconsts.nounit.sat_pressure_0c)\n",
      "D:\\Anaconda3\\envs\\THESIS\\lib\\site-packages\\metpy\\calc\\thermo.py:1397: RuntimeWarning: invalid value encountered in divide\n",
      "  return mpconsts.nounit.zero_degc + 243.5 * val / (17.67 - val)\n"
     ]
    },
    {
     "name": "stdout",
     "output_type": "stream",
     "text": [
      "36.44152 -95.10047\n",
      "36.448933111381116 -95.09222993695022 \n",
      "\n"
     ]
    },
    {
     "name": "stderr",
     "output_type": "stream",
     "text": [
      "D:\\Anaconda3\\envs\\THESIS\\lib\\site-packages\\numpy\\lib\\function_base.py:1594: UserWarning: Warning: converting a masked element to nan.\n",
      "  return interp_func(x, xp, fp, left, right)\n"
     ]
    },
    {
     "name": "stdout",
     "output_type": "stream",
     "text": [
      "174 3747.4915506753237\n"
     ]
    },
    {
     "name": "stderr",
     "output_type": "stream",
     "text": [
      "C:\\Users\\kyled\\AppData\\Local\\Temp\\ipykernel_170976\\2680908632.py:87: UserWarning: Relative humidity >120%, ensure proper units.\n",
      "  Td=dewpoint_from_specific_humidity(lev* units('hPa'),T* units('kelvin'),q)\n",
      "D:\\Anaconda3\\envs\\THESIS\\lib\\site-packages\\metpy\\calc\\thermo.py:1396: RuntimeWarning: divide by zero encountered in log\n",
      "  val = np.log(vapor_pressure / mpconsts.nounit.sat_pressure_0c)\n",
      "D:\\Anaconda3\\envs\\THESIS\\lib\\site-packages\\metpy\\calc\\thermo.py:1397: RuntimeWarning: invalid value encountered in divide\n",
      "  return mpconsts.nounit.zero_degc + 243.5 * val / (17.67 - val)\n"
     ]
    },
    {
     "name": "stdout",
     "output_type": "stream",
     "text": [
      "33.72352 -99.15795\n",
      "33.71509641764114 -99.15417317369622 \n",
      "\n"
     ]
    },
    {
     "name": "stderr",
     "output_type": "stream",
     "text": [
      "D:\\Anaconda3\\envs\\THESIS\\lib\\site-packages\\numpy\\lib\\function_base.py:1594: UserWarning: Warning: converting a masked element to nan.\n",
      "  return interp_func(x, xp, fp, left, right)\n"
     ]
    },
    {
     "name": "stdout",
     "output_type": "stream",
     "text": [
      "175 4386.859936891672\n"
     ]
    },
    {
     "name": "stderr",
     "output_type": "stream",
     "text": [
      "C:\\Users\\kyled\\AppData\\Local\\Temp\\ipykernel_170976\\2680908632.py:87: UserWarning: Relative humidity >120%, ensure proper units.\n",
      "  Td=dewpoint_from_specific_humidity(lev* units('hPa'),T* units('kelvin'),q)\n",
      "D:\\Anaconda3\\envs\\THESIS\\lib\\site-packages\\metpy\\calc\\thermo.py:1396: RuntimeWarning: divide by zero encountered in log\n",
      "  val = np.log(vapor_pressure / mpconsts.nounit.sat_pressure_0c)\n",
      "D:\\Anaconda3\\envs\\THESIS\\lib\\site-packages\\metpy\\calc\\thermo.py:1397: RuntimeWarning: invalid value encountered in divide\n",
      "  return mpconsts.nounit.zero_degc + 243.5 * val / (17.67 - val)\n"
     ]
    },
    {
     "name": "stdout",
     "output_type": "stream",
     "text": [
      "37.67007 -95.06171\n",
      "37.6621459618919 -95.05211939392495 \n",
      "\n"
     ]
    },
    {
     "name": "stderr",
     "output_type": "stream",
     "text": [
      "D:\\Anaconda3\\envs\\THESIS\\lib\\site-packages\\numpy\\lib\\function_base.py:1594: UserWarning: Warning: converting a masked element to nan.\n",
      "  return interp_func(x, xp, fp, left, right)\n"
     ]
    },
    {
     "name": "stdout",
     "output_type": "stream",
     "text": [
      "176 1192.1275434638558\n"
     ]
    },
    {
     "name": "stderr",
     "output_type": "stream",
     "text": [
      "C:\\Users\\kyled\\AppData\\Local\\Temp\\ipykernel_170976\\2680908632.py:87: UserWarning: Relative humidity >120%, ensure proper units.\n",
      "  Td=dewpoint_from_specific_humidity(lev* units('hPa'),T* units('kelvin'),q)\n",
      "D:\\Anaconda3\\envs\\THESIS\\lib\\site-packages\\metpy\\calc\\thermo.py:1396: RuntimeWarning: divide by zero encountered in log\n",
      "  val = np.log(vapor_pressure / mpconsts.nounit.sat_pressure_0c)\n",
      "D:\\Anaconda3\\envs\\THESIS\\lib\\site-packages\\metpy\\calc\\thermo.py:1397: RuntimeWarning: invalid value encountered in divide\n",
      "  return mpconsts.nounit.zero_degc + 243.5 * val / (17.67 - val)\n"
     ]
    },
    {
     "name": "stdout",
     "output_type": "stream",
     "text": [
      "36.98091 -95.23215\n",
      "36.991489663507394 -95.24333573815295 \n",
      "\n"
     ]
    },
    {
     "name": "stderr",
     "output_type": "stream",
     "text": [
      "D:\\Anaconda3\\envs\\THESIS\\lib\\site-packages\\numpy\\lib\\function_base.py:1594: UserWarning: Warning: converting a masked element to nan.\n",
      "  return interp_func(x, xp, fp, left, right)\n"
     ]
    },
    {
     "name": "stdout",
     "output_type": "stream",
     "text": [
      "177 1073.9558437758508\n"
     ]
    },
    {
     "name": "stderr",
     "output_type": "stream",
     "text": [
      "C:\\Users\\kyled\\AppData\\Local\\Temp\\ipykernel_170976\\2680908632.py:87: UserWarning: Relative humidity >120%, ensure proper units.\n",
      "  Td=dewpoint_from_specific_humidity(lev* units('hPa'),T* units('kelvin'),q)\n",
      "D:\\Anaconda3\\envs\\THESIS\\lib\\site-packages\\metpy\\calc\\thermo.py:1396: RuntimeWarning: divide by zero encountered in log\n",
      "  val = np.log(vapor_pressure / mpconsts.nounit.sat_pressure_0c)\n",
      "D:\\Anaconda3\\envs\\THESIS\\lib\\site-packages\\metpy\\calc\\thermo.py:1397: RuntimeWarning: invalid value encountered in divide\n",
      "  return mpconsts.nounit.zero_degc + 243.5 * val / (17.67 - val)\n"
     ]
    },
    {
     "name": "stdout",
     "output_type": "stream",
     "text": [
      "37.57376 -95.41248\n",
      "37.56094691586818 -95.3959108535563 \n",
      "\n"
     ]
    },
    {
     "name": "stderr",
     "output_type": "stream",
     "text": [
      "D:\\Anaconda3\\envs\\THESIS\\lib\\site-packages\\numpy\\lib\\function_base.py:1594: UserWarning: Warning: converting a masked element to nan.\n",
      "  return interp_func(x, xp, fp, left, right)\n"
     ]
    },
    {
     "name": "stdout",
     "output_type": "stream",
     "text": [
      "178 242.90275754215554\n"
     ]
    },
    {
     "name": "stderr",
     "output_type": "stream",
     "text": [
      "C:\\Users\\kyled\\AppData\\Local\\Temp\\ipykernel_170976\\2680908632.py:87: UserWarning: Relative humidity >120%, ensure proper units.\n",
      "  Td=dewpoint_from_specific_humidity(lev* units('hPa'),T* units('kelvin'),q)\n",
      "D:\\Anaconda3\\envs\\THESIS\\lib\\site-packages\\metpy\\calc\\thermo.py:1396: RuntimeWarning: divide by zero encountered in log\n",
      "  val = np.log(vapor_pressure / mpconsts.nounit.sat_pressure_0c)\n",
      "D:\\Anaconda3\\envs\\THESIS\\lib\\site-packages\\metpy\\calc\\thermo.py:1397: RuntimeWarning: invalid value encountered in divide\n",
      "  return mpconsts.nounit.zero_degc + 243.5 * val / (17.67 - val)\n"
     ]
    },
    {
     "name": "stdout",
     "output_type": "stream",
     "text": [
      "37.7985 -95.28263\n",
      "37.80176541291927 -95.28648818038818 \n",
      "\n"
     ]
    },
    {
     "name": "stderr",
     "output_type": "stream",
     "text": [
      "D:\\Anaconda3\\envs\\THESIS\\lib\\site-packages\\numpy\\lib\\function_base.py:1594: UserWarning: Warning: converting a masked element to nan.\n",
      "  return interp_func(x, xp, fp, left, right)\n"
     ]
    },
    {
     "name": "stdout",
     "output_type": "stream",
     "text": [
      "179 0.0\n"
     ]
    },
    {
     "name": "stderr",
     "output_type": "stream",
     "text": [
      "D:\\Anaconda3\\envs\\THESIS\\lib\\site-packages\\metpy\\calc\\thermo.py:1396: RuntimeWarning: divide by zero encountered in log\n",
      "  val = np.log(vapor_pressure / mpconsts.nounit.sat_pressure_0c)\n",
      "D:\\Anaconda3\\envs\\THESIS\\lib\\site-packages\\metpy\\calc\\thermo.py:1397: RuntimeWarning: invalid value encountered in divide\n",
      "  return mpconsts.nounit.zero_degc + 243.5 * val / (17.67 - val)\n"
     ]
    },
    {
     "name": "stdout",
     "output_type": "stream",
     "text": [
      "37.99146 -92.24977\n",
      "38.00226384495872 -92.26497473041024 \n",
      "\n"
     ]
    },
    {
     "name": "stderr",
     "output_type": "stream",
     "text": [
      "D:\\Anaconda3\\envs\\THESIS\\lib\\site-packages\\numpy\\lib\\function_base.py:1594: UserWarning: Warning: converting a masked element to nan.\n",
      "  return interp_func(x, xp, fp, left, right)\n"
     ]
    },
    {
     "name": "stdout",
     "output_type": "stream",
     "text": [
      "180 1939.1036391734926\n"
     ]
    },
    {
     "name": "stderr",
     "output_type": "stream",
     "text": [
      "D:\\Anaconda3\\envs\\THESIS\\lib\\site-packages\\metpy\\calc\\thermo.py:1396: RuntimeWarning: divide by zero encountered in log\n",
      "  val = np.log(vapor_pressure / mpconsts.nounit.sat_pressure_0c)\n",
      "D:\\Anaconda3\\envs\\THESIS\\lib\\site-packages\\metpy\\calc\\thermo.py:1397: RuntimeWarning: invalid value encountered in divide\n",
      "  return mpconsts.nounit.zero_degc + 243.5 * val / (17.67 - val)\n"
     ]
    },
    {
     "name": "stdout",
     "output_type": "stream",
     "text": [
      "37.25951 -94.3425\n",
      "37.2674645287624 -94.3532341823747 \n",
      "\n"
     ]
    },
    {
     "name": "stderr",
     "output_type": "stream",
     "text": [
      "D:\\Anaconda3\\envs\\THESIS\\lib\\site-packages\\numpy\\lib\\function_base.py:1594: UserWarning: Warning: converting a masked element to nan.\n",
      "  return interp_func(x, xp, fp, left, right)\n"
     ]
    },
    {
     "name": "stdout",
     "output_type": "stream",
     "text": [
      "181 1545.0795709825913\n"
     ]
    },
    {
     "name": "stderr",
     "output_type": "stream",
     "text": [
      "D:\\Anaconda3\\envs\\THESIS\\lib\\site-packages\\metpy\\calc\\thermo.py:1396: RuntimeWarning: divide by zero encountered in log\n",
      "  val = np.log(vapor_pressure / mpconsts.nounit.sat_pressure_0c)\n",
      "D:\\Anaconda3\\envs\\THESIS\\lib\\site-packages\\metpy\\calc\\thermo.py:1397: RuntimeWarning: invalid value encountered in divide\n",
      "  return mpconsts.nounit.zero_degc + 243.5 * val / (17.67 - val)\n"
     ]
    },
    {
     "name": "stdout",
     "output_type": "stream",
     "text": [
      "37.39224 -93.83365\n",
      "37.38727720401412 -93.83850211402068 \n",
      "\n"
     ]
    },
    {
     "name": "stderr",
     "output_type": "stream",
     "text": [
      "D:\\Anaconda3\\envs\\THESIS\\lib\\site-packages\\numpy\\lib\\function_base.py:1594: UserWarning: Warning: converting a masked element to nan.\n",
      "  return interp_func(x, xp, fp, left, right)\n"
     ]
    },
    {
     "name": "stdout",
     "output_type": "stream",
     "text": [
      "182 2011.7540432232067\n"
     ]
    },
    {
     "name": "stderr",
     "output_type": "stream",
     "text": [
      "D:\\Anaconda3\\envs\\THESIS\\lib\\site-packages\\metpy\\calc\\thermo.py:1396: RuntimeWarning: divide by zero encountered in log\n",
      "  val = np.log(vapor_pressure / mpconsts.nounit.sat_pressure_0c)\n",
      "D:\\Anaconda3\\envs\\THESIS\\lib\\site-packages\\metpy\\calc\\thermo.py:1397: RuntimeWarning: invalid value encountered in divide\n",
      "  return mpconsts.nounit.zero_degc + 243.5 * val / (17.67 - val)\n"
     ]
    },
    {
     "name": "stdout",
     "output_type": "stream",
     "text": [
      "37.55336 -93.26966\n",
      "37.55746406791281 -93.28501623726021 \n",
      "\n"
     ]
    },
    {
     "name": "stderr",
     "output_type": "stream",
     "text": [
      "D:\\Anaconda3\\envs\\THESIS\\lib\\site-packages\\numpy\\lib\\function_base.py:1594: UserWarning: Warning: converting a masked element to nan.\n",
      "  return interp_func(x, xp, fp, left, right)\n"
     ]
    },
    {
     "name": "stdout",
     "output_type": "stream",
     "text": [
      "183 2195.6602690980876\n"
     ]
    },
    {
     "name": "stderr",
     "output_type": "stream",
     "text": [
      "D:\\Anaconda3\\envs\\THESIS\\lib\\site-packages\\metpy\\calc\\thermo.py:1396: RuntimeWarning: divide by zero encountered in log\n",
      "  val = np.log(vapor_pressure / mpconsts.nounit.sat_pressure_0c)\n",
      "D:\\Anaconda3\\envs\\THESIS\\lib\\site-packages\\metpy\\calc\\thermo.py:1397: RuntimeWarning: invalid value encountered in divide\n",
      "  return mpconsts.nounit.zero_degc + 243.5 * val / (17.67 - val)\n"
     ]
    },
    {
     "name": "stdout",
     "output_type": "stream",
     "text": [
      "37.81265 -92.85278\n",
      "37.811346202719946 -92.86005655278882 \n",
      "\n"
     ]
    },
    {
     "name": "stderr",
     "output_type": "stream",
     "text": [
      "D:\\Anaconda3\\envs\\THESIS\\lib\\site-packages\\numpy\\lib\\function_base.py:1594: UserWarning: Warning: converting a masked element to nan.\n",
      "  return interp_func(x, xp, fp, left, right)\n"
     ]
    },
    {
     "name": "stdout",
     "output_type": "stream",
     "text": [
      "184 1952.4680146958297\n"
     ]
    },
    {
     "name": "stderr",
     "output_type": "stream",
     "text": [
      "C:\\Users\\kyled\\AppData\\Local\\Temp\\ipykernel_170976\\2680908632.py:87: UserWarning: Relative humidity >120%, ensure proper units.\n",
      "  Td=dewpoint_from_specific_humidity(lev* units('hPa'),T* units('kelvin'),q)\n",
      "D:\\Anaconda3\\envs\\THESIS\\lib\\site-packages\\metpy\\calc\\thermo.py:1396: RuntimeWarning: divide by zero encountered in log\n",
      "  val = np.log(vapor_pressure / mpconsts.nounit.sat_pressure_0c)\n",
      "D:\\Anaconda3\\envs\\THESIS\\lib\\site-packages\\metpy\\calc\\thermo.py:1397: RuntimeWarning: invalid value encountered in divide\n",
      "  return mpconsts.nounit.zero_degc + 243.5 * val / (17.67 - val)\n"
     ]
    },
    {
     "name": "stdout",
     "output_type": "stream",
     "text": [
      "34.23811 -98.52568\n",
      "34.2338712396506 -98.51451387759289 \n",
      "\n"
     ]
    },
    {
     "name": "stderr",
     "output_type": "stream",
     "text": [
      "D:\\Anaconda3\\envs\\THESIS\\lib\\site-packages\\numpy\\lib\\function_base.py:1594: UserWarning: Warning: converting a masked element to nan.\n",
      "  return interp_func(x, xp, fp, left, right)\n",
      "D:\\Anaconda3\\envs\\THESIS\\lib\\site-packages\\sharppy\\sharptab\\params.py:1310: RuntimeWarning: invalid value encountered in double_scalars\n",
      "  return (tv2 - tv1) / (z2 - z1) * -1000.\n"
     ]
    },
    {
     "name": "stdout",
     "output_type": "stream",
     "text": [
      "185 4106.715394863063\n"
     ]
    },
    {
     "name": "stderr",
     "output_type": "stream",
     "text": [
      "C:\\Users\\kyled\\AppData\\Local\\Temp\\ipykernel_170976\\2680908632.py:87: UserWarning: Relative humidity >120%, ensure proper units.\n",
      "  Td=dewpoint_from_specific_humidity(lev* units('hPa'),T* units('kelvin'),q)\n",
      "D:\\Anaconda3\\envs\\THESIS\\lib\\site-packages\\metpy\\calc\\thermo.py:1396: RuntimeWarning: divide by zero encountered in log\n",
      "  val = np.log(vapor_pressure / mpconsts.nounit.sat_pressure_0c)\n",
      "D:\\Anaconda3\\envs\\THESIS\\lib\\site-packages\\metpy\\calc\\thermo.py:1397: RuntimeWarning: invalid value encountered in divide\n",
      "  return mpconsts.nounit.zero_degc + 243.5 * val / (17.67 - val)\n"
     ]
    },
    {
     "name": "stdout",
     "output_type": "stream",
     "text": [
      "34.15138 -98.6646\n",
      "34.15156441487289 -98.67597118745726 \n",
      "\n"
     ]
    },
    {
     "name": "stderr",
     "output_type": "stream",
     "text": [
      "D:\\Anaconda3\\envs\\THESIS\\lib\\site-packages\\numpy\\lib\\function_base.py:1594: UserWarning: Warning: converting a masked element to nan.\n",
      "  return interp_func(x, xp, fp, left, right)\n",
      "D:\\Anaconda3\\envs\\THESIS\\lib\\site-packages\\sharppy\\sharptab\\params.py:1310: RuntimeWarning: invalid value encountered in double_scalars\n",
      "  return (tv2 - tv1) / (z2 - z1) * -1000.\n"
     ]
    },
    {
     "name": "stdout",
     "output_type": "stream",
     "text": [
      "186 4048.752911324659\n"
     ]
    },
    {
     "name": "stderr",
     "output_type": "stream",
     "text": [
      "C:\\Users\\kyled\\AppData\\Local\\Temp\\ipykernel_170976\\2680908632.py:87: UserWarning: Relative humidity >120%, ensure proper units.\n",
      "  Td=dewpoint_from_specific_humidity(lev* units('hPa'),T* units('kelvin'),q)\n",
      "D:\\Anaconda3\\envs\\THESIS\\lib\\site-packages\\metpy\\calc\\thermo.py:1396: RuntimeWarning: divide by zero encountered in log\n",
      "  val = np.log(vapor_pressure / mpconsts.nounit.sat_pressure_0c)\n",
      "D:\\Anaconda3\\envs\\THESIS\\lib\\site-packages\\metpy\\calc\\thermo.py:1397: RuntimeWarning: invalid value encountered in divide\n",
      "  return mpconsts.nounit.zero_degc + 243.5 * val / (17.67 - val)\n"
     ]
    },
    {
     "name": "stdout",
     "output_type": "stream",
     "text": [
      "34.47992 -98.2308\n",
      "34.47833275562009 -98.22393397518044 \n",
      "\n"
     ]
    },
    {
     "name": "stderr",
     "output_type": "stream",
     "text": [
      "D:\\Anaconda3\\envs\\THESIS\\lib\\site-packages\\numpy\\lib\\function_base.py:1594: UserWarning: Warning: converting a masked element to nan.\n",
      "  return interp_func(x, xp, fp, left, right)\n",
      "D:\\Anaconda3\\envs\\THESIS\\lib\\site-packages\\sharppy\\sharptab\\params.py:1310: RuntimeWarning: invalid value encountered in double_scalars\n",
      "  return (tv2 - tv1) / (z2 - z1) * -1000.\n"
     ]
    },
    {
     "name": "stdout",
     "output_type": "stream",
     "text": [
      "187 4096.448943266864\n"
     ]
    },
    {
     "name": "stderr",
     "output_type": "stream",
     "text": [
      "C:\\Users\\kyled\\AppData\\Local\\Temp\\ipykernel_170976\\2680908632.py:87: UserWarning: Relative humidity >120%, ensure proper units.\n",
      "  Td=dewpoint_from_specific_humidity(lev* units('hPa'),T* units('kelvin'),q)\n",
      "D:\\Anaconda3\\envs\\THESIS\\lib\\site-packages\\metpy\\calc\\thermo.py:1396: RuntimeWarning: divide by zero encountered in log\n",
      "  val = np.log(vapor_pressure / mpconsts.nounit.sat_pressure_0c)\n",
      "D:\\Anaconda3\\envs\\THESIS\\lib\\site-packages\\metpy\\calc\\thermo.py:1397: RuntimeWarning: invalid value encountered in divide\n",
      "  return mpconsts.nounit.zero_degc + 243.5 * val / (17.67 - val)\n"
     ]
    },
    {
     "name": "stdout",
     "output_type": "stream",
     "text": [
      "34.82664 -97.8653\n",
      "34.830027367845396 -97.86649301796223 \n",
      "\n"
     ]
    },
    {
     "name": "stderr",
     "output_type": "stream",
     "text": [
      "D:\\Anaconda3\\envs\\THESIS\\lib\\site-packages\\numpy\\lib\\function_base.py:1594: UserWarning: Warning: converting a masked element to nan.\n",
      "  return interp_func(x, xp, fp, left, right)\n",
      "D:\\Anaconda3\\envs\\THESIS\\lib\\site-packages\\sharppy\\sharptab\\params.py:1310: RuntimeWarning: invalid value encountered in double_scalars\n",
      "  return (tv2 - tv1) / (z2 - z1) * -1000.\n"
     ]
    },
    {
     "name": "stdout",
     "output_type": "stream",
     "text": [
      "188 4808.101698513297\n"
     ]
    },
    {
     "name": "stderr",
     "output_type": "stream",
     "text": [
      "C:\\Users\\kyled\\AppData\\Local\\Temp\\ipykernel_170976\\2680908632.py:87: UserWarning: Relative humidity >120%, ensure proper units.\n",
      "  Td=dewpoint_from_specific_humidity(lev* units('hPa'),T* units('kelvin'),q)\n",
      "D:\\Anaconda3\\envs\\THESIS\\lib\\site-packages\\metpy\\calc\\thermo.py:1396: RuntimeWarning: divide by zero encountered in log\n",
      "  val = np.log(vapor_pressure / mpconsts.nounit.sat_pressure_0c)\n",
      "D:\\Anaconda3\\envs\\THESIS\\lib\\site-packages\\metpy\\calc\\thermo.py:1397: RuntimeWarning: invalid value encountered in divide\n",
      "  return mpconsts.nounit.zero_degc + 243.5 * val / (17.67 - val)\n"
     ]
    },
    {
     "name": "stdout",
     "output_type": "stream",
     "text": [
      "34.43922 -98.5109\n",
      "34.44912969891825 -98.51739168385501 \n",
      "\n"
     ]
    },
    {
     "name": "stderr",
     "output_type": "stream",
     "text": [
      "D:\\Anaconda3\\envs\\THESIS\\lib\\site-packages\\numpy\\lib\\function_base.py:1594: UserWarning: Warning: converting a masked element to nan.\n",
      "  return interp_func(x, xp, fp, left, right)\n"
     ]
    },
    {
     "name": "stdout",
     "output_type": "stream",
     "text": [
      "189 4431.110939179613\n"
     ]
    },
    {
     "name": "stderr",
     "output_type": "stream",
     "text": [
      "C:\\Users\\kyled\\AppData\\Local\\Temp\\ipykernel_170976\\2680908632.py:87: UserWarning: Relative humidity >120%, ensure proper units.\n",
      "  Td=dewpoint_from_specific_humidity(lev* units('hPa'),T* units('kelvin'),q)\n",
      "D:\\Anaconda3\\envs\\THESIS\\lib\\site-packages\\metpy\\calc\\thermo.py:1396: RuntimeWarning: divide by zero encountered in log\n",
      "  val = np.log(vapor_pressure / mpconsts.nounit.sat_pressure_0c)\n",
      "D:\\Anaconda3\\envs\\THESIS\\lib\\site-packages\\metpy\\calc\\thermo.py:1397: RuntimeWarning: invalid value encountered in divide\n",
      "  return mpconsts.nounit.zero_degc + 243.5 * val / (17.67 - val)\n"
     ]
    },
    {
     "name": "stdout",
     "output_type": "stream",
     "text": [
      "34.13924 -98.73779\n",
      "34.15085797466988 -98.74098210837997 \n",
      "\n"
     ]
    },
    {
     "name": "stderr",
     "output_type": "stream",
     "text": [
      "D:\\Anaconda3\\envs\\THESIS\\lib\\site-packages\\numpy\\lib\\function_base.py:1594: UserWarning: Warning: converting a masked element to nan.\n",
      "  return interp_func(x, xp, fp, left, right)\n",
      "D:\\Anaconda3\\envs\\THESIS\\lib\\site-packages\\sharppy\\sharptab\\params.py:1310: RuntimeWarning: invalid value encountered in double_scalars\n",
      "  return (tv2 - tv1) / (z2 - z1) * -1000.\n"
     ]
    },
    {
     "name": "stdout",
     "output_type": "stream",
     "text": [
      "190 4053.0184816171677\n"
     ]
    },
    {
     "name": "stderr",
     "output_type": "stream",
     "text": [
      "C:\\Users\\kyled\\AppData\\Local\\Temp\\ipykernel_170976\\2680908632.py:87: UserWarning: Relative humidity >120%, ensure proper units.\n",
      "  Td=dewpoint_from_specific_humidity(lev* units('hPa'),T* units('kelvin'),q)\n",
      "D:\\Anaconda3\\envs\\THESIS\\lib\\site-packages\\metpy\\calc\\thermo.py:1396: RuntimeWarning: divide by zero encountered in log\n",
      "  val = np.log(vapor_pressure / mpconsts.nounit.sat_pressure_0c)\n",
      "D:\\Anaconda3\\envs\\THESIS\\lib\\site-packages\\metpy\\calc\\thermo.py:1397: RuntimeWarning: invalid value encountered in divide\n",
      "  return mpconsts.nounit.zero_degc + 243.5 * val / (17.67 - val)\n"
     ]
    },
    {
     "name": "stdout",
     "output_type": "stream",
     "text": [
      "34.47381 -98.50729\n",
      "34.476040980339604 -98.51775255796048 \n",
      "\n"
     ]
    },
    {
     "name": "stderr",
     "output_type": "stream",
     "text": [
      "D:\\Anaconda3\\envs\\THESIS\\lib\\site-packages\\numpy\\lib\\function_base.py:1594: UserWarning: Warning: converting a masked element to nan.\n",
      "  return interp_func(x, xp, fp, left, right)\n"
     ]
    },
    {
     "name": "stdout",
     "output_type": "stream",
     "text": [
      "191 3825.8192239616264\n"
     ]
    },
    {
     "name": "stderr",
     "output_type": "stream",
     "text": [
      "C:\\Users\\kyled\\AppData\\Local\\Temp\\ipykernel_170976\\2680908632.py:87: UserWarning: Relative humidity >120%, ensure proper units.\n",
      "  Td=dewpoint_from_specific_humidity(lev* units('hPa'),T* units('kelvin'),q)\n",
      "D:\\Anaconda3\\envs\\THESIS\\lib\\site-packages\\metpy\\calc\\thermo.py:1396: RuntimeWarning: divide by zero encountered in log\n",
      "  val = np.log(vapor_pressure / mpconsts.nounit.sat_pressure_0c)\n",
      "D:\\Anaconda3\\envs\\THESIS\\lib\\site-packages\\metpy\\calc\\thermo.py:1397: RuntimeWarning: invalid value encountered in divide\n",
      "  return mpconsts.nounit.zero_degc + 243.5 * val / (17.67 - val)\n"
     ]
    },
    {
     "name": "stdout",
     "output_type": "stream",
     "text": [
      "34.73066 -96.76895\n",
      "34.72065358538037 -96.78510462834066 \n",
      "\n"
     ]
    },
    {
     "name": "stderr",
     "output_type": "stream",
     "text": [
      "D:\\Anaconda3\\envs\\THESIS\\lib\\site-packages\\numpy\\lib\\function_base.py:1594: UserWarning: Warning: converting a masked element to nan.\n",
      "  return interp_func(x, xp, fp, left, right)\n",
      "D:\\Anaconda3\\envs\\THESIS\\lib\\site-packages\\sharppy\\sharptab\\params.py:1310: RuntimeWarning: invalid value encountered in double_scalars\n",
      "  return (tv2 - tv1) / (z2 - z1) * -1000.\n"
     ]
    },
    {
     "name": "stdout",
     "output_type": "stream",
     "text": [
      "192 4404.680416777682\n"
     ]
    },
    {
     "name": "stderr",
     "output_type": "stream",
     "text": [
      "C:\\Users\\kyled\\AppData\\Local\\Temp\\ipykernel_170976\\2680908632.py:87: UserWarning: Relative humidity >120%, ensure proper units.\n",
      "  Td=dewpoint_from_specific_humidity(lev* units('hPa'),T* units('kelvin'),q)\n",
      "D:\\Anaconda3\\envs\\THESIS\\lib\\site-packages\\metpy\\calc\\thermo.py:1396: RuntimeWarning: divide by zero encountered in log\n",
      "  val = np.log(vapor_pressure / mpconsts.nounit.sat_pressure_0c)\n",
      "D:\\Anaconda3\\envs\\THESIS\\lib\\site-packages\\metpy\\calc\\thermo.py:1397: RuntimeWarning: invalid value encountered in divide\n",
      "  return mpconsts.nounit.zero_degc + 243.5 * val / (17.67 - val)\n"
     ]
    },
    {
     "name": "stdout",
     "output_type": "stream",
     "text": [
      "35.09594 -97.19758\n",
      "35.09953250747692 -97.20944601432893 \n",
      "\n"
     ]
    },
    {
     "name": "stderr",
     "output_type": "stream",
     "text": [
      "D:\\Anaconda3\\envs\\THESIS\\lib\\site-packages\\numpy\\lib\\function_base.py:1594: UserWarning: Warning: converting a masked element to nan.\n",
      "  return interp_func(x, xp, fp, left, right)\n",
      "D:\\Anaconda3\\envs\\THESIS\\lib\\site-packages\\sharppy\\sharptab\\params.py:1310: RuntimeWarning: invalid value encountered in double_scalars\n",
      "  return (tv2 - tv1) / (z2 - z1) * -1000.\n"
     ]
    },
    {
     "name": "stdout",
     "output_type": "stream",
     "text": [
      "193 3949.316473797562\n"
     ]
    },
    {
     "name": "stderr",
     "output_type": "stream",
     "text": [
      "C:\\Users\\kyled\\AppData\\Local\\Temp\\ipykernel_170976\\2680908632.py:87: UserWarning: Relative humidity >120%, ensure proper units.\n",
      "  Td=dewpoint_from_specific_humidity(lev* units('hPa'),T* units('kelvin'),q)\n",
      "D:\\Anaconda3\\envs\\THESIS\\lib\\site-packages\\metpy\\calc\\thermo.py:1396: RuntimeWarning: divide by zero encountered in log\n",
      "  val = np.log(vapor_pressure / mpconsts.nounit.sat_pressure_0c)\n",
      "D:\\Anaconda3\\envs\\THESIS\\lib\\site-packages\\metpy\\calc\\thermo.py:1397: RuntimeWarning: invalid value encountered in divide\n",
      "  return mpconsts.nounit.zero_degc + 243.5 * val / (17.67 - val)\n"
     ]
    },
    {
     "name": "stdout",
     "output_type": "stream",
     "text": [
      "35.49297 -96.93403\n",
      "35.50259441365519 -96.94311999519385 \n",
      "\n"
     ]
    },
    {
     "name": "stderr",
     "output_type": "stream",
     "text": [
      "D:\\Anaconda3\\envs\\THESIS\\lib\\site-packages\\numpy\\lib\\function_base.py:1594: UserWarning: Warning: converting a masked element to nan.\n",
      "  return interp_func(x, xp, fp, left, right)\n",
      "D:\\Anaconda3\\envs\\THESIS\\lib\\site-packages\\sharppy\\sharptab\\params.py:1310: RuntimeWarning: invalid value encountered in double_scalars\n",
      "  return (tv2 - tv1) / (z2 - z1) * -1000.\n"
     ]
    },
    {
     "name": "stdout",
     "output_type": "stream",
     "text": [
      "194 3617.796045329\n"
     ]
    },
    {
     "name": "stderr",
     "output_type": "stream",
     "text": [
      "C:\\Users\\kyled\\AppData\\Local\\Temp\\ipykernel_170976\\2680908632.py:87: UserWarning: Relative humidity >120%, ensure proper units.\n",
      "  Td=dewpoint_from_specific_humidity(lev* units('hPa'),T* units('kelvin'),q)\n",
      "D:\\Anaconda3\\envs\\THESIS\\lib\\site-packages\\metpy\\calc\\thermo.py:1396: RuntimeWarning: divide by zero encountered in log\n",
      "  val = np.log(vapor_pressure / mpconsts.nounit.sat_pressure_0c)\n",
      "D:\\Anaconda3\\envs\\THESIS\\lib\\site-packages\\metpy\\calc\\thermo.py:1397: RuntimeWarning: invalid value encountered in divide\n",
      "  return mpconsts.nounit.zero_degc + 243.5 * val / (17.67 - val)\n"
     ]
    },
    {
     "name": "stdout",
     "output_type": "stream",
     "text": [
      "34.99498 -98.4078\n",
      "34.98863539636378 -98.39318839524174 \n",
      "\n"
     ]
    },
    {
     "name": "stderr",
     "output_type": "stream",
     "text": [
      "D:\\Anaconda3\\envs\\THESIS\\lib\\site-packages\\numpy\\lib\\function_base.py:1594: UserWarning: Warning: converting a masked element to nan.\n",
      "  return interp_func(x, xp, fp, left, right)\n"
     ]
    },
    {
     "name": "stdout",
     "output_type": "stream",
     "text": [
      "195 3732.208867863919\n"
     ]
    },
    {
     "name": "stderr",
     "output_type": "stream",
     "text": [
      "C:\\Users\\kyled\\AppData\\Local\\Temp\\ipykernel_170976\\2680908632.py:87: UserWarning: Relative humidity >120%, ensure proper units.\n",
      "  Td=dewpoint_from_specific_humidity(lev* units('hPa'),T* units('kelvin'),q)\n",
      "D:\\Anaconda3\\envs\\THESIS\\lib\\site-packages\\metpy\\calc\\thermo.py:1396: RuntimeWarning: divide by zero encountered in log\n",
      "  val = np.log(vapor_pressure / mpconsts.nounit.sat_pressure_0c)\n",
      "D:\\Anaconda3\\envs\\THESIS\\lib\\site-packages\\metpy\\calc\\thermo.py:1397: RuntimeWarning: invalid value encountered in divide\n",
      "  return mpconsts.nounit.zero_degc + 243.5 * val / (17.67 - val)\n"
     ]
    },
    {
     "name": "stdout",
     "output_type": "stream",
     "text": [
      "36.39697 -97.36594\n",
      "36.39330943602975 -97.37183505487212 \n",
      "\n"
     ]
    },
    {
     "name": "stderr",
     "output_type": "stream",
     "text": [
      "D:\\Anaconda3\\envs\\THESIS\\lib\\site-packages\\numpy\\lib\\function_base.py:1594: UserWarning: Warning: converting a masked element to nan.\n",
      "  return interp_func(x, xp, fp, left, right)\n"
     ]
    },
    {
     "name": "stdout",
     "output_type": "stream",
     "text": [
      "196 231.5491443074165\n"
     ]
    },
    {
     "name": "stderr",
     "output_type": "stream",
     "text": [
      "C:\\Users\\kyled\\AppData\\Local\\Temp\\ipykernel_170976\\2680908632.py:87: UserWarning: Relative humidity >120%, ensure proper units.\n",
      "  Td=dewpoint_from_specific_humidity(lev* units('hPa'),T* units('kelvin'),q)\n",
      "D:\\Anaconda3\\envs\\THESIS\\lib\\site-packages\\metpy\\calc\\thermo.py:1396: RuntimeWarning: divide by zero encountered in log\n",
      "  val = np.log(vapor_pressure / mpconsts.nounit.sat_pressure_0c)\n",
      "D:\\Anaconda3\\envs\\THESIS\\lib\\site-packages\\metpy\\calc\\thermo.py:1397: RuntimeWarning: invalid value encountered in divide\n",
      "  return mpconsts.nounit.zero_degc + 243.5 * val / (17.67 - val)\n"
     ]
    },
    {
     "name": "stdout",
     "output_type": "stream",
     "text": [
      "33.84898 -99.01357\n",
      "33.851381411644226 -99.0275806203939 \n",
      "\n"
     ]
    },
    {
     "name": "stderr",
     "output_type": "stream",
     "text": [
      "D:\\Anaconda3\\envs\\THESIS\\lib\\site-packages\\numpy\\lib\\function_base.py:1594: UserWarning: Warning: converting a masked element to nan.\n",
      "  return interp_func(x, xp, fp, left, right)\n",
      "D:\\Anaconda3\\envs\\THESIS\\lib\\site-packages\\sharppy\\sharptab\\params.py:1310: RuntimeWarning: invalid value encountered in double_scalars\n",
      "  return (tv2 - tv1) / (z2 - z1) * -1000.\n"
     ]
    },
    {
     "name": "stdout",
     "output_type": "stream",
     "text": [
      "197 4501.41826619393\n"
     ]
    },
    {
     "name": "stderr",
     "output_type": "stream",
     "text": [
      "C:\\Users\\kyled\\AppData\\Local\\Temp\\ipykernel_170976\\2680908632.py:87: UserWarning: Relative humidity >120%, ensure proper units.\n",
      "  Td=dewpoint_from_specific_humidity(lev* units('hPa'),T* units('kelvin'),q)\n",
      "D:\\Anaconda3\\envs\\THESIS\\lib\\site-packages\\metpy\\calc\\thermo.py:1396: RuntimeWarning: divide by zero encountered in log\n",
      "  val = np.log(vapor_pressure / mpconsts.nounit.sat_pressure_0c)\n",
      "D:\\Anaconda3\\envs\\THESIS\\lib\\site-packages\\metpy\\calc\\thermo.py:1397: RuntimeWarning: invalid value encountered in divide\n",
      "  return mpconsts.nounit.zero_degc + 243.5 * val / (17.67 - val)\n"
     ]
    },
    {
     "name": "stdout",
     "output_type": "stream",
     "text": [
      "34.23008 -98.84187\n",
      "34.23043004622779 -98.83991584459966 \n",
      "\n"
     ]
    },
    {
     "name": "stderr",
     "output_type": "stream",
     "text": [
      "D:\\Anaconda3\\envs\\THESIS\\lib\\site-packages\\numpy\\lib\\function_base.py:1594: UserWarning: Warning: converting a masked element to nan.\n",
      "  return interp_func(x, xp, fp, left, right)\n",
      "D:\\Anaconda3\\envs\\THESIS\\lib\\site-packages\\sharppy\\sharptab\\params.py:1310: RuntimeWarning: invalid value encountered in double_scalars\n",
      "  return (tv2 - tv1) / (z2 - z1) * -1000.\n"
     ]
    },
    {
     "name": "stdout",
     "output_type": "stream",
     "text": [
      "198 4286.704565519531\n"
     ]
    },
    {
     "name": "stderr",
     "output_type": "stream",
     "text": [
      "C:\\Users\\kyled\\AppData\\Local\\Temp\\ipykernel_170976\\2680908632.py:87: UserWarning: Relative humidity >120%, ensure proper units.\n",
      "  Td=dewpoint_from_specific_humidity(lev* units('hPa'),T* units('kelvin'),q)\n",
      "D:\\Anaconda3\\envs\\THESIS\\lib\\site-packages\\metpy\\calc\\thermo.py:1396: RuntimeWarning: divide by zero encountered in log\n",
      "  val = np.log(vapor_pressure / mpconsts.nounit.sat_pressure_0c)\n",
      "D:\\Anaconda3\\envs\\THESIS\\lib\\site-packages\\metpy\\calc\\thermo.py:1397: RuntimeWarning: invalid value encountered in divide\n",
      "  return mpconsts.nounit.zero_degc + 243.5 * val / (17.67 - val)\n"
     ]
    },
    {
     "name": "stdout",
     "output_type": "stream",
     "text": [
      "34.30973 -98.57894\n",
      "34.31397359591192 -98.58074292407878 \n",
      "\n"
     ]
    },
    {
     "name": "stderr",
     "output_type": "stream",
     "text": [
      "D:\\Anaconda3\\envs\\THESIS\\lib\\site-packages\\numpy\\lib\\function_base.py:1594: UserWarning: Warning: converting a masked element to nan.\n",
      "  return interp_func(x, xp, fp, left, right)\n",
      "D:\\Anaconda3\\envs\\THESIS\\lib\\site-packages\\sharppy\\sharptab\\params.py:1310: RuntimeWarning: invalid value encountered in double_scalars\n",
      "  return (tv2 - tv1) / (z2 - z1) * -1000.\n"
     ]
    },
    {
     "name": "stdout",
     "output_type": "stream",
     "text": [
      "199 4311.30331188629\n"
     ]
    },
    {
     "name": "stderr",
     "output_type": "stream",
     "text": [
      "C:\\Users\\kyled\\AppData\\Local\\Temp\\ipykernel_170976\\2680908632.py:87: UserWarning: Relative humidity >120%, ensure proper units.\n",
      "  Td=dewpoint_from_specific_humidity(lev* units('hPa'),T* units('kelvin'),q)\n",
      "D:\\Anaconda3\\envs\\THESIS\\lib\\site-packages\\metpy\\calc\\thermo.py:1396: RuntimeWarning: divide by zero encountered in log\n",
      "  val = np.log(vapor_pressure / mpconsts.nounit.sat_pressure_0c)\n",
      "D:\\Anaconda3\\envs\\THESIS\\lib\\site-packages\\metpy\\calc\\thermo.py:1397: RuntimeWarning: invalid value encountered in divide\n",
      "  return mpconsts.nounit.zero_degc + 243.5 * val / (17.67 - val)\n"
     ]
    },
    {
     "name": "stdout",
     "output_type": "stream",
     "text": [
      "34.75014 -98.59186\n",
      "34.74458375164543 -98.5868982121653 \n",
      "\n"
     ]
    },
    {
     "name": "stderr",
     "output_type": "stream",
     "text": [
      "D:\\Anaconda3\\envs\\THESIS\\lib\\site-packages\\numpy\\lib\\function_base.py:1594: UserWarning: Warning: converting a masked element to nan.\n",
      "  return interp_func(x, xp, fp, left, right)\n",
      "D:\\Anaconda3\\envs\\THESIS\\lib\\site-packages\\sharppy\\sharptab\\params.py:1310: RuntimeWarning: invalid value encountered in double_scalars\n",
      "  return (tv2 - tv1) / (z2 - z1) * -1000.\n"
     ]
    },
    {
     "name": "stdout",
     "output_type": "stream",
     "text": [
      "200 5363.683149513416\n"
     ]
    },
    {
     "name": "stderr",
     "output_type": "stream",
     "text": [
      "C:\\Users\\kyled\\AppData\\Local\\Temp\\ipykernel_170976\\2680908632.py:87: UserWarning: Relative humidity >120%, ensure proper units.\n",
      "  Td=dewpoint_from_specific_humidity(lev* units('hPa'),T* units('kelvin'),q)\n",
      "D:\\Anaconda3\\envs\\THESIS\\lib\\site-packages\\metpy\\calc\\thermo.py:1396: RuntimeWarning: divide by zero encountered in log\n",
      "  val = np.log(vapor_pressure / mpconsts.nounit.sat_pressure_0c)\n",
      "D:\\Anaconda3\\envs\\THESIS\\lib\\site-packages\\metpy\\calc\\thermo.py:1397: RuntimeWarning: invalid value encountered in divide\n",
      "  return mpconsts.nounit.zero_degc + 243.5 * val / (17.67 - val)\n"
     ]
    },
    {
     "name": "stdout",
     "output_type": "stream",
     "text": [
      "33.37462 -99.2231\n",
      "33.364734452164754 -99.21099725257909 \n",
      "\n"
     ]
    },
    {
     "name": "stderr",
     "output_type": "stream",
     "text": [
      "D:\\Anaconda3\\envs\\THESIS\\lib\\site-packages\\numpy\\lib\\function_base.py:1594: UserWarning: Warning: converting a masked element to nan.\n",
      "  return interp_func(x, xp, fp, left, right)\n",
      "D:\\Anaconda3\\envs\\THESIS\\lib\\site-packages\\sharppy\\sharptab\\params.py:1310: RuntimeWarning: invalid value encountered in double_scalars\n",
      "  return (tv2 - tv1) / (z2 - z1) * -1000.\n"
     ]
    },
    {
     "name": "stdout",
     "output_type": "stream",
     "text": [
      "201 4535.077993718647\n"
     ]
    },
    {
     "name": "stderr",
     "output_type": "stream",
     "text": [
      "C:\\Users\\kyled\\AppData\\Local\\Temp\\ipykernel_170976\\2680908632.py:87: UserWarning: Relative humidity >120%, ensure proper units.\n",
      "  Td=dewpoint_from_specific_humidity(lev* units('hPa'),T* units('kelvin'),q)\n",
      "D:\\Anaconda3\\envs\\THESIS\\lib\\site-packages\\metpy\\calc\\thermo.py:1396: RuntimeWarning: divide by zero encountered in log\n",
      "  val = np.log(vapor_pressure / mpconsts.nounit.sat_pressure_0c)\n",
      "D:\\Anaconda3\\envs\\THESIS\\lib\\site-packages\\metpy\\calc\\thermo.py:1397: RuntimeWarning: invalid value encountered in divide\n",
      "  return mpconsts.nounit.zero_degc + 243.5 * val / (17.67 - val)\n"
     ]
    },
    {
     "name": "stdout",
     "output_type": "stream",
     "text": [
      "33.5607 -99.08794\n",
      "33.55476648488947 -99.08619434164723 \n",
      "\n"
     ]
    },
    {
     "name": "stderr",
     "output_type": "stream",
     "text": [
      "D:\\Anaconda3\\envs\\THESIS\\lib\\site-packages\\numpy\\lib\\function_base.py:1594: UserWarning: Warning: converting a masked element to nan.\n",
      "  return interp_func(x, xp, fp, left, right)\n",
      "D:\\Anaconda3\\envs\\THESIS\\lib\\site-packages\\sharppy\\sharptab\\params.py:1310: RuntimeWarning: invalid value encountered in double_scalars\n",
      "  return (tv2 - tv1) / (z2 - z1) * -1000.\n"
     ]
    },
    {
     "name": "stdout",
     "output_type": "stream",
     "text": [
      "202 4677.070055664914\n"
     ]
    },
    {
     "name": "stderr",
     "output_type": "stream",
     "text": [
      "C:\\Users\\kyled\\AppData\\Local\\Temp\\ipykernel_170976\\2680908632.py:87: UserWarning: Relative humidity >120%, ensure proper units.\n",
      "  Td=dewpoint_from_specific_humidity(lev* units('hPa'),T* units('kelvin'),q)\n",
      "D:\\Anaconda3\\envs\\THESIS\\lib\\site-packages\\metpy\\calc\\thermo.py:1396: RuntimeWarning: divide by zero encountered in log\n",
      "  val = np.log(vapor_pressure / mpconsts.nounit.sat_pressure_0c)\n",
      "D:\\Anaconda3\\envs\\THESIS\\lib\\site-packages\\metpy\\calc\\thermo.py:1397: RuntimeWarning: invalid value encountered in divide\n",
      "  return mpconsts.nounit.zero_degc + 243.5 * val / (17.67 - val)\n"
     ]
    },
    {
     "name": "stdout",
     "output_type": "stream",
     "text": [
      "36.23465 -95.92357\n",
      "36.24784894463902 -95.93463455835672 \n",
      "\n"
     ]
    },
    {
     "name": "stderr",
     "output_type": "stream",
     "text": [
      "D:\\Anaconda3\\envs\\THESIS\\lib\\site-packages\\numpy\\lib\\function_base.py:1594: UserWarning: Warning: converting a masked element to nan.\n",
      "  return interp_func(x, xp, fp, left, right)\n"
     ]
    },
    {
     "name": "stdout",
     "output_type": "stream",
     "text": [
      "203 1493.5834343229078\n"
     ]
    },
    {
     "name": "stderr",
     "output_type": "stream",
     "text": [
      "C:\\Users\\kyled\\AppData\\Local\\Temp\\ipykernel_170976\\2680908632.py:87: UserWarning: Relative humidity >120%, ensure proper units.\n",
      "  Td=dewpoint_from_specific_humidity(lev* units('hPa'),T* units('kelvin'),q)\n",
      "D:\\Anaconda3\\envs\\THESIS\\lib\\site-packages\\metpy\\calc\\thermo.py:1396: RuntimeWarning: divide by zero encountered in log\n",
      "  val = np.log(vapor_pressure / mpconsts.nounit.sat_pressure_0c)\n",
      "D:\\Anaconda3\\envs\\THESIS\\lib\\site-packages\\metpy\\calc\\thermo.py:1397: RuntimeWarning: invalid value encountered in divide\n",
      "  return mpconsts.nounit.zero_degc + 243.5 * val / (17.67 - val)\n"
     ]
    },
    {
     "name": "stdout",
     "output_type": "stream",
     "text": [
      "34.44281 -96.9587\n",
      "34.45241557861814 -96.95082130781338 \n",
      "\n"
     ]
    },
    {
     "name": "stderr",
     "output_type": "stream",
     "text": [
      "D:\\Anaconda3\\envs\\THESIS\\lib\\site-packages\\numpy\\lib\\function_base.py:1594: UserWarning: Warning: converting a masked element to nan.\n",
      "  return interp_func(x, xp, fp, left, right)\n",
      "D:\\Anaconda3\\envs\\THESIS\\lib\\site-packages\\sharppy\\sharptab\\params.py:1310: RuntimeWarning: invalid value encountered in double_scalars\n",
      "  return (tv2 - tv1) / (z2 - z1) * -1000.\n"
     ]
    },
    {
     "name": "stdout",
     "output_type": "stream",
     "text": [
      "204 4006.6329901811114\n"
     ]
    },
    {
     "name": "stderr",
     "output_type": "stream",
     "text": [
      "C:\\Users\\kyled\\AppData\\Local\\Temp\\ipykernel_170976\\2680908632.py:87: UserWarning: Relative humidity >120%, ensure proper units.\n",
      "  Td=dewpoint_from_specific_humidity(lev* units('hPa'),T* units('kelvin'),q)\n",
      "D:\\Anaconda3\\envs\\THESIS\\lib\\site-packages\\metpy\\calc\\thermo.py:1396: RuntimeWarning: divide by zero encountered in log\n",
      "  val = np.log(vapor_pressure / mpconsts.nounit.sat_pressure_0c)\n",
      "D:\\Anaconda3\\envs\\THESIS\\lib\\site-packages\\metpy\\calc\\thermo.py:1397: RuntimeWarning: invalid value encountered in divide\n",
      "  return mpconsts.nounit.zero_degc + 243.5 * val / (17.67 - val)\n"
     ]
    },
    {
     "name": "stdout",
     "output_type": "stream",
     "text": [
      "34.94998 -96.6573\n",
      "34.96205130849251 -96.65138011371761 \n",
      "\n"
     ]
    },
    {
     "name": "stderr",
     "output_type": "stream",
     "text": [
      "D:\\Anaconda3\\envs\\THESIS\\lib\\site-packages\\numpy\\lib\\function_base.py:1594: UserWarning: Warning: converting a masked element to nan.\n",
      "  return interp_func(x, xp, fp, left, right)\n",
      "D:\\Anaconda3\\envs\\THESIS\\lib\\site-packages\\sharppy\\sharptab\\params.py:1310: RuntimeWarning: invalid value encountered in double_scalars\n",
      "  return (tv2 - tv1) / (z2 - z1) * -1000.\n"
     ]
    },
    {
     "name": "stdout",
     "output_type": "stream",
     "text": [
      "205 4091.740053769176\n"
     ]
    },
    {
     "name": "stderr",
     "output_type": "stream",
     "text": [
      "C:\\Users\\kyled\\AppData\\Local\\Temp\\ipykernel_170976\\2680908632.py:87: UserWarning: Relative humidity >120%, ensure proper units.\n",
      "  Td=dewpoint_from_specific_humidity(lev* units('hPa'),T* units('kelvin'),q)\n",
      "D:\\Anaconda3\\envs\\THESIS\\lib\\site-packages\\metpy\\calc\\thermo.py:1396: RuntimeWarning: divide by zero encountered in log\n",
      "  val = np.log(vapor_pressure / mpconsts.nounit.sat_pressure_0c)\n",
      "D:\\Anaconda3\\envs\\THESIS\\lib\\site-packages\\metpy\\calc\\thermo.py:1397: RuntimeWarning: invalid value encountered in divide\n",
      "  return mpconsts.nounit.zero_degc + 243.5 * val / (17.67 - val)\n"
     ]
    },
    {
     "name": "stdout",
     "output_type": "stream",
     "text": [
      "35.22583 -96.3199\n",
      "35.22838299832539 -96.31861026285992 \n",
      "\n"
     ]
    },
    {
     "name": "stderr",
     "output_type": "stream",
     "text": [
      "D:\\Anaconda3\\envs\\THESIS\\lib\\site-packages\\numpy\\lib\\function_base.py:1594: UserWarning: Warning: converting a masked element to nan.\n",
      "  return interp_func(x, xp, fp, left, right)\n",
      "D:\\Anaconda3\\envs\\THESIS\\lib\\site-packages\\sharppy\\sharptab\\params.py:1310: RuntimeWarning: invalid value encountered in double_scalars\n",
      "  return (tv2 - tv1) / (z2 - z1) * -1000.\n"
     ]
    },
    {
     "name": "stdout",
     "output_type": "stream",
     "text": [
      "206 4427.031029185222\n"
     ]
    },
    {
     "name": "stderr",
     "output_type": "stream",
     "text": [
      "C:\\Users\\kyled\\AppData\\Local\\Temp\\ipykernel_170976\\2680908632.py:87: UserWarning: Relative humidity >120%, ensure proper units.\n",
      "  Td=dewpoint_from_specific_humidity(lev* units('hPa'),T* units('kelvin'),q)\n",
      "D:\\Anaconda3\\envs\\THESIS\\lib\\site-packages\\metpy\\calc\\thermo.py:1396: RuntimeWarning: divide by zero encountered in log\n",
      "  val = np.log(vapor_pressure / mpconsts.nounit.sat_pressure_0c)\n",
      "D:\\Anaconda3\\envs\\THESIS\\lib\\site-packages\\metpy\\calc\\thermo.py:1397: RuntimeWarning: invalid value encountered in divide\n",
      "  return mpconsts.nounit.zero_degc + 243.5 * val / (17.67 - val)\n"
     ]
    },
    {
     "name": "stdout",
     "output_type": "stream",
     "text": [
      "35.5194 -95.8895\n",
      "35.519356822797285 -95.88363940368043 \n",
      "\n"
     ]
    },
    {
     "name": "stderr",
     "output_type": "stream",
     "text": [
      "D:\\Anaconda3\\envs\\THESIS\\lib\\site-packages\\numpy\\lib\\function_base.py:1594: UserWarning: Warning: converting a masked element to nan.\n",
      "  return interp_func(x, xp, fp, left, right)\n"
     ]
    },
    {
     "name": "stdout",
     "output_type": "stream",
     "text": [
      "207 3682.5343908162145\n"
     ]
    },
    {
     "name": "stderr",
     "output_type": "stream",
     "text": [
      "C:\\Users\\kyled\\AppData\\Local\\Temp\\ipykernel_170976\\2680908632.py:87: UserWarning: Relative humidity >120%, ensure proper units.\n",
      "  Td=dewpoint_from_specific_humidity(lev* units('hPa'),T* units('kelvin'),q)\n",
      "D:\\Anaconda3\\envs\\THESIS\\lib\\site-packages\\metpy\\calc\\thermo.py:1396: RuntimeWarning: divide by zero encountered in log\n",
      "  val = np.log(vapor_pressure / mpconsts.nounit.sat_pressure_0c)\n",
      "D:\\Anaconda3\\envs\\THESIS\\lib\\site-packages\\metpy\\calc\\thermo.py:1397: RuntimeWarning: invalid value encountered in divide\n",
      "  return mpconsts.nounit.zero_degc + 243.5 * val / (17.67 - val)\n"
     ]
    },
    {
     "name": "stdout",
     "output_type": "stream",
     "text": [
      "35.94236 -95.4488\n",
      "35.943439473328255 -95.44157011528091 \n",
      "\n"
     ]
    },
    {
     "name": "stderr",
     "output_type": "stream",
     "text": [
      "D:\\Anaconda3\\envs\\THESIS\\lib\\site-packages\\numpy\\lib\\function_base.py:1594: UserWarning: Warning: converting a masked element to nan.\n",
      "  return interp_func(x, xp, fp, left, right)\n"
     ]
    },
    {
     "name": "stdout",
     "output_type": "stream",
     "text": [
      "208 2605.994283715912\n"
     ]
    },
    {
     "name": "stderr",
     "output_type": "stream",
     "text": [
      "C:\\Users\\kyled\\AppData\\Local\\Temp\\ipykernel_170976\\2680908632.py:87: UserWarning: Relative humidity >120%, ensure proper units.\n",
      "  Td=dewpoint_from_specific_humidity(lev* units('hPa'),T* units('kelvin'),q)\n",
      "D:\\Anaconda3\\envs\\THESIS\\lib\\site-packages\\metpy\\calc\\thermo.py:1396: RuntimeWarning: divide by zero encountered in log\n",
      "  val = np.log(vapor_pressure / mpconsts.nounit.sat_pressure_0c)\n",
      "D:\\Anaconda3\\envs\\THESIS\\lib\\site-packages\\metpy\\calc\\thermo.py:1397: RuntimeWarning: invalid value encountered in divide\n",
      "  return mpconsts.nounit.zero_degc + 243.5 * val / (17.67 - val)\n"
     ]
    },
    {
     "name": "stdout",
     "output_type": "stream",
     "text": [
      "34.73881 -97.16493\n",
      "34.74939434706999 -97.17802534849926 \n",
      "\n"
     ]
    },
    {
     "name": "stderr",
     "output_type": "stream",
     "text": [
      "D:\\Anaconda3\\envs\\THESIS\\lib\\site-packages\\numpy\\lib\\function_base.py:1594: UserWarning: Warning: converting a masked element to nan.\n",
      "  return interp_func(x, xp, fp, left, right)\n"
     ]
    },
    {
     "name": "stdout",
     "output_type": "stream",
     "text": [
      "209 4030.630364752632\n"
     ]
    }
   ],
   "source": [
    "dfread= pd.read_excel('D:/THESIS/__UNL MS Thesis (MAIN)__/3 - Obtain Vertical Profiles/5-22_NearInflowPoints.xlsx')\n",
    "\n",
    "year=2019\n",
    "month=5\n",
    "\n",
    "for j in range(0, len(dfread)):\n",
    "    hour = dfread['Time'].astype(\"int64\")\n",
    "    dfread['day'] = dfread['Time'].apply(lambda x: '22' if x > 15 else '23').astype(int)\n",
    "    day = dfread['day'].astype(\"int64\")\n",
    "    cenlat = dfread['Lat'].astype(\"int64\")\n",
    "    cenlon = dfread['Lon'].astype(\"int64\")\n",
    "    StormID = dfread['StormID'].astype('str')\n",
    "\n",
    "data = dfread.to_numpy()\n",
    "for i in range(0, len(data)):\n",
    "    StormID = str(data[i][0])\n",
    "    hour = int(data[i][1])\n",
    "    cenlat = (data[i][5])\n",
    "    cenlon = (data[i][6])\n",
    "    day = int(data[i][-1])\n",
    "\n",
    "    if i < 10:\n",
    "        i1 = '%02d'%i\n",
    "    else:\n",
    "        i1 = i\n",
    "        \n",
    "    prof_num = i1\n",
    "    \n",
    "    if hour==18:\n",
    "        c=d1['c0']\n",
    "    elif hour==19:\n",
    "        c=d1['c1']\n",
    "    elif hour==20:\n",
    "        c=d1['c2']\n",
    "    elif hour==21:\n",
    "        c=d1['c3']\n",
    "    elif hour==22:\n",
    "        c=d1['c4']\n",
    "    elif hour==23:\n",
    "        c=d1['c5']\n",
    "    elif hour==0:\n",
    "        c=d2['c0'] \n",
    "    elif hour==1:\n",
    "        c=d2['c1'] \n",
    "    elif hour==2:\n",
    "        c=d2['c2'] \n",
    "    elif hour==3:\n",
    "        c=d2['c3']     \n",
    "    elif hour==4:\n",
    "        c=d2['c4']       \n",
    "    elif hour==5:\n",
    "        c=d2['c5']\n",
    "    elif hour==6:\n",
    "        c=d2['c6']\n",
    "    elif hour==7:\n",
    "        c=d2['c7']\n",
    "    elif hour==8:\n",
    "        c=d2['c8']\n",
    "    else:\n",
    "        print(\"WRONG HOUR\")\n",
    "\n",
    "    time_start = datetime(int(year), int(month), int(day), int(hour), 0) # Our specified time\n",
    "    hour = time_start.hour\n",
    "    if hour < 10:\n",
    "        hour = '0'+str(hour)\n",
    "    day = time_start.day\n",
    "    if day < 10:\n",
    "        day = '0'+str(day)\n",
    "    month = time_start.month\n",
    "    if month < 10:\n",
    "        month = '0'+str(month)\n",
    "        \n",
    "    timeIN=str(str(year)+str(month)+str(day))\n",
    "       \n",
    "    #################################################################################################################\n",
    "    lev=np.asarray(c.variables['hybrid'][:]) # 0 = lowest level, 49 = highest level\n",
    "    lat=np.asarray(c.variables['latitude'])\n",
    "    lon=((np.asarray(c.variables['longitude'])*-1)+360)*-1\n",
    "\n",
    "    T=np.asarray(c.variables['t'][:]) #K #temperature\n",
    "    q=np.asarray(c.variables['q'][:]) # kg kg**-1 #specific humidity\n",
    "    uwnd=np.asarray(c.variables['u'][:]) #m/s #u wind\n",
    "    vwnd=np.asarray(c.variables['v'][:]) #m/s #v wind\n",
    "    hgt=np.asarray(c.variables['gh'][:]) #geopotential meters #geopotential height\n",
    "    VVEL_up=(np.asarray(c.variables['w'][:])) #Pa s**-1 #vertical velocity  \n",
    "    lev=(np.asarray(c.variables['pres'][:])/100.) #hPa #pressure\n",
    "    Td=dewpoint_from_specific_humidity(lev* units('hPa'),T* units('kelvin'),q)\n",
    "\n",
    "    dlon = np.abs(lon - cenlon)\n",
    "    dlat = np.abs(lat - cenlat)\n",
    "    cordmax = np.maximum(dlon,dlat)\n",
    "    x,y=np.where(cordmax == np.min(cordmax))\n",
    "    x=x[0]\n",
    "    y=y[0]\n",
    "\n",
    "    print(cenlat,cenlon)\n",
    "    print(lat[x][y],lon[x][y], \"\\n\")\n",
    "\n",
    "    P_sounding = lev[:,x,y]* units.hectopascal\n",
    "    T_sounding = (T[:,x,y]* units.kelvin).to(units.degC)\n",
    "    Td_sounding = Td[:,x,y].to(units.degC)\n",
    "    Td_sounding[np.isnan(Td_sounding)] = 0*units('degC')\n",
    "    hgt_sounding = (hgt[:,x,y] - hgt[0,x,y])* units.meter\n",
    "    msl_sounding = (hgt[:,x,y])* units.meter\n",
    "    u_sounding = (uwnd[:,x,y]* units.meter_per_second).to(units.knot)\n",
    "    v_sounding = (vwnd[:,x,y]* units.meter_per_second).to(units.knot)\n",
    "    Omega=VVEL_up[:,x,y]*(units.pascal/units.second)\n",
    "    RH_skewt = relative_humidity_from_dewpoint(T_sounding, Td_sounding)\n",
    "    Q_skewt = mixing_ratio_from_relative_humidity(P_sounding, T_sounding, RH_skewt)\n",
    "\n",
    "    prof = profile.create_profile(profile='default', pres=P_sounding, hght=hgt_sounding, tmpc=T_sounding, dwpc=Td_sounding, u=u_sounding, v=v_sounding, missing=-9999)\n",
    "    mupcl = params.parcelx(prof, flag=3) # Most-Unstable Parcel\n",
    "    mlpcl = params.parcelx(prof, flag=4)\n",
    "    sbpcl = params.parcelx(prof, flag=1)\n",
    "\n",
    "    #EIL Stuff\n",
    "    EILb, EILt = sharppy.sharptab.params.effective_inflow_layer(prof)\n",
    "    ebot_hght = interp.to_agl(prof, interp.hght(prof, EILb))\n",
    "    etop_hght = interp.to_agl(prof, interp.hght(prof, EILt))\n",
    "\n",
    "    #METPY PARCEL INFORMATION\n",
    "    #Interpolate new vertical profiles with the mlpcl and mupcl pressures, temps, and dewpoints as the starting values for each\n",
    "    ml_p, ml_T, ml_Td = mixed_parcel(P_sounding, T_sounding, Td_sounding) #Pres, Temp, and Td of a 100 hPa depth mixed parcels\n",
    "    ml_profile = parcel_profile(P_sounding, ml_T, ml_Td).to(units.degC)\n",
    "    ml_parcel_h = pressure_to_height_std(ml_p)\n",
    "    ml_parcel_h = ml_parcel_h.to(units.meter)\n",
    "\n",
    "    mu_p, mu_T, mu_Td, mu_index = most_unstable_parcel(P_sounding, T_sounding, Td_sounding)\n",
    "    mu_profile = parcel_profile(P_sounding, mu_T, mu_Td).to(units.degC)\n",
    "    mu_parcel_h = pressure_to_height_std(mu_p)\n",
    "    mu_parcel_h = mu_parcel_h.to(units.meter)\n",
    "    \n",
    "    sb_profile = parcel_profile(P_sounding, T_sounding[0], Td_sounding[0])\n",
    "    \n",
    "    sfc = prof.pres[prof.sfc]\n",
    "    p500m = interp.pres(prof, interp.to_msl(prof, 500.))\n",
    "    p1km = interp.pres(prof, interp.to_msl(prof, 1000.))\n",
    "    p1500m = interp.pres(prof, interp.to_msl(prof, 1500.))\n",
    "    p2km = interp.pres(prof, interp.to_msl(prof, 2000.))\n",
    "    p2500m = interp.pres(prof, interp.to_msl(prof, 2500.))\n",
    "    p3km = interp.pres(prof, interp.to_msl(prof, 3000.))\n",
    "    p4km = interp.pres(prof, interp.to_msl(prof, 4000.))\n",
    "    p5km = interp.pres(prof, interp.to_msl(prof, 5000.))\n",
    "    p6km = interp.pres(prof, interp.to_msl(prof, 6000.))\n",
    "    p8km = interp.pres(prof, interp.to_msl(prof, 8000.))\n",
    "    p9km = interp.pres(prof, interp.to_msl(prof, 9000.)) \n",
    "    #################################################################################################################\n",
    "    #LIFTING HEIGHTS and VERTICAL MOTION\n",
    "    #################################################################################################################\n",
    "    mllcl_p = mlpcl.lclpres*units('hectopascal')\n",
    "    if isinstance(mllcl_p, np.ma.core.MaskedConstant):\n",
    "        mllcl_p = 600*units('hectopascal')\n",
    "    mllcl_h = mlpcl.lclhght*units('meter')\n",
    "    if isinstance(mllcl_h, np.ma.core.MaskedConstant):\n",
    "        mllcl_h = 4000*units('meter')\n",
    "    mulcl_p = mupcl.lclpres*units('hectopascal')\n",
    "    if isinstance(mulcl_p, np.ma.core.MaskedConstant):\n",
    "        mulcl_p = 600*units('hectopascal')\n",
    "    mulcl_h = mupcl.lclhght*units('meter')\n",
    "    if isinstance(mulcl_h, np.ma.core.MaskedConstant):\n",
    "        mulcl_h = 4000*units('meter')\n",
    "    sblcl_p = sbpcl.lclpres*units('hectopascal')\n",
    "    if isinstance(sblcl_p, np.ma.core.MaskedConstant):\n",
    "        sblcl_p = mllcl_p\n",
    "    sblcl_h = sbpcl.lclhght*units('meter')\n",
    "    if isinstance(sblcl_h, np.ma.core.MaskedConstant):\n",
    "        sblcl_h = mllcl_h\n",
    "\n",
    "    mllfc_p = mlpcl.lfcpres *units('hectopascal')\n",
    "    if isinstance(mllfc_p, np.ma.core.MaskedConstant):\n",
    "        mllfc_p = 500*units('hectopascal')\n",
    "    mllfc_h = mlpcl.lfchght *units('meter')\n",
    "    if isinstance(mllfc_h, np.ma.core.MaskedConstant):\n",
    "        mllfc_h = 5000*units('meter')\n",
    "    mulfc_p = mupcl.lfcpres *units('hectopascal')\n",
    "    if isinstance(mulfc_p, np.ma.core.MaskedConstant):\n",
    "        mulfc_p = 500*units('hectopascal')\n",
    "    mulfc_h = mupcl.lfchght *units('meter')\n",
    "    if isinstance(mulfc_h, np.ma.core.MaskedConstant):\n",
    "        mulfc_h = 5000*units('meter')\n",
    "    sblfc_p = sbpcl.lfcpres *units('hectopascal')\n",
    "    if isinstance(sblfc_p, np.ma.core.MaskedConstant):\n",
    "        sblfc_p = mllfc_p\n",
    "    sblfc_h = sbpcl.lfchght *units('meter')\n",
    "    if isinstance(sblfc_h, np.ma.core.MaskedConstant):\n",
    "        sblfc_h = mllfc_h\n",
    "        \n",
    "    #LCL + 2000m calculationsa\n",
    "    sblcl2000 = sblcl_h + 2000*units('meter')\n",
    "    mllcl2000 = mllcl_h + 2000*units('meter')\n",
    "    mulcl2000 = mulcl_h + 2000*units('meter')\n",
    "    sblcl2000_p = height_to_pressure_std(sblcl2000)\n",
    "    mllcl2000_p = height_to_pressure_std(mllcl2000)\n",
    "    mulcl2000_p = height_to_pressure_std(mulcl2000)\n",
    "        \n",
    "    #ACBL = 1.5 km deep layer, starting @ LFC\n",
    "    sblfc_h1500 = sblfc_h + 1500*units('meter')\n",
    "    mllfc_h1500 = mllfc_h + 1500*units('meter')\n",
    "    mulfc_h1500 = mulfc_h + 1500*units('meter')\n",
    "    sblfc1500_p = height_to_pressure_std(sblfc_h1500)\n",
    "    mllfc1500_p = height_to_pressure_std(mllfc_h1500)\n",
    "    mulfc1500_p = height_to_pressure_std(mulfc_h1500)\n",
    "        \n",
    "    sb_LFC_LCL_diff = sblfc_h - sblcl_h\n",
    "    ml_LFC_LCL_diff = mllfc_h - mllcl_h\n",
    "    mu_LFC_LCL_diff = mulfc_h - mulcl_h\n",
    "    \n",
    "    pbl_top = sharppy.sharptab.params.pbl_top(prof) #in mb\n",
    "    EIL_depth = etop_hght-ebot_hght\n",
    "    #EIL base vs. PBL top\n",
    "    pbl_topHgt = pressure_to_height_std(pbl_top*units('hectopascal')).to(units.meter)\n",
    "    EIL_PBL_hgtdiff = pbl_topHgt - ebot_hght*units('meter') #top of PBL - bottom of EIL. Negative value = EIL is fully above PBL\n",
    "\n",
    "    #magnitude of the maximum omega value that is no more than 100 mb above the LFC\n",
    "    SBmaxOmegalev = P_sounding[np.array(P_sounding>(sblfc_p- 100*units('hectopascal')))]\n",
    "    SBHvalue = (np.size(SBmaxOmegalev))\n",
    "    sbMaxOmega = (np.min(Omega[0:SBHvalue]))\n",
    "    #height of the maximum omega value that is no more than 100 mb above the LFC\n",
    "    SBresult = np.where(Omega == sbMaxOmega)\n",
    "    SBMaxOmegaPressure = P_sounding[SBresult[0]]\n",
    "    SBMaxOmegaHeight = pressure_to_height_std(P_sounding[SBresult[0]]).to(units.meter)\n",
    "    sbMaxOmegaH = SBMaxOmegaHeight[0]\n",
    "    sbHLFC = (SBMaxOmegaHeight/sblfc_h).magnitude\n",
    "    \n",
    "    MLmaxOmegalev = P_sounding[np.array(P_sounding>(mllfc_p- 100*units('hectopascal')))]\n",
    "    MLHvalue = (np.size(MLmaxOmegalev))\n",
    "    mlMaxOmega = (np.min(Omega[0:MLHvalue]))\n",
    "    #height of the maximum omega value that is no more than 100 mb above the LFC\n",
    "    MLresult = np.where(Omega == mlMaxOmega)\n",
    "    MLMaxOmegaPressure = P_sounding[MLresult[0]]\n",
    "    MLMaxOmegaHeight = pressure_to_height_std(P_sounding[MLresult[0]]).to(units.meter)\n",
    "    mlMaxOmegaH = MLMaxOmegaHeight[0]\n",
    "    mlHLFC = (MLMaxOmegaHeight/mllfc_h).magnitude\n",
    "\n",
    "    MUmaxOmegalev = P_sounding[np.array(P_sounding>(mulfc_p- 100*units('hectopascal')))]\n",
    "    MUHvalue = (np.size(MUmaxOmegalev))\n",
    "    muMaxOmega = (np.min(Omega[0:MUHvalue]))\n",
    "    #height of the maximum omega value that is no more than 100 mb above the LFC\n",
    "    MUresult = np.where(Omega == muMaxOmega)\n",
    "    MUMaxOmegaPressure = P_sounding[MUresult[0]]\n",
    "    MUMaxOmegaHeight = pressure_to_height_std(P_sounding[MUresult[0]]).to(units.meter)\n",
    "    muMaxOmegaH = MUMaxOmegaHeight[0]\n",
    "    muHLFC = (MUMaxOmegaHeight/mulfc_h).magnitude\n",
    "    #########################################################\n",
    "    # LFC Height - initial parcel height\n",
    "    mu_parcel_h = interp.to_agl(prof, interp.hght(prof,mupcl.pres))\n",
    "    deltaZstar = mulfc_h.magnitude - mu_parcel_h\n",
    "    ##############################   CONVERGENCE   ##############################\n",
    "    # Assuming data arrays `lev`, `hgt`, `T`, `Td`, `uwnd`, `vwnd`, `VVEL_up`, `lat`, `lon`, and (x, y) coordinates\n",
    "    directions = [\"N\", \"S\", \"E\", \"W\"]\n",
    "\n",
    "    # Calculate skewt parameters for all directions\n",
    "    parameters = {}\n",
    "    for direction in directions:\n",
    "        parameters[direction] = calculate_skewt_params(lev, hgt, T, Td, uwnd, vwnd, x, y, direction)\n",
    "\n",
    "    # Calculate parcel profiles for all directions\n",
    "    parcel_profiles = {\"ml\": {}, \"mu\": {}, \"sb\": {}}\n",
    "    lfc_pressures = {\"ml\": {}, \"mu\": {}, \"sb\": {}}  # Store LFC pressures for all parcels\n",
    "    bases = {\"ml\": {}, \"mu\": {}, \"sb\": {}}\n",
    "\n",
    "    for direction in directions:\n",
    "        # Extract Skew-T parameters\n",
    "        p_skewt, hgt_skewt, T_skewt, Td_skewt, u_skewt, v_skewt, *_ = parameters[direction]\n",
    "\n",
    "        # Calculate profiles\n",
    "        profiles = calculate_parcel_profiles(p_skewt, hgt_skewt, T_skewt, Td_skewt, u_skewt, v_skewt)\n",
    "\n",
    "        for parcel_type in [\"ml\", \"mu\", \"sb\"]:\n",
    "            parcel_profiles[parcel_type][direction] = profiles[parcel_type][\"profile\"]\n",
    "            lfc_pressures[parcel_type][direction] = profiles[parcel_type][\"lfc_p\"]\n",
    "            bases[parcel_type][direction] = profiles[parcel_type][\"base\"]\n",
    "\n",
    "    # Calculate distances between adjacent grid points\n",
    "    distNS, distEW = calculate_distances(lat, lon, x, y)\n",
    "\n",
    "    # Calculate sub-cloud UV layers for all parcel types and directions\n",
    "    sb_subcloudUV_layerN = get_layer(parameters[\"N\"][0], parameters[\"N\"][4], parameters[\"N\"][5], \n",
    "                                     parcel_profiles['sb']['N'], bottom=bases['sb']['N'], \n",
    "                                     depth=bases['sb']['N'] - lfc_pressures['sb']['N'])\n",
    "    sb_subcloudUV_layerS = get_layer(parameters[\"S\"][0], parameters[\"S\"][4], parameters[\"S\"][5], \n",
    "                                     parcel_profiles['sb']['S'], bottom=bases['sb']['S'], \n",
    "                                     depth=bases['sb']['S'] - lfc_pressures['sb']['S'])\n",
    "    sb_subcloudUV_layerE = get_layer(parameters[\"E\"][0], parameters[\"E\"][4], parameters[\"E\"][5], \n",
    "                                     parcel_profiles['sb']['E'], bottom=bases['sb']['E'], \n",
    "                                     depth=bases['sb']['E'] - lfc_pressures['sb']['E'])\n",
    "    sb_subcloudUV_layerW = get_layer(parameters[\"W\"][0], parameters[\"W\"][4], parameters[\"W\"][5], \n",
    "                                     parcel_profiles['sb']['W'], bottom=bases['sb']['W'], \n",
    "                                     depth=bases['sb']['W'] - lfc_pressures['sb']['W'])\n",
    "    ml_subcloudUV_layerN = get_layer(parameters[\"N\"][0], parameters[\"N\"][4], parameters[\"N\"][5], \n",
    "                                     parcel_profiles['ml']['N'], bottom=bases['ml']['N'], \n",
    "                                     depth=bases['ml']['N'] - lfc_pressures['ml']['N'])\n",
    "    ml_subcloudUV_layerS = get_layer(parameters[\"S\"][0], parameters[\"S\"][4], parameters[\"S\"][5], \n",
    "                                     parcel_profiles['ml']['S'], bottom=bases['ml']['S'], \n",
    "                                     depth=bases['ml']['S'] - lfc_pressures['ml']['S'])\n",
    "    ml_subcloudUV_layerE = get_layer(parameters[\"E\"][0], parameters[\"E\"][4], parameters[\"E\"][5], \n",
    "                                     parcel_profiles['ml']['E'], bottom=bases['ml']['E'], \n",
    "                                     depth=bases['ml']['E'] - lfc_pressures['ml']['E'])\n",
    "    ml_subcloudUV_layerW = get_layer(parameters[\"W\"][0], parameters[\"W\"][4], parameters[\"W\"][5], \n",
    "                                     parcel_profiles['ml']['W'], bottom=bases['ml']['W'], \n",
    "                                     depth=bases['ml']['W'] - lfc_pressures['ml']['W'])\n",
    "    mu_subcloudUV_layerN = get_layer(parameters[\"N\"][0], parameters[\"N\"][4], parameters[\"N\"][5], \n",
    "                                     parcel_profiles['mu']['N'], bottom=bases['mu']['N'], \n",
    "                                     depth=bases['mu']['N'] - lfc_pressures['mu']['N'])\n",
    "    mu_subcloudUV_layerS = get_layer(parameters[\"S\"][0], parameters[\"S\"][4], parameters[\"S\"][5], \n",
    "                                     parcel_profiles['mu']['S'], bottom=bases['mu']['S'], \n",
    "                                     depth=bases['mu']['S'] - lfc_pressures['mu']['S'])\n",
    "    mu_subcloudUV_layerE = get_layer(parameters[\"E\"][0], parameters[\"E\"][4], parameters[\"E\"][5], \n",
    "                                     parcel_profiles['mu']['E'], bottom=bases['mu']['E'], \n",
    "                                     depth=bases['mu']['E'] - lfc_pressures['mu']['E'])\n",
    "    mu_subcloudUV_layerW = get_layer(parameters[\"W\"][0], parameters[\"W\"][4], parameters[\"W\"][5], \n",
    "                                     parcel_profiles['mu']['W'], bottom=bases['mu']['W'], \n",
    "                                     depth=bases['mu']['W'] - lfc_pressures['mu']['W'])\n",
    "    \n",
    "    list0 = [len(sb_subcloudUV_layerE[1]),len(sb_subcloudUV_layerW[1]),len(sb_subcloudUV_layerN[2]), len(sb_subcloudUV_layerS[2])]\n",
    "    list1 = [len(ml_subcloudUV_layerE[1]),len(ml_subcloudUV_layerW[1]),len(ml_subcloudUV_layerN[2]), len(ml_subcloudUV_layerS[2])]\n",
    "    list2 = [len(mu_subcloudUV_layerE[1]),len(mu_subcloudUV_layerW[1]),len(mu_subcloudUV_layerN[2]), len(mu_subcloudUV_layerS[2])]\n",
    "    \n",
    "    sb_part1 = (sb_subcloudUV_layerE[1][:min(list0)] - sb_subcloudUV_layerW[1][:min(list0)])/(distEW*units('meter'))\n",
    "    sb_part2 = (sb_subcloudUV_layerN[2][:min(list0)] - sb_subcloudUV_layerS[2][:min(list0)])/(distNS*units('meter'))\n",
    "    ml_part1 = (ml_subcloudUV_layerE[1][:min(list1)] - ml_subcloudUV_layerW[1][:min(list1)])/(distEW*units('meter'))\n",
    "    ml_part2 = (ml_subcloudUV_layerN[2][:min(list1)] - ml_subcloudUV_layerS[2][:min(list1)])/(distNS*units('meter'))\n",
    "    mu_part1 = (mu_subcloudUV_layerE[1][:min(list2)] - mu_subcloudUV_layerW[1][:min(list2)])/(distEW*units('meter'))\n",
    "    mu_part2 = (mu_subcloudUV_layerN[2][:min(list2)] - mu_subcloudUV_layerS[2][:min(list2)])/(distNS*units('meter'))\n",
    "\n",
    "    sb_div = sb_part1 + sb_part2\n",
    "    sb_div_dis = sblfc_h\n",
    "    sb_SCconv = np.sum(sb_div)/((sblfc_h.magnitude)*1000)\n",
    "    \n",
    "    ml_div = ml_part1 + ml_part2\n",
    "    ml_div_dis = mllfc_h - ml_parcel_h\n",
    "    ml_SCconv = np.sum(ml_div)/((ml_div_dis.magnitude)*1000)\n",
    "    \n",
    "    mu_div = mu_part1 + mu_part2\n",
    "    mu_div_dis = mulfc_h - mu_parcel_h*units('meter')\n",
    "    mu_SCconv = np.sum(mu_div)/((mu_div_dis.magnitude)*1000)\n",
    "    \n",
    "    #CALCULATE Initial parcel Level (aka Surface) CONVERGENCE\n",
    "    sb_PL_part1 = (sb_subcloudUV_layerE[1][0] - sb_subcloudUV_layerW[1][0])/(distEW*units('meter'))\n",
    "    sb_PL_part2 = (sb_subcloudUV_layerN[2][0] - sb_subcloudUV_layerS[2][0])/(distNS*units('meter'))\n",
    "    sb_PL_conv = sb_PL_part1 + sb_PL_part2\n",
    "    \n",
    "    ml_PL_part1 = (ml_subcloudUV_layerE[1][0] - ml_subcloudUV_layerW[1][0])/(distEW*units('meter'))\n",
    "    ml_PL_part2 = (ml_subcloudUV_layerN[2][0] - ml_subcloudUV_layerS[2][0])/(distNS*units('meter'))\n",
    "    ml_PL_conv = ml_PL_part1 + ml_PL_part2\n",
    "\n",
    "    mu_PL_part1 = (mu_subcloudUV_layerE[1][0] - mu_subcloudUV_layerW[1][0])/(distEW*units('meter'))\n",
    "    mu_PL_part2 = (mu_subcloudUV_layerN[2][0] - mu_subcloudUV_layerS[2][0])/(distNS*units('meter'))\n",
    "    mu_PL_conv = mu_PL_part1 + mu_PL_part2\n",
    "    #################################################################################################################\n",
    "    #LAPSE RATES\n",
    "    #################################################################################################################\n",
    "    #ACBL = 1.5 km deep layer, starting @ LFC\n",
    "    #1) get LFC +1500m height (use LFC height calculation from earlier)\n",
    "    lapse0_1km = sharppy.sharptab.params.lapse_rate(prof, lower = sfc, upper =p1km)\n",
    "    lapse0_2km = sharppy.sharptab.params.lapse_rate(prof, lower = sfc, upper =p2km)\n",
    "    \n",
    "    lapse0_3km = sharppy.sharptab.params.lapse_rate(prof, lower = sfc, upper =p3km)\n",
    "    lapse3_6km = sharppy.sharptab.params.lapse_rate(prof, lower = p3km, upper =p6km)  \n",
    "    lapse5_700mb = sharppy.sharptab.params.lapse_rate(prof, lower = 700., upper =500.)\n",
    "    \n",
    "    SBLFCTemp = (metinterp(sblfc_h, hgt_sounding, T_sounding)[0].magnitude)*units('degC')\n",
    "    SBLFCTemp1500 = (metinterp(sblfc_h1500, hgt_sounding, T_sounding)[0].magnitude)*units('degC')\n",
    "    MLLFCTemp = (metinterp(mllfc_h, hgt_sounding, T_sounding)[0].magnitude)*units('degC')\n",
    "    MLLFCTemp1500 = (metinterp(mllfc_h1500, hgt_sounding, T_sounding)[0].magnitude)*units('degC')\n",
    "    MULFCTemp = (metinterp(mulfc_h, hgt_sounding, T_sounding)[0].magnitude)*units('degC')\n",
    "    MULFCTemp1500 = (metinterp(mulfc_h1500, hgt_sounding, T_sounding)[0].magnitude)*units('degC')\n",
    "    \n",
    "    #change in temp/change in height = lapse rate\n",
    "    sbACBLlapse = ((SBLFCTemp1500 - SBLFCTemp)/(-1.5))\n",
    "    mlACBLlapse = ((MLLFCTemp1500 - MLLFCTemp)/(-1.5))\n",
    "    muACBLlapse = ((MULFCTemp1500 - MULFCTemp)/(-1.5))\n",
    "\n",
    "    sb_lapse_LFC_LCL = sharppy.sharptab.params.lapse_rate(prof, lower = sblcl_p.magnitude, upper=sblfc_p.magnitude)\n",
    "    ml_lapse_LFC_LCL = sharppy.sharptab.params.lapse_rate(prof, lower = mllcl_p.magnitude, upper=mllfc_p.magnitude)\n",
    "    mu_lapse_LFC_LCL = sharppy.sharptab.params.lapse_rate(prof, lower = mulcl_p.magnitude, upper=mulfc_p.magnitude)\n",
    "\n",
    "    if mulcl_p.magnitude == mulfc_p.magnitude:\n",
    "        mu_lapse_LFC_LCL = 0\n",
    "    if mllcl_p.magnitude == mllfc_p.magnitude:\n",
    "        ml_lapse_LFC_LCL = 0\n",
    "    if sblcl_p.magnitude == sblfc_p.magnitude:\n",
    "        sb_lapse_LFC_LCL = 0\n",
    "\n",
    "    lapse_array = compute_lapse_rates(prof, pres_array)\n",
    "    hght_array = compute_heights(prof, pres_array)\n",
    "\n",
    "    # Compute ESL depths\n",
    "    presArray=np.array([890.,880.,870.,860.,850.,840.,830.,820.,810.,800.,790.,780.,770.,760.,750.,740.,730.,720.,710.,700.,\n",
    "                   690.,680.,670.,660.,650.,640.,630.,620.,610.,600.])\n",
    "\n",
    "    lapse1 = sharppy.sharptab.params.lapse_rate(prof, lower = 900., upper =890.)\n",
    "    lapse2 = sharppy.sharptab.params.lapse_rate(prof, lower = 890., upper =880.)\n",
    "    lapse3 = sharppy.sharptab.params.lapse_rate(prof, lower = 880., upper =870.)\n",
    "    lapse4 = sharppy.sharptab.params.lapse_rate(prof, lower = 870., upper =860.)\n",
    "    lapse5 = sharppy.sharptab.params.lapse_rate(prof, lower = 860., upper =850.)\n",
    "    lapse6 = sharppy.sharptab.params.lapse_rate(prof, lower = 850., upper =840.)\n",
    "    lapse7 = sharppy.sharptab.params.lapse_rate(prof, lower = 840., upper =830.)\n",
    "    lapse8 = sharppy.sharptab.params.lapse_rate(prof, lower = 830., upper =820.)\n",
    "    lapse9 = sharppy.sharptab.params.lapse_rate(prof, lower = 820., upper =810.)\n",
    "    lapse10 = sharppy.sharptab.params.lapse_rate(prof, lower = 810., upper =800.)\n",
    "    lapse11 = sharppy.sharptab.params.lapse_rate(prof, lower = 800., upper =790.)\n",
    "    lapse12 = sharppy.sharptab.params.lapse_rate(prof, lower = 790., upper =780.)\n",
    "    lapse13 = sharppy.sharptab.params.lapse_rate(prof, lower = 780., upper =770.)\n",
    "    lapse14 = sharppy.sharptab.params.lapse_rate(prof, lower = 770., upper =760.)\n",
    "    lapse15 = sharppy.sharptab.params.lapse_rate(prof, lower = 760., upper =750.)\n",
    "    lapse16 = sharppy.sharptab.params.lapse_rate(prof, lower = 750., upper =740.)\n",
    "    lapse17 = sharppy.sharptab.params.lapse_rate(prof, lower = 740., upper =730.)\n",
    "    lapse18 = sharppy.sharptab.params.lapse_rate(prof, lower = 730., upper =720.)\n",
    "    lapse19 = sharppy.sharptab.params.lapse_rate(prof, lower = 720., upper =710.)\n",
    "    lapse20 = sharppy.sharptab.params.lapse_rate(prof, lower = 710., upper =700.)\n",
    "    lapse21 = sharppy.sharptab.params.lapse_rate(prof, lower = 700., upper =690.)\n",
    "    lapse22 = sharppy.sharptab.params.lapse_rate(prof, lower = 690., upper =680.)\n",
    "    lapse23 = sharppy.sharptab.params.lapse_rate(prof, lower = 680., upper =670.)\n",
    "    lapse24 = sharppy.sharptab.params.lapse_rate(prof, lower = 670., upper =660.)\n",
    "    lapse25 = sharppy.sharptab.params.lapse_rate(prof, lower = 660., upper =650.)\n",
    "    lapse26 = sharppy.sharptab.params.lapse_rate(prof, lower = 650., upper =640.)\n",
    "    lapse27 = sharppy.sharptab.params.lapse_rate(prof, lower = 640., upper =630.)\n",
    "    lapse28 = sharppy.sharptab.params.lapse_rate(prof, lower = 630., upper =620.)\n",
    "    lapse29 = sharppy.sharptab.params.lapse_rate(prof, lower = 620., upper =610.)\n",
    "    lapse30 = sharppy.sharptab.params.lapse_rate(prof, lower = 610., upper =600.)\n",
    "\n",
    "    hght900 = interp.hght(prof, 900.)\n",
    "    hght890 = interp.hght(prof, 890.)\n",
    "    hght880 = interp.hght(prof, 880.)\n",
    "    hght870 = interp.hght(prof, 870.)\n",
    "    hght860 = interp.hght(prof, 860.)\n",
    "    hght850 = interp.hght(prof, 850.)\n",
    "    hght840 = interp.hght(prof, 840.)\n",
    "    hght830 = interp.hght(prof, 830.)\n",
    "    hght820 = interp.hght(prof, 820.)\n",
    "    hght810 = interp.hght(prof, 810.)\n",
    "    hght800 = interp.hght(prof, 800.)\n",
    "    hght790 = interp.hght(prof, 790.)\n",
    "    hght780 = interp.hght(prof, 780.)\n",
    "    hght770 = interp.hght(prof, 770.)\n",
    "    hght760 = interp.hght(prof, 760.)\n",
    "    hght750 = interp.hght(prof, 750.)\n",
    "    hght740 = interp.hght(prof, 740.)\n",
    "    hght730 = interp.hght(prof, 730.)\n",
    "    hght720 = interp.hght(prof, 720.)\n",
    "    hght710 = interp.hght(prof, 710.)\n",
    "    hght700 = interp.hght(prof, 700.)\n",
    "    hght690 = interp.hght(prof, 690.)\n",
    "    hght680 = interp.hght(prof, 680.)\n",
    "    hght670 = interp.hght(prof, 670.)\n",
    "    hght660 = interp.hght(prof, 660.)\n",
    "    hght650 = interp.hght(prof, 650.)\n",
    "    hght640 = interp.hght(prof, 640.)\n",
    "    hght630 = interp.hght(prof, 630.)\n",
    "    hght620 = interp.hght(prof, 620.)\n",
    "    hght610 = interp.hght(prof, 610.)\n",
    "    hght600 = interp.hght(prof, 600.)\n",
    "\n",
    "    lapseArray=np.array([lapse1,lapse2,lapse3,lapse4,lapse5,lapse6,lapse7,lapse8,lapse9,lapse10,\n",
    "                        lapse11,lapse12,lapse13,lapse14,lapse15,lapse16,lapse17,lapse18,lapse19,lapse20,\n",
    "                        lapse21,lapse22,lapse23,lapse24,lapse25,lapse26,lapse27,lapse28,lapse29,lapse30])\n",
    "\n",
    "    hghtArray=np.array([hght890,hght880,hght870,hght860,hght850,hght840,hght830,hght820,hght810,hght800,\n",
    "                       hght790,hght780,hght770,hght760,hght750,hght740,hght730,hght720,hght710,hght700,\n",
    "                       hght690,hght680,hght670,hght660,hght650,hght640,hght630,hght620,hght610,hght600,])\n",
    "   \n",
    "    ESL25 = np.asarray(np.where(lapseArray < 2.5))\n",
    "    if len(ESL25[0]) != 0:\n",
    "        ESL25hgtArray = hghtArray[ESL25[0][0]:ESL25[0][-1]]\n",
    "        esl_25_depth = hghtArray[ESL25[0][-1]] - hghtArray[ESL25[0][0]]\n",
    "    else:\n",
    "        esl_25_depth = 0\n",
    "    \n",
    "    ESL40 = np.asarray(np.where(lapseArray < 4.0))\n",
    "    if len(ESL40[0]) != 0:\n",
    "        ESL40hgtArray = hghtArray[ESL40[0][0]:ESL40[0][-1]]\n",
    "        esl_40_depth = hghtArray[ESL40[0][-1]] - hghtArray[ESL40[0][0]]\n",
    "    else:\n",
    "        esl_40_depth = 0\n",
    "    #################################################################################################################\n",
    "    #MOISTURE\n",
    "    #################################################################################################################\n",
    "    # Calculate MRD for each parcel type using existing variables\n",
    "    sb_MRD1 = get_layer(P_sounding, T_sounding, Td_sounding, sb_profile, RH_skewt, bottom = P_sounding[0], depth = P_sounding[0] - sblcl_p)\n",
    "    ml_MRD1 = get_layer(P_sounding, T_sounding, Td_sounding, ml_profile, RH_skewt, bottom = ml_p, depth = ml_p - mllcl_p)\n",
    "    mu_MRD1 = get_layer(P_sounding, T_sounding, Td_sounding, mu_profile, RH_skewt, bottom = mu_p, depth = mu_p - mulcl_p)\n",
    "\n",
    "    #lcl to  lfc+1500m\n",
    "    sb_MRD2 = get_layer(P_sounding, T_sounding, Td_sounding, sb_profile[::-1], RH_skewt, bottom = sblcl_p, depth = sblcl_p - sblfc1500_p)\n",
    "    ml_MRD2 = get_layer(P_sounding, T_sounding, Td_sounding, ml_profile[::-1], RH_skewt, bottom = mllcl_p, depth = mllcl_p - mllfc1500_p)\n",
    "    mu_MRD2 = get_layer(P_sounding, T_sounding, Td_sounding, mu_profile[::-1], RH_skewt, bottom = mulcl_p, depth = mulcl_p - mulfc1500_p)\n",
    "\n",
    "    #combine the two arrays above (and remove the duplicate lcl level)\n",
    "    sb_MRD_p = np.concatenate((sb_MRD1[0][:-1], sb_MRD2[0]), axis = 0) \n",
    "    sb_MRD_T = np.concatenate((sb_MRD1[1][:-1], sb_MRD2[1]), axis = 0)\n",
    "    sb_MRD_Td = np.concatenate((sb_MRD1[2][:-1], sb_MRD2[2]), axis = 0)\n",
    "    sb_MRD_pT = np.concatenate((sb_MRD1[3][:-1], sb_MRD2[3]), axis = 0)\n",
    "    sb_MRD_RH = np.concatenate((sb_MRD1[4][:-1], sb_MRD2[4]), axis = 0)\n",
    "\n",
    "    ml_MRD_p = np.concatenate((ml_MRD1[0][:-1], ml_MRD2[0]), axis = 0) \n",
    "    ml_MRD_T = np.concatenate((ml_MRD1[1][:-1], ml_MRD2[1]), axis = 0)\n",
    "    ml_MRD_Td = np.concatenate((ml_MRD1[2][:-1], ml_MRD2[2]), axis = 0)\n",
    "    ml_MRD_pT = np.concatenate((ml_MRD1[3][:-1], ml_MRD2[3]), axis = 0)\n",
    "    ml_MRD_RH = np.concatenate((ml_MRD1[4][:-1], ml_MRD2[4]), axis = 0)\n",
    "\n",
    "    mu_MRD_p = np.concatenate((mu_MRD1[0][:-1], mu_MRD2[0]), axis = 0)\n",
    "    mu_MRD_T = np.concatenate((mu_MRD1[1][:-1], mu_MRD2[1]), axis = 0)\n",
    "    mu_MRD_Td = np.concatenate((mu_MRD1[2][:-1], mu_MRD2[2]), axis = 0)\n",
    "    mu_MRD_pT = np.concatenate((mu_MRD1[3][:-1], mu_MRD2[3]), axis = 0)\n",
    "    mu_MRD_RH = np.concatenate((mu_MRD1[4][:-1], mu_MRD2[4]), axis = 0)\n",
    "\n",
    "    #calculate all ml and mu parcel dewpoints & RH's at parcel starting levels \n",
    "    # parcel dewpoint = environmental dewpoint from parcel inital height until LCL, environmental temperature from > LCL\n",
    "    # parcel mixing ratio = environmental mixing ratio from parcel initial height until LCL\n",
    "    \n",
    "    sbParcelr = mixing_ratio_from_relative_humidity(P_sounding[0], T_sounding[0], RH_skewt[0])\n",
    "    mlParcelRH = relative_humidity_from_dewpoint(ml_T, ml_Td)\n",
    "    mlParcelr = mixing_ratio_from_relative_humidity(ml_p, ml_T, mlParcelRH)\n",
    "    muParcelRH = relative_humidity_from_dewpoint(mu_T, mu_Td)\n",
    "    muParcelr = mixing_ratio_from_relative_humidity(mu_p, mu_T, muParcelRH)\n",
    "\n",
    "    #calculate vertical profile of environmental r\n",
    "    r_skewt_sb_env = mixing_ratio_from_relative_humidity(sb_MRD_p, sb_MRD_T, sb_MRD_RH)\n",
    "    r_skewt_ml_env = mixing_ratio_from_relative_humidity(ml_MRD_p, ml_MRD_T, ml_MRD_RH)\n",
    "    r_skewt_mu_env = mixing_ratio_from_relative_humidity(mu_MRD_p, mu_MRD_T, mu_MRD_RH)\n",
    "    \n",
    "    ############\n",
    "    #1)\n",
    "    sb_parcel_r1 = np.full(np.shape(sb_MRD1[0][:-1]), sbParcelr)\n",
    "    ml_parcel_r1 = np.full(np.shape(ml_MRD1[0][:-1]), mlParcelr)\n",
    "    mu_parcel_r1 = np.full(np.shape(mu_MRD1[0][:-1]), muParcelr)\n",
    "    \n",
    "    #2)\n",
    "    sb_parcel_r2 = mixing_ratio_from_relative_humidity(sb_MRD2[0], sb_MRD2[3], np.full(np.shape(sb_MRD2[0]), 1))\n",
    "    ml_parcel_r2 = mixing_ratio_from_relative_humidity(ml_MRD2[0], ml_MRD2[3], np.full(np.shape(ml_MRD2[0]), 1))\n",
    "    mu_parcel_r2 = mixing_ratio_from_relative_humidity(mu_MRD2[0], mu_MRD2[3], np.full(np.shape(mu_MRD2[0]), 1))\n",
    "    \n",
    "    #combine arrays to get full parcel r profile between the two levels of interest\n",
    "    sb_parcel_r = np.concatenate((sb_parcel_r1, sb_parcel_r2.magnitude), axis = 0)\n",
    "    ml_parcel_r = np.concatenate((ml_parcel_r1, ml_parcel_r2.magnitude), axis = 0)\n",
    "    mu_parcel_r = np.concatenate((mu_parcel_r1, mu_parcel_r2.magnitude), axis = 0)\n",
    "    #######\n",
    "    sbMRD = np.sum(sb_parcel_r - r_skewt_sb_env.magnitude)\n",
    "    mlMRD = np.sum(ml_parcel_r - r_skewt_ml_env.magnitude)\n",
    "    muMRD = np.sum(mu_parcel_r - r_skewt_mu_env.magnitude)\n",
    "\n",
    "    ####################\n",
    "    pwat = sharppy.sharptab.params.precip_water(prof)\n",
    "    tei = sharppy.sharptab.params.tei(prof) #theta-e index\n",
    "    \n",
    "    #Find Max Theta-E and Q Height in lowest 3 km:\n",
    "    hgt3km = np.where(hgt_sounding < 3001*units('meter'))\n",
    "    ThetaE_SkewT = equivalent_potential_temperature(P_sounding, T_sounding, Td_sounding)\n",
    "    MaxTEvalue = np.max(ThetaE_SkewT[hgt3km])\n",
    "    ArrayPosition = np.where(ThetaE_SkewT == MaxTEvalue)\n",
    "    maxTE3kmhgt = hgt_sounding[ArrayPosition[0]]\n",
    "    MaxQvalue = np.max(Q_skewt[hgt3km])\n",
    "    ArrayPosition1 = np.where(Q_skewt == MaxQvalue)\n",
    "    maxQ3kmhgt = hgt_sounding[ArrayPosition1[0]]\n",
    "    \n",
    "    meanRH100mb = sharppy.sharptab.params.mean_relh(prof, pbot=sfc, ptop=(sfc-100))\n",
    "    meanQ100mb = sharppy.sharptab.params.mean_mixratio(prof, pbot=sfc, ptop=(sfc-100))\n",
    "    meanTe100mb = sharppy.sharptab.params.mean_thetae(prof, pbot=sfc, ptop=(sfc-100))\n",
    "    meanRH1km = sharppy.sharptab.params.mean_relh(prof, pbot=sfc, ptop=p1km)\n",
    "    meanQ1km = sharppy.sharptab.params.mean_mixratio(prof, pbot=sfc, ptop=p1km)\n",
    "    meanTe1km = sharppy.sharptab.params.mean_thetae(prof, pbot=sfc, ptop=p1km)\n",
    "    meanRH150mb = sharppy.sharptab.params.mean_relh(prof, pbot=sfc, ptop=(sfc-150))\n",
    "    meanQ150mb = sharppy.sharptab.params.mean_mixratio(prof, pbot=sfc, ptop=(sfc-150))\n",
    "    meanTe150mb = sharppy.sharptab.params.mean_thetae(prof, pbot=sfc, ptop=(sfc-150))\n",
    "    meanRH150_300mb = sharppy.sharptab.params.mean_relh(prof, pbot=(sfc-150), ptop=(sfc-300))\n",
    "    meanQ150_300mb = sharppy.sharptab.params.mean_mixratio(prof, pbot=(sfc-150), ptop=(sfc-300))\n",
    "    meanTe150_300mb = sharppy.sharptab.params.mean_thetae(prof, pbot=(sfc-150), ptop=(sfc-300))\n",
    "    meanRHpbl = sharppy.sharptab.params.mean_relh(prof, pbot=sfc, ptop=pbl_top)\n",
    "    meanQpbl = sharppy.sharptab.params.mean_mixratio(prof, pbot=sfc, ptop=pbl_top)\n",
    "    meanTepbl = sharppy.sharptab.params.mean_thetae(prof, pbot=sfc, ptop=pbl_top)\n",
    "    meanRH1_3km = sharppy.sharptab.params.mean_relh(prof, pbot=p1km, ptop=p3km) \n",
    "    meanQ1_3km = sharppy.sharptab.params.mean_mixratio(prof, pbot=p1km, ptop=p3km)\n",
    "    meanTe1_3km = sharppy.sharptab.params.mean_thetae(prof, pbot=p1km, ptop=p3km)   \n",
    "    meanRH_EIL = sharppy.sharptab.params.mean_relh(prof,pbot=EILb,ptop=EILt)\n",
    "    meanQ_EIL = sharppy.sharptab.params.mean_mixratio(prof,pbot=EILb,ptop=EILt)     \n",
    "    meanTe_EIL = sharppy.sharptab.params.mean_thetae(prof,pbot=EILb,ptop=EILt)\n",
    "    \n",
    "    sb_meanRH_LFC_LCL = sharppy.sharptab.params.mean_relh(prof, pbot = sblcl_p.magnitude, ptop=sblfc_p.magnitude)\n",
    "    ml_meanRH_LFC_LCL = sharppy.sharptab.params.mean_relh(prof, pbot = mllcl_p.magnitude, ptop=mllfc_p.magnitude)\n",
    "    mu_meanRH_LFC_LCL = sharppy.sharptab.params.mean_relh(prof, pbot = mulcl_p.magnitude, ptop=mulfc_p.magnitude)   \n",
    "    sb_meanQ_LFC_LCL = sharppy.sharptab.params.mean_mixratio(prof, pbot = sblcl_p.magnitude, ptop=sblfc_p.magnitude)\n",
    "    ml_meanQ_LFC_LCL = sharppy.sharptab.params.mean_mixratio(prof, pbot = mllcl_p.magnitude, ptop=mllfc_p.magnitude)\n",
    "    mu_meanQ_LFC_LCL = sharppy.sharptab.params.mean_mixratio(prof, pbot = mulcl_p.magnitude, ptop=mulfc_p.magnitude)\n",
    "    sb_meanTe_LFC_LCL = sharppy.sharptab.params.mean_thetae(prof, pbot = sblcl_p.magnitude, ptop=sblfc_p.magnitude)\n",
    "    ml_meanTe_LFC_LCL = sharppy.sharptab.params.mean_thetae(prof, pbot = mllcl_p.magnitude, ptop=mllfc_p.magnitude)\n",
    "    mu_meanTe_LFC_LCL = sharppy.sharptab.params.mean_thetae(prof, pbot = mulcl_p.magnitude, ptop=mulfc_p.magnitude)\n",
    "   \n",
    "    meanRHsb_ACBL = sharppy.sharptab.params.mean_relh(prof, pbot=sblfc_p.magnitude, ptop=sblfc1500_p.magnitude)\n",
    "    meanRHml_ACBL = sharppy.sharptab.params.mean_relh(prof, pbot=mllfc_p.magnitude, ptop=mllfc1500_p.magnitude)\n",
    "    meanRHmu_ACBL = sharppy.sharptab.params.mean_relh(prof, pbot=mulfc_p.magnitude, ptop=mulfc1500_p.magnitude)\n",
    "    meanQsb_ACBL = sharppy.sharptab.params.mean_mixratio(prof, pbot=sblfc_p.magnitude, ptop=sblfc1500_p.magnitude)\n",
    "    meanQml_ACBL = sharppy.sharptab.params.mean_mixratio(prof, pbot=mllfc_p.magnitude, ptop=mllfc1500_p.magnitude)\n",
    "    meanQmu_ACBL = sharppy.sharptab.params.mean_mixratio(prof, pbot=mulfc_p.magnitude, ptop=mulfc1500_p.magnitude)\n",
    "    meanTesb_ACBL = sharppy.sharptab.params.mean_thetae(prof, pbot=sblfc_p.magnitude, ptop=sblfc1500_p.magnitude)\n",
    "    meanTeml_ACBL = sharppy.sharptab.params.mean_thetae(prof, pbot=mllfc_p.magnitude, ptop=mllfc1500_p.magnitude)   \n",
    "    meanTemu_ACBL = sharppy.sharptab.params.mean_thetae(prof, pbot=mulfc_p.magnitude, ptop=mulfc1500_p.magnitude)\n",
    "    \n",
    "    meanRHsb_LCL2k = sharppy.sharptab.params.mean_relh(prof, pbot=sblcl_p.magnitude, ptop=sblcl2000_p.magnitude)\n",
    "    meanRHml_LCL2k = sharppy.sharptab.params.mean_relh(prof, pbot=mllcl_p.magnitude, ptop=mllcl2000_p.magnitude)\n",
    "    meanRHmu_LCL2k = sharppy.sharptab.params.mean_relh(prof, pbot=mulcl_p.magnitude, ptop=mulcl2000_p.magnitude)\n",
    "    meanQsb_LCL2k = sharppy.sharptab.params.mean_mixratio(prof, pbot=sblcl_p.magnitude, ptop=sblcl2000_p.magnitude)\n",
    "    meanQml_LCL2k = sharppy.sharptab.params.mean_mixratio(prof, pbot=mllcl_p.magnitude, ptop=mllcl2000_p.magnitude)\n",
    "    meanQmu_LCL2k = sharppy.sharptab.params.mean_mixratio(prof, pbot=mulcl_p.magnitude, ptop=mulcl2000_p.magnitude) \n",
    "    meanTesb_LCL2k = sharppy.sharptab.params.mean_thetae(prof, pbot=sblcl_p.magnitude, ptop=sblcl2000_p.magnitude)    \n",
    "    meanTeml_LCL2k = sharppy.sharptab.params.mean_thetae(prof, pbot=mllcl_p.magnitude, ptop=mllcl2000_p.magnitude)\n",
    "    meanTemu_LCL2k = sharppy.sharptab.params.mean_thetae(prof, pbot=mulcl_p.magnitude, ptop=mulcl2000_p.magnitude)\n",
    "      \n",
    "    mean500m_3km_RH = sharppy.sharptab.params.mean_relh(prof, pbot=p500m, ptop=p3km)\n",
    "    mean500m_4km_RH = sharppy.sharptab.params.mean_relh(prof, pbot=p500m, ptop=p4km)\n",
    "    mean500m_5km_RH = sharppy.sharptab.params.mean_relh(prof, pbot=p500m, ptop=p5km)\n",
    "    mean500m_6km_RH = sharppy.sharptab.params.mean_relh(prof, pbot=p500m, ptop=p6km)\n",
    "    mean1000m_3km_RH = sharppy.sharptab.params.mean_relh(prof, pbot=p1km, ptop=p3km)\n",
    "    mean1000m_4km_RH = sharppy.sharptab.params.mean_relh(prof, pbot=p1km, ptop=p4km)\n",
    "    mean1000m_5km_RH = sharppy.sharptab.params.mean_relh(prof, pbot=p1km, ptop=p5km)\n",
    "    mean1000m_6km_RH = sharppy.sharptab.params.mean_relh(prof, pbot=p1km, ptop=p6km)\n",
    "    mean1500m_3km_RH = sharppy.sharptab.params.mean_relh(prof, pbot=p1500m, ptop=p3km)\n",
    "    mean1500m_4km_RH = sharppy.sharptab.params.mean_relh(prof, pbot=p1500m, ptop=p4km)\n",
    "    mean1500m_5km_RH = sharppy.sharptab.params.mean_relh(prof, pbot=p1500m, ptop=p5km)\n",
    "    mean1500m_6km_RH = sharppy.sharptab.params.mean_relh(prof, pbot=p1500m, ptop=p6km)\n",
    "    mean2000m_3km_RH = sharppy.sharptab.params.mean_relh(prof, pbot=p2km, ptop=p3km)\n",
    "    mean2000m_4km_RH = sharppy.sharptab.params.mean_relh(prof, pbot=p2km, ptop=p4km)\n",
    "    mean2000m_5km_RH = sharppy.sharptab.params.mean_relh(prof, pbot=p2km, ptop=p5km)\n",
    "    mean2000m_6km_RH = sharppy.sharptab.params.mean_relh(prof, pbot=p2km, ptop=p6km)\n",
    "    mean2500m_3km_RH = sharppy.sharptab.params.mean_relh(prof, pbot=p2500m, ptop=p3km)\n",
    "    mean2500m_4km_RH = sharppy.sharptab.params.mean_relh(prof, pbot=p2500m, ptop=p4km)\n",
    "    mean2500m_5km_RH = sharppy.sharptab.params.mean_relh(prof, pbot=p2500m, ptop=p5km)\n",
    "    mean2500m_6km_RH = sharppy.sharptab.params.mean_relh(prof, pbot=p2500m, ptop=p6km)\n",
    "    mean3000m_4km_RH = sharppy.sharptab.params.mean_relh(prof, pbot=p1km, ptop=p4km)\n",
    "    mean3000m_5km_RH = sharppy.sharptab.params.mean_relh(prof, pbot=p1km, ptop=p5km)\n",
    "    mean3000m_6km_RH = sharppy.sharptab.params.mean_relh(prof, pbot=p1km, ptop=p6km)\n",
    "    #################################################################################################################\n",
    "    #################################################################################################################\n",
    "    sbCAPECIN_500m_3km = sharppy.sharptab.params.cape(prof, pbot=p500m, ptop=p3km, flag=1)\n",
    "    sbCAPECIN_500m_4km = sharppy.sharptab.params.cape(prof, pbot=p500m, ptop=p4km, flag=1)\n",
    "    sbCAPECIN_500m_5km = sharppy.sharptab.params.cape(prof, pbot=p500m, ptop=p5km, flag=1)\n",
    "    sbCAPECIN_500m_6km = sharppy.sharptab.params.cape(prof, pbot=p500m, ptop=p6km, flag=1)   \n",
    "    mlCAPECIN_500m_3km = sharppy.sharptab.params.cape(prof, pbot=p500m, ptop=p3km, flag=4)\n",
    "    mlCAPECIN_500m_4km = sharppy.sharptab.params.cape(prof, pbot=p500m, ptop=p4km, flag=4)\n",
    "    mlCAPECIN_500m_5km = sharppy.sharptab.params.cape(prof, pbot=p500m, ptop=p5km, flag=4)\n",
    "    mlCAPECIN_500m_6km = sharppy.sharptab.params.cape(prof, pbot=p500m, ptop=p6km, flag=4)\n",
    "    muCAPECIN_500m_3km = sharppy.sharptab.params.cape(prof, pbot=p500m, ptop=p3km, flag=3)\n",
    "    muCAPECIN_500m_4km = sharppy.sharptab.params.cape(prof, pbot=p500m, ptop=p4km, flag=3)\n",
    "    muCAPECIN_500m_5km = sharppy.sharptab.params.cape(prof, pbot=p500m, ptop=p5km, flag=3)\n",
    "    muCAPECIN_500m_6km = sharppy.sharptab.params.cape(prof, pbot=p500m, ptop=p6km, flag=3)\n",
    "    \n",
    "    sbCAPECIN_1_3km = sharppy.sharptab.params.cape(prof, pbot=p1km, ptop=p3km, flag=1)\n",
    "    sbCAPECIN_1_4km = sharppy.sharptab.params.cape(prof, pbot=p1km, ptop=p4km, flag=1)\n",
    "    sbCAPECIN_1_5km = sharppy.sharptab.params.cape(prof, pbot=p1km, ptop=p5km, flag=1)\n",
    "    sbCAPECIN_1_6km = sharppy.sharptab.params.cape(prof, pbot=p1km, ptop=p6km, flag=1)   \n",
    "    mlCAPECIN_1_3km = sharppy.sharptab.params.cape(prof, pbot=p1km, ptop=p3km, flag=4)\n",
    "    mlCAPECIN_1_4km = sharppy.sharptab.params.cape(prof, pbot=p1km, ptop=p4km, flag=4)\n",
    "    mlCAPECIN_1_5km = sharppy.sharptab.params.cape(prof, pbot=p1km, ptop=p5km, flag=4)\n",
    "    mlCAPECIN_1_6km = sharppy.sharptab.params.cape(prof, pbot=p1km, ptop=p6km, flag=4)\n",
    "    muCAPECIN_1_3km = sharppy.sharptab.params.cape(prof, pbot=p1km, ptop=p3km, flag=3)\n",
    "    muCAPECIN_1_4km = sharppy.sharptab.params.cape(prof, pbot=p1km, ptop=p4km, flag=3)\n",
    "    muCAPECIN_1_5km = sharppy.sharptab.params.cape(prof, pbot=p1km, ptop=p5km, flag=3)\n",
    "    muCAPECIN_1_6km = sharppy.sharptab.params.cape(prof, pbot=p1km, ptop=p6km, flag=3)\n",
    "    \n",
    "    sbCAPECIN_1500m_3km = sharppy.sharptab.params.cape(prof, pbot=p1500m, ptop=p3km, flag=1)\n",
    "    sbCAPECIN_1500m_4km = sharppy.sharptab.params.cape(prof, pbot=p1500m, ptop=p4km, flag=1)\n",
    "    sbCAPECIN_1500m_5km = sharppy.sharptab.params.cape(prof, pbot=p1500m, ptop=p5km, flag=1)\n",
    "    sbCAPECIN_1500m_6km = sharppy.sharptab.params.cape(prof, pbot=p1500m, ptop=p6km, flag=1)   \n",
    "    mlCAPECIN_1500m_3km = sharppy.sharptab.params.cape(prof, pbot=p1500m, ptop=p3km, flag=4)\n",
    "    mlCAPECIN_1500m_4km = sharppy.sharptab.params.cape(prof, pbot=p1500m, ptop=p4km, flag=4)\n",
    "    mlCAPECIN_1500m_5km = sharppy.sharptab.params.cape(prof, pbot=p1500m, ptop=p5km, flag=4)\n",
    "    mlCAPECIN_1500m_6km = sharppy.sharptab.params.cape(prof, pbot=p1500m, ptop=p6km, flag=4)\n",
    "    muCAPECIN_1500m_3km = sharppy.sharptab.params.cape(prof, pbot=p1500m, ptop=p3km, flag=3)\n",
    "    muCAPECIN_1500m_4km = sharppy.sharptab.params.cape(prof, pbot=p1500m, ptop=p4km, flag=3)\n",
    "    muCAPECIN_1500m_5km = sharppy.sharptab.params.cape(prof, pbot=p1500m, ptop=p5km, flag=3)\n",
    "    muCAPECIN_1500m_6km = sharppy.sharptab.params.cape(prof, pbot=p1500m, ptop=p6km, flag=3)\n",
    "\n",
    "    sbCAPECIN_2_3km = sharppy.sharptab.params.cape(prof, pbot=p2km, ptop=p3km, flag=1)\n",
    "    sbCAPECIN_2_4km = sharppy.sharptab.params.cape(prof, pbot=p2km, ptop=p4km, flag=1)\n",
    "    sbCAPECIN_2_5km = sharppy.sharptab.params.cape(prof, pbot=p2km, ptop=p5km, flag=1)\n",
    "    sbCAPECIN_2_6km = sharppy.sharptab.params.cape(prof, pbot=p2km, ptop=p6km, flag=1)   \n",
    "    mlCAPECIN_2_3km = sharppy.sharptab.params.cape(prof, pbot=p2km, ptop=p3km, flag=4)\n",
    "    mlCAPECIN_2_4km = sharppy.sharptab.params.cape(prof, pbot=p2km, ptop=p4km, flag=4)\n",
    "    mlCAPECIN_2_5km = sharppy.sharptab.params.cape(prof, pbot=p2km, ptop=p5km, flag=4)\n",
    "    mlCAPECIN_2_6km = sharppy.sharptab.params.cape(prof, pbot=p2km, ptop=p6km, flag=4)\n",
    "    muCAPECIN_2_3km = sharppy.sharptab.params.cape(prof, pbot=p2km, ptop=p3km, flag=3)\n",
    "    muCAPECIN_2_4km = sharppy.sharptab.params.cape(prof, pbot=p2km, ptop=p4km, flag=3)\n",
    "    muCAPECIN_2_5km = sharppy.sharptab.params.cape(prof, pbot=p2km, ptop=p5km, flag=3)\n",
    "    muCAPECIN_2_6km = sharppy.sharptab.params.cape(prof, pbot=p2km, ptop=p6km, flag=3)    \n",
    "    #################################################################################################################\n",
    "    # BUOYANCY\n",
    "    #################################################################################################################\n",
    "    mlcape = mlpcl.bplus\n",
    "    mucape =  mupcl.bplus\n",
    "    sbcape = sbpcl.bplus\n",
    "    \n",
    "    sb_LCLCAPE1 = sharppy.sharptab.params.cape(prof, pbot= float(sblcl_p.magnitude), ptop= float(sblcl2000_p.magnitude),\n",
    "                                               flag = 1, pres = float(P_sounding[0].magnitude), \n",
    "                                               tmpc = float(T_sounding[0].magnitude), dwpc = float(Td_sounding[0].magnitude))\n",
    "    ml_LCLCAPE1 = sharppy.sharptab.params.cape(prof, pbot= float(mllcl_p.magnitude), ptop= float(mllcl2000_p.magnitude),\n",
    "                                               flag = 4, pres = float(ml_p.magnitude), \n",
    "                                               tmpc = float(ml_T.magnitude), dwpc = float(ml_Td.magnitude))\n",
    "    mu_LCLCAPE1 = sharppy.sharptab.params.cape(prof, pbot= float(mulcl_p.magnitude), ptop= float(mulcl2000_p.magnitude),\n",
    "                                               flag = 3, pres = float(mu_p.magnitude),\n",
    "                                               tmpc = float(mu_T.magnitude), dwpc = float(mu_Td.magnitude))\n",
    "    sb_LCLCAPE = sb_LCLCAPE1.bplus + sb_LCLCAPE1.bminus\n",
    "    ml_LCLCAPE = ml_LCLCAPE1.bplus + ml_LCLCAPE1.bminus\n",
    "    mu_LCLCAPE = mu_LCLCAPE1.bplus + mu_LCLCAPE1.bminus\n",
    "   \n",
    "    sb3kmCAPE = sbpcl.b3km\n",
    "    ml3kmCAPE = mlpcl.b3km\n",
    "    mu3kmCAPE = mupcl.b3km\n",
    "\n",
    "    sb6kmCAPE = sbpcl.b6km\n",
    "    ml6kmCAPE = mlpcl.b6km\n",
    "    mu6kmCAPE = mupcl.b6km\n",
    "\n",
    "    sbfrzCAPE = sbpcl.bfzl\n",
    "    mlfrzCAPE = mlpcl.bfzl\n",
    "    mufrzCAPE = mupcl.bfzl\n",
    "\n",
    "    dCAPE = sharppy.sharptab.params.dcape(prof)\n",
    "    \n",
    "    sb_limax = sbpcl.limax\n",
    "    ml_limax = mlpcl.limax\n",
    "    mu_limax = mupcl.limax\n",
    "    \n",
    "    ecape = calc_ecape(msl_sounding, P_sounding, T_sounding, Q_skewt, u_sounding, v_sounding)\n",
    "    \n",
    "    sbCAPE_500m_3km = sbCAPECIN_500m_3km.bplus\n",
    "    sbCAPE_500m_4km = sbCAPECIN_500m_4km.bplus\n",
    "    sbCAPE_500m_5km = sbCAPECIN_500m_5km.bplus\n",
    "    sbCAPE_500m_6km = sbCAPECIN_500m_6km.bplus\n",
    "    mlCAPE_500m_3km = mlCAPECIN_500m_3km.bplus\n",
    "    mlCAPE_500m_4km = mlCAPECIN_500m_4km.bplus\n",
    "    mlCAPE_500m_5km = mlCAPECIN_500m_5km.bplus\n",
    "    mlCAPE_500m_6km = mlCAPECIN_500m_6km.bplus\n",
    "    muCAPE_500m_3km = muCAPECIN_500m_3km.bplus\n",
    "    muCAPE_500m_4km = muCAPECIN_500m_4km.bplus\n",
    "    muCAPE_500m_5km = muCAPECIN_500m_5km.bplus\n",
    "    muCAPE_500m_6km = muCAPECIN_500m_6km.bplus\n",
    "    \n",
    "    sbCAPE_1_3km = sbCAPECIN_1_3km.bplus\n",
    "    sbCAPE_1_4km = sbCAPECIN_1_4km.bplus\n",
    "    sbCAPE_1_5km = sbCAPECIN_1_5km.bplus\n",
    "    sbCAPE_1_6km = sbCAPECIN_1_6km.bplus   \n",
    "    mlCAPE_1_3km = mlCAPECIN_1_3km.bplus\n",
    "    mlCAPE_1_4km = mlCAPECIN_1_4km.bplus\n",
    "    mlCAPE_1_5km = mlCAPECIN_1_5km.bplus\n",
    "    mlCAPE_1_6km = mlCAPECIN_1_6km.bplus\n",
    "    muCAPE_1_3km = muCAPECIN_1_3km.bplus\n",
    "    muCAPE_1_4km = muCAPECIN_1_4km.bplus\n",
    "    muCAPE_1_5km = muCAPECIN_1_5km.bplus\n",
    "    muCAPE_1_6km = muCAPECIN_1_6km.bplus\n",
    "\n",
    "    sbCAPE_1500m_3km = sbCAPECIN_1500m_3km.bplus\n",
    "    sbCAPE_1500m_4km = sbCAPECIN_1500m_4km.bplus\n",
    "    sbCAPE_1500m_5km = sbCAPECIN_1500m_5km.bplus\n",
    "    sbCAPE_1500m_6km = sbCAPECIN_1500m_6km.bplus\n",
    "    mlCAPE_1500m_3km = mlCAPECIN_1500m_3km.bplus\n",
    "    mlCAPE_1500m_4km = mlCAPECIN_1500m_4km.bplus\n",
    "    mlCAPE_1500m_5km = mlCAPECIN_1500m_5km.bplus\n",
    "    mlCAPE_1500m_6km = mlCAPECIN_1500m_6km.bplus\n",
    "    muCAPE_1500m_3km = muCAPECIN_1500m_3km.bplus\n",
    "    muCAPE_1500m_4km = muCAPECIN_1500m_4km.bplus\n",
    "    muCAPE_1500m_5km = muCAPECIN_1500m_5km.bplus\n",
    "    muCAPE_1500m_6km = muCAPECIN_1500m_6km.bplus\n",
    "    \n",
    "    sbCAPE_2_3km = sbCAPECIN_2_3km.bplus\n",
    "    sbCAPE_2_4km = sbCAPECIN_2_4km.bplus\n",
    "    sbCAPE_2_5km = sbCAPECIN_2_5km.bplus\n",
    "    sbCAPE_2_6km = sbCAPECIN_2_6km.bplus   \n",
    "    mlCAPE_2_3km = mlCAPECIN_2_3km.bplus\n",
    "    mlCAPE_2_4km = mlCAPECIN_2_4km.bplus\n",
    "    mlCAPE_2_5km = mlCAPECIN_2_5km.bplus\n",
    "    mlCAPE_2_6km = mlCAPECIN_2_6km.bplus\n",
    "    muCAPE_2_3km = muCAPECIN_2_3km.bplus\n",
    "    muCAPE_2_4km = muCAPECIN_2_4km.bplus\n",
    "    muCAPE_2_5km = muCAPECIN_2_5km.bplus\n",
    "    muCAPE_2_6km = muCAPECIN_2_6km.bplus\n",
    "    #################################################################################################################\n",
    "    #INHIBITION\n",
    "    #################################################################################################################\n",
    "    mlcin = mlpcl.bminus\n",
    "    mucin =  mupcl.bminus\n",
    "    sbcin = sbpcl.bminus\n",
    "    \n",
    "    ConvT = sharppy.sharptab.params.convective_temp(prof) #degC\n",
    "    T_700 = interp.temp(prof, 700.)          \n",
    "    \n",
    "    sbCIN_500m_3km = sbCAPECIN_500m_3km.bminus\n",
    "    sbCIN_500m_4km = sbCAPECIN_500m_4km.bminus\n",
    "    sbCIN_500m_5km = sbCAPECIN_500m_5km.bminus\n",
    "    sbCIN_500m_6km = sbCAPECIN_500m_6km.bminus\n",
    "    mlCIN_500m_3km = mlCAPECIN_500m_3km.bminus\n",
    "    mlCIN_500m_4km = mlCAPECIN_500m_4km.bminus\n",
    "    mlCIN_500m_5km = mlCAPECIN_500m_5km.bminus\n",
    "    mlCIN_500m_6km = mlCAPECIN_500m_6km.bminus\n",
    "    muCIN_500m_3km = muCAPECIN_500m_3km.bminus\n",
    "    muCIN_500m_4km = muCAPECIN_500m_4km.bminus\n",
    "    muCIN_500m_5km = muCAPECIN_500m_5km.bminus\n",
    "    muCIN_500m_6km = muCAPECIN_500m_6km.bminus\n",
    "    \n",
    "    sbCIN_1_3km = sbCAPECIN_1_3km.bminus\n",
    "    sbCIN_1_4km = sbCAPECIN_1_4km.bminus\n",
    "    sbCIN_1_5km = sbCAPECIN_1_5km.bminus\n",
    "    sbCIN_1_6km = sbCAPECIN_1_6km.bminus   \n",
    "    mlCIN_1_3km = mlCAPECIN_1_3km.bminus\n",
    "    mlCIN_1_4km = mlCAPECIN_1_4km.bminus\n",
    "    mlCIN_1_5km = mlCAPECIN_1_5km.bminus\n",
    "    mlCIN_1_6km = mlCAPECIN_1_6km.bminus\n",
    "    muCIN_1_3km = muCAPECIN_1_3km.bminus\n",
    "    muCIN_1_4km = muCAPECIN_1_4km.bminus\n",
    "    muCIN_1_5km = muCAPECIN_1_5km.bminus\n",
    "    muCIN_1_6km = muCAPECIN_1_6km.bminus\n",
    "\n",
    "    sbCIN_1500m_3km = sbCAPECIN_1500m_3km.bminus\n",
    "    sbCIN_1500m_4km = sbCAPECIN_1500m_4km.bminus\n",
    "    sbCIN_1500m_5km = sbCAPECIN_1500m_5km.bminus\n",
    "    sbCIN_1500m_6km = sbCAPECIN_1500m_6km.bminus\n",
    "    mlCIN_1500m_3km = mlCAPECIN_1500m_3km.bminus\n",
    "    mlCIN_1500m_4km = mlCAPECIN_1500m_4km.bminus\n",
    "    mlCIN_1500m_5km = mlCAPECIN_1500m_5km.bminus\n",
    "    mlCIN_1500m_6km = mlCAPECIN_1500m_6km.bminus\n",
    "    muCIN_1500m_3km = muCAPECIN_1500m_3km.bminus\n",
    "    muCIN_1500m_4km = muCAPECIN_1500m_4km.bminus\n",
    "    muCIN_1500m_5km = muCAPECIN_1500m_5km.bminus\n",
    "    muCIN_1500m_6km = muCAPECIN_1500m_6km.bminus\n",
    "    \n",
    "    sbCIN_2_3km = sbCAPECIN_2_3km.bminus\n",
    "    sbCIN_2_4km = sbCAPECIN_2_4km.bminus\n",
    "    sbCIN_2_5km = sbCAPECIN_2_5km.bminus\n",
    "    sbCIN_2_6km = sbCAPECIN_2_6km.bminus   \n",
    "    mlCIN_2_3km = mlCAPECIN_2_3km.bminus\n",
    "    mlCIN_2_4km = mlCAPECIN_2_4km.bminus\n",
    "    mlCIN_2_5km = mlCAPECIN_2_5km.bminus\n",
    "    mlCIN_2_6km = mlCAPECIN_2_6km.bminus\n",
    "    muCIN_2_3km = muCAPECIN_2_3km.bminus\n",
    "    muCIN_2_4km = muCAPECIN_2_4km.bminus\n",
    "    muCIN_2_5km = muCAPECIN_2_5km.bminus\n",
    "    muCIN_2_6km = muCAPECIN_2_6km.bminus\n",
    "    #################################################################################################################\n",
    "    # MOTION\n",
    "    #################################################################################################################\n",
    "    #calculate storm motion using Bunkers et. al 2014\n",
    "    #using effective inflow base as base, and pressure weighted mean wind    \n",
    "    srwind = params.bunkers_storm_motion(prof)\n",
    "    #this gives us u and v motion vectors for right movers [0 and 1] and left movers [2 and 3]\n",
    "\n",
    "    bunkersU = srwind[0]\n",
    "    bunkersV = srwind[1]\n",
    "    vectorMag = math.sqrt(((bunkersU)**2) + ((bunkersV)**2))\n",
    "    angle = math.degrees(math.atan2(bunkersV,bunkersU)) #angle from X axis\n",
    "    #################################################################################################################\n",
    "    #SRH Calculations\n",
    "    #################################################################################################################\n",
    "    srh500m = winds.helicity(prof, 0, 500., stu = srwind[0], stv = srwind[1])[0]\n",
    "    srh1km = winds.helicity(prof, 0, 1000., stu = srwind[0], stv = srwind[1])[0]\n",
    "    srh3km = winds.helicity(prof, 0, 3000., stu = srwind[0], stv = srwind[1])[0]\n",
    "    effective_srh = winds.helicity(prof, ebot_hght, etop_hght, stu = srwind[0], stv = srwind[1])[0]\n",
    "    #################################################################################################################\n",
    "    #BULK SHEAR\n",
    "    #################################################################################################################\n",
    "    #Get shear magnitudes\n",
    "    ml_halfELpres = interp.pres(prof, interp.to_msl(prof, mlpcl.elhght/2.))\n",
    "    mu_halfELpres = interp.pres(prof, interp.to_msl(prof, mupcl.elhght/2.))\n",
    "    sb_halfELpres = interp.pres(prof, interp.to_msl(prof, sbpcl.elhght/2.))\n",
    "\n",
    "    ml_ebwd = winds.wind_shear(prof, pbot=EILb, ptop=ml_halfELpres)\n",
    "    ml_ebwspd = utils.mag(ml_ebwd[0], ml_ebwd[1])\n",
    "    mu_ebwd = winds.wind_shear(prof, pbot=EILb, ptop=mu_halfELpres)\n",
    "    mu_ebwspd = utils.mag(mu_ebwd[0], mu_ebwd[1])\n",
    "    sb_ebwd = winds.wind_shear(prof, pbot=EILb, ptop=sb_halfELpres)\n",
    "    sb_ebwspd = utils.mag(sb_ebwd[0], sb_ebwd[1])\n",
    "    \n",
    "    sfc_500m_shear = winds.wind_shear(prof, pbot=sfc, ptop=p500m)\n",
    "    sfc500mshear = utils.mag(sfc_500m_shear[0], sfc_500m_shear[1])\n",
    "    sfc_1km_shear = winds.wind_shear(prof, pbot=sfc, ptop=p1km)\n",
    "    sfc1shear = utils.mag(sfc_1km_shear[0], sfc_1km_shear[1])\n",
    "    sfc_2km_shear = winds.wind_shear(prof, pbot=sfc, ptop=p2km)\n",
    "    sfc2shear = utils.mag(sfc_2km_shear[0], sfc_2km_shear[1])\n",
    "    sfc_3km_shear = winds.wind_shear(prof, pbot=sfc, ptop=p3km)\n",
    "    sfc3shear = utils.mag(sfc_3km_shear[0], sfc_3km_shear[1])\n",
    "    sfc_5km_shear = winds.wind_shear(prof, pbot=sfc, ptop=p5km)\n",
    "    sfc5shear = utils.mag(sfc_5km_shear[0], sfc_5km_shear[1]) \n",
    "    sfc_6km_shear = winds.wind_shear(prof, pbot=sfc, ptop=p6km)\n",
    "    sfc6shear = utils.mag(sfc_6km_shear[0], sfc_6km_shear[1])\n",
    "    sfc_8km_shear = winds.wind_shear(prof, pbot=sfc, ptop=p8km)\n",
    "    sfc8shear = utils.mag(sfc_8km_shear[0], sfc_8km_shear[1])\n",
    "    EIL_shear = winds.wind_shear(prof, pbot=EILb, ptop=EILt)\n",
    "    EILshear = utils.mag(EIL_shear[0], EIL_shear[1])\n",
    "\n",
    "    sb_lcl_el_shear = winds.wind_shear(prof, pbot=sbpcl.lclpres, ptop = sbpcl.elpres)\n",
    "    ml_lcl_el_shear = winds.wind_shear(prof, pbot=mlpcl.lclpres, ptop = mlpcl.elpres)\n",
    "    mu_lcl_el_shear = winds.wind_shear(prof, pbot=mupcl.lclpres, ptop = mupcl.elpres)\n",
    "    sb_lclELshear = utils.mag(sb_lcl_el_shear[0],sb_lcl_el_shear[1])\n",
    "    ml_lclELshear = utils.mag(ml_lcl_el_shear[0],ml_lcl_el_shear[1])\n",
    "    mu_lclELshear = utils.mag(mu_lcl_el_shear[0],mu_lcl_el_shear[1]) \n",
    "    #################################################################################################################\n",
    "    #STORM RELATIVE FLOW\n",
    "    #################################################################################################################\n",
    "    #calculate u and v storm relative wind vectors for layers of interest, using Bunkers Right Moving u and v storm motion vectors\n",
    "    srflow0500m_vector = winds.sr_wind(prof, pbot = sfc, ptop = p500m, stu = srwind[0], stv = srwind[1])\n",
    "    srflow01km_vector = winds.sr_wind(prof, pbot = sfc, ptop = p1km, stu = srwind[0], stv = srwind[1])\n",
    "    srflow02km_vector = winds.sr_wind(prof, pbot = sfc, ptop = p2km, stu = srwind[0], stv = srwind[1])\n",
    "    srflow03km_vector = winds.sr_wind(prof, pbot = sfc, ptop = p3km, stu = srwind[0], stv = srwind[1])\n",
    "    srflow06km_vector = winds.sr_wind(prof, pbot = sfc, ptop = p6km, stu = srwind[0], stv = srwind[1])\n",
    "    srflow08km_vector = winds.sr_wind(prof, pbot = sfc, ptop = p8km, stu = srwind[0], stv = srwind[1])\n",
    "    srflow4_5km_vector = winds.sr_wind(prof, pbot = p4km, ptop = p5km, stu = srwind[0], stv = srwind[1])\n",
    "    srflow4_6km_vector = winds.sr_wind(prof, pbot = p4km, ptop = p6km, stu = srwind[0], stv = srwind[1])\n",
    "    sb_srflowLCL_EL_vector = winds.sr_wind(prof, pbot = sbpcl.lclpres, ptop = sbpcl.elpres, stu = srwind[0], stv = srwind[1])\n",
    "    ml_srflowLCL_EL_vector = winds.sr_wind(prof, pbot = mlpcl.lclpres, ptop = mlpcl.elpres, stu = srwind[0], stv = srwind[1])\n",
    "    mu_srflowLCL_EL_vector = winds.sr_wind(prof, pbot = mupcl.lclpres, ptop = mupcl.elpres, stu = srwind[0], stv = srwind[1])    \n",
    "    srflowEIL_vector = winds.sr_wind(prof, pbot = EILb, ptop = EILt, stu = srwind[0], stv = srwind[1])\n",
    "    \n",
    "    srflow0500m = utils.mag(srflow0500m_vector[0], srflow0500m_vector[1])\n",
    "    srflow01km = utils.mag(srflow01km_vector[0], srflow01km_vector[1])\n",
    "    srflow02km = utils.mag(srflow02km_vector[0], srflow02km_vector[1])\n",
    "    srflow03km = utils.mag(srflow03km_vector[0], srflow03km_vector[1])    \n",
    "    srflow06km = utils.mag(srflow06km_vector[0], srflow06km_vector[1])\n",
    "    srflow08km = utils.mag(srflow08km_vector[0], srflow08km_vector[1])\n",
    "    srflow4_5km = utils.mag(srflow4_5km_vector[0], srflow4_5km_vector[1])\n",
    "    srflow4_6km = utils.mag(srflow4_6km_vector[0], srflow4_6km_vector[1])\n",
    "    sb_srflowLCL_EL = utils.mag(sb_srflowLCL_EL_vector[0], sb_srflowLCL_EL_vector[1])\n",
    "    ml_srflowLCL_EL = utils.mag(ml_srflowLCL_EL_vector[0], ml_srflowLCL_EL_vector[1])\n",
    "    mu_srflowLCL_EL = utils.mag(mu_srflowLCL_EL_vector[0], mu_srflowLCL_EL_vector[1])\n",
    "    srflowEIL = utils.mag(srflowEIL_vector[0], srflowEIL_vector[1])    \n",
    "    #################################################################################################################\n",
    "    #OTHER SHEAR\n",
    "    #################################################################################################################\n",
    "    #subcloud shear (subcloud = parcel inital level to parcel's LCL)\n",
    "    sb_subcloud_shear = bulk_shear(P_sounding, u_sounding, v_sounding, depth = P_sounding[0] - sblcl_p, bottom = P_sounding[0])\n",
    "    ml_subcloud_shear = bulk_shear(P_sounding, u_sounding, v_sounding, depth = ml_p - mllcl_p, bottom = ml_p)\n",
    "    mu_subcloud_shear = bulk_shear(P_sounding, u_sounding, v_sounding, depth = mu_p - mulcl_p, bottom = mu_p)\n",
    "    sb_SC_shear = (ma.sqrt(sb_subcloud_shear[0]**2 + sb_subcloud_shear[1]**2))/(sblcl_h.magnitude)\n",
    "    ml_SC_shear = (ma.sqrt(ml_subcloud_shear[0]**2 + ml_subcloud_shear[1]**2))/(mllcl_h.magnitude)\n",
    "    mu_SC_shear = (ma.sqrt(mu_subcloud_shear[0]**2 + mu_subcloud_shear[1]**2))/(mulcl_h.magnitude)\n",
    "    \n",
    "    # ACBL Shear    \n",
    "    sb_ACBL_shear = bulk_shear(P_sounding, u_sounding, v_sounding, depth = sblfc_p - sblfc1500_p, bottom = sblfc_p)\n",
    "    ml_ACBL_shear = bulk_shear(P_sounding, u_sounding, v_sounding, depth = mllfc_p - mllfc1500_p, bottom = mllfc_p)\n",
    "    mu_ACBL_shear = bulk_shear(P_sounding, u_sounding, v_sounding, depth = mulfc_p - mulfc1500_p, bottom = mulfc_p)\n",
    "    sb_acbl_shear = (ma.sqrt(sb_ACBL_shear[0]**2 + sb_ACBL_shear[1]**2))/((sblfc_h1500-sblfc_h).magnitude)\n",
    "    ml_acbl_shear = (ma.sqrt(ml_ACBL_shear[0]**2 + ml_ACBL_shear[1]**2))/((mllfc_h1500-mllfc_h).magnitude)\n",
    "    mu_acbl_shear = (ma.sqrt(mu_ACBL_shear[0]**2 + mu_ACBL_shear[1]**2))/((mulfc_h1500-mulfc_h).magnitude)\n",
    "\n",
    "    critAng = sharppy.sharptab.winds.critical_angle(prof)\n",
    "    \n",
    "    mu_brnSHR = mupcl.brnshear\n",
    "    sb_brnSHR = sbpcl.brnshear\n",
    "    if isinstance(sb_brnSHR, np.ma.core.MaskedConstant):\n",
    "        sb_brnSHR = mu_brnSHR\n",
    "    ml_brnSHR = mlpcl.brnshear\n",
    "    if isinstance(ml_brnSHR, np.ma.core.MaskedConstant):\n",
    "        ml_brnSHR = mu_brnSHR\n",
    "\n",
    "    u_1=u_sounding.magnitude/1.944\n",
    "    v_1=v_sounding.magnitude/1.944\n",
    "    z_1=hgt_sounding.magnitude\n",
    "    \n",
    "    profMS = profile.create_profile(profile='default', pres=P_sounding, hght=hgt_sounding, tmpc=T_sounding,\n",
    "                                      dwpc=Td_sounding, u=u_1, v=v_1, missing=-9999)\n",
    "    \n",
    "    srwindMS = params.bunkers_storm_motion(profMS) # u and v motion vectors for RM [0 and 1] and LM [2 and 3]\n",
    "    \n",
    "    uSR_W = u_1-srwindMS[0]\n",
    "    vSR_W = v_1-srwindMS[1]\n",
    "    \n",
    "    dudz_W=(np.array(u_1[2::])-np.array(u_1[0:-2]))/(np.array(z_1[2::])-np.array(z_1[0:-2]))\n",
    "    dvdz_W=(np.array(v_1[2::])-np.array(v_1[0:-2]))/(np.array(z_1[2::])-np.array(z_1[0:-2]))\n",
    "    dudz_W=np.insert(dudz_W,0,dudz_W[0])\n",
    "    dudz_W=np.insert(dudz_W,-1,dudz_W[-1])\n",
    "    dvdz_W=np.insert(dvdz_W,0,dvdz_W[0])\n",
    "    dvdz_W=np.insert(dvdz_W,-1,dvdz_W[-1])\n",
    "\n",
    "    shear_W=np.sqrt(dudz_W**2+dvdz_W**2)+0.0000001\n",
    "    # Vorticity components\n",
    "    uvort_W=-dvdz_W\n",
    "    vvort_W=dudz_W\n",
    "    # Streamwise vorticity\n",
    "    strmw_W=abs((uSR_W*uvort_W+vSR_W*vvort_W)/(np.sqrt(uSR_W**2+vSR_W**2)))\n",
    "    # Streamwise fraction\n",
    "    strmwperc_W=strmw_W/shear_W\n",
    "    \n",
    "    hgt500m = np.where(hgt_sounding < 501*units('meter'))\n",
    "    hgt1km = np.where(hgt_sounding < 1001*units('meter'))\n",
    "    hgt3km = np.where(hgt_sounding < 3001*units('meter')) \n",
    "    MeanShearValue_500m = np.mean(shear_W[hgt500m])\n",
    "    MeanSWvalue_500m = np.mean(strmw_W[hgt500m])\n",
    "    MeanSWpercvalue_500m = np.mean(strmwperc_W[hgt500m])\n",
    "    MeanShearValue_1km = np.mean(shear_W[hgt1km])\n",
    "    MeanSWvalue_1km = np.mean(strmw_W[hgt1km])\n",
    "    MeanSWpercvalue_1km = np.mean(strmwperc_W[hgt1km])\n",
    "    MeanShearValue_3km = np.mean(shear_W[hgt3km])\n",
    "    MeanSWvalue_3km = np.mean(strmw_W[hgt3km])\n",
    "    MeanSWpercvalue_3km = np.mean(strmwperc_W[hgt3km])  \n",
    "\n",
    "    hgt1_3km = np.where((hgt_sounding > 1001*units('meter')) & (hgt_sounding < 3001*units('meter')))\n",
    "    MeanShearValue1_3km = np.mean(shear_W[hgt1_3km])\n",
    "    MeanSWvalue1_3km = np.mean(strmw_W[hgt1_3km])\n",
    "    MeanSWpercvalue1_3km = np.mean(strmwperc_W[hgt1_3km])  \n",
    "    #################################################################################################################\n",
    "    # COMPOSITES    \n",
    "    #################################################################################################################\n",
    "    SCP = scp(mupcl.bplus, effective_srh, mu_ebwspd, mupcl.bminus)\n",
    "    STP_FL = stp_fixed(sbpcl.bplus, sbpcl.lclhght, srh1km, sfc6shear, sbpcl.bminus)\n",
    "    STP_EL = stp_effective(mlpcl.bplus, effective_srh, ml_ebwspd, mlpcl.lclhght, mlpcl.bminus, ebot_hght)\n",
    "\n",
    "    if etop_hght > 500.0:\n",
    "        srh500mEIL = srh500m  # Entire 0–500m layer is within the EIL\n",
    "    else:\n",
    "        srh500mEIL = effective_srh  # Only use the SRH within the EIL\n",
    "\n",
    "    STP_500 = stp_500mSRH(mlpcl.bplus, mlpcl.lclhght, srh500mEIL, ml_ebwspd, mlpcl.bminus, ebot_hght, etop_hght)\n",
    "    VTP = vtp(mlpcl.bplus, mlpcl.lclhght, effective_srh, ml_ebwspd, mlpcl.bminus, mlpcl.b3km, lapse0_3km, ebot_hght)\n",
    "\n",
    "    sbBRN = sbcape/sb_brnSHR\n",
    "    mlBRN = mlcape/ml_brnSHR\n",
    "    muBRN = mucape/mu_brnSHR\n",
    "    \n",
    "    #Mburst = sharppy.sharptab.params.mburst(prof)\n",
    "    dcp = sharppy.sharptab.params.dcp(prof)\n",
    "    sb_0_1ehi = sharppy.sharptab.params.ehi(prof, sbpcl, hbot= 0, htop = 1000) \n",
    "    sb_0_3ehi = sharppy.sharptab.params.ehi(prof, sbpcl, hbot= 0, htop = 3000)\n",
    "    ml_0_1ehi = sharppy.sharptab.params.ehi(prof, mlpcl, hbot= 0, htop = 1000) \n",
    "    ml_0_3ehi = sharppy.sharptab.params.ehi(prof, mlpcl, hbot= 0, htop = 3000)\n",
    "    mu_0_1ehi = sharppy.sharptab.params.ehi(prof, mupcl, hbot= 0, htop = 1000)\n",
    "    mu_0_3ehi = sharppy.sharptab.params.ehi(prof, mupcl, hbot= 0, htop = 3000)\n",
    "    wndg = sharppy.sharptab.params.wndg(prof)\n",
    "    #mmp = sharppy.sharptab.params.mmp(prof)\n",
    "    ship = sharppy.sharptab.params.ship(prof)\n",
    "    sig_sev = sharppy.sharptab.params.sig_severe(prof)\n",
    "    #sweat = sharppy.sharptab.params.sweat(prof)\n",
    "    #################################################################################################################  \n",
    "    #################################################################################################################\n",
    "    #Quality Control Statement to Flag for convective contamination (if RH > 90% in all layers between 0.5 and 6 km)\n",
    "    RH_QC_layer = get_layer(P_sounding, RH_skewt, bottom = p500m*units('hectopascal'), depth = (5500*units('meter')))\n",
    "    RH_QC_list = RH_QC_layer[1].tolist()\n",
    "    if mucape > 0:\n",
    "        QC = all(i > 0.90 for i in RH_QC_list)\n",
    "    else:\n",
    "        QC = True\n",
    "        \n",
    "    ################################################## OUTPUTS ######################################################\n",
    "    #create a .txt file that can be loaded into a sounding viewer script\n",
    "    #SoundingOut = [P_sounding.magnitude, T_sounding.magnitude, Td_sounding.magnitude, hgt_sounding.magnitude, u_sounding.magnitude, v_sounding.magnitude]\n",
    "    #dfSounding = pd.DataFrame(SoundingOut)\n",
    "    #dfSounding2 = dfSounding.T\n",
    "    \n",
    "    new_row = {       \n",
    "    'StormID':StormID,\n",
    "    'Profile_Number':prof_num,\n",
    "    'Time':hour,\n",
    "    'Watch':dfread['Watch'].astype(\"int64\"),\n",
    "    'Grouping':dfread['Grouping'].astype('str'),\n",
    "    'Radar':dfread['Radar'].astype('str'),\n",
    "    'Lat':dfread['Lat'].astype(\"int64\"),\n",
    "    'Lon':dfread['Lon'].astype(\"int64\"),\n",
    "    'Type':dfread['Type'].astype('str'),\n",
    "    'Discrete':dfread['Discrete'].astype('str'),\n",
    "    'Supercell':dfread['Supercell'].astype('str'),\n",
    "    'LeftSplit':dfread['LeftSplit'].astype('str'),\n",
    "    'Severe30':dfread['Severe30'].astype('str'),\n",
    "    'ConfirmedTor30':dfread['ConfirmedTor30'].astype('str'),\n",
    "    'Profile':dfread['Profile'].astype(\"int64\"),\n",
    "    'MaxProfiles':dfread['MaxProfiles'].astype(\"int64\"),\n",
    "    'Daylight':dfread['Daylight'].astype('str'),\n",
    "    'SupercellAny':dfread['SupercellAny'].astype('str'),\n",
    "    'SevereAny':dfread['SevereAny'].astype('str'),\n",
    "    'TorAny':dfread['TorAny'].astype('str'),\n",
    "    'Start':dfread['Start'].astype('str'),\n",
    "    'End':dfread['End'].astype('str'),\n",
    "    'Life (in mins)':dfread['Life (in mins)'].astype(\"int64\"),\n",
    "    'Demise':dfread['Demise'].astype('str'),\n",
    "    'Ini_Lat':dfread['Ini_Lat'].astype('str'),\n",
    "    'Ini_Lon':dfread['Ini_Lon'].astype('str'),  \n",
    "    'cenlat':cenlat,\n",
    "    'cenlon':cenlon,\n",
    "    'ModelLat':lat[x][y],\n",
    "    'ModelLon':lon[x][y],\n",
    "    'Prof_QC_issue_(bool)':QC,\n",
    "\n",
    "    'sbLCL':sblcl_h.magnitude,\n",
    "    'mlLCL':mllcl_h.magnitude,\n",
    "    'muLCL':mulcl_h.magnitude,\n",
    "    'sbLFC':sblfc_h.magnitude,\n",
    "    'mlLFC':mllfc_h.magnitude,\n",
    "    'muLFC':mulfc_h.magnitude,\n",
    "    'sb_LFC_LCL_diff':sb_LFC_LCL_diff.magnitude,\n",
    "    'ml_LFC_LCL_diff':ml_LFC_LCL_diff.magnitude,\n",
    "    'mu_LFC_LCL_diff':mu_LFC_LCL_diff.magnitude,\n",
    "    'pbl_top':pbl_top,\n",
    "    'EIL_depth':EIL_depth,\n",
    "    'EIL_PBL_hgtdiff':EIL_PBL_hgtdiff.magnitude,\n",
    "    'sbMaxOmegaH':sbMaxOmegaH.magnitude,\n",
    "    'mlMaxOmegaH':mlMaxOmegaH.magnitude,\n",
    "    'muMaxOmegaH':muMaxOmegaH.magnitude,\n",
    "    'sbHLFC':sbHLFC[0],\n",
    "    'mlHLFC':mlHLFC[0],\n",
    "    'muHLFC':muHLFC[0],\n",
    "    'deltaZstar':deltaZstar,\n",
    "\n",
    "    'sbMaxOmega':sbMaxOmega.magnitude,\n",
    "    'mlMaxOmega':mlMaxOmega.magnitude,\n",
    "    'muMaxOmega':muMaxOmega.magnitude,\n",
    "    'sbSCconv':sb_SCconv.magnitude,\n",
    "    'mlSCconv':ml_SCconv.magnitude,\n",
    "    'muSCconv':mu_SCconv.magnitude,\n",
    "    'sbPLconv':sb_PL_conv.magnitude,\n",
    "    'mlPLconv':ml_PL_conv.magnitude,\n",
    "    'muPLconv':mu_PL_conv.magnitude,\n",
    "\n",
    "    'sfc1kmLapse':lapse0_1km,\n",
    "    'sfc2kmLapse':lapse0_2km,\n",
    "    'sfc3kmLapse':lapse0_3km,\n",
    "    '3_6kmLapse':lapse3_6km,\n",
    "    '5_700mbLapse':lapse5_700mb,\n",
    "    'sbACBLlapse':sbACBLlapse.magnitude,\n",
    "    'mlACBLlapse':mlACBLlapse.magnitude,\n",
    "    'muACBLlapse':muACBLlapse.magnitude,\n",
    "    'sb_lapse_LFC_LCL':sb_lapse_LFC_LCL,\n",
    "    'ml_lapse_LFC_LCL':ml_lapse_LFC_LCL,\n",
    "    'mu_lapse_LFC_LCL':mu_lapse_LFC_LCL,\n",
    "    'esl_25_depth':esl_25_depth,\n",
    "    'esl_40_depth':esl_40_depth,\n",
    "\n",
    "    'sbMRD':sbMRD,\n",
    "    'mlMRD':mlMRD,\n",
    "    'muMRD':muMRD,\n",
    "    'pwat':pwat,\n",
    "    'ThetaEindex':tei,\n",
    "    'maxTE3kmhgt':maxTE3kmhgt[0].magnitude,\n",
    "    'maxQ3kmhgt':maxQ3kmhgt[0].magnitude,\n",
    "    'meanRH100mb':meanRH100mb,\n",
    "    'meanQ100mb':meanQ100mb,\n",
    "    'meanTe100mb':meanTe100mb,\n",
    "    'meanRH1km':meanRH1km,\n",
    "    'meanQ1km':meanQ1km,\n",
    "    'meanTe1km':meanTe1km,\n",
    "    'meanRH150mb':meanRH150mb,\n",
    "    'meanQ150mb':meanQ150mb,\n",
    "    'meanTe150mb':meanTe150mb,\n",
    "    'meanRH150_300mb':meanRH150_300mb,\n",
    "    'meanQ150_300mb':meanQ150_300mb,\n",
    "    'meanTe150_300mb':meanTe150_300mb,    \n",
    "    'meanRHpbl':meanRHpbl,\n",
    "    'meanQpbl':meanQpbl,\n",
    "    'meanTepbl':meanTepbl,\n",
    "    'meanRH1_3km':meanRH1_3km,\n",
    "    'meanQ1_3km':meanQ1_3km,\n",
    "    'meanTe1_3km':meanTe1_3km,    \n",
    "    'meanRH_EIL':meanRH_EIL,\n",
    "    'meanQ_EIL':meanQ_EIL,\n",
    "    'meanTe_EIL':meanTe_EIL,    \n",
    "    'sb_meanRH_LFC_LCL':sb_meanRH_LFC_LCL,\n",
    "    'ml_meanRH_LFC_LCL':ml_meanRH_LFC_LCL,\n",
    "    'mu_meanRH_LFC_LCL':mu_meanRH_LFC_LCL,\n",
    "    'sb_meanQ_LFC_LCL':sb_meanQ_LFC_LCL,\n",
    "    'ml_meanQ_LFC_LCL':ml_meanQ_LFC_LCL,\n",
    "    'mu_meanQ_LFC_LCL':mu_meanQ_LFC_LCL,\n",
    "    'sb_meanTe_LFC_LCL':sb_meanTe_LFC_LCL,\n",
    "    'ml_meanTe_LFC_LCL':ml_meanTe_LFC_LCL,\n",
    "    'mu_meanTe_LFC_LCL':mu_meanTe_LFC_LCL,\n",
    "    'meanRHsb_ACBL':meanRHsb_ACBL,\n",
    "    'meanRHml_ACBL':meanRHml_ACBL,\n",
    "    'meanRHmu_ACBL':meanRHmu_ACBL,\n",
    "    'meanQsb_ACBL':meanQsb_ACBL,\n",
    "    'meanQml_ACBL':meanQml_ACBL,\n",
    "    'meanQmu_ACBL':meanQmu_ACBL,\n",
    "    'meanTesb_ACBL':meanTesb_ACBL,\n",
    "    'meanTeml_ACBL':meanTeml_ACBL,\n",
    "    'meanTemu_ACBL':meanTemu_ACBL,\n",
    "    'meanRHsb_LCL2k':meanRHsb_LCL2k,\n",
    "    'meanRHml_LCL2k':meanRHml_LCL2k,\n",
    "    'meanRHmu_LCL2k':meanRHmu_LCL2k,\n",
    "    'meanQsb_LCL2k':meanQsb_LCL2k,\n",
    "    'meanQml_LCL2k':meanQml_LCL2k,\n",
    "    'meanQmu_LCL2k':meanQmu_LCL2k,\n",
    "    'meanTesb_LCL2k':meanTesb_LCL2k,\n",
    "    'meanTeml_LCL2k':meanTeml_LCL2k,\n",
    "    'meanTemu_LCL2k':meanTemu_LCL2k, \n",
    "    '500m_3km_RH':mean500m_3km_RH,\n",
    "    '500m_4km_RH':mean500m_4km_RH,\n",
    "    '500m_5km_RH':mean500m_5km_RH,\n",
    "    '500m_6km_RH':mean500m_6km_RH,\n",
    "    '1000m_3km_RH':mean1000m_3km_RH,\n",
    "    '1000m_4km_RH':mean1000m_4km_RH,\n",
    "    '1000m_5km_RH':mean1000m_5km_RH,\n",
    "    '1000m_6km_RH':mean1000m_6km_RH,\n",
    "    '1500m_3km_RH':mean1500m_3km_RH,\n",
    "    '1500m_4km_RH':mean1500m_4km_RH,\n",
    "    '1500m_5km_RH':mean1500m_5km_RH,\n",
    "    '1500m_6km_RH':mean1500m_6km_RH,\n",
    "    '2000m_3km_RH':mean2000m_3km_RH,\n",
    "    '2000m_4km_RH':mean2000m_4km_RH,\n",
    "    '2000m_5km_RH':mean2000m_5km_RH,\n",
    "    '2000m_6km_RH':mean2000m_6km_RH,\n",
    "    '2500m_3km_RH':mean2500m_3km_RH,\n",
    "    '2500m_4km_RH':mean2500m_4km_RH,\n",
    "    '2500m_5km_RH':mean2500m_5km_RH,\n",
    "    '2500m_6km_RH':mean2500m_6km_RH,\n",
    "    '3000m_4km_RH':mean3000m_4km_RH,\n",
    "    '3000m_5km_RH':mean3000m_5km_RH,\n",
    "    '3000m_6km_RH':mean3000m_6km_RH,\n",
    "\n",
    "    'sbCAPE':sbcape,\n",
    "    'mlCAPE':mlcape,\n",
    "    'muCAPE':mucape,\n",
    "    'sb_LCLCAPE':sb_LCLCAPE,\n",
    "    'ml_LCLCAPE':ml_LCLCAPE,\n",
    "    'mu_LCLCAPE':mu_LCLCAPE,\n",
    "    'sb3CAPE':sb3kmCAPE,    \n",
    "    'ml3CAPE':ml3kmCAPE,\n",
    "    'mu3CAPE':mu3kmCAPE,\n",
    "    'sb6CAPE':sb6kmCAPE,    \n",
    "    'ml6CAPE':ml6kmCAPE,\n",
    "    'mu6CAPE':mu6kmCAPE,\n",
    "    'sbFrzCAPE':sbfrzCAPE,\n",
    "    'mlFrzCAPE':mlfrzCAPE,\n",
    "    'muFrzCAPE':mufrzCAPE,    \n",
    "    'dCAPE':dCAPE[0],\n",
    "    'sb_LImax':sb_limax,\n",
    "    'ml_LImax':ml_limax,\n",
    "    'mu_LImax':mu_limax,\n",
    "    'eCAPE':ecape.magnitude,   \n",
    "    'sbCAPE_500m_3km':sbCAPE_500m_3km,\n",
    "    'sbCAPE_500m_4km':sbCAPE_500m_4km,\n",
    "    'sbCAPE_500m_5km':sbCAPE_500m_5km,\n",
    "    'sbCAPE_500m_6km':sbCAPE_500m_6km,\n",
    "    'mlCAPE_500m_3km':mlCAPE_500m_3km,\n",
    "    'mlCAPE_500m_4km':mlCAPE_500m_4km,\n",
    "    'mlCAPE_500m_5km':mlCAPE_500m_5km,\n",
    "    'mlCAPE_500m_6km':mlCAPE_500m_6km,\n",
    "    'muCAPE_500m_3km':muCAPE_500m_3km,\n",
    "    'muCAPE_500m_4km':muCAPE_500m_4km,\n",
    "    'muCAPE_500m_5km':muCAPE_500m_5km,\n",
    "    'muCAPE_500m_6km':muCAPE_500m_6km,\n",
    "    'sbCAPE_1_3km':sbCAPE_1_3km,\n",
    "    'sbCAPE_1_4km':sbCAPE_1_4km,\n",
    "    'sbCAPE_1_5km':sbCAPE_1_5km,\n",
    "    'sbCAPE_1_6km':sbCAPE_1_6km,\n",
    "    'mlCAPE_1_3km':mlCAPE_1_3km,\n",
    "    'mlCAPE_1_4km':mlCAPE_1_4km,\n",
    "    'mlCAPE_1_5km':mlCAPE_1_5km,\n",
    "    'mlCAPE_1_6km':mlCAPE_1_6km,\n",
    "    'muCAPE_1_3km':muCAPE_1_3km,\n",
    "    'muCAPE_1_4km':muCAPE_1_4km,\n",
    "    'muCAPE_1_5km':muCAPE_1_5km,\n",
    "    'muCAPE_1_6km':muCAPE_1_6km,\n",
    "    'sbCAPE_1500m_3km':sbCAPE_1500m_3km,\n",
    "    'sbCAPE_1500m_4km':sbCAPE_1500m_4km,\n",
    "    'sbCAPE_1500m_5km':sbCAPE_1500m_5km,\n",
    "    'sbCAPE_1500m_6km':sbCAPE_1500m_6km,\n",
    "    'mlCAPE_1500m_3km':mlCAPE_1500m_3km,\n",
    "    'mlCAPE_1500m_4km':mlCAPE_1500m_4km,\n",
    "    'mlCAPE_1500m_5km':mlCAPE_1500m_5km,\n",
    "    'mlCAPE_1500m_6km':mlCAPE_1500m_6km,\n",
    "    'muCAPE_1500m_3km':muCAPE_1500m_3km,\n",
    "    'muCAPE_1500m_4km':muCAPE_1500m_4km,\n",
    "    'muCAPE_1500m_5km':muCAPE_1500m_5km,\n",
    "    'muCAPE_1500m_6km':muCAPE_1500m_6km,\n",
    "    'sbCAPE_2_3km':sbCAPE_2_3km,\n",
    "    'sbCAPE_2_4km':sbCAPE_2_4km,\n",
    "    'sbCAPE_2_5km':sbCAPE_2_5km,\n",
    "    'sbCAPE_2_6km':sbCAPE_2_6km,\n",
    "    'mlCAPE_2_3km':mlCAPE_2_3km,\n",
    "    'mlCAPE_2_4km':mlCAPE_2_4km,\n",
    "    'mlCAPE_2_5km':mlCAPE_2_5km,\n",
    "    'mlCAPE_2_6km':mlCAPE_2_6km,\n",
    "    'muCAPE_2_3km':muCAPE_2_3km,\n",
    "    'muCAPE_2_4km':muCAPE_2_4km,\n",
    "    'muCAPE_2_5km':muCAPE_2_5km,\n",
    "    'muCAPE_2_6km':muCAPE_2_6km,    \n",
    "\n",
    "    'sbCIN':sbcin,\n",
    "    'mlCIN':mlcin,\n",
    "    'muCIN':mucin,\n",
    "    'ConvectiveT':ConvT,\n",
    "    '700mbTemp':T_700,\n",
    "    'sbCIN_500m_3km':sbCIN_500m_3km,\n",
    "    'sbCIN_500m_4km':sbCIN_500m_4km,\n",
    "    'sbCIN_500m_5km':sbCIN_500m_5km,\n",
    "    'sbCIN_500m_6km':sbCIN_500m_6km,\n",
    "    'mlCIN_500m_3km':mlCIN_500m_3km,\n",
    "    'mlCIN_500m_4km':mlCIN_500m_4km,\n",
    "    'mlCIN_500m_5km':mlCIN_500m_5km,\n",
    "    'mlCIN_500m_6km':mlCIN_500m_6km,\n",
    "    'muCIN_500m_3km':muCIN_500m_3km,\n",
    "    'muCIN_500m_4km':muCIN_500m_4km,\n",
    "    'muCIN_500m_5km':muCIN_500m_5km,\n",
    "    'muCIN_500m_6km':muCIN_500m_6km,\n",
    "    'sbCIN_1_3km':sbCIN_1_3km,\n",
    "    'sbCIN_1_4km':sbCIN_1_4km,\n",
    "    'sbCIN_1_5km':sbCIN_1_5km,\n",
    "    'sbCIN_1_6km':sbCIN_1_6km,\n",
    "    'mlCIN_1_3km':mlCIN_1_3km,\n",
    "    'mlCIN_1_4km':mlCIN_1_4km,\n",
    "    'mlCIN_1_5km':mlCIN_1_5km,\n",
    "    'mlCIN_1_6km':mlCIN_1_6km,\n",
    "    'muCIN_1_3km':muCIN_1_3km,\n",
    "    'muCIN_1_4km':muCIN_1_4km,\n",
    "    'muCIN_1_5km':muCIN_1_5km,\n",
    "    'muCIN_1_6km':muCIN_1_6km,\n",
    "    'sbCIN_1500m_3km':sbCIN_1500m_3km,\n",
    "    'sbCIN_1500m_4km':sbCIN_1500m_4km,\n",
    "    'sbCIN_1500m_5km':sbCIN_1500m_5km,\n",
    "    'sbCIN_1500m_6km':sbCIN_1500m_6km,\n",
    "    'mlCIN_1500m_3km':mlCIN_1500m_3km,\n",
    "    'mlCIN_1500m_4km':mlCIN_1500m_4km,\n",
    "    'mlCIN_1500m_5km':mlCIN_1500m_5km,\n",
    "    'mlCIN_1500m_6km':mlCIN_1500m_6km,\n",
    "    'muCIN_1500m_3km':muCIN_1500m_3km,\n",
    "    'muCIN_1500m_4km':muCIN_1500m_4km,\n",
    "    'muCIN_1500m_5km':muCIN_1500m_5km,\n",
    "    'muCIN_1500m_6km':muCIN_1500m_6km,\n",
    "    'sbCIN_2_3km':sbCIN_2_3km,\n",
    "    'sbCIN_2_4km':sbCIN_2_4km,\n",
    "    'sbCIN_2_5km':sbCIN_2_5km,\n",
    "    'sbCIN_2_6km':sbCIN_2_6km,\n",
    "    'mlCIN_2_3km':mlCIN_2_3km,\n",
    "    'mlCIN_2_4km':mlCIN_2_4km,\n",
    "    'mlCIN_2_5km':mlCIN_2_5km,\n",
    "    'mlCIN_2_6km':mlCIN_2_6km,\n",
    "    'muCIN_2_3km':muCIN_2_3km,\n",
    "    'muCIN_2_4km':muCIN_2_4km,\n",
    "    'muCIN_2_5km':muCIN_2_5km,\n",
    "    'muCIN_2_6km':muCIN_2_6km,\n",
    "\n",
    "    'bunkersRMU':bunkersU,\n",
    "    'bunkersRMV':bunkersV,\n",
    "    'bunkersRM':vectorMag,\n",
    "    'bunkersRMangle':angle,\n",
    "\n",
    "    'sfc500mSRH':srh500m,\n",
    "    'sfc1kmSRH':srh1km,\n",
    "    'sfc3kmSRH':srh3km,\n",
    "    'ESRH':effective_srh,\n",
    "\n",
    "    '0_500_m_BWD':sfc500mshear,\n",
    "    '0_1_km_BWD':sfc1shear,\n",
    "    '0_2_km_BWD':sfc2shear,\n",
    "    '0_3_km_BWD':sfc3shear,\n",
    "    '0_5_km_BWD':sfc5shear,\n",
    "    '0_6_km_BWD':sfc6shear,\n",
    "    '0_8_km_BWD':sfc8shear,\n",
    "    'EIL_BWD':EILshear,\n",
    "    'sb_Effective_BWD':sb_ebwspd,\n",
    "    'ml_Effective_BWD':ml_ebwspd,\n",
    "    'mu_Effective_BWD':mu_ebwspd,\n",
    "    'sb_LCL_EL_BWD':sb_lclELshear,\n",
    "    'ml_LCL_EL_BWD':ml_lclELshear,\n",
    "    'mu_LCL_EL_BWD':mu_lclELshear,   \n",
    "\n",
    "    '0_500mSRflow':srflow0500m,\n",
    "    '0_1kmSRflow':srflow01km,\n",
    "    '0_2kmSRflow':srflow02km,\n",
    "    '0_3kmSRflow':srflow03km,\n",
    "    '0_6kmSRflow':srflow06km,\n",
    "    '0_8kmSRflow':srflow08km,\n",
    "    '4_5kmSRflow':srflow4_5km,\n",
    "    '4_6kmSRflow':srflow4_6km,\n",
    "    'sb_LCL_EL_SRflow':sb_srflowLCL_EL,\n",
    "    'ml_LCL_EL_SRflow':ml_srflowLCL_EL,\n",
    "    'mu_LCL_EL_SRflow':mu_srflowLCL_EL,    \n",
    "    'EIL_SRflow':srflowEIL,\n",
    "\n",
    "    'sbSCshear':sb_SC_shear,\n",
    "    'mlSCshear':ml_SC_shear,\n",
    "    'muSCshear':mu_SC_shear,\n",
    "    'sbACBLshear':sb_acbl_shear,\n",
    "    'mlACBLshear':ml_acbl_shear,\n",
    "    'muACBLshear':mu_acbl_shear,\n",
    "    'critAngle':critAng,\n",
    "    'sb_brnSHR':sb_brnSHR,\n",
    "    'ml_brnSHR':ml_brnSHR,\n",
    "    'mu_brnSHR':mu_brnSHR,\n",
    "    'MeanShearValue_500m':MeanShearValue_500m,\n",
    "    'MeanSWvalue_500m':MeanSWvalue_500m,\n",
    "    'MeanSWpercvalue_500m':MeanSWpercvalue_500m,\n",
    "    'MeanShearValue_1km':MeanShearValue_1km,\n",
    "    'MeanSWvalue_1km':MeanSWvalue_1km,\n",
    "    'MeanSWpercvalue_1km':MeanSWpercvalue_1km,\n",
    "    'MeanShearValue_3km':MeanShearValue_3km,\n",
    "    'MeanSWvalue_3km':MeanSWvalue_3km,\n",
    "    'MeanSWpercvalue_3km':MeanSWpercvalue_3km,\n",
    "    '1_3km_Shear':MeanShearValue1_3km,\n",
    "    '1_3km_SW':MeanSWvalue1_3km,\n",
    "    '1_3km_SW_perc':MeanSWpercvalue1_3km,    \n",
    "\n",
    "    'SCP':SCP,\n",
    "    'STP_FL':STP_FL,\n",
    "    'STP_EL':STP_EL,\n",
    "    'STP_500':STP_500,\n",
    "    'VTP':VTP,\n",
    "    'sbBRN':sbBRN,\n",
    "    'mlBRN':mlBRN,\n",
    "    'muBRN':muBRN,\n",
    "    'DCP':dcp,\n",
    "    'WDP':wndg,\n",
    "    'SHP':ship,\n",
    "    'SigSev':sig_sev,\n",
    "    'sb01ehi':sb_0_1ehi,\n",
    "    'sb03ehi':sb_0_3ehi,\n",
    "    'ml01ehi':ml_0_1ehi,\n",
    "    'ml03ehi':ml_0_3ehi,\n",
    "    'mu01ehi':mu_0_1ehi,\n",
    "    'mu03ehi':mu_0_3ehi\n",
    "    }\n",
    "    \n",
    "    for p in range(1):\n",
    "        df1.loc[len(df1)]=new_row\n",
    "        \n",
    "    #np.savetxt(r'C:\\Users\\Kyled\\Desktop\\UNL MS Thesis\\6 - SkewTs\\Soundings\\HRRR_'+str(prof_num)+'_'+str(StormID)+'_'+str(hour)+'_'+str(lat[x][y])+'_'+str(lon[x][y])+'.txt', dfSounding2,fmt='%1.9f')\n",
    "    \n",
    "    print(i,sbcape)\n",
    "    i+=1"
   ]
  },
  {
   "cell_type": "code",
   "execution_count": 131,
   "id": "b550fefd",
   "metadata": {},
   "outputs": [],
   "source": [
    "output_path = 'D:/THESIS/__UNL MS Thesis (MAIN)__/3 - Obtain Vertical Profiles/5-22_NearInflowParameters.csv'  # Specify your desired file path and name\n",
    "df1.to_csv(output_path, index=False)"
   ]
  },
  {
   "cell_type": "code",
   "execution_count": null,
   "id": "7dddb80b",
   "metadata": {},
   "outputs": [],
   "source": []
  },
  {
   "cell_type": "code",
   "execution_count": null,
   "id": "6dfeb9a1",
   "metadata": {},
   "outputs": [],
   "source": []
  }
 ],
 "metadata": {
  "kernelspec": {
   "display_name": "Python 3 (ipykernel)",
   "language": "python",
   "name": "python3"
  },
  "language_info": {
   "codemirror_mode": {
    "name": "ipython",
    "version": 3
   },
   "file_extension": ".py",
   "mimetype": "text/x-python",
   "name": "python",
   "nbconvert_exporter": "python",
   "pygments_lexer": "ipython3",
   "version": "3.10.9"
  }
 },
 "nbformat": 4,
 "nbformat_minor": 5
}
